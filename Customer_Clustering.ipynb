{
  "nbformat": 4,
  "nbformat_minor": 0,
  "metadata": {
    "colab": {
      "name": "Customer Clustering.ipynb",
      "provenance": [],
      "collapsed_sections": []
    },
    "kernelspec": {
      "name": "python3",
      "display_name": "Python 3"
    }
  },
  "cells": [
    {
      "cell_type": "code",
      "metadata": {
        "colab": {
          "base_uri": "https://localhost:8080/"
        },
        "id": "pJEljjky5AwK",
        "outputId": "6e51f864-e777-4d11-95f8-7dfe8c09d0e7"
      },
      "source": [
        "pip install chart_studio"
      ],
      "execution_count": 1,
      "outputs": [
        {
          "output_type": "stream",
          "text": [
            "Collecting chart_studio\n",
            "\u001b[?25l  Downloading https://files.pythonhosted.org/packages/ca/ce/330794a6b6ca4b9182c38fc69dd2a9cbff60fd49421cb8648ee5fee352dc/chart_studio-1.1.0-py3-none-any.whl (64kB)\n",
            "\r\u001b[K     |█████                           | 10kB 15.7MB/s eta 0:00:01\r\u001b[K     |██████████▏                     | 20kB 11.7MB/s eta 0:00:01\r\u001b[K     |███████████████▎                | 30kB 6.3MB/s eta 0:00:01\r\u001b[K     |████████████████████▍           | 40kB 5.8MB/s eta 0:00:01\r\u001b[K     |█████████████████████████▍      | 51kB 4.4MB/s eta 0:00:01\r\u001b[K     |██████████████████████████████▌ | 61kB 4.8MB/s eta 0:00:01\r\u001b[K     |████████████████████████████████| 71kB 3.1MB/s \n",
            "\u001b[?25hRequirement already satisfied: retrying>=1.3.3 in /usr/local/lib/python3.6/dist-packages (from chart_studio) (1.3.3)\n",
            "Requirement already satisfied: plotly in /usr/local/lib/python3.6/dist-packages (from chart_studio) (4.4.1)\n",
            "Requirement already satisfied: requests in /usr/local/lib/python3.6/dist-packages (from chart_studio) (2.23.0)\n",
            "Requirement already satisfied: six in /usr/local/lib/python3.6/dist-packages (from chart_studio) (1.15.0)\n",
            "Requirement already satisfied: urllib3!=1.25.0,!=1.25.1,<1.26,>=1.21.1 in /usr/local/lib/python3.6/dist-packages (from requests->chart_studio) (1.24.3)\n",
            "Requirement already satisfied: certifi>=2017.4.17 in /usr/local/lib/python3.6/dist-packages (from requests->chart_studio) (2020.12.5)\n",
            "Requirement already satisfied: chardet<4,>=3.0.2 in /usr/local/lib/python3.6/dist-packages (from requests->chart_studio) (3.0.4)\n",
            "Requirement already satisfied: idna<3,>=2.5 in /usr/local/lib/python3.6/dist-packages (from requests->chart_studio) (2.10)\n",
            "Installing collected packages: chart-studio\n",
            "Successfully installed chart-studio-1.1.0\n"
          ],
          "name": "stdout"
        }
      ]
    },
    {
      "cell_type": "code",
      "metadata": {
        "id": "QZkYInxdFFqu"
      },
      "source": [
        "#import library\n",
        "%matplotlib inline\n",
        "import numpy as np\n",
        "import pandas as pd\n",
        "import matplotlib.pyplot as plt\n",
        "import chart_studio as cs \n",
        "import plotly.offline as po\n",
        "import plotly.graph_objs as gobj"
      ],
      "execution_count": 2,
      "outputs": []
    },
    {
      "cell_type": "code",
      "metadata": {
        "colab": {
          "base_uri": "https://localhost:8080/",
          "height": 217
        },
        "id": "GU_7RpiQF_BS",
        "outputId": "547b2cba-7081-441a-eeeb-4e7497962d54"
      },
      "source": [
        "#import Ta-Feng Grocery with containing data from 01/11/2000 until 28/02/2001\n",
        "Tafeng_data = pd.read_csv(\"/content/drive/MyDrive/PROYEK/Proyek DAMI/ta_feng_all_months_merged.csv\")\n",
        "Tafeng_data.head() "
      ],
      "execution_count": 3,
      "outputs": [
        {
          "output_type": "execute_result",
          "data": {
            "text/html": [
              "<div>\n",
              "<style scoped>\n",
              "    .dataframe tbody tr th:only-of-type {\n",
              "        vertical-align: middle;\n",
              "    }\n",
              "\n",
              "    .dataframe tbody tr th {\n",
              "        vertical-align: top;\n",
              "    }\n",
              "\n",
              "    .dataframe thead th {\n",
              "        text-align: right;\n",
              "    }\n",
              "</style>\n",
              "<table border=\"1\" class=\"dataframe\">\n",
              "  <thead>\n",
              "    <tr style=\"text-align: right;\">\n",
              "      <th></th>\n",
              "      <th>TRANSACTION_DT</th>\n",
              "      <th>CUSTOMER_ID</th>\n",
              "      <th>AGE_GROUP</th>\n",
              "      <th>PIN_CODE</th>\n",
              "      <th>PRODUCT_SUBCLASS</th>\n",
              "      <th>PRODUCT_ID</th>\n",
              "      <th>AMOUNT</th>\n",
              "      <th>ASSET</th>\n",
              "      <th>SALES_PRICE</th>\n",
              "    </tr>\n",
              "  </thead>\n",
              "  <tbody>\n",
              "    <tr>\n",
              "      <th>0</th>\n",
              "      <td>11/1/2000</td>\n",
              "      <td>1104905</td>\n",
              "      <td>45-49</td>\n",
              "      <td>115</td>\n",
              "      <td>110411</td>\n",
              "      <td>4710199010372</td>\n",
              "      <td>2</td>\n",
              "      <td>24</td>\n",
              "      <td>30</td>\n",
              "    </tr>\n",
              "    <tr>\n",
              "      <th>1</th>\n",
              "      <td>11/1/2000</td>\n",
              "      <td>418683</td>\n",
              "      <td>45-49</td>\n",
              "      <td>115</td>\n",
              "      <td>120107</td>\n",
              "      <td>4710857472535</td>\n",
              "      <td>1</td>\n",
              "      <td>48</td>\n",
              "      <td>46</td>\n",
              "    </tr>\n",
              "    <tr>\n",
              "      <th>2</th>\n",
              "      <td>11/1/2000</td>\n",
              "      <td>1057331</td>\n",
              "      <td>35-39</td>\n",
              "      <td>115</td>\n",
              "      <td>100407</td>\n",
              "      <td>4710043654103</td>\n",
              "      <td>2</td>\n",
              "      <td>142</td>\n",
              "      <td>166</td>\n",
              "    </tr>\n",
              "    <tr>\n",
              "      <th>3</th>\n",
              "      <td>11/1/2000</td>\n",
              "      <td>1849332</td>\n",
              "      <td>45-49</td>\n",
              "      <td>Others</td>\n",
              "      <td>120108</td>\n",
              "      <td>4710126092129</td>\n",
              "      <td>1</td>\n",
              "      <td>32</td>\n",
              "      <td>38</td>\n",
              "    </tr>\n",
              "    <tr>\n",
              "      <th>4</th>\n",
              "      <td>11/1/2000</td>\n",
              "      <td>1981995</td>\n",
              "      <td>50-54</td>\n",
              "      <td>115</td>\n",
              "      <td>100205</td>\n",
              "      <td>4710176021445</td>\n",
              "      <td>1</td>\n",
              "      <td>14</td>\n",
              "      <td>18</td>\n",
              "    </tr>\n",
              "  </tbody>\n",
              "</table>\n",
              "</div>"
            ],
            "text/plain": [
              "  TRANSACTION_DT  CUSTOMER_ID AGE_GROUP  ... AMOUNT  ASSET  SALES_PRICE\n",
              "0      11/1/2000      1104905     45-49  ...      2     24           30\n",
              "1      11/1/2000       418683     45-49  ...      1     48           46\n",
              "2      11/1/2000      1057331     35-39  ...      2    142          166\n",
              "3      11/1/2000      1849332     45-49  ...      1     32           38\n",
              "4      11/1/2000      1981995     50-54  ...      1     14           18\n",
              "\n",
              "[5 rows x 9 columns]"
            ]
          },
          "metadata": {
            "tags": []
          },
          "execution_count": 3
        }
      ]
    },
    {
      "cell_type": "markdown",
      "metadata": {
        "id": "eVjR8khy5QQG"
      },
      "source": [
        "#Exploratory Data Analysis"
      ]
    },
    {
      "cell_type": "code",
      "metadata": {
        "colab": {
          "base_uri": "https://localhost:8080/",
          "height": 367
        },
        "id": "Flru-KVpQ9R0",
        "outputId": "cb882fbe-1ff7-42ac-82d4-9f67c457a1a5"
      },
      "source": [
        "#Display 10 sample data\n",
        "Tafeng_data.sample(10)"
      ],
      "execution_count": 4,
      "outputs": [
        {
          "output_type": "execute_result",
          "data": {
            "text/html": [
              "<div>\n",
              "<style scoped>\n",
              "    .dataframe tbody tr th:only-of-type {\n",
              "        vertical-align: middle;\n",
              "    }\n",
              "\n",
              "    .dataframe tbody tr th {\n",
              "        vertical-align: top;\n",
              "    }\n",
              "\n",
              "    .dataframe thead th {\n",
              "        text-align: right;\n",
              "    }\n",
              "</style>\n",
              "<table border=\"1\" class=\"dataframe\">\n",
              "  <thead>\n",
              "    <tr style=\"text-align: right;\">\n",
              "      <th></th>\n",
              "      <th>TRANSACTION_DT</th>\n",
              "      <th>CUSTOMER_ID</th>\n",
              "      <th>AGE_GROUP</th>\n",
              "      <th>PIN_CODE</th>\n",
              "      <th>PRODUCT_SUBCLASS</th>\n",
              "      <th>PRODUCT_ID</th>\n",
              "      <th>AMOUNT</th>\n",
              "      <th>ASSET</th>\n",
              "      <th>SALES_PRICE</th>\n",
              "    </tr>\n",
              "  </thead>\n",
              "  <tbody>\n",
              "    <tr>\n",
              "      <th>626480</th>\n",
              "      <td>2/11/2001</td>\n",
              "      <td>199216</td>\n",
              "      <td>45-49</td>\n",
              "      <td>221</td>\n",
              "      <td>130205</td>\n",
              "      <td>4710088436191</td>\n",
              "      <td>2</td>\n",
              "      <td>30</td>\n",
              "      <td>38</td>\n",
              "    </tr>\n",
              "    <tr>\n",
              "      <th>232920</th>\n",
              "      <td>12/10/2000</td>\n",
              "      <td>445931</td>\n",
              "      <td>45-49</td>\n",
              "      <td>110</td>\n",
              "      <td>100303</td>\n",
              "      <td>4712494211331</td>\n",
              "      <td>1</td>\n",
              "      <td>19</td>\n",
              "      <td>25</td>\n",
              "    </tr>\n",
              "    <tr>\n",
              "      <th>343433</th>\n",
              "      <td>12/17/2000</td>\n",
              "      <td>1723328</td>\n",
              "      <td>35-39</td>\n",
              "      <td>Others</td>\n",
              "      <td>560401</td>\n",
              "      <td>4710043355437</td>\n",
              "      <td>1</td>\n",
              "      <td>338</td>\n",
              "      <td>395</td>\n",
              "    </tr>\n",
              "    <tr>\n",
              "      <th>627071</th>\n",
              "      <td>2/10/2001</td>\n",
              "      <td>921961</td>\n",
              "      <td>60-64</td>\n",
              "      <td>221</td>\n",
              "      <td>120105</td>\n",
              "      <td>4710011409025</td>\n",
              "      <td>1</td>\n",
              "      <td>23</td>\n",
              "      <td>29</td>\n",
              "    </tr>\n",
              "    <tr>\n",
              "      <th>615249</th>\n",
              "      <td>2/11/2001</td>\n",
              "      <td>1290929</td>\n",
              "      <td>35-39</td>\n",
              "      <td>115</td>\n",
              "      <td>100325</td>\n",
              "      <td>4710988000553</td>\n",
              "      <td>1</td>\n",
              "      <td>35</td>\n",
              "      <td>39</td>\n",
              "    </tr>\n",
              "    <tr>\n",
              "      <th>71897</th>\n",
              "      <td>11/10/2000</td>\n",
              "      <td>1588491</td>\n",
              "      <td>35-39</td>\n",
              "      <td>Others</td>\n",
              "      <td>100511</td>\n",
              "      <td>753092828884</td>\n",
              "      <td>1</td>\n",
              "      <td>31</td>\n",
              "      <td>42</td>\n",
              "    </tr>\n",
              "    <tr>\n",
              "      <th>102940</th>\n",
              "      <td>11/15/2000</td>\n",
              "      <td>1359015</td>\n",
              "      <td>35-39</td>\n",
              "      <td>221</td>\n",
              "      <td>100201</td>\n",
              "      <td>4710174003443</td>\n",
              "      <td>1</td>\n",
              "      <td>20</td>\n",
              "      <td>22</td>\n",
              "    </tr>\n",
              "    <tr>\n",
              "      <th>564338</th>\n",
              "      <td>1/22/2001</td>\n",
              "      <td>20459</td>\n",
              "      <td>40-44</td>\n",
              "      <td>114</td>\n",
              "      <td>520328</td>\n",
              "      <td>9414863071854</td>\n",
              "      <td>3</td>\n",
              "      <td>279</td>\n",
              "      <td>387</td>\n",
              "    </tr>\n",
              "    <tr>\n",
              "      <th>187724</th>\n",
              "      <td>11/26/2000</td>\n",
              "      <td>1814620</td>\n",
              "      <td>40-44</td>\n",
              "      <td>114</td>\n",
              "      <td>100507</td>\n",
              "      <td>4710094699078</td>\n",
              "      <td>1</td>\n",
              "      <td>37</td>\n",
              "      <td>38</td>\n",
              "    </tr>\n",
              "    <tr>\n",
              "      <th>527369</th>\n",
              "      <td>1/20/2001</td>\n",
              "      <td>2171333</td>\n",
              "      <td>&lt;25</td>\n",
              "      <td>110</td>\n",
              "      <td>100205</td>\n",
              "      <td>4710176021445</td>\n",
              "      <td>2</td>\n",
              "      <td>28</td>\n",
              "      <td>36</td>\n",
              "    </tr>\n",
              "  </tbody>\n",
              "</table>\n",
              "</div>"
            ],
            "text/plain": [
              "       TRANSACTION_DT  CUSTOMER_ID AGE_GROUP  ... AMOUNT  ASSET  SALES_PRICE\n",
              "626480      2/11/2001       199216     45-49  ...      2     30           38\n",
              "232920     12/10/2000       445931     45-49  ...      1     19           25\n",
              "343433     12/17/2000      1723328     35-39  ...      1    338          395\n",
              "627071      2/10/2001       921961     60-64  ...      1     23           29\n",
              "615249      2/11/2001      1290929     35-39  ...      1     35           39\n",
              "71897      11/10/2000      1588491     35-39  ...      1     31           42\n",
              "102940     11/15/2000      1359015     35-39  ...      1     20           22\n",
              "564338      1/22/2001        20459     40-44  ...      3    279          387\n",
              "187724     11/26/2000      1814620     40-44  ...      1     37           38\n",
              "527369      1/20/2001      2171333       <25  ...      2     28           36\n",
              "\n",
              "[10 rows x 9 columns]"
            ]
          },
          "metadata": {
            "tags": []
          },
          "execution_count": 4
        }
      ]
    },
    {
      "cell_type": "code",
      "metadata": {
        "colab": {
          "base_uri": "https://localhost:8080/",
          "height": 307
        },
        "id": "CVizq1ZqRHN5",
        "outputId": "9ba7d6c2-eba9-48ff-cfdf-f49d9ae4442c"
      },
      "source": [
        "#Display descriptive statistics\n",
        "Tafeng_data.describe()"
      ],
      "execution_count": 5,
      "outputs": [
        {
          "output_type": "execute_result",
          "data": {
            "text/html": [
              "<div>\n",
              "<style scoped>\n",
              "    .dataframe tbody tr th:only-of-type {\n",
              "        vertical-align: middle;\n",
              "    }\n",
              "\n",
              "    .dataframe tbody tr th {\n",
              "        vertical-align: top;\n",
              "    }\n",
              "\n",
              "    .dataframe thead th {\n",
              "        text-align: right;\n",
              "    }\n",
              "</style>\n",
              "<table border=\"1\" class=\"dataframe\">\n",
              "  <thead>\n",
              "    <tr style=\"text-align: right;\">\n",
              "      <th></th>\n",
              "      <th>CUSTOMER_ID</th>\n",
              "      <th>PRODUCT_SUBCLASS</th>\n",
              "      <th>PRODUCT_ID</th>\n",
              "      <th>AMOUNT</th>\n",
              "      <th>ASSET</th>\n",
              "      <th>SALES_PRICE</th>\n",
              "    </tr>\n",
              "  </thead>\n",
              "  <tbody>\n",
              "    <tr>\n",
              "      <th>count</th>\n",
              "      <td>8.177410e+05</td>\n",
              "      <td>817741.000000</td>\n",
              "      <td>8.177410e+05</td>\n",
              "      <td>817741.000000</td>\n",
              "      <td>817741.000000</td>\n",
              "      <td>817741.000000</td>\n",
              "    </tr>\n",
              "    <tr>\n",
              "      <th>mean</th>\n",
              "      <td>1.406620e+06</td>\n",
              "      <td>284950.495933</td>\n",
              "      <td>4.461639e+12</td>\n",
              "      <td>1.381781</td>\n",
              "      <td>112.109848</td>\n",
              "      <td>131.875589</td>\n",
              "    </tr>\n",
              "    <tr>\n",
              "      <th>std</th>\n",
              "      <td>7.489784e+05</td>\n",
              "      <td>226390.701451</td>\n",
              "      <td>1.690093e+12</td>\n",
              "      <td>2.897473</td>\n",
              "      <td>603.661776</td>\n",
              "      <td>631.057633</td>\n",
              "    </tr>\n",
              "    <tr>\n",
              "      <th>min</th>\n",
              "      <td>1.069000e+03</td>\n",
              "      <td>100101.000000</td>\n",
              "      <td>2.000882e+07</td>\n",
              "      <td>1.000000</td>\n",
              "      <td>0.000000</td>\n",
              "      <td>1.000000</td>\n",
              "    </tr>\n",
              "    <tr>\n",
              "      <th>25%</th>\n",
              "      <td>9.692220e+05</td>\n",
              "      <td>110106.000000</td>\n",
              "      <td>4.710085e+12</td>\n",
              "      <td>1.000000</td>\n",
              "      <td>35.000000</td>\n",
              "      <td>42.000000</td>\n",
              "    </tr>\n",
              "    <tr>\n",
              "      <th>50%</th>\n",
              "      <td>1.587722e+06</td>\n",
              "      <td>130106.000000</td>\n",
              "      <td>4.710421e+12</td>\n",
              "      <td>1.000000</td>\n",
              "      <td>62.000000</td>\n",
              "      <td>76.000000</td>\n",
              "    </tr>\n",
              "    <tr>\n",
              "      <th>75%</th>\n",
              "      <td>1.854930e+06</td>\n",
              "      <td>520314.000000</td>\n",
              "      <td>4.712500e+12</td>\n",
              "      <td>1.000000</td>\n",
              "      <td>112.000000</td>\n",
              "      <td>132.000000</td>\n",
              "    </tr>\n",
              "    <tr>\n",
              "      <th>max</th>\n",
              "      <td>2.000200e+07</td>\n",
              "      <td>780510.000000</td>\n",
              "      <td>9.789580e+12</td>\n",
              "      <td>1200.000000</td>\n",
              "      <td>432000.000000</td>\n",
              "      <td>444000.000000</td>\n",
              "    </tr>\n",
              "  </tbody>\n",
              "</table>\n",
              "</div>"
            ],
            "text/plain": [
              "        CUSTOMER_ID  PRODUCT_SUBCLASS  ...          ASSET    SALES_PRICE\n",
              "count  8.177410e+05     817741.000000  ...  817741.000000  817741.000000\n",
              "mean   1.406620e+06     284950.495933  ...     112.109848     131.875589\n",
              "std    7.489784e+05     226390.701451  ...     603.661776     631.057633\n",
              "min    1.069000e+03     100101.000000  ...       0.000000       1.000000\n",
              "25%    9.692220e+05     110106.000000  ...      35.000000      42.000000\n",
              "50%    1.587722e+06     130106.000000  ...      62.000000      76.000000\n",
              "75%    1.854930e+06     520314.000000  ...     112.000000     132.000000\n",
              "max    2.000200e+07     780510.000000  ...  432000.000000  444000.000000\n",
              "\n",
              "[8 rows x 6 columns]"
            ]
          },
          "metadata": {
            "tags": []
          },
          "execution_count": 5
        }
      ]
    },
    {
      "cell_type": "code",
      "metadata": {
        "colab": {
          "base_uri": "https://localhost:8080/"
        },
        "id": "ORuq0bk0MDR6",
        "outputId": "1238e5b5-b1fb-4738-aa11-00e73dbaeddf"
      },
      "source": [
        "#Check for missing values in the dataset\n",
        "Tafeng_data.isnull().sum(axis=0)"
      ],
      "execution_count": 6,
      "outputs": [
        {
          "output_type": "execute_result",
          "data": {
            "text/plain": [
              "TRANSACTION_DT          0\n",
              "CUSTOMER_ID             0\n",
              "AGE_GROUP           22362\n",
              "PIN_CODE                0\n",
              "PRODUCT_SUBCLASS        0\n",
              "PRODUCT_ID              0\n",
              "AMOUNT                  0\n",
              "ASSET                   0\n",
              "SALES_PRICE             0\n",
              "dtype: int64"
            ]
          },
          "metadata": {
            "tags": []
          },
          "execution_count": 6
        }
      ]
    },
    {
      "cell_type": "code",
      "metadata": {
        "colab": {
          "base_uri": "https://localhost:8080/"
        },
        "id": "2cUoI-bQHYCL",
        "outputId": "252d09f7-26d9-4e5b-94b8-94816d2d689c"
      },
      "source": [
        "#Check the shape (number of columns and rows) in the dataset\n",
        "Tafeng_data.shape"
      ],
      "execution_count": 7,
      "outputs": [
        {
          "output_type": "execute_result",
          "data": {
            "text/plain": [
              "(817741, 9)"
            ]
          },
          "metadata": {
            "tags": []
          },
          "execution_count": 7
        }
      ]
    },
    {
      "cell_type": "code",
      "metadata": {
        "colab": {
          "base_uri": "https://localhost:8080/",
          "height": 347
        },
        "id": "x6NQcvFaHq5K",
        "outputId": "bdd80c04-96c4-4e9e-e22c-43920080f6bb"
      },
      "source": [
        "#Customer distribution by age group\n",
        "age_group_cust_data=Tafeng_data[['AGE_GROUP', 'CUSTOMER_ID']].drop_duplicates()\n",
        "age_group_cust_data.groupby(['AGE_GROUP'])['CUSTOMER_ID'].aggregate('count').reset_index().sort_values('CUSTOMER_ID', ascending= False)\n"
      ],
      "execution_count": 8,
      "outputs": [
        {
          "output_type": "execute_result",
          "data": {
            "text/html": [
              "<div>\n",
              "<style scoped>\n",
              "    .dataframe tbody tr th:only-of-type {\n",
              "        vertical-align: middle;\n",
              "    }\n",
              "\n",
              "    .dataframe tbody tr th {\n",
              "        vertical-align: top;\n",
              "    }\n",
              "\n",
              "    .dataframe thead th {\n",
              "        text-align: right;\n",
              "    }\n",
              "</style>\n",
              "<table border=\"1\" class=\"dataframe\">\n",
              "  <thead>\n",
              "    <tr style=\"text-align: right;\">\n",
              "      <th></th>\n",
              "      <th>AGE_GROUP</th>\n",
              "      <th>CUSTOMER_ID</th>\n",
              "    </tr>\n",
              "  </thead>\n",
              "  <tbody>\n",
              "    <tr>\n",
              "      <th>2</th>\n",
              "      <td>35-39</td>\n",
              "      <td>6588</td>\n",
              "    </tr>\n",
              "    <tr>\n",
              "      <th>1</th>\n",
              "      <td>30-34</td>\n",
              "      <td>5916</td>\n",
              "    </tr>\n",
              "    <tr>\n",
              "      <th>3</th>\n",
              "      <td>40-44</td>\n",
              "      <td>5084</td>\n",
              "    </tr>\n",
              "    <tr>\n",
              "      <th>4</th>\n",
              "      <td>45-49</td>\n",
              "      <td>3723</td>\n",
              "    </tr>\n",
              "    <tr>\n",
              "      <th>0</th>\n",
              "      <td>25-29</td>\n",
              "      <td>3196</td>\n",
              "    </tr>\n",
              "    <tr>\n",
              "      <th>5</th>\n",
              "      <td>50-54</td>\n",
              "      <td>2184</td>\n",
              "    </tr>\n",
              "    <tr>\n",
              "      <th>8</th>\n",
              "      <td>&lt;25</td>\n",
              "      <td>1630</td>\n",
              "    </tr>\n",
              "    <tr>\n",
              "      <th>9</th>\n",
              "      <td>&gt;65</td>\n",
              "      <td>1363</td>\n",
              "    </tr>\n",
              "    <tr>\n",
              "      <th>6</th>\n",
              "      <td>55-59</td>\n",
              "      <td>1076</td>\n",
              "    </tr>\n",
              "    <tr>\n",
              "      <th>7</th>\n",
              "      <td>60-64</td>\n",
              "      <td>880</td>\n",
              "    </tr>\n",
              "  </tbody>\n",
              "</table>\n",
              "</div>"
            ],
            "text/plain": [
              "  AGE_GROUP  CUSTOMER_ID\n",
              "2     35-39         6588\n",
              "1     30-34         5916\n",
              "3     40-44         5084\n",
              "4     45-49         3723\n",
              "0     25-29         3196\n",
              "5     50-54         2184\n",
              "8       <25         1630\n",
              "9       >65         1363\n",
              "6     55-59         1076\n",
              "7     60-64          880"
            ]
          },
          "metadata": {
            "tags": []
          },
          "execution_count": 8
        }
      ]
    },
    {
      "cell_type": "code",
      "metadata": {
        "colab": {
          "base_uri": "https://localhost:8080/"
        },
        "id": "Fw3Euh8kQteq",
        "outputId": "dd1e3561-7ad5-4b59-b6ba-a3a00f56c64c"
      },
      "source": [
        "Tafeng_data.info()"
      ],
      "execution_count": 9,
      "outputs": [
        {
          "output_type": "stream",
          "text": [
            "<class 'pandas.core.frame.DataFrame'>\n",
            "RangeIndex: 817741 entries, 0 to 817740\n",
            "Data columns (total 9 columns):\n",
            " #   Column            Non-Null Count   Dtype \n",
            "---  ------            --------------   ----- \n",
            " 0   TRANSACTION_DT    817741 non-null  object\n",
            " 1   CUSTOMER_ID       817741 non-null  int64 \n",
            " 2   AGE_GROUP         795379 non-null  object\n",
            " 3   PIN_CODE          817741 non-null  object\n",
            " 4   PRODUCT_SUBCLASS  817741 non-null  int64 \n",
            " 5   PRODUCT_ID        817741 non-null  int64 \n",
            " 6   AMOUNT            817741 non-null  int64 \n",
            " 7   ASSET             817741 non-null  int64 \n",
            " 8   SALES_PRICE       817741 non-null  int64 \n",
            "dtypes: int64(6), object(3)\n",
            "memory usage: 56.1+ MB\n"
          ],
          "name": "stdout"
        }
      ]
    },
    {
      "cell_type": "code",
      "metadata": {
        "id": "jBRFNxvvScMT"
      },
      "source": [
        "numerical_vars = ['TRANSACTION_DT','CUSTOMER_ID', 'AGE_GROUP', 'PIN_CODE', 'PRODUCT_SUBCLASS', 'PRODUCT_ID', 'AMOUNT', 'ASSET', 'SALES_PRICE']\n"
      ],
      "execution_count": 10,
      "outputs": []
    },
    {
      "cell_type": "code",
      "metadata": {
        "colab": {
          "base_uri": "https://localhost:8080/"
        },
        "id": "upsxEi1sTNuE",
        "outputId": "60047791-c252-4468-c7e6-94a0596ef58e"
      },
      "source": [
        "Tafeng_data['SALES_PRICE'].describe()"
      ],
      "execution_count": 11,
      "outputs": [
        {
          "output_type": "execute_result",
          "data": {
            "text/plain": [
              "count    817741.000000\n",
              "mean        131.875589\n",
              "std         631.057633\n",
              "min           1.000000\n",
              "25%          42.000000\n",
              "50%          76.000000\n",
              "75%         132.000000\n",
              "max      444000.000000\n",
              "Name: SALES_PRICE, dtype: float64"
            ]
          },
          "metadata": {
            "tags": []
          },
          "execution_count": 11
        }
      ]
    },
    {
      "cell_type": "code",
      "metadata": {
        "colab": {
          "base_uri": "https://localhost:8080/"
        },
        "id": "nmyRR2dlTcqM",
        "outputId": "32231269-ecf4-46f4-9c91-83c986b542a2"
      },
      "source": [
        "Tafeng_data['TRANSACTION_DT'].describe()"
      ],
      "execution_count": 12,
      "outputs": [
        {
          "output_type": "execute_result",
          "data": {
            "text/plain": [
              "count        817741\n",
              "unique          120\n",
              "top       1/21/2001\n",
              "freq          21129\n",
              "Name: TRANSACTION_DT, dtype: object"
            ]
          },
          "metadata": {
            "tags": []
          },
          "execution_count": 12
        }
      ]
    },
    {
      "cell_type": "code",
      "metadata": {
        "colab": {
          "base_uri": "https://localhost:8080/"
        },
        "id": "Ku6JS5JXTmaL",
        "outputId": "89b9f044-fd01-4592-8c70-b09ae47b9c51"
      },
      "source": [
        "Tafeng_data['CUSTOMER_ID'].describe()"
      ],
      "execution_count": 13,
      "outputs": [
        {
          "output_type": "execute_result",
          "data": {
            "text/plain": [
              "count    8.177410e+05\n",
              "mean     1.406620e+06\n",
              "std      7.489784e+05\n",
              "min      1.069000e+03\n",
              "25%      9.692220e+05\n",
              "50%      1.587722e+06\n",
              "75%      1.854930e+06\n",
              "max      2.000200e+07\n",
              "Name: CUSTOMER_ID, dtype: float64"
            ]
          },
          "metadata": {
            "tags": []
          },
          "execution_count": 13
        }
      ]
    },
    {
      "cell_type": "code",
      "metadata": {
        "colab": {
          "base_uri": "https://localhost:8080/",
          "height": 407
        },
        "id": "vN2Vn9N3J2kN",
        "outputId": "997f3dc2-46ad-4c25-9a8d-ea0f37b645de"
      },
      "source": [
        "#Customer distribution by transaction date\n",
        "transaction_cust_data=Tafeng_data[['TRANSACTION_DT', 'CUSTOMER_ID']].drop_duplicates()\n",
        "transaction_cust_data.groupby(['TRANSACTION_DT'])['CUSTOMER_ID'].aggregate('count').reset_index().sort_values('CUSTOMER_ID', ascending= False)\n"
      ],
      "execution_count": 14,
      "outputs": [
        {
          "output_type": "execute_result",
          "data": {
            "text/html": [
              "<div>\n",
              "<style scoped>\n",
              "    .dataframe tbody tr th:only-of-type {\n",
              "        vertical-align: middle;\n",
              "    }\n",
              "\n",
              "    .dataframe tbody tr th {\n",
              "        vertical-align: top;\n",
              "    }\n",
              "\n",
              "    .dataframe thead th {\n",
              "        text-align: right;\n",
              "    }\n",
              "</style>\n",
              "<table border=\"1\" class=\"dataframe\">\n",
              "  <thead>\n",
              "    <tr style=\"text-align: right;\">\n",
              "      <th></th>\n",
              "      <th>TRANSACTION_DT</th>\n",
              "      <th>CUSTOMER_ID</th>\n",
              "    </tr>\n",
              "  </thead>\n",
              "  <tbody>\n",
              "    <tr>\n",
              "      <th>14</th>\n",
              "      <td>1/22/2001</td>\n",
              "      <td>2232</td>\n",
              "    </tr>\n",
              "    <tr>\n",
              "      <th>13</th>\n",
              "      <td>1/21/2001</td>\n",
              "      <td>2079</td>\n",
              "    </tr>\n",
              "    <tr>\n",
              "      <th>49</th>\n",
              "      <td>11/26/2000</td>\n",
              "      <td>1785</td>\n",
              "    </tr>\n",
              "    <tr>\n",
              "      <th>48</th>\n",
              "      <td>11/25/2000</td>\n",
              "      <td>1709</td>\n",
              "    </tr>\n",
              "    <tr>\n",
              "      <th>34</th>\n",
              "      <td>11/12/2000</td>\n",
              "      <td>1653</td>\n",
              "    </tr>\n",
              "    <tr>\n",
              "      <th>...</th>\n",
              "      <td>...</td>\n",
              "      <td>...</td>\n",
              "    </tr>\n",
              "    <tr>\n",
              "      <th>76</th>\n",
              "      <td>12/23/2000</td>\n",
              "      <td>132</td>\n",
              "    </tr>\n",
              "    <tr>\n",
              "      <th>73</th>\n",
              "      <td>12/20/2000</td>\n",
              "      <td>118</td>\n",
              "    </tr>\n",
              "    <tr>\n",
              "      <th>74</th>\n",
              "      <td>12/21/2000</td>\n",
              "      <td>105</td>\n",
              "    </tr>\n",
              "    <tr>\n",
              "      <th>75</th>\n",
              "      <td>12/22/2000</td>\n",
              "      <td>81</td>\n",
              "    </tr>\n",
              "    <tr>\n",
              "      <th>71</th>\n",
              "      <td>12/19/2000</td>\n",
              "      <td>73</td>\n",
              "    </tr>\n",
              "  </tbody>\n",
              "</table>\n",
              "<p>120 rows × 2 columns</p>\n",
              "</div>"
            ],
            "text/plain": [
              "   TRANSACTION_DT  CUSTOMER_ID\n",
              "14      1/22/2001         2232\n",
              "13      1/21/2001         2079\n",
              "49     11/26/2000         1785\n",
              "48     11/25/2000         1709\n",
              "34     11/12/2000         1653\n",
              "..            ...          ...\n",
              "76     12/23/2000          132\n",
              "73     12/20/2000          118\n",
              "74     12/21/2000          105\n",
              "75     12/22/2000           81\n",
              "71     12/19/2000           73\n",
              "\n",
              "[120 rows x 2 columns]"
            ]
          },
          "metadata": {
            "tags": []
          },
          "execution_count": 14
        }
      ]
    },
    {
      "cell_type": "markdown",
      "metadata": {
        "id": "wLk0CyP65VPw"
      },
      "source": [
        "#Data Preprocessing"
      ]
    },
    {
      "cell_type": "code",
      "metadata": {
        "id": "64NScfELNd8J"
      },
      "source": [
        "#Remove missing values from CUSTOMER_ID column\n",
        "#We can ignore missing values in description column\n",
        "Tafeng_data = Tafeng_data[pd.notnull(Tafeng_data['CUSTOMER_ID'])]"
      ],
      "execution_count": 15,
      "outputs": []
    },
    {
      "cell_type": "code",
      "metadata": {
        "colab": {
          "base_uri": "https://localhost:8080/"
        },
        "id": "SIo_GXZQOB5h",
        "outputId": "97a26c6f-d3e6-442c-c1ff-871ce5bc2c09"
      },
      "source": [
        "#Check validation, if there are any negative values in AMOUNT column\n",
        "Tafeng_data.AMOUNT.min()"
      ],
      "execution_count": 16,
      "outputs": [
        {
          "output_type": "execute_result",
          "data": {
            "text/plain": [
              "1"
            ]
          },
          "metadata": {
            "tags": []
          },
          "execution_count": 16
        }
      ]
    },
    {
      "cell_type": "code",
      "metadata": {
        "colab": {
          "base_uri": "https://localhost:8080/"
        },
        "id": "WzfqW397OSul",
        "outputId": "98290ab9-738c-49b4-a1b6-8a9371fa5866"
      },
      "source": [
        "#Check validation, if there are any negative values in SALES_PRICE column\n",
        "Tafeng_data.SALES_PRICE.min()"
      ],
      "execution_count": 17,
      "outputs": [
        {
          "output_type": "execute_result",
          "data": {
            "text/plain": [
              "1"
            ]
          },
          "metadata": {
            "tags": []
          },
          "execution_count": 17
        }
      ]
    },
    {
      "cell_type": "code",
      "metadata": {
        "id": "hANYfIapPQnd"
      },
      "source": [
        "#Filter out data with negative values\n",
        "Tafeng_data = Tafeng_data[(Tafeng_data[\"AMOUNT\"] > 0)]"
      ],
      "execution_count": 18,
      "outputs": []
    },
    {
      "cell_type": "code",
      "metadata": {
        "id": "iXbGK_qVPnBF"
      },
      "source": [
        "#Convert the string date field to datetime\n",
        "Tafeng_data['TRANSACTION_DT'] = pd.to_datetime(Tafeng_data['TRANSACTION_DT'])"
      ],
      "execution_count": 19,
      "outputs": []
    },
    {
      "cell_type": "code",
      "metadata": {
        "id": "NigBD5NhP6J5",
        "colab": {
          "base_uri": "https://localhost:8080/",
          "height": 217
        },
        "outputId": "d788324f-4d9d-461e-b852-56eee1a29b6d"
      },
      "source": [
        "Tafeng_data.head()"
      ],
      "execution_count": 20,
      "outputs": [
        {
          "output_type": "execute_result",
          "data": {
            "text/html": [
              "<div>\n",
              "<style scoped>\n",
              "    .dataframe tbody tr th:only-of-type {\n",
              "        vertical-align: middle;\n",
              "    }\n",
              "\n",
              "    .dataframe tbody tr th {\n",
              "        vertical-align: top;\n",
              "    }\n",
              "\n",
              "    .dataframe thead th {\n",
              "        text-align: right;\n",
              "    }\n",
              "</style>\n",
              "<table border=\"1\" class=\"dataframe\">\n",
              "  <thead>\n",
              "    <tr style=\"text-align: right;\">\n",
              "      <th></th>\n",
              "      <th>TRANSACTION_DT</th>\n",
              "      <th>CUSTOMER_ID</th>\n",
              "      <th>AGE_GROUP</th>\n",
              "      <th>PIN_CODE</th>\n",
              "      <th>PRODUCT_SUBCLASS</th>\n",
              "      <th>PRODUCT_ID</th>\n",
              "      <th>AMOUNT</th>\n",
              "      <th>ASSET</th>\n",
              "      <th>SALES_PRICE</th>\n",
              "    </tr>\n",
              "  </thead>\n",
              "  <tbody>\n",
              "    <tr>\n",
              "      <th>0</th>\n",
              "      <td>2000-11-01</td>\n",
              "      <td>1104905</td>\n",
              "      <td>45-49</td>\n",
              "      <td>115</td>\n",
              "      <td>110411</td>\n",
              "      <td>4710199010372</td>\n",
              "      <td>2</td>\n",
              "      <td>24</td>\n",
              "      <td>30</td>\n",
              "    </tr>\n",
              "    <tr>\n",
              "      <th>1</th>\n",
              "      <td>2000-11-01</td>\n",
              "      <td>418683</td>\n",
              "      <td>45-49</td>\n",
              "      <td>115</td>\n",
              "      <td>120107</td>\n",
              "      <td>4710857472535</td>\n",
              "      <td>1</td>\n",
              "      <td>48</td>\n",
              "      <td>46</td>\n",
              "    </tr>\n",
              "    <tr>\n",
              "      <th>2</th>\n",
              "      <td>2000-11-01</td>\n",
              "      <td>1057331</td>\n",
              "      <td>35-39</td>\n",
              "      <td>115</td>\n",
              "      <td>100407</td>\n",
              "      <td>4710043654103</td>\n",
              "      <td>2</td>\n",
              "      <td>142</td>\n",
              "      <td>166</td>\n",
              "    </tr>\n",
              "    <tr>\n",
              "      <th>3</th>\n",
              "      <td>2000-11-01</td>\n",
              "      <td>1849332</td>\n",
              "      <td>45-49</td>\n",
              "      <td>Others</td>\n",
              "      <td>120108</td>\n",
              "      <td>4710126092129</td>\n",
              "      <td>1</td>\n",
              "      <td>32</td>\n",
              "      <td>38</td>\n",
              "    </tr>\n",
              "    <tr>\n",
              "      <th>4</th>\n",
              "      <td>2000-11-01</td>\n",
              "      <td>1981995</td>\n",
              "      <td>50-54</td>\n",
              "      <td>115</td>\n",
              "      <td>100205</td>\n",
              "      <td>4710176021445</td>\n",
              "      <td>1</td>\n",
              "      <td>14</td>\n",
              "      <td>18</td>\n",
              "    </tr>\n",
              "  </tbody>\n",
              "</table>\n",
              "</div>"
            ],
            "text/plain": [
              "  TRANSACTION_DT  CUSTOMER_ID AGE_GROUP  ... AMOUNT  ASSET  SALES_PRICE\n",
              "0     2000-11-01      1104905     45-49  ...      2     24           30\n",
              "1     2000-11-01       418683     45-49  ...      1     48           46\n",
              "2     2000-11-01      1057331     35-39  ...      2    142          166\n",
              "3     2000-11-01      1849332     45-49  ...      1     32           38\n",
              "4     2000-11-01      1981995     50-54  ...      1     14           18\n",
              "\n",
              "[5 rows x 9 columns]"
            ]
          },
          "metadata": {
            "tags": []
          },
          "execution_count": 20
        }
      ]
    },
    {
      "cell_type": "code",
      "metadata": {
        "colab": {
          "base_uri": "https://localhost:8080/"
        },
        "id": "5xx2HLV0tnoQ",
        "outputId": "6e009c4f-d44a-4e72-c1d2-9af51b667c1d"
      },
      "source": [
        "print(\"Summary...\")\n",
        "#exploring the unique values of each attribute\n",
        "print(\"Number of transactions:\", Tafeng_data['SALES_PRICE'].nunique())\n",
        "print(\"Number of products bought:\", Tafeng_data['PRODUCT_ID'].nunique())\n",
        "print(\"Number of customers:\", Tafeng_data['CUSTOMER_ID'].nunique())\n",
        "print(\"Percentage of customers NA:\", round(Tafeng_data['CUSTOMER_ID'].isnull().sum()*100/len(Tafeng_data),2),\"%\")\n"
      ],
      "execution_count": 21,
      "outputs": [
        {
          "output_type": "stream",
          "text": [
            "Summary...\n",
            "Number of transactions: 2191\n",
            "Number of products bought: 23812\n",
            "Number of customers: 32266\n",
            "Percentage of customers NA: 0.0 %\n"
          ],
          "name": "stdout"
        }
      ]
    },
    {
      "cell_type": "markdown",
      "metadata": {
        "id": "N32son64Ppat"
      },
      "source": [
        "#RFM MODELLING"
      ]
    },
    {
      "cell_type": "code",
      "metadata": {
        "colab": {
          "base_uri": "https://localhost:8080/",
          "height": 197
        },
        "id": "KUoAgMfLLrEh",
        "outputId": "3e987466-d3e6-430f-c04f-302f2e692e7b"
      },
      "source": [
        "#Recency = Latest Date - Last Transaction Date,\n",
        "#Frequency = count of transaction(s) no. for each customer,\n",
        "#Monetary = Sum of Sales Price for each customer\n",
        "import datetime as dt\n",
        "\n",
        "#Set latest date 2001-03-01 as last invoice date was 2001-02-28. Its goal is to calculate the number of days.\n",
        "Latest_Date = dt.datetime(2001,3,1)\n",
        "\n",
        "#Create RFM Modelling scores for each customer --> Recency\n",
        "RScores = Tafeng_data.groupby('CUSTOMER_ID').agg({'TRANSACTION_DT': lambda x: (Latest_Date - x.max()).days})\n",
        "\n",
        "#Create TRANSACTION_DT into type int\n",
        "RScores['TRANSACTION_DT'] = RScores['TRANSACTION_DT'].astype(int)\n",
        "\n",
        "#Rename column names to Recency\n",
        "RScores.rename(columns={'TRANSACTION_DT': 'Recency'}, inplace=True)\n",
        "RScores.reset_index().head()"
      ],
      "execution_count": 22,
      "outputs": [
        {
          "output_type": "execute_result",
          "data": {
            "text/html": [
              "<div>\n",
              "<style scoped>\n",
              "    .dataframe tbody tr th:only-of-type {\n",
              "        vertical-align: middle;\n",
              "    }\n",
              "\n",
              "    .dataframe tbody tr th {\n",
              "        vertical-align: top;\n",
              "    }\n",
              "\n",
              "    .dataframe thead th {\n",
              "        text-align: right;\n",
              "    }\n",
              "</style>\n",
              "<table border=\"1\" class=\"dataframe\">\n",
              "  <thead>\n",
              "    <tr style=\"text-align: right;\">\n",
              "      <th></th>\n",
              "      <th>CUSTOMER_ID</th>\n",
              "      <th>Recency</th>\n",
              "    </tr>\n",
              "  </thead>\n",
              "  <tbody>\n",
              "    <tr>\n",
              "      <th>0</th>\n",
              "      <td>1069</td>\n",
              "      <td>19</td>\n",
              "    </tr>\n",
              "    <tr>\n",
              "      <th>1</th>\n",
              "      <td>1113</td>\n",
              "      <td>54</td>\n",
              "    </tr>\n",
              "    <tr>\n",
              "      <th>2</th>\n",
              "      <td>1250</td>\n",
              "      <td>19</td>\n",
              "    </tr>\n",
              "    <tr>\n",
              "      <th>3</th>\n",
              "      <td>1359</td>\n",
              "      <td>87</td>\n",
              "    </tr>\n",
              "    <tr>\n",
              "      <th>4</th>\n",
              "      <td>1823</td>\n",
              "      <td>36</td>\n",
              "    </tr>\n",
              "  </tbody>\n",
              "</table>\n",
              "</div>"
            ],
            "text/plain": [
              "   CUSTOMER_ID  Recency\n",
              "0         1069       19\n",
              "1         1113       54\n",
              "2         1250       19\n",
              "3         1359       87\n",
              "4         1823       36"
            ]
          },
          "metadata": {
            "tags": []
          },
          "execution_count": 22
        }
      ]
    },
    {
      "cell_type": "code",
      "metadata": {
        "colab": {
          "base_uri": "https://localhost:8080/",
          "height": 197
        },
        "id": "Q4rWmKJeNI_g",
        "outputId": "b380d4f3-fb32-4d8f-e0c1-1b75726ba0bc"
      },
      "source": [
        "#Create RFM Modelling scores for each customer --> Frequency\n",
        "FScores=Tafeng_data.groupby(['CUSTOMER_ID']).size().to_frame('size').sort_values(['CUSTOMER_ID','size'], ascending=[True,False])\n",
        "\n",
        "#Rename column names to Frequency\n",
        "FScores.rename(columns={'size': 'Frequency'}, inplace=True)\n",
        "FScores.reset_index().head()"
      ],
      "execution_count": 23,
      "outputs": [
        {
          "output_type": "execute_result",
          "data": {
            "text/html": [
              "<div>\n",
              "<style scoped>\n",
              "    .dataframe tbody tr th:only-of-type {\n",
              "        vertical-align: middle;\n",
              "    }\n",
              "\n",
              "    .dataframe tbody tr th {\n",
              "        vertical-align: top;\n",
              "    }\n",
              "\n",
              "    .dataframe thead th {\n",
              "        text-align: right;\n",
              "    }\n",
              "</style>\n",
              "<table border=\"1\" class=\"dataframe\">\n",
              "  <thead>\n",
              "    <tr style=\"text-align: right;\">\n",
              "      <th></th>\n",
              "      <th>CUSTOMER_ID</th>\n",
              "      <th>Frequency</th>\n",
              "    </tr>\n",
              "  </thead>\n",
              "  <tbody>\n",
              "    <tr>\n",
              "      <th>0</th>\n",
              "      <td>1069</td>\n",
              "      <td>11</td>\n",
              "    </tr>\n",
              "    <tr>\n",
              "      <th>1</th>\n",
              "      <td>1113</td>\n",
              "      <td>18</td>\n",
              "    </tr>\n",
              "    <tr>\n",
              "      <th>2</th>\n",
              "      <td>1250</td>\n",
              "      <td>14</td>\n",
              "    </tr>\n",
              "    <tr>\n",
              "      <th>3</th>\n",
              "      <td>1359</td>\n",
              "      <td>3</td>\n",
              "    </tr>\n",
              "    <tr>\n",
              "      <th>4</th>\n",
              "      <td>1823</td>\n",
              "      <td>14</td>\n",
              "    </tr>\n",
              "  </tbody>\n",
              "</table>\n",
              "</div>"
            ],
            "text/plain": [
              "   CUSTOMER_ID  Frequency\n",
              "0         1069         11\n",
              "1         1113         18\n",
              "2         1250         14\n",
              "3         1359          3\n",
              "4         1823         14"
            ]
          },
          "metadata": {
            "tags": []
          },
          "execution_count": 23
        }
      ]
    },
    {
      "cell_type": "code",
      "metadata": {
        "colab": {
          "base_uri": "https://localhost:8080/",
          "height": 197
        },
        "id": "oc3OTAwI5olh",
        "outputId": "07298a1c-7adc-4700-e5b4-8b3e8137249b"
      },
      "source": [
        "#Create RFM Modelling scores for each customer --> Monetary\n",
        "MScores=Tafeng_data.groupby(['CUSTOMER_ID']).agg({'SALES_PRICE':lambda x:x.sum()})\n",
        "\n",
        "#Rename column names to Monetary\n",
        "MScores.rename(columns={'SALES_PRICE': 'Monetary'}, inplace=True)\n",
        "MScores.reset_index().head()"
      ],
      "execution_count": 24,
      "outputs": [
        {
          "output_type": "execute_result",
          "data": {
            "text/html": [
              "<div>\n",
              "<style scoped>\n",
              "    .dataframe tbody tr th:only-of-type {\n",
              "        vertical-align: middle;\n",
              "    }\n",
              "\n",
              "    .dataframe tbody tr th {\n",
              "        vertical-align: top;\n",
              "    }\n",
              "\n",
              "    .dataframe thead th {\n",
              "        text-align: right;\n",
              "    }\n",
              "</style>\n",
              "<table border=\"1\" class=\"dataframe\">\n",
              "  <thead>\n",
              "    <tr style=\"text-align: right;\">\n",
              "      <th></th>\n",
              "      <th>CUSTOMER_ID</th>\n",
              "      <th>Monetary</th>\n",
              "    </tr>\n",
              "  </thead>\n",
              "  <tbody>\n",
              "    <tr>\n",
              "      <th>0</th>\n",
              "      <td>1069</td>\n",
              "      <td>1944</td>\n",
              "    </tr>\n",
              "    <tr>\n",
              "      <th>1</th>\n",
              "      <td>1113</td>\n",
              "      <td>2230</td>\n",
              "    </tr>\n",
              "    <tr>\n",
              "      <th>2</th>\n",
              "      <td>1250</td>\n",
              "      <td>1583</td>\n",
              "    </tr>\n",
              "    <tr>\n",
              "      <th>3</th>\n",
              "      <td>1359</td>\n",
              "      <td>364</td>\n",
              "    </tr>\n",
              "    <tr>\n",
              "      <th>4</th>\n",
              "      <td>1823</td>\n",
              "      <td>2607</td>\n",
              "    </tr>\n",
              "  </tbody>\n",
              "</table>\n",
              "</div>"
            ],
            "text/plain": [
              "   CUSTOMER_ID  Monetary\n",
              "0         1069      1944\n",
              "1         1113      2230\n",
              "2         1250      1583\n",
              "3         1359       364\n",
              "4         1823      2607"
            ]
          },
          "metadata": {
            "tags": []
          },
          "execution_count": 24
        }
      ]
    },
    {
      "cell_type": "markdown",
      "metadata": {
        "id": "yqYvH8DzvZj9"
      },
      "source": [
        "#Create RFM Table"
      ]
    },
    {
      "cell_type": "code",
      "metadata": {
        "colab": {
          "base_uri": "https://localhost:8080/",
          "height": 227
        },
        "id": "BXE6v4q7vXMk",
        "outputId": "3f23b596-0229-416e-e8b0-68c049a0d7dd"
      },
      "source": [
        "#merge recency dataframe with frequency dataframe\n",
        "temp_df=RScores.merge(FScores, on = 'CUSTOMER_ID')\n",
        "temp_df.head()"
      ],
      "execution_count": 25,
      "outputs": [
        {
          "output_type": "execute_result",
          "data": {
            "text/html": [
              "<div>\n",
              "<style scoped>\n",
              "    .dataframe tbody tr th:only-of-type {\n",
              "        vertical-align: middle;\n",
              "    }\n",
              "\n",
              "    .dataframe tbody tr th {\n",
              "        vertical-align: top;\n",
              "    }\n",
              "\n",
              "    .dataframe thead th {\n",
              "        text-align: right;\n",
              "    }\n",
              "</style>\n",
              "<table border=\"1\" class=\"dataframe\">\n",
              "  <thead>\n",
              "    <tr style=\"text-align: right;\">\n",
              "      <th></th>\n",
              "      <th>Recency</th>\n",
              "      <th>Frequency</th>\n",
              "    </tr>\n",
              "    <tr>\n",
              "      <th>CUSTOMER_ID</th>\n",
              "      <th></th>\n",
              "      <th></th>\n",
              "    </tr>\n",
              "  </thead>\n",
              "  <tbody>\n",
              "    <tr>\n",
              "      <th>1069</th>\n",
              "      <td>19</td>\n",
              "      <td>11</td>\n",
              "    </tr>\n",
              "    <tr>\n",
              "      <th>1113</th>\n",
              "      <td>54</td>\n",
              "      <td>18</td>\n",
              "    </tr>\n",
              "    <tr>\n",
              "      <th>1250</th>\n",
              "      <td>19</td>\n",
              "      <td>14</td>\n",
              "    </tr>\n",
              "    <tr>\n",
              "      <th>1359</th>\n",
              "      <td>87</td>\n",
              "      <td>3</td>\n",
              "    </tr>\n",
              "    <tr>\n",
              "      <th>1823</th>\n",
              "      <td>36</td>\n",
              "      <td>14</td>\n",
              "    </tr>\n",
              "  </tbody>\n",
              "</table>\n",
              "</div>"
            ],
            "text/plain": [
              "             Recency  Frequency\n",
              "CUSTOMER_ID                    \n",
              "1069              19         11\n",
              "1113              54         18\n",
              "1250              19         14\n",
              "1359              87          3\n",
              "1823              36         14"
            ]
          },
          "metadata": {
            "tags": []
          },
          "execution_count": 25
        }
      ]
    },
    {
      "cell_type": "code",
      "metadata": {
        "colab": {
          "base_uri": "https://localhost:8080/",
          "height": 227
        },
        "id": "ZLg6mW2fvuFo",
        "outputId": "9aa5b261-bd32-4989-b48e-e6a2e7aa2144"
      },
      "source": [
        "#merge with monetary dataframe to get a table with 3 columns\n",
        "RFMScoring = temp_df.merge(MScores, on='CUSTOMER_ID')\n",
        "#check the head\n",
        "RFMScoring.head()"
      ],
      "execution_count": 26,
      "outputs": [
        {
          "output_type": "execute_result",
          "data": {
            "text/html": [
              "<div>\n",
              "<style scoped>\n",
              "    .dataframe tbody tr th:only-of-type {\n",
              "        vertical-align: middle;\n",
              "    }\n",
              "\n",
              "    .dataframe tbody tr th {\n",
              "        vertical-align: top;\n",
              "    }\n",
              "\n",
              "    .dataframe thead th {\n",
              "        text-align: right;\n",
              "    }\n",
              "</style>\n",
              "<table border=\"1\" class=\"dataframe\">\n",
              "  <thead>\n",
              "    <tr style=\"text-align: right;\">\n",
              "      <th></th>\n",
              "      <th>Recency</th>\n",
              "      <th>Frequency</th>\n",
              "      <th>Monetary</th>\n",
              "    </tr>\n",
              "    <tr>\n",
              "      <th>CUSTOMER_ID</th>\n",
              "      <th></th>\n",
              "      <th></th>\n",
              "      <th></th>\n",
              "    </tr>\n",
              "  </thead>\n",
              "  <tbody>\n",
              "    <tr>\n",
              "      <th>1069</th>\n",
              "      <td>19</td>\n",
              "      <td>11</td>\n",
              "      <td>1944</td>\n",
              "    </tr>\n",
              "    <tr>\n",
              "      <th>1113</th>\n",
              "      <td>54</td>\n",
              "      <td>18</td>\n",
              "      <td>2230</td>\n",
              "    </tr>\n",
              "    <tr>\n",
              "      <th>1250</th>\n",
              "      <td>19</td>\n",
              "      <td>14</td>\n",
              "      <td>1583</td>\n",
              "    </tr>\n",
              "    <tr>\n",
              "      <th>1359</th>\n",
              "      <td>87</td>\n",
              "      <td>3</td>\n",
              "      <td>364</td>\n",
              "    </tr>\n",
              "    <tr>\n",
              "      <th>1823</th>\n",
              "      <td>36</td>\n",
              "      <td>14</td>\n",
              "      <td>2607</td>\n",
              "    </tr>\n",
              "  </tbody>\n",
              "</table>\n",
              "</div>"
            ],
            "text/plain": [
              "             Recency  Frequency  Monetary\n",
              "CUSTOMER_ID                              \n",
              "1069              19         11      1944\n",
              "1113              54         18      2230\n",
              "1250              19         14      1583\n",
              "1359              87          3       364\n",
              "1823              36         14      2607"
            ]
          },
          "metadata": {
            "tags": []
          },
          "execution_count": 26
        }
      ]
    },
    {
      "cell_type": "code",
      "metadata": {
        "colab": {
          "base_uri": "https://localhost:8080/"
        },
        "id": "Cq8cyKYsutvr",
        "outputId": "2be762ed-086b-4053-d876-c0fc7854230a"
      },
      "source": [
        "#Descriptive Statistics (Recency)\n",
        "RFMScoring.Recency.describe()"
      ],
      "execution_count": 27,
      "outputs": [
        {
          "output_type": "execute_result",
          "data": {
            "text/plain": [
              "count    32266.000000\n",
              "mean        37.435474\n",
              "std         33.658454\n",
              "min          1.000000\n",
              "25%          9.000000\n",
              "50%         26.000000\n",
              "75%         59.000000\n",
              "max        120.000000\n",
              "Name: Recency, dtype: float64"
            ]
          },
          "metadata": {
            "tags": []
          },
          "execution_count": 27
        }
      ]
    },
    {
      "cell_type": "code",
      "metadata": {
        "colab": {
          "base_uri": "https://localhost:8080/",
          "height": 366
        },
        "id": "3LyEDaO1-tmI",
        "outputId": "9a21ba32-146f-4d65-b6ee-a3daca8d8247"
      },
      "source": [
        "#Recency distribution plot\n",
        "import seaborn as sns\n",
        "x = RFMScoring['Recency']\n",
        "ax = sns.distplot(x)"
      ],
      "execution_count": 28,
      "outputs": [
        {
          "output_type": "stream",
          "text": [
            "/usr/local/lib/python3.6/dist-packages/seaborn/distributions.py:2551: FutureWarning:\n",
            "\n",
            "`distplot` is a deprecated function and will be removed in a future version. Please adapt your code to use either `displot` (a figure-level function with similar flexibility) or `histplot` (an axes-level function for histograms).\n",
            "\n"
          ],
          "name": "stderr"
        },
        {
          "output_type": "display_data",
          "data": {
            "image/png": "[encoded data removed]",
            "text/plain": [
              "<Figure size 432x288 with 1 Axes>"
            ]
          },
          "metadata": {
            "tags": [],
            "needs_background": "light"
          }
        }
      ]
    },
    {
      "cell_type": "code",
      "metadata": {
        "colab": {
          "base_uri": "https://localhost:8080/"
        },
        "id": "SvKtuOo-_NtP",
        "outputId": "9cb141b0-3efc-4c39-9005-99b37400815b"
      },
      "source": [
        "#Descriptive Statstics (Frequency)\n",
        "RFMScoring.Frequency.describe()"
      ],
      "execution_count": 29,
      "outputs": [
        {
          "output_type": "execute_result",
          "data": {
            "text/plain": [
              "count    32266.000000\n",
              "mean        25.343736\n",
              "std         34.717992\n",
              "min          1.000000\n",
              "25%          6.000000\n",
              "50%         14.000000\n",
              "75%         32.000000\n",
              "max       1246.000000\n",
              "Name: Frequency, dtype: float64"
            ]
          },
          "metadata": {
            "tags": []
          },
          "execution_count": 29
        }
      ]
    },
    {
      "cell_type": "code",
      "metadata": {
        "colab": {
          "base_uri": "https://localhost:8080/",
          "height": 368
        },
        "id": "UVaGeiIQ_h4J",
        "outputId": "b49dd6ed-ee8c-4d9e-f5f7-4146f6a89208"
      },
      "source": [
        "#Frequency distribution plot, focus on frequency less than 1000\n",
        "import seaborn as sns\n",
        "x = RFMScoring.query('Frequency < 1000')['Frequency']\n",
        "ax = sns.distplot(x)"
      ],
      "execution_count": 30,
      "outputs": [
        {
          "output_type": "stream",
          "text": [
            "/usr/local/lib/python3.6/dist-packages/seaborn/distributions.py:2551: FutureWarning:\n",
            "\n",
            "`distplot` is a deprecated function and will be removed in a future version. Please adapt your code to use either `displot` (a figure-level function with similar flexibility) or `histplot` (an axes-level function for histograms).\n",
            "\n"
          ],
          "name": "stderr"
        },
        {
          "output_type": "display_data",
          "data": {
            "image/png": "[encoded data removed]",
            "text/plain": [
              "<Figure size 432x288 with 1 Axes>"
            ]
          },
          "metadata": {
            "tags": [],
            "needs_background": "light"
          }
        }
      ]
    },
    {
      "cell_type": "code",
      "metadata": {
        "colab": {
          "base_uri": "https://localhost:8080/"
        },
        "id": "NRdl4qivAL89",
        "outputId": "679fbdb5-14b4-4dba-d4ce-46ea2480e8f6"
      },
      "source": [
        "#Descriptive Statstics (Monetary)\n",
        "RFMScoring.Monetary.describe()"
      ],
      "execution_count": 31,
      "outputs": [
        {
          "output_type": "execute_result",
          "data": {
            "text/plain": [
              "count     32266.000000\n",
              "mean       3342.220170\n",
              "std        6215.318795\n",
              "min           8.000000\n",
              "25%         710.000000\n",
              "50%        1765.500000\n",
              "75%        4039.000000\n",
              "max      459771.000000\n",
              "Name: Monetary, dtype: float64"
            ]
          },
          "metadata": {
            "tags": []
          },
          "execution_count": 31
        }
      ]
    },
    {
      "cell_type": "code",
      "metadata": {
        "colab": {
          "base_uri": "https://localhost:8080/",
          "height": 366
        },
        "id": "-42HLa8qApLQ",
        "outputId": "f465a4ae-3037-4940-b70e-da1ec8795452"
      },
      "source": [
        "#Monetary distribution plot, focus on monetary less than 1000\n",
        "import seaborn as sns\n",
        "x = RFMScoring.query('Monetary < 1000')['Monetary']\n",
        "ax = sns.distplot(x)"
      ],
      "execution_count": 32,
      "outputs": [
        {
          "output_type": "stream",
          "text": [
            "/usr/local/lib/python3.6/dist-packages/seaborn/distributions.py:2551: FutureWarning:\n",
            "\n",
            "`distplot` is a deprecated function and will be removed in a future version. Please adapt your code to use either `displot` (a figure-level function with similar flexibility) or `histplot` (an axes-level function for histograms).\n",
            "\n"
          ],
          "name": "stderr"
        },
        {
          "output_type": "display_data",
          "data": {
            "image/png": "[encoded data removed]",
            "text/plain": [
              "<Figure size 432x288 with 1 Axes>"
            ]
          },
          "metadata": {
            "tags": [],
            "needs_background": "light"
          }
        }
      ]
    },
    {
      "cell_type": "code",
      "metadata": {
        "colab": {
          "base_uri": "https://localhost:8080/"
        },
        "id": "GXtbdKAdA8MT",
        "outputId": "54af1957-4134-4360-e5d9-10bcdb1423d5"
      },
      "source": [
        "#Split Recency, Frequency, and Monetary into four segments using quantiles\n",
        "quantiles = RFMScoring.quantile(q=[0.25,0.5,0.75])\n",
        "quantiles = quantiles.to_dict()\n",
        "quantiles "
      ],
      "execution_count": 33,
      "outputs": [
        {
          "output_type": "execute_result",
          "data": {
            "text/plain": [
              "{'Frequency': {0.25: 6.0, 0.5: 14.0, 0.75: 32.0},\n",
              " 'Monetary': {0.25: 710.0, 0.5: 1765.5, 0.75: 4039.0},\n",
              " 'Recency': {0.25: 9.0, 0.5: 26.0, 0.75: 59.0}}"
            ]
          },
          "metadata": {
            "tags": []
          },
          "execution_count": 33
        }
      ]
    },
    {
      "cell_type": "code",
      "metadata": {
        "id": "EyGP6TGvDHta"
      },
      "source": [
        "#Functions to create R, F, and M segments\n",
        "def RScoring(x,p,d):\n",
        "  if x<= d[p][0.25]:\n",
        "      return 1\n",
        "  elif x <= d[p][0.50]:\n",
        "      return 2\n",
        "  elif x <= d[p][0.75]:\n",
        "       return 3\n",
        "  else:\n",
        "        return 4\n",
        "def FnMScoring(x,p,d):\n",
        "  if x<= d[p][0.25]:\n",
        "      return 4\n",
        "  elif x <= d[p][0.50]:\n",
        "      return 3\n",
        "  elif x <= d[p][0.75]:\n",
        "      return 2\n",
        "  else:\n",
        "       return 1"
      ],
      "execution_count": 34,
      "outputs": []
    },
    {
      "cell_type": "code",
      "metadata": {
        "colab": {
          "base_uri": "https://localhost:8080/",
          "height": 227
        },
        "id": "r-inKdWqLQFc",
        "outputId": "8d102e19-e5cb-4566-b7cf-a6dcaa19c616"
      },
      "source": [
        "#Calculate Add R, F, and M segment value columns to the existing dataset to show R segment values\n",
        "RFMScoring['R'] = RFMScoring['Recency'].apply(RScoring, args=('Recency', quantiles,))\n",
        "RFMScoring['F'] = RFMScoring['Frequency'].apply(FnMScoring, args=('Frequency', quantiles,))\n",
        "RFMScoring['M'] = RFMScoring['Monetary'].apply(FnMScoring, args=('Monetary', quantiles,))\n",
        "RFMScoring.head()"
      ],
      "execution_count": 35,
      "outputs": [
        {
          "output_type": "execute_result",
          "data": {
            "text/html": [
              "<div>\n",
              "<style scoped>\n",
              "    .dataframe tbody tr th:only-of-type {\n",
              "        vertical-align: middle;\n",
              "    }\n",
              "\n",
              "    .dataframe tbody tr th {\n",
              "        vertical-align: top;\n",
              "    }\n",
              "\n",
              "    .dataframe thead th {\n",
              "        text-align: right;\n",
              "    }\n",
              "</style>\n",
              "<table border=\"1\" class=\"dataframe\">\n",
              "  <thead>\n",
              "    <tr style=\"text-align: right;\">\n",
              "      <th></th>\n",
              "      <th>Recency</th>\n",
              "      <th>Frequency</th>\n",
              "      <th>Monetary</th>\n",
              "      <th>R</th>\n",
              "      <th>F</th>\n",
              "      <th>M</th>\n",
              "    </tr>\n",
              "    <tr>\n",
              "      <th>CUSTOMER_ID</th>\n",
              "      <th></th>\n",
              "      <th></th>\n",
              "      <th></th>\n",
              "      <th></th>\n",
              "      <th></th>\n",
              "      <th></th>\n",
              "    </tr>\n",
              "  </thead>\n",
              "  <tbody>\n",
              "    <tr>\n",
              "      <th>1069</th>\n",
              "      <td>19</td>\n",
              "      <td>11</td>\n",
              "      <td>1944</td>\n",
              "      <td>2</td>\n",
              "      <td>3</td>\n",
              "      <td>2</td>\n",
              "    </tr>\n",
              "    <tr>\n",
              "      <th>1113</th>\n",
              "      <td>54</td>\n",
              "      <td>18</td>\n",
              "      <td>2230</td>\n",
              "      <td>3</td>\n",
              "      <td>2</td>\n",
              "      <td>2</td>\n",
              "    </tr>\n",
              "    <tr>\n",
              "      <th>1250</th>\n",
              "      <td>19</td>\n",
              "      <td>14</td>\n",
              "      <td>1583</td>\n",
              "      <td>2</td>\n",
              "      <td>3</td>\n",
              "      <td>3</td>\n",
              "    </tr>\n",
              "    <tr>\n",
              "      <th>1359</th>\n",
              "      <td>87</td>\n",
              "      <td>3</td>\n",
              "      <td>364</td>\n",
              "      <td>4</td>\n",
              "      <td>4</td>\n",
              "      <td>4</td>\n",
              "    </tr>\n",
              "    <tr>\n",
              "      <th>1823</th>\n",
              "      <td>36</td>\n",
              "      <td>14</td>\n",
              "      <td>2607</td>\n",
              "      <td>3</td>\n",
              "      <td>3</td>\n",
              "      <td>2</td>\n",
              "    </tr>\n",
              "  </tbody>\n",
              "</table>\n",
              "</div>"
            ],
            "text/plain": [
              "             Recency  Frequency  Monetary  R  F  M\n",
              "CUSTOMER_ID                                       \n",
              "1069              19         11      1944  2  3  2\n",
              "1113              54         18      2230  3  2  2\n",
              "1250              19         14      1583  2  3  3\n",
              "1359              87          3       364  4  4  4\n",
              "1823              36         14      2607  3  3  2"
            ]
          },
          "metadata": {
            "tags": []
          },
          "execution_count": 35
        }
      ]
    },
    {
      "cell_type": "code",
      "metadata": {
        "colab": {
          "base_uri": "https://localhost:8080/",
          "height": 227
        },
        "id": "iWS8YIJq72zV",
        "outputId": "3646e016-be4a-4afc-a349-7ccb334cf9dd"
      },
      "source": [
        "#Calculate and Add RFMCluster value column showing combined concatenated score of RFM\n",
        "RFMScoring['RFMCluster'] =  RFMScoring.R.map(str) + RFMScoring.F.map(str) + RFMScoring.M.map(str)\n",
        "\n",
        "#Calculate and Add RFMScoring value column showing total sum of RFMCluster values\n",
        "RFMScoring['RFMScore'] = RFMScoring[['R','F','M']].sum(axis=1)\n",
        "RFMScoring.head()"
      ],
      "execution_count": 36,
      "outputs": [
        {
          "output_type": "execute_result",
          "data": {
            "text/html": [
              "<div>\n",
              "<style scoped>\n",
              "    .dataframe tbody tr th:only-of-type {\n",
              "        vertical-align: middle;\n",
              "    }\n",
              "\n",
              "    .dataframe tbody tr th {\n",
              "        vertical-align: top;\n",
              "    }\n",
              "\n",
              "    .dataframe thead th {\n",
              "        text-align: right;\n",
              "    }\n",
              "</style>\n",
              "<table border=\"1\" class=\"dataframe\">\n",
              "  <thead>\n",
              "    <tr style=\"text-align: right;\">\n",
              "      <th></th>\n",
              "      <th>Recency</th>\n",
              "      <th>Frequency</th>\n",
              "      <th>Monetary</th>\n",
              "      <th>R</th>\n",
              "      <th>F</th>\n",
              "      <th>M</th>\n",
              "      <th>RFMCluster</th>\n",
              "      <th>RFMScore</th>\n",
              "    </tr>\n",
              "    <tr>\n",
              "      <th>CUSTOMER_ID</th>\n",
              "      <th></th>\n",
              "      <th></th>\n",
              "      <th></th>\n",
              "      <th></th>\n",
              "      <th></th>\n",
              "      <th></th>\n",
              "      <th></th>\n",
              "      <th></th>\n",
              "    </tr>\n",
              "  </thead>\n",
              "  <tbody>\n",
              "    <tr>\n",
              "      <th>1069</th>\n",
              "      <td>19</td>\n",
              "      <td>11</td>\n",
              "      <td>1944</td>\n",
              "      <td>2</td>\n",
              "      <td>3</td>\n",
              "      <td>2</td>\n",
              "      <td>232</td>\n",
              "      <td>7</td>\n",
              "    </tr>\n",
              "    <tr>\n",
              "      <th>1113</th>\n",
              "      <td>54</td>\n",
              "      <td>18</td>\n",
              "      <td>2230</td>\n",
              "      <td>3</td>\n",
              "      <td>2</td>\n",
              "      <td>2</td>\n",
              "      <td>322</td>\n",
              "      <td>7</td>\n",
              "    </tr>\n",
              "    <tr>\n",
              "      <th>1250</th>\n",
              "      <td>19</td>\n",
              "      <td>14</td>\n",
              "      <td>1583</td>\n",
              "      <td>2</td>\n",
              "      <td>3</td>\n",
              "      <td>3</td>\n",
              "      <td>233</td>\n",
              "      <td>8</td>\n",
              "    </tr>\n",
              "    <tr>\n",
              "      <th>1359</th>\n",
              "      <td>87</td>\n",
              "      <td>3</td>\n",
              "      <td>364</td>\n",
              "      <td>4</td>\n",
              "      <td>4</td>\n",
              "      <td>4</td>\n",
              "      <td>444</td>\n",
              "      <td>12</td>\n",
              "    </tr>\n",
              "    <tr>\n",
              "      <th>1823</th>\n",
              "      <td>36</td>\n",
              "      <td>14</td>\n",
              "      <td>2607</td>\n",
              "      <td>3</td>\n",
              "      <td>3</td>\n",
              "      <td>2</td>\n",
              "      <td>332</td>\n",
              "      <td>8</td>\n",
              "    </tr>\n",
              "  </tbody>\n",
              "</table>\n",
              "</div>"
            ],
            "text/plain": [
              "             Recency  Frequency  Monetary  R  F  M RFMCluster  RFMScore\n",
              "CUSTOMER_ID                                                            \n",
              "1069              19         11      1944  2  3  2        232         7\n",
              "1113              54         18      2230  3  2  2        322         7\n",
              "1250              19         14      1583  2  3  3        233         8\n",
              "1359              87          3       364  4  4  4        444        12\n",
              "1823              36         14      2607  3  3  2        332         8"
            ]
          },
          "metadata": {
            "tags": []
          },
          "execution_count": 36
        }
      ]
    },
    {
      "cell_type": "code",
      "metadata": {
        "colab": {
          "base_uri": "https://localhost:8080/",
          "height": 217
        },
        "id": "HYud4zzl_2N8",
        "outputId": "b027aa57-9006-49bb-f43c-5b3b90040b96"
      },
      "source": [
        "#Make loyalty level to each customer -- class label\n",
        "loyalty_level = ['Dormant', 'Everyday', 'Occasional', 'Golden', 'Superstars']\n",
        "score_cuts = pd.qcut(RFMScoring.RFMScore, q = 5, labels = loyalty_level)\n",
        "RFMScoring['RFMLoyalty_Level'] = score_cuts.values\n",
        "RFMScoring.reset_index().head()"
      ],
      "execution_count": 37,
      "outputs": [
        {
          "output_type": "execute_result",
          "data": {
            "text/html": [
              "<div>\n",
              "<style scoped>\n",
              "    .dataframe tbody tr th:only-of-type {\n",
              "        vertical-align: middle;\n",
              "    }\n",
              "\n",
              "    .dataframe tbody tr th {\n",
              "        vertical-align: top;\n",
              "    }\n",
              "\n",
              "    .dataframe thead th {\n",
              "        text-align: right;\n",
              "    }\n",
              "</style>\n",
              "<table border=\"1\" class=\"dataframe\">\n",
              "  <thead>\n",
              "    <tr style=\"text-align: right;\">\n",
              "      <th></th>\n",
              "      <th>CUSTOMER_ID</th>\n",
              "      <th>Recency</th>\n",
              "      <th>Frequency</th>\n",
              "      <th>Monetary</th>\n",
              "      <th>R</th>\n",
              "      <th>F</th>\n",
              "      <th>M</th>\n",
              "      <th>RFMCluster</th>\n",
              "      <th>RFMScore</th>\n",
              "      <th>RFMLoyalty_Level</th>\n",
              "    </tr>\n",
              "  </thead>\n",
              "  <tbody>\n",
              "    <tr>\n",
              "      <th>0</th>\n",
              "      <td>1069</td>\n",
              "      <td>19</td>\n",
              "      <td>11</td>\n",
              "      <td>1944</td>\n",
              "      <td>2</td>\n",
              "      <td>3</td>\n",
              "      <td>2</td>\n",
              "      <td>232</td>\n",
              "      <td>7</td>\n",
              "      <td>Everyday</td>\n",
              "    </tr>\n",
              "    <tr>\n",
              "      <th>1</th>\n",
              "      <td>1113</td>\n",
              "      <td>54</td>\n",
              "      <td>18</td>\n",
              "      <td>2230</td>\n",
              "      <td>3</td>\n",
              "      <td>2</td>\n",
              "      <td>2</td>\n",
              "      <td>322</td>\n",
              "      <td>7</td>\n",
              "      <td>Everyday</td>\n",
              "    </tr>\n",
              "    <tr>\n",
              "      <th>2</th>\n",
              "      <td>1250</td>\n",
              "      <td>19</td>\n",
              "      <td>14</td>\n",
              "      <td>1583</td>\n",
              "      <td>2</td>\n",
              "      <td>3</td>\n",
              "      <td>3</td>\n",
              "      <td>233</td>\n",
              "      <td>8</td>\n",
              "      <td>Occasional</td>\n",
              "    </tr>\n",
              "    <tr>\n",
              "      <th>3</th>\n",
              "      <td>1359</td>\n",
              "      <td>87</td>\n",
              "      <td>3</td>\n",
              "      <td>364</td>\n",
              "      <td>4</td>\n",
              "      <td>4</td>\n",
              "      <td>4</td>\n",
              "      <td>444</td>\n",
              "      <td>12</td>\n",
              "      <td>Superstars</td>\n",
              "    </tr>\n",
              "    <tr>\n",
              "      <th>4</th>\n",
              "      <td>1823</td>\n",
              "      <td>36</td>\n",
              "      <td>14</td>\n",
              "      <td>2607</td>\n",
              "      <td>3</td>\n",
              "      <td>3</td>\n",
              "      <td>2</td>\n",
              "      <td>332</td>\n",
              "      <td>8</td>\n",
              "      <td>Occasional</td>\n",
              "    </tr>\n",
              "  </tbody>\n",
              "</table>\n",
              "</div>"
            ],
            "text/plain": [
              "   CUSTOMER_ID  Recency  Frequency  ...  RFMCluster  RFMScore  RFMLoyalty_Level\n",
              "0         1069       19         11  ...         232         7          Everyday\n",
              "1         1113       54         18  ...         322         7          Everyday\n",
              "2         1250       19         14  ...         233         8        Occasional\n",
              "3         1359       87          3  ...         444        12        Superstars\n",
              "4         1823       36         14  ...         332         8        Occasional\n",
              "\n",
              "[5 rows x 10 columns]"
            ]
          },
          "metadata": {
            "tags": []
          },
          "execution_count": 37
        }
      ]
    },
    {
      "cell_type": "code",
      "metadata": {
        "colab": {
          "base_uri": "https://localhost:8080/",
          "height": 367
        },
        "id": "4rRu7sP7C9uJ",
        "outputId": "ed0fceb6-1741-48bd-d423-5339293d0e21"
      },
      "source": [
        "#Validate the data for RFMCluster = 322\n",
        "RFMScoring[RFMScoring['RFMCluster']=='322'].sort_values('Monetary', ascending = False).reset_index().head(10)"
      ],
      "execution_count": 38,
      "outputs": [
        {
          "output_type": "execute_result",
          "data": {
            "text/html": [
              "<div>\n",
              "<style scoped>\n",
              "    .dataframe tbody tr th:only-of-type {\n",
              "        vertical-align: middle;\n",
              "    }\n",
              "\n",
              "    .dataframe tbody tr th {\n",
              "        vertical-align: top;\n",
              "    }\n",
              "\n",
              "    .dataframe thead th {\n",
              "        text-align: right;\n",
              "    }\n",
              "</style>\n",
              "<table border=\"1\" class=\"dataframe\">\n",
              "  <thead>\n",
              "    <tr style=\"text-align: right;\">\n",
              "      <th></th>\n",
              "      <th>CUSTOMER_ID</th>\n",
              "      <th>Recency</th>\n",
              "      <th>Frequency</th>\n",
              "      <th>Monetary</th>\n",
              "      <th>R</th>\n",
              "      <th>F</th>\n",
              "      <th>M</th>\n",
              "      <th>RFMCluster</th>\n",
              "      <th>RFMScore</th>\n",
              "      <th>RFMLoyalty_Level</th>\n",
              "    </tr>\n",
              "  </thead>\n",
              "  <tbody>\n",
              "    <tr>\n",
              "      <th>0</th>\n",
              "      <td>2161754</td>\n",
              "      <td>38</td>\n",
              "      <td>29</td>\n",
              "      <td>4037</td>\n",
              "      <td>3</td>\n",
              "      <td>2</td>\n",
              "      <td>2</td>\n",
              "      <td>322</td>\n",
              "      <td>7</td>\n",
              "      <td>Everyday</td>\n",
              "    </tr>\n",
              "    <tr>\n",
              "      <th>1</th>\n",
              "      <td>1300642</td>\n",
              "      <td>52</td>\n",
              "      <td>26</td>\n",
              "      <td>4035</td>\n",
              "      <td>3</td>\n",
              "      <td>2</td>\n",
              "      <td>2</td>\n",
              "      <td>322</td>\n",
              "      <td>7</td>\n",
              "      <td>Everyday</td>\n",
              "    </tr>\n",
              "    <tr>\n",
              "      <th>2</th>\n",
              "      <td>1477900</td>\n",
              "      <td>27</td>\n",
              "      <td>16</td>\n",
              "      <td>4034</td>\n",
              "      <td>3</td>\n",
              "      <td>2</td>\n",
              "      <td>2</td>\n",
              "      <td>322</td>\n",
              "      <td>7</td>\n",
              "      <td>Everyday</td>\n",
              "    </tr>\n",
              "    <tr>\n",
              "      <th>3</th>\n",
              "      <td>2072265</td>\n",
              "      <td>30</td>\n",
              "      <td>25</td>\n",
              "      <td>4034</td>\n",
              "      <td>3</td>\n",
              "      <td>2</td>\n",
              "      <td>2</td>\n",
              "      <td>322</td>\n",
              "      <td>7</td>\n",
              "      <td>Everyday</td>\n",
              "    </tr>\n",
              "    <tr>\n",
              "      <th>4</th>\n",
              "      <td>2051994</td>\n",
              "      <td>31</td>\n",
              "      <td>20</td>\n",
              "      <td>4030</td>\n",
              "      <td>3</td>\n",
              "      <td>2</td>\n",
              "      <td>2</td>\n",
              "      <td>322</td>\n",
              "      <td>7</td>\n",
              "      <td>Everyday</td>\n",
              "    </tr>\n",
              "    <tr>\n",
              "      <th>5</th>\n",
              "      <td>1165449</td>\n",
              "      <td>33</td>\n",
              "      <td>26</td>\n",
              "      <td>4028</td>\n",
              "      <td>3</td>\n",
              "      <td>2</td>\n",
              "      <td>2</td>\n",
              "      <td>322</td>\n",
              "      <td>7</td>\n",
              "      <td>Everyday</td>\n",
              "    </tr>\n",
              "    <tr>\n",
              "      <th>6</th>\n",
              "      <td>1037784</td>\n",
              "      <td>32</td>\n",
              "      <td>28</td>\n",
              "      <td>4027</td>\n",
              "      <td>3</td>\n",
              "      <td>2</td>\n",
              "      <td>2</td>\n",
              "      <td>322</td>\n",
              "      <td>7</td>\n",
              "      <td>Everyday</td>\n",
              "    </tr>\n",
              "    <tr>\n",
              "      <th>7</th>\n",
              "      <td>521338</td>\n",
              "      <td>40</td>\n",
              "      <td>16</td>\n",
              "      <td>4026</td>\n",
              "      <td>3</td>\n",
              "      <td>2</td>\n",
              "      <td>2</td>\n",
              "      <td>322</td>\n",
              "      <td>7</td>\n",
              "      <td>Everyday</td>\n",
              "    </tr>\n",
              "    <tr>\n",
              "      <th>8</th>\n",
              "      <td>946223</td>\n",
              "      <td>40</td>\n",
              "      <td>26</td>\n",
              "      <td>4015</td>\n",
              "      <td>3</td>\n",
              "      <td>2</td>\n",
              "      <td>2</td>\n",
              "      <td>322</td>\n",
              "      <td>7</td>\n",
              "      <td>Everyday</td>\n",
              "    </tr>\n",
              "    <tr>\n",
              "      <th>9</th>\n",
              "      <td>2073095</td>\n",
              "      <td>39</td>\n",
              "      <td>31</td>\n",
              "      <td>4000</td>\n",
              "      <td>3</td>\n",
              "      <td>2</td>\n",
              "      <td>2</td>\n",
              "      <td>322</td>\n",
              "      <td>7</td>\n",
              "      <td>Everyday</td>\n",
              "    </tr>\n",
              "  </tbody>\n",
              "</table>\n",
              "</div>"
            ],
            "text/plain": [
              "   CUSTOMER_ID  Recency  Frequency  ...  RFMCluster  RFMScore  RFMLoyalty_Level\n",
              "0      2161754       38         29  ...         322         7          Everyday\n",
              "1      1300642       52         26  ...         322         7          Everyday\n",
              "2      1477900       27         16  ...         322         7          Everyday\n",
              "3      2072265       30         25  ...         322         7          Everyday\n",
              "4      2051994       31         20  ...         322         7          Everyday\n",
              "5      1165449       33         26  ...         322         7          Everyday\n",
              "6      1037784       32         28  ...         322         7          Everyday\n",
              "7       521338       40         16  ...         322         7          Everyday\n",
              "8       946223       40         26  ...         322         7          Everyday\n",
              "9      2073095       39         31  ...         322         7          Everyday\n",
              "\n",
              "[10 rows x 10 columns]"
            ]
          },
          "metadata": {
            "tags": []
          },
          "execution_count": 38
        }
      ]
    },
    {
      "cell_type": "code",
      "metadata": {
        "colab": {
          "base_uri": "https://localhost:8080/",
          "height": 367
        },
        "id": "r8X_i5lADvB0",
        "outputId": "eae1b46d-fd0f-454b-b2b5-4f003d008e4c"
      },
      "source": [
        "#Validate the data for RFMCluster = 233\n",
        "RFMScoring[RFMScoring['RFMCluster']=='233'].sort_values('Monetary', ascending = False).reset_index().head(10)"
      ],
      "execution_count": 39,
      "outputs": [
        {
          "output_type": "execute_result",
          "data": {
            "text/html": [
              "<div>\n",
              "<style scoped>\n",
              "    .dataframe tbody tr th:only-of-type {\n",
              "        vertical-align: middle;\n",
              "    }\n",
              "\n",
              "    .dataframe tbody tr th {\n",
              "        vertical-align: top;\n",
              "    }\n",
              "\n",
              "    .dataframe thead th {\n",
              "        text-align: right;\n",
              "    }\n",
              "</style>\n",
              "<table border=\"1\" class=\"dataframe\">\n",
              "  <thead>\n",
              "    <tr style=\"text-align: right;\">\n",
              "      <th></th>\n",
              "      <th>CUSTOMER_ID</th>\n",
              "      <th>Recency</th>\n",
              "      <th>Frequency</th>\n",
              "      <th>Monetary</th>\n",
              "      <th>R</th>\n",
              "      <th>F</th>\n",
              "      <th>M</th>\n",
              "      <th>RFMCluster</th>\n",
              "      <th>RFMScore</th>\n",
              "      <th>RFMLoyalty_Level</th>\n",
              "    </tr>\n",
              "  </thead>\n",
              "  <tbody>\n",
              "    <tr>\n",
              "      <th>0</th>\n",
              "      <td>1822076</td>\n",
              "      <td>19</td>\n",
              "      <td>10</td>\n",
              "      <td>1763</td>\n",
              "      <td>2</td>\n",
              "      <td>3</td>\n",
              "      <td>3</td>\n",
              "      <td>233</td>\n",
              "      <td>8</td>\n",
              "      <td>Occasional</td>\n",
              "    </tr>\n",
              "    <tr>\n",
              "      <th>1</th>\n",
              "      <td>1909555</td>\n",
              "      <td>18</td>\n",
              "      <td>11</td>\n",
              "      <td>1762</td>\n",
              "      <td>2</td>\n",
              "      <td>3</td>\n",
              "      <td>3</td>\n",
              "      <td>233</td>\n",
              "      <td>8</td>\n",
              "      <td>Occasional</td>\n",
              "    </tr>\n",
              "    <tr>\n",
              "      <th>2</th>\n",
              "      <td>1704358</td>\n",
              "      <td>25</td>\n",
              "      <td>10</td>\n",
              "      <td>1762</td>\n",
              "      <td>2</td>\n",
              "      <td>3</td>\n",
              "      <td>3</td>\n",
              "      <td>233</td>\n",
              "      <td>8</td>\n",
              "      <td>Occasional</td>\n",
              "    </tr>\n",
              "    <tr>\n",
              "      <th>3</th>\n",
              "      <td>1641608</td>\n",
              "      <td>25</td>\n",
              "      <td>8</td>\n",
              "      <td>1752</td>\n",
              "      <td>2</td>\n",
              "      <td>3</td>\n",
              "      <td>3</td>\n",
              "      <td>233</td>\n",
              "      <td>8</td>\n",
              "      <td>Occasional</td>\n",
              "    </tr>\n",
              "    <tr>\n",
              "      <th>4</th>\n",
              "      <td>895392</td>\n",
              "      <td>18</td>\n",
              "      <td>8</td>\n",
              "      <td>1751</td>\n",
              "      <td>2</td>\n",
              "      <td>3</td>\n",
              "      <td>3</td>\n",
              "      <td>233</td>\n",
              "      <td>8</td>\n",
              "      <td>Occasional</td>\n",
              "    </tr>\n",
              "    <tr>\n",
              "      <th>5</th>\n",
              "      <td>1569131</td>\n",
              "      <td>18</td>\n",
              "      <td>9</td>\n",
              "      <td>1751</td>\n",
              "      <td>2</td>\n",
              "      <td>3</td>\n",
              "      <td>3</td>\n",
              "      <td>233</td>\n",
              "      <td>8</td>\n",
              "      <td>Occasional</td>\n",
              "    </tr>\n",
              "    <tr>\n",
              "      <th>6</th>\n",
              "      <td>916707</td>\n",
              "      <td>21</td>\n",
              "      <td>14</td>\n",
              "      <td>1750</td>\n",
              "      <td>2</td>\n",
              "      <td>3</td>\n",
              "      <td>3</td>\n",
              "      <td>233</td>\n",
              "      <td>8</td>\n",
              "      <td>Occasional</td>\n",
              "    </tr>\n",
              "    <tr>\n",
              "      <th>7</th>\n",
              "      <td>1737547</td>\n",
              "      <td>13</td>\n",
              "      <td>7</td>\n",
              "      <td>1749</td>\n",
              "      <td>2</td>\n",
              "      <td>3</td>\n",
              "      <td>3</td>\n",
              "      <td>233</td>\n",
              "      <td>8</td>\n",
              "      <td>Occasional</td>\n",
              "    </tr>\n",
              "    <tr>\n",
              "      <th>8</th>\n",
              "      <td>1690736</td>\n",
              "      <td>24</td>\n",
              "      <td>11</td>\n",
              "      <td>1743</td>\n",
              "      <td>2</td>\n",
              "      <td>3</td>\n",
              "      <td>3</td>\n",
              "      <td>233</td>\n",
              "      <td>8</td>\n",
              "      <td>Occasional</td>\n",
              "    </tr>\n",
              "    <tr>\n",
              "      <th>9</th>\n",
              "      <td>2164755</td>\n",
              "      <td>16</td>\n",
              "      <td>12</td>\n",
              "      <td>1742</td>\n",
              "      <td>2</td>\n",
              "      <td>3</td>\n",
              "      <td>3</td>\n",
              "      <td>233</td>\n",
              "      <td>8</td>\n",
              "      <td>Occasional</td>\n",
              "    </tr>\n",
              "  </tbody>\n",
              "</table>\n",
              "</div>"
            ],
            "text/plain": [
              "   CUSTOMER_ID  Recency  Frequency  ...  RFMCluster  RFMScore  RFMLoyalty_Level\n",
              "0      1822076       19         10  ...         233         8        Occasional\n",
              "1      1909555       18         11  ...         233         8        Occasional\n",
              "2      1704358       25         10  ...         233         8        Occasional\n",
              "3      1641608       25          8  ...         233         8        Occasional\n",
              "4       895392       18          8  ...         233         8        Occasional\n",
              "5      1569131       18          9  ...         233         8        Occasional\n",
              "6       916707       21         14  ...         233         8        Occasional\n",
              "7      1737547       13          7  ...         233         8        Occasional\n",
              "8      1690736       24         11  ...         233         8        Occasional\n",
              "9      2164755       16         12  ...         233         8        Occasional\n",
              "\n",
              "[10 rows x 10 columns]"
            ]
          },
          "metadata": {
            "tags": []
          },
          "execution_count": 39
        }
      ]
    },
    {
      "cell_type": "markdown",
      "metadata": {
        "id": "heCNYtrPn2o9"
      },
      "source": [
        "#Preparating Data for Clustering using K-Means"
      ]
    },
    {
      "cell_type": "code",
      "metadata": {
        "id": "iuis7XwDn-bU"
      },
      "source": [
        "#Recency vs Frequency\r\n",
        "graph = RFMScoring.query(\"Monetary < 50000 and Frequency < 2000\")\r\n",
        "\r\n",
        "plot_data = [\r\n",
        "             gobj.Scatter(\r\n",
        "                 x=graph.query(\"RFMLoyalty_Level == 'Superstars'\")['Recency'],\r\n",
        "                 y=graph.query(\"RFMLoyalty_Level == 'Superstars'\")['Frequency'],\r\n",
        "                 mode = 'markers',\r\n",
        "                 name = 'Dormant',\r\n",
        "                 marker= dict(size = 9,\r\n",
        "                              line = dict(width=1),\r\n",
        "                              color ='blue',\r\n",
        "                              opacity=0.8\r\n",
        "                              )\r\n",
        "             ),\r\n",
        "           gobj.Scatter(\r\n",
        "                 x=graph.query(\"RFMLoyalty_Level == 'Golden'\")['Recency'],\r\n",
        "                 y=graph.query(\"RFMLoyalty_Level == 'Golden'\")['Frequency'],\r\n",
        "                 mode = 'markers',\r\n",
        "                 name = 'Everyday',\r\n",
        "                 marker= dict(size = 9,\r\n",
        "                              line = dict(width=1),\r\n",
        "                              color ='green',\r\n",
        "                              opacity=0.8\r\n",
        "                              )  \r\n",
        "                 ),\r\n",
        "           gobj.Scatter(\r\n",
        "                 x=graph.query(\"RFMLoyalty_Level == 'Occasional'\")['Recency'],\r\n",
        "                 y=graph.query(\"RFMLoyalty_Level == 'Occasional'\")['Frequency'],\r\n",
        "                 mode = 'markers',\r\n",
        "                 name = 'Occasional',\r\n",
        "                 marker= dict(size = 9,\r\n",
        "                              line = dict(width=1),\r\n",
        "                              color ='black',\r\n",
        "                              opacity=0.8\r\n",
        "                              ) \r\n",
        "           ),\r\n",
        "            gobj.Scatter(\r\n",
        "                 x=graph.query(\"RFMLoyalty_Level == 'Everyday'\")['Recency'],\r\n",
        "                 y=graph.query(\"RFMLoyalty_Level == 'Everyday'\")['Frequency'],\r\n",
        "                 mode = 'markers',\r\n",
        "                 name = 'Golden',\r\n",
        "                 marker= dict(size = 9,\r\n",
        "                              line = dict(width=1),\r\n",
        "                              color ='yellow',\r\n",
        "                              opacity=0.8\r\n",
        "                              ) \r\n",
        "            ),\r\n",
        "             gobj.Scatter(\r\n",
        "                 x=graph.query(\"RFMLoyalty_Level == 'Dormant'\")['Recency'],\r\n",
        "                 y=graph.query(\"RFMLoyalty_Level == 'Dormant'\")['Frequency'],\r\n",
        "                 mode = 'markers',\r\n",
        "                 name = 'Superstars',\r\n",
        "                 marker= dict(size = 9,\r\n",
        "                              line = dict(width=1),\r\n",
        "                              color ='red',\r\n",
        "                              opacity=0.8\r\n",
        "                              ) \r\n",
        "             ),\r\n",
        "             \r\n",
        "]\r\n",
        "plot_layout = gobj.Layout(\r\n",
        "    yaxis={'title': 'Frequency'},\r\n",
        "    xaxis={'title': 'Recency'},\r\n",
        "    title = 'Recency vs Frequency'\r\n",
        ")\r\n",
        "fig = gobj.Figure(data=plot_data, layout=plot_layout)\r\n",
        "po.iplot(fig)"
      ],
      "execution_count": null,
      "outputs": []
    },
    {
      "cell_type": "code",
      "metadata": {
        "id": "l3HFOihc5dKJ"
      },
      "source": [
        "#Frequency vs Monetary\r\n",
        "graph = RFMScoring.query(\"Monetary < 50000 and Frequency < 2000\")\r\n",
        "\r\n",
        "plot_data=[\r\n",
        "    gobj.Scatter(\r\n",
        "        x=graph.query(\"RFMLoyalty_Level == 'Superstars'\")['Monetary'],\r\n",
        "        y=graph.query(\"RFMLoyalty_Level == 'Superstars'\")['Frequency'],\r\n",
        "        mode = 'markers',\r\n",
        "        name = 'Dormant',\r\n",
        "        marker = dict(size=9,\r\n",
        "                      line=dict(width=1),\r\n",
        "                      color ='blue',\r\n",
        "                      opacity =0.8\r\n",
        "                      )\r\n",
        "    ),\r\n",
        "    gobj.Scatter(\r\n",
        "        x=graph.query(\"RFMLoyalty_Level == 'Golden'\")['Monetary'],\r\n",
        "        y=graph.query(\"RFMLoyalty_Level == 'Golden'\")['Frequency'],\r\n",
        "        mode='markers',\r\n",
        "        name='Everyday',\r\n",
        "        marker=dict(size=9,\r\n",
        "                    line = dict(width =1),\r\n",
        "                    color= 'green',\r\n",
        "                    opacity = 0.8\r\n",
        "                    )\r\n",
        "    ),\r\n",
        "     gobj.Scatter(\r\n",
        "        x=graph.query(\"RFMLoyalty_Level == 'Occasional'\")['Monetary'],\r\n",
        "        y=graph.query(\"RFMLoyalty_Level == 'Occasional'\")['Frequency'],\r\n",
        "        mode='markers',\r\n",
        "        name='Occasional',\r\n",
        "        marker=dict(size=9,\r\n",
        "                    line = dict(width =1),\r\n",
        "                    color ='black',\r\n",
        "                    opacity = 0.8\r\n",
        "                    )\r\n",
        "     ),\r\n",
        "      gobj.Scatter(\r\n",
        "        x=graph.query(\"RFMLoyalty_Level == 'Everyday'\")['Monetary'],\r\n",
        "        y=graph.query(\"RFMLoyalty_Level == 'Everyday'\")['Frequency'],\r\n",
        "        mode='markers',\r\n",
        "        name='Golden',\r\n",
        "        marker=dict(size=9,\r\n",
        "                    line = dict(width =1),\r\n",
        "                    color ='yellow',\r\n",
        "                    opacity = 0.8\r\n",
        "                    )\r\n",
        "      ),\r\n",
        "       gobj.Scatter(\r\n",
        "        x=graph.query(\"RFMLoyalty_Level == 'Dormant'\")['Monetary'],\r\n",
        "        y=graph.query(\"RFMLoyalty_Level == 'Dormant'\")['Frequency'],\r\n",
        "        mode='markers',\r\n",
        "        name='Superstars',\r\n",
        "        marker=dict(size=9,\r\n",
        "                    line = dict(width =1),\r\n",
        "                    color ='red',\r\n",
        "                    opacity = 0.8                    )\r\n",
        "       ),\r\n",
        "]\r\n",
        "plot_layout = gobj.Layout(\r\n",
        "    yaxis={'title': \"Frequency\"},\r\n",
        "    xaxis={'title': \"Monetary\"},\r\n",
        "    title = 'Frequency vs Monetary'\r\n",
        ")\r\n",
        "fig = gobj.Figure(data=plot_data, layout =plot_layout)\r\n",
        "po.iplot(fig)"
      ],
      "execution_count": null,
      "outputs": []
    },
    {
      "cell_type": "code",
      "metadata": {
        "id": "3CXpFXU2nrhC"
      },
      "source": [
        "#Recency vs Monetary\r\n",
        "graph = RFMScoring.query(\"Monetary < 50000 and Frequency < 2000\")\r\n",
        "\r\n",
        "plot_data=[\r\n",
        "    gobj.Scatter(\r\n",
        "        x=graph.query(\"RFMLoyalty_Level == 'Superstars'\")['Recency'],\r\n",
        "        y=graph.query(\"RFMLoyalty_Level == 'Superstars'\")['Monetary'],\r\n",
        "        mode = 'markers',\r\n",
        "        name = 'Dormant',\r\n",
        "        marker = dict(size=9,\r\n",
        "                      line=dict(width=1),\r\n",
        "                      color ='blue',\r\n",
        "                      opacity =0.8\r\n",
        "                      )\r\n",
        "    ),\r\n",
        "    gobj.Scatter(\r\n",
        "        x=graph.query(\"RFMLoyalty_Level == 'Golden'\")['Recency'],\r\n",
        "        y=graph.query(\"RFMLoyalty_Level == 'Golden'\")['Monetary'],\r\n",
        "        mode='markers',\r\n",
        "        name='Everyday',\r\n",
        "        marker=dict(size=9,\r\n",
        "                    line = dict(width =1),\r\n",
        "                    color= 'green',\r\n",
        "                    opacity = 0.8\r\n",
        "                    )\r\n",
        "    ),\r\n",
        "     gobj.Scatter(\r\n",
        "        x=graph.query(\"RFMLoyalty_Level == 'Occasional'\")['Recency'],\r\n",
        "        y=graph.query(\"RFMLoyalty_Level == 'Occasional'\")['Monetary'],\r\n",
        "        mode='markers',\r\n",
        "        name='Occasional',\r\n",
        "        marker=dict(size=9,\r\n",
        "                    line = dict(width =1),\r\n",
        "                    color ='black',\r\n",
        "                    opacity = 0.8\r\n",
        "                    )\r\n",
        "     ),\r\n",
        "      gobj.Scatter(\r\n",
        "        x=graph.query(\"RFMLoyalty_Level == 'Everyday'\")['Recency'],\r\n",
        "        y=graph.query(\"RFMLoyalty_Level == 'Everyday'\")['Monetary'],\r\n",
        "        mode='markers',\r\n",
        "        name='Golden',\r\n",
        "        marker=dict(size=9,\r\n",
        "                    line = dict(width =1),\r\n",
        "                    color ='yellow',\r\n",
        "                    opacity = 0.8\r\n",
        "                    )\r\n",
        "      ),\r\n",
        "       gobj.Scatter(\r\n",
        "        x=graph.query(\"RFMLoyalty_Level == 'Dormant'\")['Recency'],\r\n",
        "        y=graph.query(\"RFMLoyalty_Level == 'Dormant'\")['Monetary'],\r\n",
        "        mode='markers',\r\n",
        "        name='Superstars',\r\n",
        "        marker=dict(size=9,\r\n",
        "                    line = dict(width =1),\r\n",
        "                    color ='red',\r\n",
        "                    opacity = 0.8                    )\r\n",
        "       ),\r\n",
        "]\r\n",
        "plot_layout = gobj.Layout(\r\n",
        "    yaxis={'title': \"Monetary\"},\r\n",
        "    xaxis={'title': \"Recency\"},\r\n",
        "    title = 'Recency vs Monetery'\r\n",
        ")\r\n",
        "fig = gobj.Figure(data=plot_data, layout =plot_layout)\r\n",
        "po.iplot(fig)"
      ],
      "execution_count": null,
      "outputs": []
    },
    {
      "cell_type": "markdown",
      "metadata": {
        "id": "ydNQcwbsgFz4"
      },
      "source": [
        "#Clustering using K-Means"
      ]
    },
    {
      "cell_type": "code",
      "metadata": {
        "id": "iVXuRc6l855L"
      },
      "source": [
        "#Control negative and zero values \r\n",
        "#Handle infinite numbers during log transformation\r\n",
        "def control_neg_zero(num):\r\n",
        "  if num <= 0:\r\n",
        "    return 1\r\n",
        "  else:\r\n",
        "      return num\r\n",
        "#Make control_neg_zero function to Recency and Monetary columns\r\n",
        "RFMScoring['Recency'] = [control_neg_zero(x) for x in RFMScoring.Recency]\r\n",
        "RFMScoring['Monetary'] = [control_neg_zero(x) for x in RFMScoring.Monetary]\r\n",
        "\r\n",
        "#Build log transformation to make data into normal or / and near normal dist\r\n",
        "Log_Td_Data = RFMScoring[['Recency', 'Frequency','Monetary']].apply(np.log, axis = 1).round(3)\r\n"
      ],
      "execution_count": 43,
      "outputs": []
    },
    {
      "cell_type": "code",
      "metadata": {
        "colab": {
          "base_uri": "https://localhost:8080/",
          "height": 366
        },
        "id": "Wb_-dNty-5Dt",
        "outputId": "e319abd1-d32e-4542-df7a-5db8ca5e1960"
      },
      "source": [
        "#Data dist after data normalization for Recency\r\n",
        "Plot_Recency = Log_Td_Data['Recency']\r\n",
        "ax = sns.distplot(Plot_Recency)"
      ],
      "execution_count": 44,
      "outputs": [
        {
          "output_type": "stream",
          "text": [
            "/usr/local/lib/python3.6/dist-packages/seaborn/distributions.py:2551: FutureWarning:\n",
            "\n",
            "`distplot` is a deprecated function and will be removed in a future version. Please adapt your code to use either `displot` (a figure-level function with similar flexibility) or `histplot` (an axes-level function for histograms).\n",
            "\n"
          ],
          "name": "stderr"
        },
        {
          "output_type": "display_data",
          "data": {
            "image/png": "[encoded data removed]",
            "text/plain": [
              "<Figure size 432x288 with 1 Axes>"
            ]
          },
          "metadata": {
            "tags": [],
            "needs_background": "light"
          }
        }
      ]
    },
    {
      "cell_type": "code",
      "metadata": {
        "colab": {
          "base_uri": "https://localhost:8080/",
          "height": 366
        },
        "id": "TUV3zAeXA6-1",
        "outputId": "98d05cf6-666e-47d0-93f6-0238b0d3a4fb"
      },
      "source": [
        "#Data dist after data normalization for frequency\r\n",
        "Plot_Frequency = Log_Td_Data.query('Frequency < 1000')['Frequency']\r\n",
        "ax = sns.distplot(Plot_Frequency)"
      ],
      "execution_count": 45,
      "outputs": [
        {
          "output_type": "stream",
          "text": [
            "/usr/local/lib/python3.6/dist-packages/seaborn/distributions.py:2551: FutureWarning:\n",
            "\n",
            "`distplot` is a deprecated function and will be removed in a future version. Please adapt your code to use either `displot` (a figure-level function with similar flexibility) or `histplot` (an axes-level function for histograms).\n",
            "\n"
          ],
          "name": "stderr"
        },
        {
          "output_type": "display_data",
          "data": {
            "image/png": "[encoded data removed]",
            "text/plain": [
              "<Figure size 432x288 with 1 Axes>"
            ]
          },
          "metadata": {
            "tags": [],
            "needs_background": "light"
          }
        }
      ]
    },
    {
      "cell_type": "code",
      "metadata": {
        "colab": {
          "base_uri": "https://localhost:8080/",
          "height": 366
        },
        "id": "ANsRTrYlBdMY",
        "outputId": "398eb1d0-9b66-4304-9188-91884e58c91b"
      },
      "source": [
        "#Data dist after data normalization for monetary\r\n",
        "Plot_Monetary = Log_Td_Data.query('Monetary < 10000')['Monetary']\r\n",
        "ax = sns.distplot(Plot_Monetary)"
      ],
      "execution_count": 46,
      "outputs": [
        {
          "output_type": "stream",
          "text": [
            "/usr/local/lib/python3.6/dist-packages/seaborn/distributions.py:2551: FutureWarning:\n",
            "\n",
            "`distplot` is a deprecated function and will be removed in a future version. Please adapt your code to use either `displot` (a figure-level function with similar flexibility) or `histplot` (an axes-level function for histograms).\n",
            "\n"
          ],
          "name": "stderr"
        },
        {
          "output_type": "display_data",
          "data": {
            "image/png": "[encoded data removed]",
            "text/plain": [
              "<Figure size 432x288 with 1 Axes>"
            ]
          },
          "metadata": {
            "tags": [],
            "needs_background": "light"
          }
        }
      ]
    },
    {
      "cell_type": "code",
      "metadata": {
        "id": "1wnkpfuIHzB4"
      },
      "source": [
        "from sklearn.preprocessing import StandardScaler\r\n",
        "\r\n",
        "#build some score for data\r\n",
        "scaleobj = StandardScaler()\r\n",
        "Scaled_Data = scaleobj.fit_transform(Log_Td_Data)\r\n",
        "\r\n",
        "#Transform the data to back to dataframe\r\n",
        "Scaled_Data = pd.DataFrame(Scaled_Data, index = RFMScoring.index, columns = Log_Td_Data.columns)"
      ],
      "execution_count": 47,
      "outputs": []
    },
    {
      "cell_type": "code",
      "metadata": {
        "colab": {
          "base_uri": "https://localhost:8080/",
          "height": 295
        },
        "id": "yk5Fhh_Oihzy",
        "outputId": "84379eea-caa0-4b88-baa6-5cde9fc23885"
      },
      "source": [
        "from sklearn.cluster import KMeans\r\n",
        "sum_of_sq_dist = {}\r\n",
        "for k in range(1,11):\r\n",
        "  km = KMeans(n_clusters=k, init= 'k-means++', max_iter=1000)\r\n",
        "  km = km.fit(Scaled_Data)\r\n",
        "  sum_of_sq_dist[k] = km.inertia_\r\n",
        "\r\n",
        "#plot the graph for the sum of square distance values and Number of Clusters\r\n",
        "sns.pointplot(x=list(sum_of_sq_dist.keys()), y = list(sum_of_sq_dist.values()))\r\n",
        "plt.xlabel('Number of Cluster (k)')\r\n",
        "plt.ylabel('Total within Sum of Square')\r\n",
        "plt.title('Optimal k using Elbow Method')\r\n",
        "plt.show()"
      ],
      "execution_count": 48,
      "outputs": [
        {
          "output_type": "display_data",
          "data": {
            "image/png": "[encoded data removed]",
            "text/plain": [
              "<Figure size 432x288 with 1 Axes>"
            ]
          },
          "metadata": {
            "tags": [],
            "needs_background": "light"
          }
        }
      ]
    },
    {
      "cell_type": "markdown",
      "metadata": {
        "id": "0LygXyxgCjrZ"
      },
      "source": [
        "#K-Means Model"
      ]
    },
    {
      "cell_type": "code",
      "metadata": {
        "id": "s1gEG48XWnPg",
        "colab": {
          "base_uri": "https://localhost:8080/",
          "height": 247
        },
        "outputId": "f059f912-8cd9-4333-f486-5ecb554273ac"
      },
      "source": [
        "#Build K-Means Clustering Model\r\n",
        "KMeans_clust = KMeans(n_clusters=3, init='k-means++', max_iter=1000)\r\n",
        "KMeans_clust.fit(Scaled_Data)\r\n",
        "\r\n",
        "#Decide the clusters for dataset\r\n",
        "RFMScoring['Cluster'] = KMeans_clust.labels_\r\n",
        "RFMScoring.head()"
      ],
      "execution_count": 122,
      "outputs": [
        {
          "output_type": "execute_result",
          "data": {
            "text/html": [
              "<div>\n",
              "<style scoped>\n",
              "    .dataframe tbody tr th:only-of-type {\n",
              "        vertical-align: middle;\n",
              "    }\n",
              "\n",
              "    .dataframe tbody tr th {\n",
              "        vertical-align: top;\n",
              "    }\n",
              "\n",
              "    .dataframe thead th {\n",
              "        text-align: right;\n",
              "    }\n",
              "</style>\n",
              "<table border=\"1\" class=\"dataframe\">\n",
              "  <thead>\n",
              "    <tr style=\"text-align: right;\">\n",
              "      <th></th>\n",
              "      <th>Recency</th>\n",
              "      <th>Frequency</th>\n",
              "      <th>Monetary</th>\n",
              "      <th>R</th>\n",
              "      <th>F</th>\n",
              "      <th>M</th>\n",
              "      <th>RFMCluster</th>\n",
              "      <th>RFMScore</th>\n",
              "      <th>RFMLoyalty_Level</th>\n",
              "      <th>Cluster</th>\n",
              "      <th>Color</th>\n",
              "    </tr>\n",
              "    <tr>\n",
              "      <th>CUSTOMER_ID</th>\n",
              "      <th></th>\n",
              "      <th></th>\n",
              "      <th></th>\n",
              "      <th></th>\n",
              "      <th></th>\n",
              "      <th></th>\n",
              "      <th></th>\n",
              "      <th></th>\n",
              "      <th></th>\n",
              "      <th></th>\n",
              "      <th></th>\n",
              "    </tr>\n",
              "  </thead>\n",
              "  <tbody>\n",
              "    <tr>\n",
              "      <th>1069</th>\n",
              "      <td>19</td>\n",
              "      <td>11</td>\n",
              "      <td>1944</td>\n",
              "      <td>2</td>\n",
              "      <td>3</td>\n",
              "      <td>2</td>\n",
              "      <td>232</td>\n",
              "      <td>7</td>\n",
              "      <td>Everyday</td>\n",
              "      <td>0</td>\n",
              "      <td>yellow</td>\n",
              "    </tr>\n",
              "    <tr>\n",
              "      <th>1113</th>\n",
              "      <td>54</td>\n",
              "      <td>18</td>\n",
              "      <td>2230</td>\n",
              "      <td>3</td>\n",
              "      <td>2</td>\n",
              "      <td>2</td>\n",
              "      <td>322</td>\n",
              "      <td>7</td>\n",
              "      <td>Everyday</td>\n",
              "      <td>0</td>\n",
              "      <td>yellow</td>\n",
              "    </tr>\n",
              "    <tr>\n",
              "      <th>1250</th>\n",
              "      <td>19</td>\n",
              "      <td>14</td>\n",
              "      <td>1583</td>\n",
              "      <td>2</td>\n",
              "      <td>3</td>\n",
              "      <td>3</td>\n",
              "      <td>233</td>\n",
              "      <td>8</td>\n",
              "      <td>Occasional</td>\n",
              "      <td>0</td>\n",
              "      <td>yellow</td>\n",
              "    </tr>\n",
              "    <tr>\n",
              "      <th>1359</th>\n",
              "      <td>87</td>\n",
              "      <td>3</td>\n",
              "      <td>364</td>\n",
              "      <td>4</td>\n",
              "      <td>4</td>\n",
              "      <td>4</td>\n",
              "      <td>444</td>\n",
              "      <td>12</td>\n",
              "      <td>Superstars</td>\n",
              "      <td>1</td>\n",
              "      <td>black</td>\n",
              "    </tr>\n",
              "    <tr>\n",
              "      <th>1823</th>\n",
              "      <td>36</td>\n",
              "      <td>14</td>\n",
              "      <td>2607</td>\n",
              "      <td>3</td>\n",
              "      <td>3</td>\n",
              "      <td>2</td>\n",
              "      <td>332</td>\n",
              "      <td>8</td>\n",
              "      <td>Occasional</td>\n",
              "      <td>0</td>\n",
              "      <td>yellow</td>\n",
              "    </tr>\n",
              "  </tbody>\n",
              "</table>\n",
              "</div>"
            ],
            "text/plain": [
              "             Recency  Frequency  Monetary  ...  RFMLoyalty_Level  Cluster   Color\n",
              "CUSTOMER_ID                                ...                                   \n",
              "1069              19         11      1944  ...          Everyday        0  yellow\n",
              "1113              54         18      2230  ...          Everyday        0  yellow\n",
              "1250              19         14      1583  ...        Occasional        0  yellow\n",
              "1359              87          3       364  ...        Superstars        1   black\n",
              "1823              36         14      2607  ...        Occasional        0  yellow\n",
              "\n",
              "[5 rows x 11 columns]"
            ]
          },
          "metadata": {
            "tags": []
          },
          "execution_count": 122
        }
      ]
    },
    {
      "cell_type": "code",
      "metadata": {
        "id": "JD3W41BR_uu_"
      },
      "source": [
        "KMeans_clust = KMeans(n_jobs = -1, n_clusters = 3, init='random')\r\n",
        "KMeans_clust.fit(Scaled_Data)\r\n",
        "pred = KMeans_clust.predict(Scaled_Data)"
      ],
      "execution_count": 51,
      "outputs": []
    },
    {
      "cell_type": "code",
      "metadata": {
        "colab": {
          "base_uri": "https://localhost:8080/"
        },
        "id": "kQ-ceZv2_hEM",
        "outputId": "9c94e29b-bb2d-4768-c796-e31f5d567fa0"
      },
      "source": [
        "Tafeng_data = pd.DataFrame(Scaled_Data)\r\n",
        "Tafeng_data['Cluster'] = pred\r\n",
        "Tafeng_data['Cluster'].value_counts()"
      ],
      "execution_count": 123,
      "outputs": [
        {
          "output_type": "execute_result",
          "data": {
            "text/plain": [
              "2    22037\n",
              "0     5393\n",
              "1     4836\n",
              "Name: Cluster, dtype: int64"
            ]
          },
          "metadata": {
            "tags": []
          },
          "execution_count": 123
        }
      ]
    },
    {
      "cell_type": "code",
      "metadata": {
        "colab": {
          "base_uri": "https://localhost:8080/",
          "height": 513
        },
        "id": "xHkzVH0CEUdg",
        "outputId": "e61bd3c9-ec2e-4f1c-ec6d-d3f77dbb678c"
      },
      "source": [
        "from matplotlib import pyplot as plt\r\n",
        "plt.figure(figsize=(7,7))\r\n",
        "\r\n",
        "#Scatter Plot for Frequency vs Recency\r\n",
        "Colors = [\"blue\",\"green\",\"red\"]\r\n",
        "RFMScoring['Color'] = RFMScoring['Cluster'].map(lambda p: Colors[p])\r\n",
        "ax=RFMScoring.plot(\r\n",
        "    kind=\"scatter\",\r\n",
        "    x=\"Recency\", y=\"Frequency\",\r\n",
        "    figsize=(10,8),\r\n",
        "    c = RFMScoring['Color']\r\n",
        "\r\n",
        ")"
      ],
      "execution_count": 124,
      "outputs": [
        {
          "output_type": "display_data",
          "data": {
            "text/plain": [
              "<Figure size 504x504 with 0 Axes>"
            ]
          },
          "metadata": {
            "tags": []
          }
        },
        {
          "output_type": "display_data",
          "data": {
            "image/png": "[encoded data removed]",
            "text/plain": [
              "<Figure size 720x576 with 1 Axes>"
            ]
          },
          "metadata": {
            "tags": [],
            "needs_background": "light"
          }
        }
      ]
    },
    {
      "cell_type": "code",
      "metadata": {
        "colab": {
          "base_uri": "https://localhost:8080/",
          "height": 513
        },
        "id": "Nc5H5OKh3E7t",
        "outputId": "3124f734-a223-4446-a604-ba6b30577dcf"
      },
      "source": [
        "from matplotlib import pyplot as plt\r\n",
        "plt.figure(figsize=(7,7))\r\n",
        "\r\n",
        "#Scatter Plot for Frequency vs Monetary\r\n",
        "Colors = [\"blue\",\"green\", \"red\"]\r\n",
        "RFMScoring['Color'] = RFMScoring['Cluster'].map(lambda p: Colors[p])\r\n",
        "ax=RFMScoring.plot(\r\n",
        "    kind=\"scatter\",\r\n",
        "    x=\"Monetary\", y=\"Frequency\",\r\n",
        "    figsize=(10,8),\r\n",
        "    c = RFMScoring['Color']\r\n",
        "\r\n",
        ")"
      ],
      "execution_count": 125,
      "outputs": [
        {
          "output_type": "display_data",
          "data": {
            "text/plain": [
              "<Figure size 504x504 with 0 Axes>"
            ]
          },
          "metadata": {
            "tags": []
          }
        },
        {
          "output_type": "display_data",
          "data": {
            "image/png": "[encoded data removed]",
            "text/plain": [
              "<Figure size 720x576 with 1 Axes>"
            ]
          },
          "metadata": {
            "tags": [],
            "needs_background": "light"
          }
        }
      ]
    },
    {
      "cell_type": "code",
      "metadata": {
        "colab": {
          "base_uri": "https://localhost:8080/",
          "height": 513
        },
        "id": "Ziw1EFlR4ASX",
        "outputId": "ff5f8b7f-05a0-4a4b-aa1f-e596c7b84ded"
      },
      "source": [
        "from matplotlib import pyplot as plt\r\n",
        "plt.figure(figsize=(7,7))\r\n",
        "\r\n",
        "#Scatter Plot for Recency vs Monetary\r\n",
        "Colors = [\"blue\",\"green\", \"red\"]\r\n",
        "RFMScoring['Color'] = RFMScoring['Cluster'].map(lambda p: Colors[p])\r\n",
        "ax=RFMScoring.plot(\r\n",
        "    kind=\"scatter\",\r\n",
        "    x=\"Recency\", y=\"Monetary\",\r\n",
        "    figsize=(10,8),\r\n",
        "    c = RFMScoring['Color']\r\n",
        "\r\n",
        ")"
      ],
      "execution_count": 126,
      "outputs": [
        {
          "output_type": "display_data",
          "data": {
            "text/plain": [
              "<Figure size 504x504 with 0 Axes>"
            ]
          },
          "metadata": {
            "tags": []
          }
        },
        {
          "output_type": "display_data",
          "data": {
            "image/png": "[encoded data removed]",
            "text/plain": [
              "<Figure size 720x576 with 1 Axes>"
            ]
          },
          "metadata": {
            "tags": [],
            "needs_background": "light"
          }
        }
      ]
    },
    {
      "cell_type": "code",
      "metadata": {
        "colab": {
          "base_uri": "https://localhost:8080/",
          "height": 247
        },
        "id": "Tkh0-gQ_FcnR",
        "outputId": "c47bb11c-1284-42b2-c379-e8c2c3418116"
      },
      "source": [
        "RFMScoring.head()"
      ],
      "execution_count": 127,
      "outputs": [
        {
          "output_type": "execute_result",
          "data": {
            "text/html": [
              "<div>\n",
              "<style scoped>\n",
              "    .dataframe tbody tr th:only-of-type {\n",
              "        vertical-align: middle;\n",
              "    }\n",
              "\n",
              "    .dataframe tbody tr th {\n",
              "        vertical-align: top;\n",
              "    }\n",
              "\n",
              "    .dataframe thead th {\n",
              "        text-align: right;\n",
              "    }\n",
              "</style>\n",
              "<table border=\"1\" class=\"dataframe\">\n",
              "  <thead>\n",
              "    <tr style=\"text-align: right;\">\n",
              "      <th></th>\n",
              "      <th>Recency</th>\n",
              "      <th>Frequency</th>\n",
              "      <th>Monetary</th>\n",
              "      <th>R</th>\n",
              "      <th>F</th>\n",
              "      <th>M</th>\n",
              "      <th>RFMCluster</th>\n",
              "      <th>RFMScore</th>\n",
              "      <th>RFMLoyalty_Level</th>\n",
              "      <th>Cluster</th>\n",
              "      <th>Color</th>\n",
              "    </tr>\n",
              "    <tr>\n",
              "      <th>CUSTOMER_ID</th>\n",
              "      <th></th>\n",
              "      <th></th>\n",
              "      <th></th>\n",
              "      <th></th>\n",
              "      <th></th>\n",
              "      <th></th>\n",
              "      <th></th>\n",
              "      <th></th>\n",
              "      <th></th>\n",
              "      <th></th>\n",
              "      <th></th>\n",
              "    </tr>\n",
              "  </thead>\n",
              "  <tbody>\n",
              "    <tr>\n",
              "      <th>1069</th>\n",
              "      <td>19</td>\n",
              "      <td>11</td>\n",
              "      <td>1944</td>\n",
              "      <td>2</td>\n",
              "      <td>3</td>\n",
              "      <td>2</td>\n",
              "      <td>232</td>\n",
              "      <td>7</td>\n",
              "      <td>Everyday</td>\n",
              "      <td>0</td>\n",
              "      <td>blue</td>\n",
              "    </tr>\n",
              "    <tr>\n",
              "      <th>1113</th>\n",
              "      <td>54</td>\n",
              "      <td>18</td>\n",
              "      <td>2230</td>\n",
              "      <td>3</td>\n",
              "      <td>2</td>\n",
              "      <td>2</td>\n",
              "      <td>322</td>\n",
              "      <td>7</td>\n",
              "      <td>Everyday</td>\n",
              "      <td>0</td>\n",
              "      <td>blue</td>\n",
              "    </tr>\n",
              "    <tr>\n",
              "      <th>1250</th>\n",
              "      <td>19</td>\n",
              "      <td>14</td>\n",
              "      <td>1583</td>\n",
              "      <td>2</td>\n",
              "      <td>3</td>\n",
              "      <td>3</td>\n",
              "      <td>233</td>\n",
              "      <td>8</td>\n",
              "      <td>Occasional</td>\n",
              "      <td>0</td>\n",
              "      <td>blue</td>\n",
              "    </tr>\n",
              "    <tr>\n",
              "      <th>1359</th>\n",
              "      <td>87</td>\n",
              "      <td>3</td>\n",
              "      <td>364</td>\n",
              "      <td>4</td>\n",
              "      <td>4</td>\n",
              "      <td>4</td>\n",
              "      <td>444</td>\n",
              "      <td>12</td>\n",
              "      <td>Superstars</td>\n",
              "      <td>1</td>\n",
              "      <td>green</td>\n",
              "    </tr>\n",
              "    <tr>\n",
              "      <th>1823</th>\n",
              "      <td>36</td>\n",
              "      <td>14</td>\n",
              "      <td>2607</td>\n",
              "      <td>3</td>\n",
              "      <td>3</td>\n",
              "      <td>2</td>\n",
              "      <td>332</td>\n",
              "      <td>8</td>\n",
              "      <td>Occasional</td>\n",
              "      <td>0</td>\n",
              "      <td>blue</td>\n",
              "    </tr>\n",
              "  </tbody>\n",
              "</table>\n",
              "</div>"
            ],
            "text/plain": [
              "             Recency  Frequency  Monetary  ...  RFMLoyalty_Level  Cluster  Color\n",
              "CUSTOMER_ID                                ...                                  \n",
              "1069              19         11      1944  ...          Everyday        0   blue\n",
              "1113              54         18      2230  ...          Everyday        0   blue\n",
              "1250              19         14      1583  ...        Occasional        0   blue\n",
              "1359              87          3       364  ...        Superstars        1  green\n",
              "1823              36         14      2607  ...        Occasional        0   blue\n",
              "\n",
              "[5 rows x 11 columns]"
            ]
          },
          "metadata": {
            "tags": []
          },
          "execution_count": 127
        }
      ]
    },
    {
      "cell_type": "markdown",
      "metadata": {
        "id": "0Krk8Uo8xpSn"
      },
      "source": [
        "#Evaluation"
      ]
    },
    {
      "cell_type": "code",
      "metadata": {
        "id": "1svTpF4uFlFq"
      },
      "source": [
        "from sklearn.cluster import KMeans\r\n",
        "from sklearn.metrics import silhouette_score\r\n",
        "%matplotlib inline"
      ],
      "execution_count": 128,
      "outputs": []
    },
    {
      "cell_type": "code",
      "metadata": {
        "id": "4uHc0kjG1Ns0"
      },
      "source": [
        "#Generating 100 random data points\r\n",
        "x = np.random.rand(50,2)\r\n",
        "y = 2 + np.random.rand(50,2)\r\n",
        "z = np.concatenate ((x,y))\r\n",
        "z = pd.DataFrame(z)"
      ],
      "execution_count": 129,
      "outputs": []
    },
    {
      "cell_type": "code",
      "metadata": {
        "id": "sjf-t1081wPC",
        "outputId": "df9b0eb6-81f9-4795-e84f-e3588ed342dd",
        "colab": {
          "base_uri": "https://localhost:8080/",
          "height": 382
        }
      },
      "source": [
        "#plotting the data\r\n",
        "sns.scatterplot (z[0], z[1])"
      ],
      "execution_count": 130,
      "outputs": [
        {
          "output_type": "stream",
          "text": [
            "/usr/local/lib/python3.6/dist-packages/seaborn/_decorators.py:43: FutureWarning:\n",
            "\n",
            "Pass the following variables as keyword args: x, y. From version 0.12, the only valid positional argument will be `data`, and passing other arguments without an explicit keyword will result in an error or misinterpretation.\n",
            "\n"
          ],
          "name": "stderr"
        },
        {
          "output_type": "execute_result",
          "data": {
            "text/plain": [
              "<matplotlib.axes._subplots.AxesSubplot at 0x7f1ccb326c18>"
            ]
          },
          "metadata": {
            "tags": []
          },
          "execution_count": 130
        },
        {
          "output_type": "display_data",
          "data": {
            "image/png": "[encoded data removed]",
            "text/plain": [
              "<Figure size 432x288 with 1 Axes>"
            ]
          },
          "metadata": {
            "tags": [],
            "needs_background": "light"
          }
        }
      ]
    },
    {
      "cell_type": "code",
      "metadata": {
        "colab": {
          "base_uri": "https://localhost:8080/"
        },
        "id": "Lt2gDxN3yI_-",
        "outputId": "8cb14091-ee1f-44af-eb45-424c623fbfdf"
      },
      "source": [
        "#Calculating the silhouette score\r\n",
        "#k=3\r\n",
        "km3 = KMeans(n_clusters=3, init='k-means++', max_iter=1000)\r\n",
        "y_means = km3.fit_predict(z)\r\n",
        "silhouette_scores = silhouette_score(z, y_means)\r\n",
        "print(f'Silhouette Score (n=2) : {silhouette_score(z, label)}')"
      ],
      "execution_count": 132,
      "outputs": [
        {
          "output_type": "stream",
          "text": [
            "Silhouette Score (n=2) : 0.6048656813754806\n"
          ],
          "name": "stdout"
        }
      ]
    },
    {
      "cell_type": "code",
      "metadata": {
        "colab": {
          "base_uri": "https://localhost:8080/",
          "height": 382
        },
        "id": "tabGq1I6zTWN",
        "outputId": "50fd8bfb-6989-4b82-a435-dcd943e48a99"
      },
      "source": [
        "#scatterplot showing labelling data points\r\n",
        "sns.scatterplot(z[0], z[1], hue = label)"
      ],
      "execution_count": 133,
      "outputs": [
        {
          "output_type": "stream",
          "text": [
            "/usr/local/lib/python3.6/dist-packages/seaborn/_decorators.py:43: FutureWarning:\n",
            "\n",
            "Pass the following variables as keyword args: x, y. From version 0.12, the only valid positional argument will be `data`, and passing other arguments without an explicit keyword will result in an error or misinterpretation.\n",
            "\n"
          ],
          "name": "stderr"
        },
        {
          "output_type": "execute_result",
          "data": {
            "text/plain": [
              "<matplotlib.axes._subplots.AxesSubplot at 0x7f1ce0f8ab38>"
            ]
          },
          "metadata": {
            "tags": []
          },
          "execution_count": 133
        },
        {
          "output_type": "display_data",
          "data": {
            "image/png": "[encoded data removed]",
            "text/plain": [
              "<Figure size 432x288 with 1 Axes>"
            ]
          },
          "metadata": {
            "tags": [],
            "needs_background": "light"
          }
        }
      ]
    },
    {
      "cell_type": "code",
      "metadata": {
        "id": "W9ZiCZGsBh86"
      },
      "source": [
        ""
      ],
      "execution_count": null,
      "outputs": []
    }
  ]
}