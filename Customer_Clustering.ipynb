{
  "nbformat": 4,
  "nbformat_minor": 0,
  "metadata": {
    "colab": {
      "name": "Customer_Clustering (3).ipynb",
      "provenance": [],
      "collapsed_sections": [],
      "toc_visible": true
    },
    "kernelspec": {
      "name": "python3",
      "display_name": "Python 3"
    }
  },
  "cells": [
    {
      "cell_type": "code",
      "metadata": {
        "id": "QZkYInxdFFqu"
      },
      "source": [
        "#import library\n",
        "%matplotlib inline\n",
        "import numpy as np\n",
        "import pandas as pd\n",
        "import matplotlib.pyplot as plt\n",
        "import chart_studio as cs \n",
        "import plotly.offline as po\n",
        "import plotly.graph_objs as gobj"
      ],
      "execution_count": 1,
      "outputs": []
    },
    {
      "cell_type": "code",
      "metadata": {
        "colab": {
          "base_uri": "https://localhost:8080/",
          "height": 197
        },
        "id": "GU_7RpiQF_BS",
        "outputId": "a5f515fa-b797-4b86-8481-ebdb13ad57fa"
      },
      "source": [
        "#import Ta-Feng Grocery with containing data from 01/11/2000 until 28/02/2001\n",
        "Tafeng_data = pd.read_csv(\"/content/drive/MyDrive/PROYEK/Proyek DAMI/ta_feng_all_months_merged.csv\")\n",
        "Tafeng_data.head() "
      ],
      "execution_count": 3,
      "outputs": [
        {
          "output_type": "execute_result",
          "data": {
            "text/html": [
              "<div>\n",
              "<style scoped>\n",
              "    .dataframe tbody tr th:only-of-type {\n",
              "        vertical-align: middle;\n",
              "    }\n",
              "\n",
              "    .dataframe tbody tr th {\n",
              "        vertical-align: top;\n",
              "    }\n",
              "\n",
              "    .dataframe thead th {\n",
              "        text-align: right;\n",
              "    }\n",
              "</style>\n",
              "<table border=\"1\" class=\"dataframe\">\n",
              "  <thead>\n",
              "    <tr style=\"text-align: right;\">\n",
              "      <th></th>\n",
              "      <th>TRANSACTION_DT</th>\n",
              "      <th>CUSTOMER_ID</th>\n",
              "      <th>AGE_GROUP</th>\n",
              "      <th>PIN_CODE</th>\n",
              "      <th>PRODUCT_SUBCLASS</th>\n",
              "      <th>PRODUCT_ID</th>\n",
              "      <th>AMOUNT</th>\n",
              "      <th>ASSET</th>\n",
              "      <th>SALES_PRICE</th>\n",
              "    </tr>\n",
              "  </thead>\n",
              "  <tbody>\n",
              "    <tr>\n",
              "      <th>0</th>\n",
              "      <td>11/1/2000</td>\n",
              "      <td>1104905</td>\n",
              "      <td>45-49</td>\n",
              "      <td>115</td>\n",
              "      <td>110411</td>\n",
              "      <td>4710199010372</td>\n",
              "      <td>2</td>\n",
              "      <td>24</td>\n",
              "      <td>30</td>\n",
              "    </tr>\n",
              "    <tr>\n",
              "      <th>1</th>\n",
              "      <td>11/1/2000</td>\n",
              "      <td>418683</td>\n",
              "      <td>45-49</td>\n",
              "      <td>115</td>\n",
              "      <td>120107</td>\n",
              "      <td>4710857472535</td>\n",
              "      <td>1</td>\n",
              "      <td>48</td>\n",
              "      <td>46</td>\n",
              "    </tr>\n",
              "    <tr>\n",
              "      <th>2</th>\n",
              "      <td>11/1/2000</td>\n",
              "      <td>1057331</td>\n",
              "      <td>35-39</td>\n",
              "      <td>115</td>\n",
              "      <td>100407</td>\n",
              "      <td>4710043654103</td>\n",
              "      <td>2</td>\n",
              "      <td>142</td>\n",
              "      <td>166</td>\n",
              "    </tr>\n",
              "    <tr>\n",
              "      <th>3</th>\n",
              "      <td>11/1/2000</td>\n",
              "      <td>1849332</td>\n",
              "      <td>45-49</td>\n",
              "      <td>Others</td>\n",
              "      <td>120108</td>\n",
              "      <td>4710126092129</td>\n",
              "      <td>1</td>\n",
              "      <td>32</td>\n",
              "      <td>38</td>\n",
              "    </tr>\n",
              "    <tr>\n",
              "      <th>4</th>\n",
              "      <td>11/1/2000</td>\n",
              "      <td>1981995</td>\n",
              "      <td>50-54</td>\n",
              "      <td>115</td>\n",
              "      <td>100205</td>\n",
              "      <td>4710176021445</td>\n",
              "      <td>1</td>\n",
              "      <td>14</td>\n",
              "      <td>18</td>\n",
              "    </tr>\n",
              "  </tbody>\n",
              "</table>\n",
              "</div>"
            ],
            "text/plain": [
              "  TRANSACTION_DT  CUSTOMER_ID AGE_GROUP  ... AMOUNT  ASSET  SALES_PRICE\n",
              "0      11/1/2000      1104905     45-49  ...      2     24           30\n",
              "1      11/1/2000       418683     45-49  ...      1     48           46\n",
              "2      11/1/2000      1057331     35-39  ...      2    142          166\n",
              "3      11/1/2000      1849332     45-49  ...      1     32           38\n",
              "4      11/1/2000      1981995     50-54  ...      1     14           18\n",
              "\n",
              "[5 rows x 9 columns]"
            ]
          },
          "metadata": {
            "tags": []
          },
          "execution_count": 3
        }
      ]
    },
    {
      "cell_type": "markdown",
      "metadata": {
        "id": "eVjR8khy5QQG"
      },
      "source": [
        "#Exploratory Data Analysis"
      ]
    },
    {
      "cell_type": "code",
      "metadata": {
        "colab": {
          "base_uri": "https://localhost:8080/",
          "height": 347
        },
        "id": "Flru-KVpQ9R0",
        "outputId": "cd84ef7c-ddf6-4774-f421-4915db97b59a"
      },
      "source": [
        "#Display 10 sample data\n",
        "Tafeng_data.sample(10)"
      ],
      "execution_count": 4,
      "outputs": [
        {
          "output_type": "execute_result",
          "data": {
            "text/html": [
              "<div>\n",
              "<style scoped>\n",
              "    .dataframe tbody tr th:only-of-type {\n",
              "        vertical-align: middle;\n",
              "    }\n",
              "\n",
              "    .dataframe tbody tr th {\n",
              "        vertical-align: top;\n",
              "    }\n",
              "\n",
              "    .dataframe thead th {\n",
              "        text-align: right;\n",
              "    }\n",
              "</style>\n",
              "<table border=\"1\" class=\"dataframe\">\n",
              "  <thead>\n",
              "    <tr style=\"text-align: right;\">\n",
              "      <th></th>\n",
              "      <th>TRANSACTION_DT</th>\n",
              "      <th>CUSTOMER_ID</th>\n",
              "      <th>AGE_GROUP</th>\n",
              "      <th>PIN_CODE</th>\n",
              "      <th>PRODUCT_SUBCLASS</th>\n",
              "      <th>PRODUCT_ID</th>\n",
              "      <th>AMOUNT</th>\n",
              "      <th>ASSET</th>\n",
              "      <th>SALES_PRICE</th>\n",
              "    </tr>\n",
              "  </thead>\n",
              "  <tbody>\n",
              "    <tr>\n",
              "      <th>644141</th>\n",
              "      <td>2/13/2001</td>\n",
              "      <td>1056471</td>\n",
              "      <td>35-39</td>\n",
              "      <td>110</td>\n",
              "      <td>110405</td>\n",
              "      <td>4710943109352</td>\n",
              "      <td>1</td>\n",
              "      <td>23</td>\n",
              "      <td>30</td>\n",
              "    </tr>\n",
              "    <tr>\n",
              "      <th>541736</th>\n",
              "      <td>1/21/2001</td>\n",
              "      <td>819787</td>\n",
              "      <td>&gt;65</td>\n",
              "      <td>115</td>\n",
              "      <td>100217</td>\n",
              "      <td>4961739718474</td>\n",
              "      <td>1</td>\n",
              "      <td>28</td>\n",
              "      <td>35</td>\n",
              "    </tr>\n",
              "    <tr>\n",
              "      <th>476723</th>\n",
              "      <td>1/2/2001</td>\n",
              "      <td>1299878</td>\n",
              "      <td>45-49</td>\n",
              "      <td>115</td>\n",
              "      <td>500501</td>\n",
              "      <td>20453107</td>\n",
              "      <td>1</td>\n",
              "      <td>39</td>\n",
              "      <td>46</td>\n",
              "    </tr>\n",
              "    <tr>\n",
              "      <th>462887</th>\n",
              "      <td>1/5/2001</td>\n",
              "      <td>1290905</td>\n",
              "      <td>25-29</td>\n",
              "      <td>221</td>\n",
              "      <td>510539</td>\n",
              "      <td>4975060511222</td>\n",
              "      <td>1</td>\n",
              "      <td>10</td>\n",
              "      <td>15</td>\n",
              "    </tr>\n",
              "    <tr>\n",
              "      <th>185646</th>\n",
              "      <td>11/25/2000</td>\n",
              "      <td>693394</td>\n",
              "      <td>45-49</td>\n",
              "      <td>Unknown</td>\n",
              "      <td>130101</td>\n",
              "      <td>47106710</td>\n",
              "      <td>1</td>\n",
              "      <td>21</td>\n",
              "      <td>26</td>\n",
              "    </tr>\n",
              "    <tr>\n",
              "      <th>263517</th>\n",
              "      <td>12/8/2000</td>\n",
              "      <td>2162249</td>\n",
              "      <td>40-44</td>\n",
              "      <td>221</td>\n",
              "      <td>120302</td>\n",
              "      <td>4891118902746</td>\n",
              "      <td>1</td>\n",
              "      <td>61</td>\n",
              "      <td>78</td>\n",
              "    </tr>\n",
              "    <tr>\n",
              "      <th>25728</th>\n",
              "      <td>11/5/2000</td>\n",
              "      <td>2156101</td>\n",
              "      <td>25-29</td>\n",
              "      <td>105</td>\n",
              "      <td>712901</td>\n",
              "      <td>4719854750202</td>\n",
              "      <td>1</td>\n",
              "      <td>63</td>\n",
              "      <td>79</td>\n",
              "    </tr>\n",
              "    <tr>\n",
              "      <th>293330</th>\n",
              "      <td>12/2/2000</td>\n",
              "      <td>1669480</td>\n",
              "      <td>40-44</td>\n",
              "      <td>115</td>\n",
              "      <td>500311</td>\n",
              "      <td>4710466103080</td>\n",
              "      <td>1</td>\n",
              "      <td>42</td>\n",
              "      <td>45</td>\n",
              "    </tr>\n",
              "    <tr>\n",
              "      <th>405796</th>\n",
              "      <td>12/31/2000</td>\n",
              "      <td>1799613</td>\n",
              "      <td>35-39</td>\n",
              "      <td>115</td>\n",
              "      <td>130204</td>\n",
              "      <td>4710105015125</td>\n",
              "      <td>1</td>\n",
              "      <td>77</td>\n",
              "      <td>88</td>\n",
              "    </tr>\n",
              "    <tr>\n",
              "      <th>761751</th>\n",
              "      <td>2/20/2001</td>\n",
              "      <td>1597158</td>\n",
              "      <td>45-49</td>\n",
              "      <td>110</td>\n",
              "      <td>731302</td>\n",
              "      <td>4713915520438</td>\n",
              "      <td>2</td>\n",
              "      <td>20</td>\n",
              "      <td>28</td>\n",
              "    </tr>\n",
              "  </tbody>\n",
              "</table>\n",
              "</div>"
            ],
            "text/plain": [
              "       TRANSACTION_DT  CUSTOMER_ID AGE_GROUP  ... AMOUNT  ASSET  SALES_PRICE\n",
              "644141      2/13/2001      1056471     35-39  ...      1     23           30\n",
              "541736      1/21/2001       819787       >65  ...      1     28           35\n",
              "476723       1/2/2001      1299878     45-49  ...      1     39           46\n",
              "462887       1/5/2001      1290905     25-29  ...      1     10           15\n",
              "185646     11/25/2000       693394     45-49  ...      1     21           26\n",
              "263517      12/8/2000      2162249     40-44  ...      1     61           78\n",
              "25728       11/5/2000      2156101     25-29  ...      1     63           79\n",
              "293330      12/2/2000      1669480     40-44  ...      1     42           45\n",
              "405796     12/31/2000      1799613     35-39  ...      1     77           88\n",
              "761751      2/20/2001      1597158     45-49  ...      2     20           28\n",
              "\n",
              "[10 rows x 9 columns]"
            ]
          },
          "metadata": {
            "tags": []
          },
          "execution_count": 4
        }
      ]
    },
    {
      "cell_type": "code",
      "metadata": {
        "colab": {
          "base_uri": "https://localhost:8080/",
          "height": 287
        },
        "id": "CVizq1ZqRHN5",
        "outputId": "4f74b343-3a7e-4892-e5e9-e859ff2f5120"
      },
      "source": [
        "#Display descriptive statistics\n",
        "Tafeng_data.describe()"
      ],
      "execution_count": 5,
      "outputs": [
        {
          "output_type": "execute_result",
          "data": {
            "text/html": [
              "<div>\n",
              "<style scoped>\n",
              "    .dataframe tbody tr th:only-of-type {\n",
              "        vertical-align: middle;\n",
              "    }\n",
              "\n",
              "    .dataframe tbody tr th {\n",
              "        vertical-align: top;\n",
              "    }\n",
              "\n",
              "    .dataframe thead th {\n",
              "        text-align: right;\n",
              "    }\n",
              "</style>\n",
              "<table border=\"1\" class=\"dataframe\">\n",
              "  <thead>\n",
              "    <tr style=\"text-align: right;\">\n",
              "      <th></th>\n",
              "      <th>CUSTOMER_ID</th>\n",
              "      <th>PRODUCT_SUBCLASS</th>\n",
              "      <th>PRODUCT_ID</th>\n",
              "      <th>AMOUNT</th>\n",
              "      <th>ASSET</th>\n",
              "      <th>SALES_PRICE</th>\n",
              "    </tr>\n",
              "  </thead>\n",
              "  <tbody>\n",
              "    <tr>\n",
              "      <th>count</th>\n",
              "      <td>8.177410e+05</td>\n",
              "      <td>817741.000000</td>\n",
              "      <td>8.177410e+05</td>\n",
              "      <td>817741.000000</td>\n",
              "      <td>817741.000000</td>\n",
              "      <td>817741.000000</td>\n",
              "    </tr>\n",
              "    <tr>\n",
              "      <th>mean</th>\n",
              "      <td>1.406620e+06</td>\n",
              "      <td>284950.495933</td>\n",
              "      <td>4.461639e+12</td>\n",
              "      <td>1.381781</td>\n",
              "      <td>112.109848</td>\n",
              "      <td>131.875589</td>\n",
              "    </tr>\n",
              "    <tr>\n",
              "      <th>std</th>\n",
              "      <td>7.489784e+05</td>\n",
              "      <td>226390.701451</td>\n",
              "      <td>1.690093e+12</td>\n",
              "      <td>2.897473</td>\n",
              "      <td>603.661776</td>\n",
              "      <td>631.057633</td>\n",
              "    </tr>\n",
              "    <tr>\n",
              "      <th>min</th>\n",
              "      <td>1.069000e+03</td>\n",
              "      <td>100101.000000</td>\n",
              "      <td>2.000882e+07</td>\n",
              "      <td>1.000000</td>\n",
              "      <td>0.000000</td>\n",
              "      <td>1.000000</td>\n",
              "    </tr>\n",
              "    <tr>\n",
              "      <th>25%</th>\n",
              "      <td>9.692220e+05</td>\n",
              "      <td>110106.000000</td>\n",
              "      <td>4.710085e+12</td>\n",
              "      <td>1.000000</td>\n",
              "      <td>35.000000</td>\n",
              "      <td>42.000000</td>\n",
              "    </tr>\n",
              "    <tr>\n",
              "      <th>50%</th>\n",
              "      <td>1.587722e+06</td>\n",
              "      <td>130106.000000</td>\n",
              "      <td>4.710421e+12</td>\n",
              "      <td>1.000000</td>\n",
              "      <td>62.000000</td>\n",
              "      <td>76.000000</td>\n",
              "    </tr>\n",
              "    <tr>\n",
              "      <th>75%</th>\n",
              "      <td>1.854930e+06</td>\n",
              "      <td>520314.000000</td>\n",
              "      <td>4.712500e+12</td>\n",
              "      <td>1.000000</td>\n",
              "      <td>112.000000</td>\n",
              "      <td>132.000000</td>\n",
              "    </tr>\n",
              "    <tr>\n",
              "      <th>max</th>\n",
              "      <td>2.000200e+07</td>\n",
              "      <td>780510.000000</td>\n",
              "      <td>9.789580e+12</td>\n",
              "      <td>1200.000000</td>\n",
              "      <td>432000.000000</td>\n",
              "      <td>444000.000000</td>\n",
              "    </tr>\n",
              "  </tbody>\n",
              "</table>\n",
              "</div>"
            ],
            "text/plain": [
              "        CUSTOMER_ID  PRODUCT_SUBCLASS  ...          ASSET    SALES_PRICE\n",
              "count  8.177410e+05     817741.000000  ...  817741.000000  817741.000000\n",
              "mean   1.406620e+06     284950.495933  ...     112.109848     131.875589\n",
              "std    7.489784e+05     226390.701451  ...     603.661776     631.057633\n",
              "min    1.069000e+03     100101.000000  ...       0.000000       1.000000\n",
              "25%    9.692220e+05     110106.000000  ...      35.000000      42.000000\n",
              "50%    1.587722e+06     130106.000000  ...      62.000000      76.000000\n",
              "75%    1.854930e+06     520314.000000  ...     112.000000     132.000000\n",
              "max    2.000200e+07     780510.000000  ...  432000.000000  444000.000000\n",
              "\n",
              "[8 rows x 6 columns]"
            ]
          },
          "metadata": {
            "tags": []
          },
          "execution_count": 5
        }
      ]
    },
    {
      "cell_type": "code",
      "metadata": {
        "colab": {
          "base_uri": "https://localhost:8080/"
        },
        "id": "ORuq0bk0MDR6",
        "outputId": "b817365c-b9e8-435e-f39b-39453a18bddd"
      },
      "source": [
        "#Check for missing values in the dataset\n",
        "Tafeng_data.isnull().sum(axis=0)"
      ],
      "execution_count": 6,
      "outputs": [
        {
          "output_type": "execute_result",
          "data": {
            "text/plain": [
              "TRANSACTION_DT          0\n",
              "CUSTOMER_ID             0\n",
              "AGE_GROUP           22362\n",
              "PIN_CODE                0\n",
              "PRODUCT_SUBCLASS        0\n",
              "PRODUCT_ID              0\n",
              "AMOUNT                  0\n",
              "ASSET                   0\n",
              "SALES_PRICE             0\n",
              "dtype: int64"
            ]
          },
          "metadata": {
            "tags": []
          },
          "execution_count": 6
        }
      ]
    },
    {
      "cell_type": "code",
      "metadata": {
        "colab": {
          "base_uri": "https://localhost:8080/"
        },
        "id": "2cUoI-bQHYCL",
        "outputId": "8c6a697c-17a4-4a2b-8f65-23a698e5db6c"
      },
      "source": [
        "#Check the shape (number of columns and rows) in the dataset\n",
        "Tafeng_data.shape"
      ],
      "execution_count": 7,
      "outputs": [
        {
          "output_type": "execute_result",
          "data": {
            "text/plain": [
              "(817741, 9)"
            ]
          },
          "metadata": {
            "tags": []
          },
          "execution_count": 7
        }
      ]
    },
    {
      "cell_type": "code",
      "metadata": {
        "colab": {
          "base_uri": "https://localhost:8080/",
          "height": 347
        },
        "id": "x6NQcvFaHq5K",
        "outputId": "56bb342f-ac48-4422-948e-42e113ff2167"
      },
      "source": [
        "#Customer distribution by age group\n",
        "age_group_cust_data=Tafeng_data[['AGE_GROUP', 'CUSTOMER_ID']].drop_duplicates()\n",
        "age_group_cust_data.groupby(['AGE_GROUP'])['CUSTOMER_ID'].aggregate('count').reset_index().sort_values('CUSTOMER_ID', ascending= False)\n"
      ],
      "execution_count": 8,
      "outputs": [
        {
          "output_type": "execute_result",
          "data": {
            "text/html": [
              "<div>\n",
              "<style scoped>\n",
              "    .dataframe tbody tr th:only-of-type {\n",
              "        vertical-align: middle;\n",
              "    }\n",
              "\n",
              "    .dataframe tbody tr th {\n",
              "        vertical-align: top;\n",
              "    }\n",
              "\n",
              "    .dataframe thead th {\n",
              "        text-align: right;\n",
              "    }\n",
              "</style>\n",
              "<table border=\"1\" class=\"dataframe\">\n",
              "  <thead>\n",
              "    <tr style=\"text-align: right;\">\n",
              "      <th></th>\n",
              "      <th>AGE_GROUP</th>\n",
              "      <th>CUSTOMER_ID</th>\n",
              "    </tr>\n",
              "  </thead>\n",
              "  <tbody>\n",
              "    <tr>\n",
              "      <th>2</th>\n",
              "      <td>35-39</td>\n",
              "      <td>6588</td>\n",
              "    </tr>\n",
              "    <tr>\n",
              "      <th>1</th>\n",
              "      <td>30-34</td>\n",
              "      <td>5916</td>\n",
              "    </tr>\n",
              "    <tr>\n",
              "      <th>3</th>\n",
              "      <td>40-44</td>\n",
              "      <td>5084</td>\n",
              "    </tr>\n",
              "    <tr>\n",
              "      <th>4</th>\n",
              "      <td>45-49</td>\n",
              "      <td>3723</td>\n",
              "    </tr>\n",
              "    <tr>\n",
              "      <th>0</th>\n",
              "      <td>25-29</td>\n",
              "      <td>3196</td>\n",
              "    </tr>\n",
              "    <tr>\n",
              "      <th>5</th>\n",
              "      <td>50-54</td>\n",
              "      <td>2184</td>\n",
              "    </tr>\n",
              "    <tr>\n",
              "      <th>8</th>\n",
              "      <td>&lt;25</td>\n",
              "      <td>1630</td>\n",
              "    </tr>\n",
              "    <tr>\n",
              "      <th>9</th>\n",
              "      <td>&gt;65</td>\n",
              "      <td>1363</td>\n",
              "    </tr>\n",
              "    <tr>\n",
              "      <th>6</th>\n",
              "      <td>55-59</td>\n",
              "      <td>1076</td>\n",
              "    </tr>\n",
              "    <tr>\n",
              "      <th>7</th>\n",
              "      <td>60-64</td>\n",
              "      <td>880</td>\n",
              "    </tr>\n",
              "  </tbody>\n",
              "</table>\n",
              "</div>"
            ],
            "text/plain": [
              "  AGE_GROUP  CUSTOMER_ID\n",
              "2     35-39         6588\n",
              "1     30-34         5916\n",
              "3     40-44         5084\n",
              "4     45-49         3723\n",
              "0     25-29         3196\n",
              "5     50-54         2184\n",
              "8       <25         1630\n",
              "9       >65         1363\n",
              "6     55-59         1076\n",
              "7     60-64          880"
            ]
          },
          "metadata": {
            "tags": []
          },
          "execution_count": 8
        }
      ]
    },
    {
      "cell_type": "code",
      "metadata": {
        "colab": {
          "base_uri": "https://localhost:8080/"
        },
        "id": "Fw3Euh8kQteq",
        "outputId": "e72b2ed2-d88e-47b2-e12f-4f596c59d666"
      },
      "source": [
        "Tafeng_data.info()"
      ],
      "execution_count": 9,
      "outputs": [
        {
          "output_type": "stream",
          "text": [
            "<class 'pandas.core.frame.DataFrame'>\n",
            "RangeIndex: 817741 entries, 0 to 817740\n",
            "Data columns (total 9 columns):\n",
            " #   Column            Non-Null Count   Dtype \n",
            "---  ------            --------------   ----- \n",
            " 0   TRANSACTION_DT    817741 non-null  object\n",
            " 1   CUSTOMER_ID       817741 non-null  int64 \n",
            " 2   AGE_GROUP         795379 non-null  object\n",
            " 3   PIN_CODE          817741 non-null  object\n",
            " 4   PRODUCT_SUBCLASS  817741 non-null  int64 \n",
            " 5   PRODUCT_ID        817741 non-null  int64 \n",
            " 6   AMOUNT            817741 non-null  int64 \n",
            " 7   ASSET             817741 non-null  int64 \n",
            " 8   SALES_PRICE       817741 non-null  int64 \n",
            "dtypes: int64(6), object(3)\n",
            "memory usage: 56.1+ MB\n"
          ],
          "name": "stdout"
        }
      ]
    },
    {
      "cell_type": "code",
      "metadata": {
        "id": "jBRFNxvvScMT"
      },
      "source": [
        "numerical_vars = ['TRANSACTION_DT','CUSTOMER_ID', 'AGE_GROUP', 'PIN_CODE', 'PRODUCT_SUBCLASS', 'PRODUCT_ID', 'AMOUNT', 'ASSET', 'SALES_PRICE']\n"
      ],
      "execution_count": 10,
      "outputs": []
    },
    {
      "cell_type": "code",
      "metadata": {
        "colab": {
          "base_uri": "https://localhost:8080/"
        },
        "id": "upsxEi1sTNuE",
        "outputId": "1a842405-c285-4c14-ce7d-d1bd9470fc69"
      },
      "source": [
        "Tafeng_data['SALES_PRICE'].describe()"
      ],
      "execution_count": 11,
      "outputs": [
        {
          "output_type": "execute_result",
          "data": {
            "text/plain": [
              "count    817741.000000\n",
              "mean        131.875589\n",
              "std         631.057633\n",
              "min           1.000000\n",
              "25%          42.000000\n",
              "50%          76.000000\n",
              "75%         132.000000\n",
              "max      444000.000000\n",
              "Name: SALES_PRICE, dtype: float64"
            ]
          },
          "metadata": {
            "tags": []
          },
          "execution_count": 11
        }
      ]
    },
    {
      "cell_type": "code",
      "metadata": {
        "colab": {
          "base_uri": "https://localhost:8080/"
        },
        "id": "nmyRR2dlTcqM",
        "outputId": "989802b8-543e-475c-fca4-79b61c591e70"
      },
      "source": [
        "Tafeng_data['TRANSACTION_DT'].describe()"
      ],
      "execution_count": 12,
      "outputs": [
        {
          "output_type": "execute_result",
          "data": {
            "text/plain": [
              "count        817741\n",
              "unique          120\n",
              "top       1/21/2001\n",
              "freq          21129\n",
              "Name: TRANSACTION_DT, dtype: object"
            ]
          },
          "metadata": {
            "tags": []
          },
          "execution_count": 12
        }
      ]
    },
    {
      "cell_type": "code",
      "metadata": {
        "colab": {
          "base_uri": "https://localhost:8080/"
        },
        "id": "Ku6JS5JXTmaL",
        "outputId": "375e711a-f6c7-4cea-a057-1d96ffbb0677"
      },
      "source": [
        "Tafeng_data['CUSTOMER_ID'].describe()"
      ],
      "execution_count": 13,
      "outputs": [
        {
          "output_type": "execute_result",
          "data": {
            "text/plain": [
              "count    8.177410e+05\n",
              "mean     1.406620e+06\n",
              "std      7.489784e+05\n",
              "min      1.069000e+03\n",
              "25%      9.692220e+05\n",
              "50%      1.587722e+06\n",
              "75%      1.854930e+06\n",
              "max      2.000200e+07\n",
              "Name: CUSTOMER_ID, dtype: float64"
            ]
          },
          "metadata": {
            "tags": []
          },
          "execution_count": 13
        }
      ]
    },
    {
      "cell_type": "code",
      "metadata": {
        "colab": {
          "base_uri": "https://localhost:8080/",
          "height": 407
        },
        "id": "vN2Vn9N3J2kN",
        "outputId": "adf73406-2c91-4b2f-fb2c-a41ae8daaf67"
      },
      "source": [
        "#Customer distribution by transaction date\n",
        "transaction_cust_data=Tafeng_data[['TRANSACTION_DT', 'CUSTOMER_ID']].drop_duplicates()\n",
        "transaction_cust_data.groupby(['TRANSACTION_DT'])['CUSTOMER_ID'].aggregate('count').reset_index().sort_values('CUSTOMER_ID', ascending= False)\n"
      ],
      "execution_count": 14,
      "outputs": [
        {
          "output_type": "execute_result",
          "data": {
            "text/html": [
              "<div>\n",
              "<style scoped>\n",
              "    .dataframe tbody tr th:only-of-type {\n",
              "        vertical-align: middle;\n",
              "    }\n",
              "\n",
              "    .dataframe tbody tr th {\n",
              "        vertical-align: top;\n",
              "    }\n",
              "\n",
              "    .dataframe thead th {\n",
              "        text-align: right;\n",
              "    }\n",
              "</style>\n",
              "<table border=\"1\" class=\"dataframe\">\n",
              "  <thead>\n",
              "    <tr style=\"text-align: right;\">\n",
              "      <th></th>\n",
              "      <th>TRANSACTION_DT</th>\n",
              "      <th>CUSTOMER_ID</th>\n",
              "    </tr>\n",
              "  </thead>\n",
              "  <tbody>\n",
              "    <tr>\n",
              "      <th>14</th>\n",
              "      <td>1/22/2001</td>\n",
              "      <td>2232</td>\n",
              "    </tr>\n",
              "    <tr>\n",
              "      <th>13</th>\n",
              "      <td>1/21/2001</td>\n",
              "      <td>2079</td>\n",
              "    </tr>\n",
              "    <tr>\n",
              "      <th>49</th>\n",
              "      <td>11/26/2000</td>\n",
              "      <td>1785</td>\n",
              "    </tr>\n",
              "    <tr>\n",
              "      <th>48</th>\n",
              "      <td>11/25/2000</td>\n",
              "      <td>1709</td>\n",
              "    </tr>\n",
              "    <tr>\n",
              "      <th>34</th>\n",
              "      <td>11/12/2000</td>\n",
              "      <td>1653</td>\n",
              "    </tr>\n",
              "    <tr>\n",
              "      <th>...</th>\n",
              "      <td>...</td>\n",
              "      <td>...</td>\n",
              "    </tr>\n",
              "    <tr>\n",
              "      <th>76</th>\n",
              "      <td>12/23/2000</td>\n",
              "      <td>132</td>\n",
              "    </tr>\n",
              "    <tr>\n",
              "      <th>73</th>\n",
              "      <td>12/20/2000</td>\n",
              "      <td>118</td>\n",
              "    </tr>\n",
              "    <tr>\n",
              "      <th>74</th>\n",
              "      <td>12/21/2000</td>\n",
              "      <td>105</td>\n",
              "    </tr>\n",
              "    <tr>\n",
              "      <th>75</th>\n",
              "      <td>12/22/2000</td>\n",
              "      <td>81</td>\n",
              "    </tr>\n",
              "    <tr>\n",
              "      <th>71</th>\n",
              "      <td>12/19/2000</td>\n",
              "      <td>73</td>\n",
              "    </tr>\n",
              "  </tbody>\n",
              "</table>\n",
              "<p>120 rows × 2 columns</p>\n",
              "</div>"
            ],
            "text/plain": [
              "   TRANSACTION_DT  CUSTOMER_ID\n",
              "14      1/22/2001         2232\n",
              "13      1/21/2001         2079\n",
              "49     11/26/2000         1785\n",
              "48     11/25/2000         1709\n",
              "34     11/12/2000         1653\n",
              "..            ...          ...\n",
              "76     12/23/2000          132\n",
              "73     12/20/2000          118\n",
              "74     12/21/2000          105\n",
              "75     12/22/2000           81\n",
              "71     12/19/2000           73\n",
              "\n",
              "[120 rows x 2 columns]"
            ]
          },
          "metadata": {
            "tags": []
          },
          "execution_count": 14
        }
      ]
    },
    {
      "cell_type": "markdown",
      "metadata": {
        "id": "wLk0CyP65VPw"
      },
      "source": [
        "#Data Preprocessing"
      ]
    },
    {
      "cell_type": "code",
      "metadata": {
        "id": "64NScfELNd8J"
      },
      "source": [
        "#Remove missing values from CUSTOMER_ID column\n",
        "#We can ignore missing values in description column\n",
        "Tafeng_data = Tafeng_data[pd.notnull(Tafeng_data['CUSTOMER_ID'])]"
      ],
      "execution_count": 15,
      "outputs": []
    },
    {
      "cell_type": "code",
      "metadata": {
        "colab": {
          "base_uri": "https://localhost:8080/"
        },
        "id": "SIo_GXZQOB5h",
        "outputId": "9df18140-a2ef-4392-abd0-944da8000d9e"
      },
      "source": [
        "#Check validation, if there are any negative values in AMOUNT column\n",
        "Tafeng_data.AMOUNT.min()"
      ],
      "execution_count": 16,
      "outputs": [
        {
          "output_type": "execute_result",
          "data": {
            "text/plain": [
              "1"
            ]
          },
          "metadata": {
            "tags": []
          },
          "execution_count": 16
        }
      ]
    },
    {
      "cell_type": "code",
      "metadata": {
        "colab": {
          "base_uri": "https://localhost:8080/"
        },
        "id": "WzfqW397OSul",
        "outputId": "de541240-9b23-4044-90be-876a258dd4af"
      },
      "source": [
        "#Check validation, if there are any negative values in SALES_PRICE column\n",
        "Tafeng_data.SALES_PRICE.min()"
      ],
      "execution_count": 17,
      "outputs": [
        {
          "output_type": "execute_result",
          "data": {
            "text/plain": [
              "1"
            ]
          },
          "metadata": {
            "tags": []
          },
          "execution_count": 17
        }
      ]
    },
    {
      "cell_type": "code",
      "metadata": {
        "id": "hANYfIapPQnd"
      },
      "source": [
        "#Filter out data with negative values\n",
        "Tafeng_data = Tafeng_data[(Tafeng_data[\"AMOUNT\"] > 0)]"
      ],
      "execution_count": 18,
      "outputs": []
    },
    {
      "cell_type": "code",
      "metadata": {
        "id": "iXbGK_qVPnBF"
      },
      "source": [
        "#Convert the string date field to datetime\n",
        "Tafeng_data['TRANSACTION_DT'] = pd.to_datetime(Tafeng_data['TRANSACTION_DT'])"
      ],
      "execution_count": 19,
      "outputs": []
    },
    {
      "cell_type": "code",
      "metadata": {
        "id": "NigBD5NhP6J5",
        "colab": {
          "base_uri": "https://localhost:8080/",
          "height": 197
        },
        "outputId": "56849556-dece-4eb3-d69a-e3b671ca8281"
      },
      "source": [
        "Tafeng_data.head()"
      ],
      "execution_count": 20,
      "outputs": [
        {
          "output_type": "execute_result",
          "data": {
            "text/html": [
              "<div>\n",
              "<style scoped>\n",
              "    .dataframe tbody tr th:only-of-type {\n",
              "        vertical-align: middle;\n",
              "    }\n",
              "\n",
              "    .dataframe tbody tr th {\n",
              "        vertical-align: top;\n",
              "    }\n",
              "\n",
              "    .dataframe thead th {\n",
              "        text-align: right;\n",
              "    }\n",
              "</style>\n",
              "<table border=\"1\" class=\"dataframe\">\n",
              "  <thead>\n",
              "    <tr style=\"text-align: right;\">\n",
              "      <th></th>\n",
              "      <th>TRANSACTION_DT</th>\n",
              "      <th>CUSTOMER_ID</th>\n",
              "      <th>AGE_GROUP</th>\n",
              "      <th>PIN_CODE</th>\n",
              "      <th>PRODUCT_SUBCLASS</th>\n",
              "      <th>PRODUCT_ID</th>\n",
              "      <th>AMOUNT</th>\n",
              "      <th>ASSET</th>\n",
              "      <th>SALES_PRICE</th>\n",
              "    </tr>\n",
              "  </thead>\n",
              "  <tbody>\n",
              "    <tr>\n",
              "      <th>0</th>\n",
              "      <td>2000-11-01</td>\n",
              "      <td>1104905</td>\n",
              "      <td>45-49</td>\n",
              "      <td>115</td>\n",
              "      <td>110411</td>\n",
              "      <td>4710199010372</td>\n",
              "      <td>2</td>\n",
              "      <td>24</td>\n",
              "      <td>30</td>\n",
              "    </tr>\n",
              "    <tr>\n",
              "      <th>1</th>\n",
              "      <td>2000-11-01</td>\n",
              "      <td>418683</td>\n",
              "      <td>45-49</td>\n",
              "      <td>115</td>\n",
              "      <td>120107</td>\n",
              "      <td>4710857472535</td>\n",
              "      <td>1</td>\n",
              "      <td>48</td>\n",
              "      <td>46</td>\n",
              "    </tr>\n",
              "    <tr>\n",
              "      <th>2</th>\n",
              "      <td>2000-11-01</td>\n",
              "      <td>1057331</td>\n",
              "      <td>35-39</td>\n",
              "      <td>115</td>\n",
              "      <td>100407</td>\n",
              "      <td>4710043654103</td>\n",
              "      <td>2</td>\n",
              "      <td>142</td>\n",
              "      <td>166</td>\n",
              "    </tr>\n",
              "    <tr>\n",
              "      <th>3</th>\n",
              "      <td>2000-11-01</td>\n",
              "      <td>1849332</td>\n",
              "      <td>45-49</td>\n",
              "      <td>Others</td>\n",
              "      <td>120108</td>\n",
              "      <td>4710126092129</td>\n",
              "      <td>1</td>\n",
              "      <td>32</td>\n",
              "      <td>38</td>\n",
              "    </tr>\n",
              "    <tr>\n",
              "      <th>4</th>\n",
              "      <td>2000-11-01</td>\n",
              "      <td>1981995</td>\n",
              "      <td>50-54</td>\n",
              "      <td>115</td>\n",
              "      <td>100205</td>\n",
              "      <td>4710176021445</td>\n",
              "      <td>1</td>\n",
              "      <td>14</td>\n",
              "      <td>18</td>\n",
              "    </tr>\n",
              "  </tbody>\n",
              "</table>\n",
              "</div>"
            ],
            "text/plain": [
              "  TRANSACTION_DT  CUSTOMER_ID AGE_GROUP  ... AMOUNT  ASSET  SALES_PRICE\n",
              "0     2000-11-01      1104905     45-49  ...      2     24           30\n",
              "1     2000-11-01       418683     45-49  ...      1     48           46\n",
              "2     2000-11-01      1057331     35-39  ...      2    142          166\n",
              "3     2000-11-01      1849332     45-49  ...      1     32           38\n",
              "4     2000-11-01      1981995     50-54  ...      1     14           18\n",
              "\n",
              "[5 rows x 9 columns]"
            ]
          },
          "metadata": {
            "tags": []
          },
          "execution_count": 20
        }
      ]
    },
    {
      "cell_type": "code",
      "metadata": {
        "colab": {
          "base_uri": "https://localhost:8080/"
        },
        "id": "5xx2HLV0tnoQ",
        "outputId": "343443c5-6e83-4ba6-b50a-576b11aca7c7"
      },
      "source": [
        "print(\"Summary...\")\n",
        "#exploring the unique values of each attribute\n",
        "print(\"Number of transactions:\", Tafeng_data['SALES_PRICE'].nunique())\n",
        "print(\"Number of products bought:\", Tafeng_data['PRODUCT_ID'].nunique())\n",
        "print(\"Number of customers:\", Tafeng_data['CUSTOMER_ID'].nunique())\n",
        "print(\"Percentage of customers NA:\", round(Tafeng_data['CUSTOMER_ID'].isnull().sum()*100/len(Tafeng_data),2),\"%\")\n"
      ],
      "execution_count": 21,
      "outputs": [
        {
          "output_type": "stream",
          "text": [
            "Summary...\n",
            "Number of transactions: 2191\n",
            "Number of products bought: 23812\n",
            "Number of customers: 32266\n",
            "Percentage of customers NA: 0.0 %\n"
          ],
          "name": "stdout"
        }
      ]
    },
    {
      "cell_type": "markdown",
      "metadata": {
        "id": "N32son64Ppat"
      },
      "source": [
        "#RFM MODELLING"
      ]
    },
    {
      "cell_type": "code",
      "metadata": {
        "colab": {
          "base_uri": "https://localhost:8080/",
          "height": 197
        },
        "id": "KUoAgMfLLrEh",
        "outputId": "3f883731-825a-4e11-d39c-8085db1e64af"
      },
      "source": [
        "#Recency = Latest Date - Last Transaction Date,\n",
        "#Frequency = count of transaction(s) no. for each customer,\n",
        "#Monetary = Sum of Sales Price for each customer\n",
        "import datetime as dt\n",
        "\n",
        "#Set latest date 2001-03-01 as last invoice date was 2001-02-28. Its goal is to calculate the number of days.\n",
        "Latest_Date = dt.datetime(2001,3,1)\n",
        "\n",
        "#Create RFM Modelling scores for each customer --> Recency\n",
        "RScores = Tafeng_data.groupby('CUSTOMER_ID').agg({'TRANSACTION_DT': lambda x: (Latest_Date - x.max()).days})\n",
        "\n",
        "#Create TRANSACTION_DT into type int\n",
        "RScores['TRANSACTION_DT'] = RScores['TRANSACTION_DT'].astype(int)\n",
        "\n",
        "#Rename column names to Recency\n",
        "RScores.rename(columns={'TRANSACTION_DT': 'Recency'}, inplace=True)\n",
        "RScores.reset_index().head()"
      ],
      "execution_count": 22,
      "outputs": [
        {
          "output_type": "execute_result",
          "data": {
            "text/html": [
              "<div>\n",
              "<style scoped>\n",
              "    .dataframe tbody tr th:only-of-type {\n",
              "        vertical-align: middle;\n",
              "    }\n",
              "\n",
              "    .dataframe tbody tr th {\n",
              "        vertical-align: top;\n",
              "    }\n",
              "\n",
              "    .dataframe thead th {\n",
              "        text-align: right;\n",
              "    }\n",
              "</style>\n",
              "<table border=\"1\" class=\"dataframe\">\n",
              "  <thead>\n",
              "    <tr style=\"text-align: right;\">\n",
              "      <th></th>\n",
              "      <th>CUSTOMER_ID</th>\n",
              "      <th>Recency</th>\n",
              "    </tr>\n",
              "  </thead>\n",
              "  <tbody>\n",
              "    <tr>\n",
              "      <th>0</th>\n",
              "      <td>1069</td>\n",
              "      <td>19</td>\n",
              "    </tr>\n",
              "    <tr>\n",
              "      <th>1</th>\n",
              "      <td>1113</td>\n",
              "      <td>54</td>\n",
              "    </tr>\n",
              "    <tr>\n",
              "      <th>2</th>\n",
              "      <td>1250</td>\n",
              "      <td>19</td>\n",
              "    </tr>\n",
              "    <tr>\n",
              "      <th>3</th>\n",
              "      <td>1359</td>\n",
              "      <td>87</td>\n",
              "    </tr>\n",
              "    <tr>\n",
              "      <th>4</th>\n",
              "      <td>1823</td>\n",
              "      <td>36</td>\n",
              "    </tr>\n",
              "  </tbody>\n",
              "</table>\n",
              "</div>"
            ],
            "text/plain": [
              "   CUSTOMER_ID  Recency\n",
              "0         1069       19\n",
              "1         1113       54\n",
              "2         1250       19\n",
              "3         1359       87\n",
              "4         1823       36"
            ]
          },
          "metadata": {
            "tags": []
          },
          "execution_count": 22
        }
      ]
    },
    {
      "cell_type": "code",
      "metadata": {
        "colab": {
          "base_uri": "https://localhost:8080/",
          "height": 197
        },
        "id": "Q4rWmKJeNI_g",
        "outputId": "692bef00-daab-40bf-c071-80cbbe4b902f"
      },
      "source": [
        "#Create RFM Modelling scores for each customer --> Frequency\n",
        "FScores=Tafeng_data.groupby(['CUSTOMER_ID']).size().to_frame('size').sort_values(['CUSTOMER_ID','size'], ascending=[True,False])\n",
        "\n",
        "#Rename column names to Frequency\n",
        "FScores.rename(columns={'size': 'Frequency'}, inplace=True)\n",
        "FScores.reset_index().head()"
      ],
      "execution_count": 23,
      "outputs": [
        {
          "output_type": "execute_result",
          "data": {
            "text/html": [
              "<div>\n",
              "<style scoped>\n",
              "    .dataframe tbody tr th:only-of-type {\n",
              "        vertical-align: middle;\n",
              "    }\n",
              "\n",
              "    .dataframe tbody tr th {\n",
              "        vertical-align: top;\n",
              "    }\n",
              "\n",
              "    .dataframe thead th {\n",
              "        text-align: right;\n",
              "    }\n",
              "</style>\n",
              "<table border=\"1\" class=\"dataframe\">\n",
              "  <thead>\n",
              "    <tr style=\"text-align: right;\">\n",
              "      <th></th>\n",
              "      <th>CUSTOMER_ID</th>\n",
              "      <th>Frequency</th>\n",
              "    </tr>\n",
              "  </thead>\n",
              "  <tbody>\n",
              "    <tr>\n",
              "      <th>0</th>\n",
              "      <td>1069</td>\n",
              "      <td>11</td>\n",
              "    </tr>\n",
              "    <tr>\n",
              "      <th>1</th>\n",
              "      <td>1113</td>\n",
              "      <td>18</td>\n",
              "    </tr>\n",
              "    <tr>\n",
              "      <th>2</th>\n",
              "      <td>1250</td>\n",
              "      <td>14</td>\n",
              "    </tr>\n",
              "    <tr>\n",
              "      <th>3</th>\n",
              "      <td>1359</td>\n",
              "      <td>3</td>\n",
              "    </tr>\n",
              "    <tr>\n",
              "      <th>4</th>\n",
              "      <td>1823</td>\n",
              "      <td>14</td>\n",
              "    </tr>\n",
              "  </tbody>\n",
              "</table>\n",
              "</div>"
            ],
            "text/plain": [
              "   CUSTOMER_ID  Frequency\n",
              "0         1069         11\n",
              "1         1113         18\n",
              "2         1250         14\n",
              "3         1359          3\n",
              "4         1823         14"
            ]
          },
          "metadata": {
            "tags": []
          },
          "execution_count": 23
        }
      ]
    },
    {
      "cell_type": "code",
      "metadata": {
        "colab": {
          "base_uri": "https://localhost:8080/",
          "height": 197
        },
        "id": "oc3OTAwI5olh",
        "outputId": "609d11a5-d9e9-4bc3-f9e2-4eab30fc5ec8"
      },
      "source": [
        "#Create RFM Modelling scores for each customer --> Monetary\n",
        "MScores=Tafeng_data.groupby(['CUSTOMER_ID']).agg({'SALES_PRICE':lambda x:x.sum()})\n",
        "\n",
        "#Rename column names to Monetary\n",
        "MScores.rename(columns={'SALES_PRICE': 'Monetary'}, inplace=True)\n",
        "MScores.reset_index().head()"
      ],
      "execution_count": 24,
      "outputs": [
        {
          "output_type": "execute_result",
          "data": {
            "text/html": [
              "<div>\n",
              "<style scoped>\n",
              "    .dataframe tbody tr th:only-of-type {\n",
              "        vertical-align: middle;\n",
              "    }\n",
              "\n",
              "    .dataframe tbody tr th {\n",
              "        vertical-align: top;\n",
              "    }\n",
              "\n",
              "    .dataframe thead th {\n",
              "        text-align: right;\n",
              "    }\n",
              "</style>\n",
              "<table border=\"1\" class=\"dataframe\">\n",
              "  <thead>\n",
              "    <tr style=\"text-align: right;\">\n",
              "      <th></th>\n",
              "      <th>CUSTOMER_ID</th>\n",
              "      <th>Monetary</th>\n",
              "    </tr>\n",
              "  </thead>\n",
              "  <tbody>\n",
              "    <tr>\n",
              "      <th>0</th>\n",
              "      <td>1069</td>\n",
              "      <td>1944</td>\n",
              "    </tr>\n",
              "    <tr>\n",
              "      <th>1</th>\n",
              "      <td>1113</td>\n",
              "      <td>2230</td>\n",
              "    </tr>\n",
              "    <tr>\n",
              "      <th>2</th>\n",
              "      <td>1250</td>\n",
              "      <td>1583</td>\n",
              "    </tr>\n",
              "    <tr>\n",
              "      <th>3</th>\n",
              "      <td>1359</td>\n",
              "      <td>364</td>\n",
              "    </tr>\n",
              "    <tr>\n",
              "      <th>4</th>\n",
              "      <td>1823</td>\n",
              "      <td>2607</td>\n",
              "    </tr>\n",
              "  </tbody>\n",
              "</table>\n",
              "</div>"
            ],
            "text/plain": [
              "   CUSTOMER_ID  Monetary\n",
              "0         1069      1944\n",
              "1         1113      2230\n",
              "2         1250      1583\n",
              "3         1359       364\n",
              "4         1823      2607"
            ]
          },
          "metadata": {
            "tags": []
          },
          "execution_count": 24
        }
      ]
    },
    {
      "cell_type": "markdown",
      "metadata": {
        "id": "yqYvH8DzvZj9"
      },
      "source": [
        "#Create RFM Table"
      ]
    },
    {
      "cell_type": "code",
      "metadata": {
        "colab": {
          "base_uri": "https://localhost:8080/",
          "height": 227
        },
        "id": "BXE6v4q7vXMk",
        "outputId": "61f53f79-144a-41d3-a4a2-448bccc27827"
      },
      "source": [
        "#merge recency dataframe with frequency dataframe\n",
        "temp_df=RScores.merge(FScores, on = 'CUSTOMER_ID')\n",
        "temp_df.head()"
      ],
      "execution_count": 25,
      "outputs": [
        {
          "output_type": "execute_result",
          "data": {
            "text/html": [
              "<div>\n",
              "<style scoped>\n",
              "    .dataframe tbody tr th:only-of-type {\n",
              "        vertical-align: middle;\n",
              "    }\n",
              "\n",
              "    .dataframe tbody tr th {\n",
              "        vertical-align: top;\n",
              "    }\n",
              "\n",
              "    .dataframe thead th {\n",
              "        text-align: right;\n",
              "    }\n",
              "</style>\n",
              "<table border=\"1\" class=\"dataframe\">\n",
              "  <thead>\n",
              "    <tr style=\"text-align: right;\">\n",
              "      <th></th>\n",
              "      <th>Recency</th>\n",
              "      <th>Frequency</th>\n",
              "    </tr>\n",
              "    <tr>\n",
              "      <th>CUSTOMER_ID</th>\n",
              "      <th></th>\n",
              "      <th></th>\n",
              "    </tr>\n",
              "  </thead>\n",
              "  <tbody>\n",
              "    <tr>\n",
              "      <th>1069</th>\n",
              "      <td>19</td>\n",
              "      <td>11</td>\n",
              "    </tr>\n",
              "    <tr>\n",
              "      <th>1113</th>\n",
              "      <td>54</td>\n",
              "      <td>18</td>\n",
              "    </tr>\n",
              "    <tr>\n",
              "      <th>1250</th>\n",
              "      <td>19</td>\n",
              "      <td>14</td>\n",
              "    </tr>\n",
              "    <tr>\n",
              "      <th>1359</th>\n",
              "      <td>87</td>\n",
              "      <td>3</td>\n",
              "    </tr>\n",
              "    <tr>\n",
              "      <th>1823</th>\n",
              "      <td>36</td>\n",
              "      <td>14</td>\n",
              "    </tr>\n",
              "  </tbody>\n",
              "</table>\n",
              "</div>"
            ],
            "text/plain": [
              "             Recency  Frequency\n",
              "CUSTOMER_ID                    \n",
              "1069              19         11\n",
              "1113              54         18\n",
              "1250              19         14\n",
              "1359              87          3\n",
              "1823              36         14"
            ]
          },
          "metadata": {
            "tags": []
          },
          "execution_count": 25
        }
      ]
    },
    {
      "cell_type": "code",
      "metadata": {
        "colab": {
          "base_uri": "https://localhost:8080/",
          "height": 227
        },
        "id": "ZLg6mW2fvuFo",
        "outputId": "f9f31db2-e02e-4fa9-b9aa-cf67396245d0"
      },
      "source": [
        "#merge with monetary dataframe to get a table with 3 columns\n",
        "RFMScoring = temp_df.merge(MScores, on='CUSTOMER_ID')\n",
        "#check the head\n",
        "RFMScoring.head()"
      ],
      "execution_count": 26,
      "outputs": [
        {
          "output_type": "execute_result",
          "data": {
            "text/html": [
              "<div>\n",
              "<style scoped>\n",
              "    .dataframe tbody tr th:only-of-type {\n",
              "        vertical-align: middle;\n",
              "    }\n",
              "\n",
              "    .dataframe tbody tr th {\n",
              "        vertical-align: top;\n",
              "    }\n",
              "\n",
              "    .dataframe thead th {\n",
              "        text-align: right;\n",
              "    }\n",
              "</style>\n",
              "<table border=\"1\" class=\"dataframe\">\n",
              "  <thead>\n",
              "    <tr style=\"text-align: right;\">\n",
              "      <th></th>\n",
              "      <th>Recency</th>\n",
              "      <th>Frequency</th>\n",
              "      <th>Monetary</th>\n",
              "    </tr>\n",
              "    <tr>\n",
              "      <th>CUSTOMER_ID</th>\n",
              "      <th></th>\n",
              "      <th></th>\n",
              "      <th></th>\n",
              "    </tr>\n",
              "  </thead>\n",
              "  <tbody>\n",
              "    <tr>\n",
              "      <th>1069</th>\n",
              "      <td>19</td>\n",
              "      <td>11</td>\n",
              "      <td>1944</td>\n",
              "    </tr>\n",
              "    <tr>\n",
              "      <th>1113</th>\n",
              "      <td>54</td>\n",
              "      <td>18</td>\n",
              "      <td>2230</td>\n",
              "    </tr>\n",
              "    <tr>\n",
              "      <th>1250</th>\n",
              "      <td>19</td>\n",
              "      <td>14</td>\n",
              "      <td>1583</td>\n",
              "    </tr>\n",
              "    <tr>\n",
              "      <th>1359</th>\n",
              "      <td>87</td>\n",
              "      <td>3</td>\n",
              "      <td>364</td>\n",
              "    </tr>\n",
              "    <tr>\n",
              "      <th>1823</th>\n",
              "      <td>36</td>\n",
              "      <td>14</td>\n",
              "      <td>2607</td>\n",
              "    </tr>\n",
              "  </tbody>\n",
              "</table>\n",
              "</div>"
            ],
            "text/plain": [
              "             Recency  Frequency  Monetary\n",
              "CUSTOMER_ID                              \n",
              "1069              19         11      1944\n",
              "1113              54         18      2230\n",
              "1250              19         14      1583\n",
              "1359              87          3       364\n",
              "1823              36         14      2607"
            ]
          },
          "metadata": {
            "tags": []
          },
          "execution_count": 26
        }
      ]
    },
    {
      "cell_type": "code",
      "metadata": {
        "colab": {
          "base_uri": "https://localhost:8080/"
        },
        "id": "Cq8cyKYsutvr",
        "outputId": "31fe1cb5-f98a-4476-c90f-06bf080ec1f5"
      },
      "source": [
        "#Descriptive Statistics (Recency)\n",
        "RFMScoring.Recency.describe()"
      ],
      "execution_count": 27,
      "outputs": [
        {
          "output_type": "execute_result",
          "data": {
            "text/plain": [
              "count    32266.000000\n",
              "mean        37.435474\n",
              "std         33.658454\n",
              "min          1.000000\n",
              "25%          9.000000\n",
              "50%         26.000000\n",
              "75%         59.000000\n",
              "max        120.000000\n",
              "Name: Recency, dtype: float64"
            ]
          },
          "metadata": {
            "tags": []
          },
          "execution_count": 27
        }
      ]
    },
    {
      "cell_type": "code",
      "metadata": {
        "colab": {
          "base_uri": "https://localhost:8080/",
          "height": 366
        },
        "id": "3LyEDaO1-tmI",
        "outputId": "60eec947-7465-49d8-9942-fa5f58ee9a23"
      },
      "source": [
        "#Recency distribution plot\n",
        "import seaborn as sns\n",
        "x = RFMScoring['Recency']\n",
        "ax = sns.distplot(x)"
      ],
      "execution_count": 28,
      "outputs": [
        {
          "output_type": "stream",
          "text": [
            "/usr/local/lib/python3.6/dist-packages/seaborn/distributions.py:2551: FutureWarning:\n",
            "\n",
            "`distplot` is a deprecated function and will be removed in a future version. Please adapt your code to use either `displot` (a figure-level function with similar flexibility) or `histplot` (an axes-level function for histograms).\n",
            "\n"
          ],
          "name": "stderr"
        },
        {
          "output_type": "display_data",
          "data": {
            "image/png": "[encoded data removed]",
            "text/plain": [
              "<Figure size 432x288 with 1 Axes>"
            ]
          },
          "metadata": {
            "tags": [],
            "needs_background": "light"
          }
        }
      ]
    },
    {
      "cell_type": "code",
      "metadata": {
        "colab": {
          "base_uri": "https://localhost:8080/"
        },
        "id": "SvKtuOo-_NtP",
        "outputId": "d6d2b2dc-83d4-4749-f356-bac3ba229cd1"
      },
      "source": [
        "#Descriptive Statstics (Frequency)\n",
        "RFMScoring.Frequency.describe()"
      ],
      "execution_count": 29,
      "outputs": [
        {
          "output_type": "execute_result",
          "data": {
            "text/plain": [
              "count    32266.000000\n",
              "mean        25.343736\n",
              "std         34.717992\n",
              "min          1.000000\n",
              "25%          6.000000\n",
              "50%         14.000000\n",
              "75%         32.000000\n",
              "max       1246.000000\n",
              "Name: Frequency, dtype: float64"
            ]
          },
          "metadata": {
            "tags": []
          },
          "execution_count": 29
        }
      ]
    },
    {
      "cell_type": "code",
      "metadata": {
        "colab": {
          "base_uri": "https://localhost:8080/",
          "height": 368
        },
        "id": "UVaGeiIQ_h4J",
        "outputId": "ad135543-fc2e-4927-e21b-08d8311eb1e9"
      },
      "source": [
        "#Frequency distribution plot, focus on frequency less than 1000\n",
        "import seaborn as sns\n",
        "x = RFMScoring.query('Frequency < 1000')['Frequency']\n",
        "ax = sns.distplot(x)"
      ],
      "execution_count": 30,
      "outputs": [
        {
          "output_type": "stream",
          "text": [
            "/usr/local/lib/python3.6/dist-packages/seaborn/distributions.py:2551: FutureWarning:\n",
            "\n",
            "`distplot` is a deprecated function and will be removed in a future version. Please adapt your code to use either `displot` (a figure-level function with similar flexibility) or `histplot` (an axes-level function for histograms).\n",
            "\n"
          ],
          "name": "stderr"
        },
        {
          "output_type": "display_data",
          "data": {
            "image/png": "[encoded data removed]",
            "text/plain": [
              "<Figure size 432x288 with 1 Axes>"
            ]
          },
          "metadata": {
            "tags": [],
            "needs_background": "light"
          }
        }
      ]
    },
    {
      "cell_type": "code",
      "metadata": {
        "colab": {
          "base_uri": "https://localhost:8080/"
        },
        "id": "NRdl4qivAL89",
        "outputId": "01913b60-6016-4f30-91ea-048b1ae57d21"
      },
      "source": [
        "#Descriptive Statstics (Monetary)\n",
        "RFMScoring.Monetary.describe()"
      ],
      "execution_count": 31,
      "outputs": [
        {
          "output_type": "execute_result",
          "data": {
            "text/plain": [
              "count     32266.000000\n",
              "mean       3342.220170\n",
              "std        6215.318795\n",
              "min           8.000000\n",
              "25%         710.000000\n",
              "50%        1765.500000\n",
              "75%        4039.000000\n",
              "max      459771.000000\n",
              "Name: Monetary, dtype: float64"
            ]
          },
          "metadata": {
            "tags": []
          },
          "execution_count": 31
        }
      ]
    },
    {
      "cell_type": "code",
      "metadata": {
        "colab": {
          "base_uri": "https://localhost:8080/",
          "height": 366
        },
        "id": "-42HLa8qApLQ",
        "outputId": "f918128a-1747-4f6d-c5ca-f6ea17939234"
      },
      "source": [
        "#Monetary distribution plot, focus on monetary less than 1000\n",
        "import seaborn as sns\n",
        "x = RFMScoring.query('Monetary < 1000')['Monetary']\n",
        "ax = sns.distplot(x)"
      ],
      "execution_count": 32,
      "outputs": [
        {
          "output_type": "stream",
          "text": [
            "/usr/local/lib/python3.6/dist-packages/seaborn/distributions.py:2551: FutureWarning:\n",
            "\n",
            "`distplot` is a deprecated function and will be removed in a future version. Please adapt your code to use either `displot` (a figure-level function with similar flexibility) or `histplot` (an axes-level function for histograms).\n",
            "\n"
          ],
          "name": "stderr"
        },
        {
          "output_type": "display_data",
          "data": {
            "image/png": "[encoded data removed]",
            "text/plain": [
              "<Figure size 432x288 with 1 Axes>"
            ]
          },
          "metadata": {
            "tags": [],
            "needs_background": "light"
          }
        }
      ]
    },
    {
      "cell_type": "code",
      "metadata": {
        "colab": {
          "base_uri": "https://localhost:8080/"
        },
        "id": "GXtbdKAdA8MT",
        "outputId": "34a03471-d3cc-49e8-e4f6-c2a5ec79de13"
      },
      "source": [
        "#Split Recency, Frequency, and Monetary into four segments using quantiles\n",
        "quantiles = RFMScoring.quantile(q=[0.25,0.5,0.75])\n",
        "quantiles = quantiles.to_dict()\n",
        "quantiles "
      ],
      "execution_count": 33,
      "outputs": [
        {
          "output_type": "execute_result",
          "data": {
            "text/plain": [
              "{'Frequency': {0.25: 6.0, 0.5: 14.0, 0.75: 32.0},\n",
              " 'Monetary': {0.25: 710.0, 0.5: 1765.5, 0.75: 4039.0},\n",
              " 'Recency': {0.25: 9.0, 0.5: 26.0, 0.75: 59.0}}"
            ]
          },
          "metadata": {
            "tags": []
          },
          "execution_count": 33
        }
      ]
    },
    {
      "cell_type": "code",
      "metadata": {
        "id": "EyGP6TGvDHta"
      },
      "source": [
        "#Functions to create R, F, and M segments\n",
        "def RScoring(x,p,d):\n",
        "  if x<= d[p][0.25]:\n",
        "      return 1\n",
        "  elif x <= d[p][0.50]:\n",
        "      return 2\n",
        "  elif x <= d[p][0.75]:\n",
        "       return 3\n",
        "  else:\n",
        "        return 4\n",
        "def FnMScoring(x,p,d):\n",
        "  if x<= d[p][0.25]:\n",
        "      return 4\n",
        "  elif x <= d[p][0.50]:\n",
        "      return 3\n",
        "  elif x <= d[p][0.75]:\n",
        "      return 2\n",
        "  else:\n",
        "       return 1"
      ],
      "execution_count": 34,
      "outputs": []
    },
    {
      "cell_type": "code",
      "metadata": {
        "colab": {
          "base_uri": "https://localhost:8080/",
          "height": 227
        },
        "id": "r-inKdWqLQFc",
        "outputId": "07b23bf4-c8fe-4334-b9dc-29a3026918b5"
      },
      "source": [
        "#Calculate Add R, F, and M segment value columns to the existing dataset to show R segment values\n",
        "RFMScoring['R'] = RFMScoring['Recency'].apply(RScoring, args=('Recency', quantiles,))\n",
        "RFMScoring['F'] = RFMScoring['Frequency'].apply(FnMScoring, args=('Frequency', quantiles,))\n",
        "RFMScoring['M'] = RFMScoring['Monetary'].apply(FnMScoring, args=('Monetary', quantiles,))\n",
        "RFMScoring.head()"
      ],
      "execution_count": 35,
      "outputs": [
        {
          "output_type": "execute_result",
          "data": {
            "text/html": [
              "<div>\n",
              "<style scoped>\n",
              "    .dataframe tbody tr th:only-of-type {\n",
              "        vertical-align: middle;\n",
              "    }\n",
              "\n",
              "    .dataframe tbody tr th {\n",
              "        vertical-align: top;\n",
              "    }\n",
              "\n",
              "    .dataframe thead th {\n",
              "        text-align: right;\n",
              "    }\n",
              "</style>\n",
              "<table border=\"1\" class=\"dataframe\">\n",
              "  <thead>\n",
              "    <tr style=\"text-align: right;\">\n",
              "      <th></th>\n",
              "      <th>Recency</th>\n",
              "      <th>Frequency</th>\n",
              "      <th>Monetary</th>\n",
              "      <th>R</th>\n",
              "      <th>F</th>\n",
              "      <th>M</th>\n",
              "    </tr>\n",
              "    <tr>\n",
              "      <th>CUSTOMER_ID</th>\n",
              "      <th></th>\n",
              "      <th></th>\n",
              "      <th></th>\n",
              "      <th></th>\n",
              "      <th></th>\n",
              "      <th></th>\n",
              "    </tr>\n",
              "  </thead>\n",
              "  <tbody>\n",
              "    <tr>\n",
              "      <th>1069</th>\n",
              "      <td>19</td>\n",
              "      <td>11</td>\n",
              "      <td>1944</td>\n",
              "      <td>2</td>\n",
              "      <td>3</td>\n",
              "      <td>2</td>\n",
              "    </tr>\n",
              "    <tr>\n",
              "      <th>1113</th>\n",
              "      <td>54</td>\n",
              "      <td>18</td>\n",
              "      <td>2230</td>\n",
              "      <td>3</td>\n",
              "      <td>2</td>\n",
              "      <td>2</td>\n",
              "    </tr>\n",
              "    <tr>\n",
              "      <th>1250</th>\n",
              "      <td>19</td>\n",
              "      <td>14</td>\n",
              "      <td>1583</td>\n",
              "      <td>2</td>\n",
              "      <td>3</td>\n",
              "      <td>3</td>\n",
              "    </tr>\n",
              "    <tr>\n",
              "      <th>1359</th>\n",
              "      <td>87</td>\n",
              "      <td>3</td>\n",
              "      <td>364</td>\n",
              "      <td>4</td>\n",
              "      <td>4</td>\n",
              "      <td>4</td>\n",
              "    </tr>\n",
              "    <tr>\n",
              "      <th>1823</th>\n",
              "      <td>36</td>\n",
              "      <td>14</td>\n",
              "      <td>2607</td>\n",
              "      <td>3</td>\n",
              "      <td>3</td>\n",
              "      <td>2</td>\n",
              "    </tr>\n",
              "  </tbody>\n",
              "</table>\n",
              "</div>"
            ],
            "text/plain": [
              "             Recency  Frequency  Monetary  R  F  M\n",
              "CUSTOMER_ID                                       \n",
              "1069              19         11      1944  2  3  2\n",
              "1113              54         18      2230  3  2  2\n",
              "1250              19         14      1583  2  3  3\n",
              "1359              87          3       364  4  4  4\n",
              "1823              36         14      2607  3  3  2"
            ]
          },
          "metadata": {
            "tags": []
          },
          "execution_count": 35
        }
      ]
    },
    {
      "cell_type": "code",
      "metadata": {
        "colab": {
          "base_uri": "https://localhost:8080/",
          "height": 227
        },
        "id": "iWS8YIJq72zV",
        "outputId": "93451925-5cc7-4728-9628-3a0e2b43019a"
      },
      "source": [
        "#Calculate and Add RFMCluster value column showing combined concatenated score of RFM\n",
        "RFMScoring['RFMCluster'] =  RFMScoring.R.map(str) + RFMScoring.F.map(str) + RFMScoring.M.map(str)\n",
        "\n",
        "#Calculate and Add RFMScoring value column showing total sum of RFMCluster values\n",
        "RFMScoring['RFMScore'] = RFMScoring[['R','F','M']].sum(axis=1)\n",
        "RFMScoring.head()"
      ],
      "execution_count": 36,
      "outputs": [
        {
          "output_type": "execute_result",
          "data": {
            "text/html": [
              "<div>\n",
              "<style scoped>\n",
              "    .dataframe tbody tr th:only-of-type {\n",
              "        vertical-align: middle;\n",
              "    }\n",
              "\n",
              "    .dataframe tbody tr th {\n",
              "        vertical-align: top;\n",
              "    }\n",
              "\n",
              "    .dataframe thead th {\n",
              "        text-align: right;\n",
              "    }\n",
              "</style>\n",
              "<table border=\"1\" class=\"dataframe\">\n",
              "  <thead>\n",
              "    <tr style=\"text-align: right;\">\n",
              "      <th></th>\n",
              "      <th>Recency</th>\n",
              "      <th>Frequency</th>\n",
              "      <th>Monetary</th>\n",
              "      <th>R</th>\n",
              "      <th>F</th>\n",
              "      <th>M</th>\n",
              "      <th>RFMCluster</th>\n",
              "      <th>RFMScore</th>\n",
              "    </tr>\n",
              "    <tr>\n",
              "      <th>CUSTOMER_ID</th>\n",
              "      <th></th>\n",
              "      <th></th>\n",
              "      <th></th>\n",
              "      <th></th>\n",
              "      <th></th>\n",
              "      <th></th>\n",
              "      <th></th>\n",
              "      <th></th>\n",
              "    </tr>\n",
              "  </thead>\n",
              "  <tbody>\n",
              "    <tr>\n",
              "      <th>1069</th>\n",
              "      <td>19</td>\n",
              "      <td>11</td>\n",
              "      <td>1944</td>\n",
              "      <td>2</td>\n",
              "      <td>3</td>\n",
              "      <td>2</td>\n",
              "      <td>232</td>\n",
              "      <td>7</td>\n",
              "    </tr>\n",
              "    <tr>\n",
              "      <th>1113</th>\n",
              "      <td>54</td>\n",
              "      <td>18</td>\n",
              "      <td>2230</td>\n",
              "      <td>3</td>\n",
              "      <td>2</td>\n",
              "      <td>2</td>\n",
              "      <td>322</td>\n",
              "      <td>7</td>\n",
              "    </tr>\n",
              "    <tr>\n",
              "      <th>1250</th>\n",
              "      <td>19</td>\n",
              "      <td>14</td>\n",
              "      <td>1583</td>\n",
              "      <td>2</td>\n",
              "      <td>3</td>\n",
              "      <td>3</td>\n",
              "      <td>233</td>\n",
              "      <td>8</td>\n",
              "    </tr>\n",
              "    <tr>\n",
              "      <th>1359</th>\n",
              "      <td>87</td>\n",
              "      <td>3</td>\n",
              "      <td>364</td>\n",
              "      <td>4</td>\n",
              "      <td>4</td>\n",
              "      <td>4</td>\n",
              "      <td>444</td>\n",
              "      <td>12</td>\n",
              "    </tr>\n",
              "    <tr>\n",
              "      <th>1823</th>\n",
              "      <td>36</td>\n",
              "      <td>14</td>\n",
              "      <td>2607</td>\n",
              "      <td>3</td>\n",
              "      <td>3</td>\n",
              "      <td>2</td>\n",
              "      <td>332</td>\n",
              "      <td>8</td>\n",
              "    </tr>\n",
              "  </tbody>\n",
              "</table>\n",
              "</div>"
            ],
            "text/plain": [
              "             Recency  Frequency  Monetary  R  F  M RFMCluster  RFMScore\n",
              "CUSTOMER_ID                                                            \n",
              "1069              19         11      1944  2  3  2        232         7\n",
              "1113              54         18      2230  3  2  2        322         7\n",
              "1250              19         14      1583  2  3  3        233         8\n",
              "1359              87          3       364  4  4  4        444        12\n",
              "1823              36         14      2607  3  3  2        332         8"
            ]
          },
          "metadata": {
            "tags": []
          },
          "execution_count": 36
        }
      ]
    },
    {
      "cell_type": "code",
      "metadata": {
        "colab": {
          "base_uri": "https://localhost:8080/",
          "height": 197
        },
        "id": "HYud4zzl_2N8",
        "outputId": "d704684a-6a22-4aa4-f378-9e0f7a80c14d"
      },
      "source": [
        "#Assign loyalty level to each customer -- class label\n",
        "loyalty_level = ['Superstars', 'Golden', 'Occasional', 'Everyday', 'Dormant']\n",
        "score_cuts = pd.qcut(RFMScoring.RFMScore, q = 5, labels = loyalty_level)\n",
        "RFMScoring['RFMLoyalty_Level'] = score_cuts.values\n",
        "RFMScoring.reset_index().head()"
      ],
      "execution_count": 37,
      "outputs": [
        {
          "output_type": "execute_result",
          "data": {
            "text/html": [
              "<div>\n",
              "<style scoped>\n",
              "    .dataframe tbody tr th:only-of-type {\n",
              "        vertical-align: middle;\n",
              "    }\n",
              "\n",
              "    .dataframe tbody tr th {\n",
              "        vertical-align: top;\n",
              "    }\n",
              "\n",
              "    .dataframe thead th {\n",
              "        text-align: right;\n",
              "    }\n",
              "</style>\n",
              "<table border=\"1\" class=\"dataframe\">\n",
              "  <thead>\n",
              "    <tr style=\"text-align: right;\">\n",
              "      <th></th>\n",
              "      <th>CUSTOMER_ID</th>\n",
              "      <th>Recency</th>\n",
              "      <th>Frequency</th>\n",
              "      <th>Monetary</th>\n",
              "      <th>R</th>\n",
              "      <th>F</th>\n",
              "      <th>M</th>\n",
              "      <th>RFMCluster</th>\n",
              "      <th>RFMScore</th>\n",
              "      <th>RFMLoyalty_Level</th>\n",
              "    </tr>\n",
              "  </thead>\n",
              "  <tbody>\n",
              "    <tr>\n",
              "      <th>0</th>\n",
              "      <td>1069</td>\n",
              "      <td>19</td>\n",
              "      <td>11</td>\n",
              "      <td>1944</td>\n",
              "      <td>2</td>\n",
              "      <td>3</td>\n",
              "      <td>2</td>\n",
              "      <td>232</td>\n",
              "      <td>7</td>\n",
              "      <td>Golden</td>\n",
              "    </tr>\n",
              "    <tr>\n",
              "      <th>1</th>\n",
              "      <td>1113</td>\n",
              "      <td>54</td>\n",
              "      <td>18</td>\n",
              "      <td>2230</td>\n",
              "      <td>3</td>\n",
              "      <td>2</td>\n",
              "      <td>2</td>\n",
              "      <td>322</td>\n",
              "      <td>7</td>\n",
              "      <td>Golden</td>\n",
              "    </tr>\n",
              "    <tr>\n",
              "      <th>2</th>\n",
              "      <td>1250</td>\n",
              "      <td>19</td>\n",
              "      <td>14</td>\n",
              "      <td>1583</td>\n",
              "      <td>2</td>\n",
              "      <td>3</td>\n",
              "      <td>3</td>\n",
              "      <td>233</td>\n",
              "      <td>8</td>\n",
              "      <td>Occasional</td>\n",
              "    </tr>\n",
              "    <tr>\n",
              "      <th>3</th>\n",
              "      <td>1359</td>\n",
              "      <td>87</td>\n",
              "      <td>3</td>\n",
              "      <td>364</td>\n",
              "      <td>4</td>\n",
              "      <td>4</td>\n",
              "      <td>4</td>\n",
              "      <td>444</td>\n",
              "      <td>12</td>\n",
              "      <td>Dormant</td>\n",
              "    </tr>\n",
              "    <tr>\n",
              "      <th>4</th>\n",
              "      <td>1823</td>\n",
              "      <td>36</td>\n",
              "      <td>14</td>\n",
              "      <td>2607</td>\n",
              "      <td>3</td>\n",
              "      <td>3</td>\n",
              "      <td>2</td>\n",
              "      <td>332</td>\n",
              "      <td>8</td>\n",
              "      <td>Occasional</td>\n",
              "    </tr>\n",
              "  </tbody>\n",
              "</table>\n",
              "</div>"
            ],
            "text/plain": [
              "   CUSTOMER_ID  Recency  Frequency  ...  RFMCluster  RFMScore  RFMLoyalty_Level\n",
              "0         1069       19         11  ...         232         7            Golden\n",
              "1         1113       54         18  ...         322         7            Golden\n",
              "2         1250       19         14  ...         233         8        Occasional\n",
              "3         1359       87          3  ...         444        12           Dormant\n",
              "4         1823       36         14  ...         332         8        Occasional\n",
              "\n",
              "[5 rows x 10 columns]"
            ]
          },
          "metadata": {
            "tags": []
          },
          "execution_count": 37
        }
      ]
    },
    {
      "cell_type": "code",
      "metadata": {
        "colab": {
          "base_uri": "https://localhost:8080/",
          "height": 347
        },
        "id": "4rRu7sP7C9uJ",
        "outputId": "d8225b70-adf4-43c1-d0c9-b097d264c68d"
      },
      "source": [
        "#Validate the data for RFMCluster = 322\n",
        "RFMScoring[RFMScoring['RFMCluster']=='322'].sort_values('Monetary', ascending = False).reset_index().head(10)"
      ],
      "execution_count": 38,
      "outputs": [
        {
          "output_type": "execute_result",
          "data": {
            "text/html": [
              "<div>\n",
              "<style scoped>\n",
              "    .dataframe tbody tr th:only-of-type {\n",
              "        vertical-align: middle;\n",
              "    }\n",
              "\n",
              "    .dataframe tbody tr th {\n",
              "        vertical-align: top;\n",
              "    }\n",
              "\n",
              "    .dataframe thead th {\n",
              "        text-align: right;\n",
              "    }\n",
              "</style>\n",
              "<table border=\"1\" class=\"dataframe\">\n",
              "  <thead>\n",
              "    <tr style=\"text-align: right;\">\n",
              "      <th></th>\n",
              "      <th>CUSTOMER_ID</th>\n",
              "      <th>Recency</th>\n",
              "      <th>Frequency</th>\n",
              "      <th>Monetary</th>\n",
              "      <th>R</th>\n",
              "      <th>F</th>\n",
              "      <th>M</th>\n",
              "      <th>RFMCluster</th>\n",
              "      <th>RFMScore</th>\n",
              "      <th>RFMLoyalty_Level</th>\n",
              "    </tr>\n",
              "  </thead>\n",
              "  <tbody>\n",
              "    <tr>\n",
              "      <th>0</th>\n",
              "      <td>2161754</td>\n",
              "      <td>38</td>\n",
              "      <td>29</td>\n",
              "      <td>4037</td>\n",
              "      <td>3</td>\n",
              "      <td>2</td>\n",
              "      <td>2</td>\n",
              "      <td>322</td>\n",
              "      <td>7</td>\n",
              "      <td>Golden</td>\n",
              "    </tr>\n",
              "    <tr>\n",
              "      <th>1</th>\n",
              "      <td>1300642</td>\n",
              "      <td>52</td>\n",
              "      <td>26</td>\n",
              "      <td>4035</td>\n",
              "      <td>3</td>\n",
              "      <td>2</td>\n",
              "      <td>2</td>\n",
              "      <td>322</td>\n",
              "      <td>7</td>\n",
              "      <td>Golden</td>\n",
              "    </tr>\n",
              "    <tr>\n",
              "      <th>2</th>\n",
              "      <td>1477900</td>\n",
              "      <td>27</td>\n",
              "      <td>16</td>\n",
              "      <td>4034</td>\n",
              "      <td>3</td>\n",
              "      <td>2</td>\n",
              "      <td>2</td>\n",
              "      <td>322</td>\n",
              "      <td>7</td>\n",
              "      <td>Golden</td>\n",
              "    </tr>\n",
              "    <tr>\n",
              "      <th>3</th>\n",
              "      <td>2072265</td>\n",
              "      <td>30</td>\n",
              "      <td>25</td>\n",
              "      <td>4034</td>\n",
              "      <td>3</td>\n",
              "      <td>2</td>\n",
              "      <td>2</td>\n",
              "      <td>322</td>\n",
              "      <td>7</td>\n",
              "      <td>Golden</td>\n",
              "    </tr>\n",
              "    <tr>\n",
              "      <th>4</th>\n",
              "      <td>2051994</td>\n",
              "      <td>31</td>\n",
              "      <td>20</td>\n",
              "      <td>4030</td>\n",
              "      <td>3</td>\n",
              "      <td>2</td>\n",
              "      <td>2</td>\n",
              "      <td>322</td>\n",
              "      <td>7</td>\n",
              "      <td>Golden</td>\n",
              "    </tr>\n",
              "    <tr>\n",
              "      <th>5</th>\n",
              "      <td>1165449</td>\n",
              "      <td>33</td>\n",
              "      <td>26</td>\n",
              "      <td>4028</td>\n",
              "      <td>3</td>\n",
              "      <td>2</td>\n",
              "      <td>2</td>\n",
              "      <td>322</td>\n",
              "      <td>7</td>\n",
              "      <td>Golden</td>\n",
              "    </tr>\n",
              "    <tr>\n",
              "      <th>6</th>\n",
              "      <td>1037784</td>\n",
              "      <td>32</td>\n",
              "      <td>28</td>\n",
              "      <td>4027</td>\n",
              "      <td>3</td>\n",
              "      <td>2</td>\n",
              "      <td>2</td>\n",
              "      <td>322</td>\n",
              "      <td>7</td>\n",
              "      <td>Golden</td>\n",
              "    </tr>\n",
              "    <tr>\n",
              "      <th>7</th>\n",
              "      <td>521338</td>\n",
              "      <td>40</td>\n",
              "      <td>16</td>\n",
              "      <td>4026</td>\n",
              "      <td>3</td>\n",
              "      <td>2</td>\n",
              "      <td>2</td>\n",
              "      <td>322</td>\n",
              "      <td>7</td>\n",
              "      <td>Golden</td>\n",
              "    </tr>\n",
              "    <tr>\n",
              "      <th>8</th>\n",
              "      <td>946223</td>\n",
              "      <td>40</td>\n",
              "      <td>26</td>\n",
              "      <td>4015</td>\n",
              "      <td>3</td>\n",
              "      <td>2</td>\n",
              "      <td>2</td>\n",
              "      <td>322</td>\n",
              "      <td>7</td>\n",
              "      <td>Golden</td>\n",
              "    </tr>\n",
              "    <tr>\n",
              "      <th>9</th>\n",
              "      <td>2073095</td>\n",
              "      <td>39</td>\n",
              "      <td>31</td>\n",
              "      <td>4000</td>\n",
              "      <td>3</td>\n",
              "      <td>2</td>\n",
              "      <td>2</td>\n",
              "      <td>322</td>\n",
              "      <td>7</td>\n",
              "      <td>Golden</td>\n",
              "    </tr>\n",
              "  </tbody>\n",
              "</table>\n",
              "</div>"
            ],
            "text/plain": [
              "   CUSTOMER_ID  Recency  Frequency  ...  RFMCluster  RFMScore  RFMLoyalty_Level\n",
              "0      2161754       38         29  ...         322         7            Golden\n",
              "1      1300642       52         26  ...         322         7            Golden\n",
              "2      1477900       27         16  ...         322         7            Golden\n",
              "3      2072265       30         25  ...         322         7            Golden\n",
              "4      2051994       31         20  ...         322         7            Golden\n",
              "5      1165449       33         26  ...         322         7            Golden\n",
              "6      1037784       32         28  ...         322         7            Golden\n",
              "7       521338       40         16  ...         322         7            Golden\n",
              "8       946223       40         26  ...         322         7            Golden\n",
              "9      2073095       39         31  ...         322         7            Golden\n",
              "\n",
              "[10 rows x 10 columns]"
            ]
          },
          "metadata": {
            "tags": []
          },
          "execution_count": 38
        }
      ]
    },
    {
      "cell_type": "code",
      "metadata": {
        "id": "1wnkpfuIHzB4",
        "colab": {
          "base_uri": "https://localhost:8080/",
          "height": 347
        },
        "outputId": "6d2a4307-6a34-4214-d032-219efbedcc5b"
      },
      "source": [
        "#Validate the data for RFMCluster = 233\r\n",
        "RFMScoring[RFMScoring['RFMCluster']=='233'].sort_values('Monetary', ascending = False).reset_index().head(10)"
      ],
      "execution_count": 39,
      "outputs": [
        {
          "output_type": "execute_result",
          "data": {
            "text/html": [
              "<div>\n",
              "<style scoped>\n",
              "    .dataframe tbody tr th:only-of-type {\n",
              "        vertical-align: middle;\n",
              "    }\n",
              "\n",
              "    .dataframe tbody tr th {\n",
              "        vertical-align: top;\n",
              "    }\n",
              "\n",
              "    .dataframe thead th {\n",
              "        text-align: right;\n",
              "    }\n",
              "</style>\n",
              "<table border=\"1\" class=\"dataframe\">\n",
              "  <thead>\n",
              "    <tr style=\"text-align: right;\">\n",
              "      <th></th>\n",
              "      <th>CUSTOMER_ID</th>\n",
              "      <th>Recency</th>\n",
              "      <th>Frequency</th>\n",
              "      <th>Monetary</th>\n",
              "      <th>R</th>\n",
              "      <th>F</th>\n",
              "      <th>M</th>\n",
              "      <th>RFMCluster</th>\n",
              "      <th>RFMScore</th>\n",
              "      <th>RFMLoyalty_Level</th>\n",
              "    </tr>\n",
              "  </thead>\n",
              "  <tbody>\n",
              "    <tr>\n",
              "      <th>0</th>\n",
              "      <td>1822076</td>\n",
              "      <td>19</td>\n",
              "      <td>10</td>\n",
              "      <td>1763</td>\n",
              "      <td>2</td>\n",
              "      <td>3</td>\n",
              "      <td>3</td>\n",
              "      <td>233</td>\n",
              "      <td>8</td>\n",
              "      <td>Occasional</td>\n",
              "    </tr>\n",
              "    <tr>\n",
              "      <th>1</th>\n",
              "      <td>1909555</td>\n",
              "      <td>18</td>\n",
              "      <td>11</td>\n",
              "      <td>1762</td>\n",
              "      <td>2</td>\n",
              "      <td>3</td>\n",
              "      <td>3</td>\n",
              "      <td>233</td>\n",
              "      <td>8</td>\n",
              "      <td>Occasional</td>\n",
              "    </tr>\n",
              "    <tr>\n",
              "      <th>2</th>\n",
              "      <td>1704358</td>\n",
              "      <td>25</td>\n",
              "      <td>10</td>\n",
              "      <td>1762</td>\n",
              "      <td>2</td>\n",
              "      <td>3</td>\n",
              "      <td>3</td>\n",
              "      <td>233</td>\n",
              "      <td>8</td>\n",
              "      <td>Occasional</td>\n",
              "    </tr>\n",
              "    <tr>\n",
              "      <th>3</th>\n",
              "      <td>1641608</td>\n",
              "      <td>25</td>\n",
              "      <td>8</td>\n",
              "      <td>1752</td>\n",
              "      <td>2</td>\n",
              "      <td>3</td>\n",
              "      <td>3</td>\n",
              "      <td>233</td>\n",
              "      <td>8</td>\n",
              "      <td>Occasional</td>\n",
              "    </tr>\n",
              "    <tr>\n",
              "      <th>4</th>\n",
              "      <td>895392</td>\n",
              "      <td>18</td>\n",
              "      <td>8</td>\n",
              "      <td>1751</td>\n",
              "      <td>2</td>\n",
              "      <td>3</td>\n",
              "      <td>3</td>\n",
              "      <td>233</td>\n",
              "      <td>8</td>\n",
              "      <td>Occasional</td>\n",
              "    </tr>\n",
              "    <tr>\n",
              "      <th>5</th>\n",
              "      <td>1569131</td>\n",
              "      <td>18</td>\n",
              "      <td>9</td>\n",
              "      <td>1751</td>\n",
              "      <td>2</td>\n",
              "      <td>3</td>\n",
              "      <td>3</td>\n",
              "      <td>233</td>\n",
              "      <td>8</td>\n",
              "      <td>Occasional</td>\n",
              "    </tr>\n",
              "    <tr>\n",
              "      <th>6</th>\n",
              "      <td>916707</td>\n",
              "      <td>21</td>\n",
              "      <td>14</td>\n",
              "      <td>1750</td>\n",
              "      <td>2</td>\n",
              "      <td>3</td>\n",
              "      <td>3</td>\n",
              "      <td>233</td>\n",
              "      <td>8</td>\n",
              "      <td>Occasional</td>\n",
              "    </tr>\n",
              "    <tr>\n",
              "      <th>7</th>\n",
              "      <td>1737547</td>\n",
              "      <td>13</td>\n",
              "      <td>7</td>\n",
              "      <td>1749</td>\n",
              "      <td>2</td>\n",
              "      <td>3</td>\n",
              "      <td>3</td>\n",
              "      <td>233</td>\n",
              "      <td>8</td>\n",
              "      <td>Occasional</td>\n",
              "    </tr>\n",
              "    <tr>\n",
              "      <th>8</th>\n",
              "      <td>1690736</td>\n",
              "      <td>24</td>\n",
              "      <td>11</td>\n",
              "      <td>1743</td>\n",
              "      <td>2</td>\n",
              "      <td>3</td>\n",
              "      <td>3</td>\n",
              "      <td>233</td>\n",
              "      <td>8</td>\n",
              "      <td>Occasional</td>\n",
              "    </tr>\n",
              "    <tr>\n",
              "      <th>9</th>\n",
              "      <td>2164755</td>\n",
              "      <td>16</td>\n",
              "      <td>12</td>\n",
              "      <td>1742</td>\n",
              "      <td>2</td>\n",
              "      <td>3</td>\n",
              "      <td>3</td>\n",
              "      <td>233</td>\n",
              "      <td>8</td>\n",
              "      <td>Occasional</td>\n",
              "    </tr>\n",
              "  </tbody>\n",
              "</table>\n",
              "</div>"
            ],
            "text/plain": [
              "   CUSTOMER_ID  Recency  Frequency  ...  RFMCluster  RFMScore  RFMLoyalty_Level\n",
              "0      1822076       19         10  ...         233         8        Occasional\n",
              "1      1909555       18         11  ...         233         8        Occasional\n",
              "2      1704358       25         10  ...         233         8        Occasional\n",
              "3      1641608       25          8  ...         233         8        Occasional\n",
              "4       895392       18          8  ...         233         8        Occasional\n",
              "5      1569131       18          9  ...         233         8        Occasional\n",
              "6       916707       21         14  ...         233         8        Occasional\n",
              "7      1737547       13          7  ...         233         8        Occasional\n",
              "8      1690736       24         11  ...         233         8        Occasional\n",
              "9      2164755       16         12  ...         233         8        Occasional\n",
              "\n",
              "[10 rows x 10 columns]"
            ]
          },
          "metadata": {
            "tags": []
          },
          "execution_count": 39
        }
      ]
    },
    {
      "cell_type": "markdown",
      "metadata": {
        "id": "_QBShv_jfE7O"
      },
      "source": [
        "#Preparating Data for Clustering using K-Means"
      ]
    },
    {
      "cell_type": "code",
      "metadata": {
        "colab": {
          "base_uri": "https://localhost:8080/",
          "height": 542
        },
        "id": "cuyBhcsze_2u",
        "outputId": "63033580-f893-4c11-c69d-cf72b634cd68"
      },
      "source": [
        "#Recency vs Frequency\r\n",
        "graph = RFMScoring.query(\"Monetary < 50000 and Frequency < 2000\")\r\n",
        "\r\n",
        "plot_data = [\r\n",
        "             gobj.Scatter(\r\n",
        "                 x=graph.query(\"RFMLoyalty_Level == 'Dormant'\")['Recency'],\r\n",
        "                 y=graph.query(\"RFMLoyalty_Level == 'Dormant'\")['Frequency'],\r\n",
        "                 mode = 'markers',\r\n",
        "                 name = 'Dormant',\r\n",
        "                 marker= dict(size = 5,\r\n",
        "                              line = dict(width=1),\r\n",
        "                              color ='blue',\r\n",
        "                              opacity=0.8\r\n",
        "                              )\r\n",
        "             ),\r\n",
        "           gobj.Scatter(\r\n",
        "                 x=graph.query(\"RFMLoyalty_Level == 'Everyday'\")['Recency'],\r\n",
        "                 y=graph.query(\"RFMLoyalty_Level == 'Everyday'\")['Frequency'],\r\n",
        "                 mode = 'markers',\r\n",
        "                 name = 'Everyday',\r\n",
        "                 marker= dict(size = 7,\r\n",
        "                              line = dict(width=1),\r\n",
        "                              color ='green',\r\n",
        "                              opacity=0.8\r\n",
        "                              )  \r\n",
        "                 ),\r\n",
        "           gobj.Scatter(\r\n",
        "                 x=graph.query(\"RFMLoyalty_Level == 'Occasional'\")['Recency'],\r\n",
        "                 y=graph.query(\"RFMLoyalty_Level == 'Occasional'\")['Frequency'],\r\n",
        "                 mode = 'markers',\r\n",
        "                 name = 'Occasional',\r\n",
        "                 marker= dict(size = 9,\r\n",
        "                              line = dict(width=1),\r\n",
        "                              color ='black',\r\n",
        "                              opacity=0.8\r\n",
        "                              ) \r\n",
        "           ),\r\n",
        "            gobj.Scatter(\r\n",
        "                 x=graph.query(\"RFMLoyalty_Level == 'Golden'\")['Recency'],\r\n",
        "                 y=graph.query(\"RFMLoyalty_Level == 'Golden'\")['Frequency'],\r\n",
        "                 mode = 'markers',\r\n",
        "                 name = 'Golden',\r\n",
        "                 marker= dict(size = 11,\r\n",
        "                              line = dict(width=1),\r\n",
        "                              color ='yellow',\r\n",
        "                              opacity=0.8\r\n",
        "                              ) \r\n",
        "            ),\r\n",
        "             gobj.Scatter(\r\n",
        "                 x=graph.query(\"RFMLoyalty_Level == 'Superstars'\")['Recency'],\r\n",
        "                 y=graph.query(\"RFMLoyalty_Level == 'Superstars'\")['Frequency'],\r\n",
        "                 mode = 'markers',\r\n",
        "                 name = 'Superstars',\r\n",
        "                 marker= dict(size = 13,\r\n",
        "                              line = dict(width=1),\r\n",
        "                              color ='red',\r\n",
        "                              opacity=0.8\r\n",
        "                              ) \r\n",
        "             ),\r\n",
        "             \r\n",
        "]\r\n",
        "plot_layout = gobj.Layout(\r\n",
        "    yaxis={'title': 'Frequency'},\r\n",
        "    xaxis={'title': 'Recency'},\r\n",
        "    title = 'Recency vs Frequency'\r\n",
        ")\r\n",
        "fig = gobj.Figure(data=plot_data, layout=plot_layout)\r\n",
        "po.iplot(fig)"
      ],
      "execution_count": 40,
      "outputs": [
        {
          "output_type": "display_data",
          "data": {
            "text/html": [
              "<html>\n",
              "<head><meta charset=\"utf-8\" /></head>\n",
              "<body>\n",
              "    <div>\n",
              "            <script src=\"https://cdnjs.cloudflare.com/ajax/libs/mathjax/2.7.5/MathJax.js?config=TeX-AMS-MML_SVG\"></script><script type=\"text/javascript\">if (window.MathJax) {MathJax.Hub.Config({SVG: {font: \"STIX-Web\"}});}</script>\n",
              "                <script type=\"text/javascript\">window.PlotlyConfig = {MathJaxConfig: 'local'};</script>\n",
              "        <script src=\"https://cdn.plot.ly/plotly-latest.min.js\"></script>    \n",
              "            <div id=\"282db5ab-d9a6-4872-bb28-9f493026ce62\" class=\"plotly-graph-div\" style=\"height:525px; width:100%;\"></div>\n",
              "            <script type=\"text/javascript\">\n",
              "                \n",
              "                    window.PLOTLYENV=window.PLOTLYENV || {};\n",
              "                    \n",
              "                if (document.getElementById(\"282db5ab-d9a6-4872-bb28-9f493026ce62\")) {\n",
              "                    Plotly.newPlot(\n",
              "                        '282db5ab-d9a6-4872-bb28-9f493026ce62',\n",
              "                        [{\"marker\": {\"color\": \"blue\", \"line\": {\"width\": 1}, \"opacity\": 0.8, \"size\": 5}, \"mode\": \"markers\", \"name\": \"Dormant\", \"type\": \"scatter\", \"x\": [87, 103, 36, 71, 108, 90, 69, 69, 67, 68, 86, 43, 88, 67, 85, 35, 38, 109, 38, 109, 56, 34, 70, 98, 91, 27, 107, 41, 65, 98, 46, 39, 103, 95, 80, 119, 119, 112, 31, 67, 119, 76, 100, 54, 117, 99, 58, 98, 74, 81, 111, 54, 70, 52, 67, 111, 29, 55, 69, 81, 37, 114, 29, 54, 95, 110, 109, 103, 106, 77, 74, 111, 84, 76, 74, 80, 82, 109, 115, 117, 65, 75, 77, 101, 74, 37, 66, 29, 109, 68, 28, 93, 77, 102, 84, 111, 87, 76, 28, 47, 96, 66, 116, 31, 66, 117, 42, 82, 94, 65, 60, 97, 115, 98, 88, 42, 77, 66, 88, 96, 73, 31, 96, 54, 64, 101, 101, 78, 29, 114, 67, 69, 88, 61, 68, 68, 38, 60, 77, 68, 110, 38, 40, 58, 95, 48, 28, 103, 40, 84, 31, 66, 66, 41, 93, 96, 94, 80, 33, 77, 51, 102, 119, 102, 49, 37, 79, 88, 59, 74, 111, 82, 96, 33, 90, 98, 98, 73, 91, 86, 86, 81, 81, 119, 67, 83, 112, 102, 75, 65, 37, 54, 41, 93, 60, 67, 58, 81, 51, 55, 56, 90, 102, 45, 56, 59, 63, 107, 96, 95, 47, 82, 37, 96, 103, 117, 88, 29, 72, 49, 45, 68, 89, 59, 38, 66, 39, 117, 88, 27, 29, 68, 110, 92, 67, 53, 44, 53, 66, 98, 102, 118, 33, 30, 70, 89, 49, 34, 77, 77, 96, 88, 59, 42, 110, 100, 60, 66, 88, 54, 73, 109, 113, 101, 64, 83, 95, 40, 37, 109, 32, 95, 44, 95, 103, 41, 109, 68, 62, 88, 64, 34, 108, 95, 29, 81, 110, 102, 66, 41, 89, 99, 118, 38, 118, 48, 109, 59, 35, 85, 78, 33, 37, 54, 75, 75, 44, 112, 111, 59, 95, 101, 36, 32, 47, 36, 89, 99, 47, 114, 61, 61, 81, 97, 37, 105, 54, 60, 77, 82, 41, 68, 102, 43, 99, 65, 81, 47, 99, 116, 56, 107, 52, 68, 97, 39, 67, 66, 71, 104, 42, 117, 91, 95, 102, 88, 40, 64, 53, 117, 57, 102, 82, 51, 68, 94, 62, 74, 109, 93, 75, 90, 92, 33, 116, 118, 109, 47, 42, 66, 37, 106, 59, 108, 90, 27, 79, 98, 38, 88, 66, 67, 42, 66, 44, 50, 108, 107, 50, 64, 112, 90, 92, 53, 70, 76, 117, 71, 60, 76, 113, 30, 76, 30, 91, 76, 87, 68, 104, 111, 38, 105, 62, 66, 74, 111, 100, 54, 115, 115, 97, 64, 59, 39, 99, 74, 38, 60, 45, 65, 30, 92, 92, 73, 38, 83, 81, 82, 116, 63, 27, 53, 103, 103, 80, 76, 54, 77, 89, 115, 65, 44, 54, 92, 63, 78, 97, 109, 32, 43, 83, 105, 80, 32, 96, 60, 105, 99, 91, 96, 43, 94, 103, 102, 61, 65, 38, 65, 54, 55, 96, 81, 31, 38, 111, 50, 65, 29, 75, 97, 117, 108, 83, 90, 57, 84, 119, 109, 39, 57, 117, 96, 50, 40, 38, 109, 60, 113, 81, 52, 96, 56, 53, 62, 112, 75, 40, 27, 39, 38, 81, 32, 104, 100, 47, 33, 76, 83, 63, 102, 60, 116, 94, 119, 59, 83, 84, 75, 86, 40, 85, 47, 34, 28, 37, 115, 29, 59, 75, 114, 42, 41, 76, 47, 46, 62, 38, 57, 97, 53, 54, 114, 84, 33, 34, 89, 76, 74, 59, 90, 33, 98, 90, 40, 28, 36, 65, 55, 48, 80, 82, 52, 112, 75, 81, 80, 63, 38, 99, 95, 96, 55, 37, 63, 42, 95, 94, 51, 81, 78, 76, 28, 38, 96, 95, 118, 84, 43, 106, 65, 76, 100, 74, 99, 119, 76, 42, 110, 61, 102, 110, 90, 82, 34, 92, 83, 54, 81, 109, 32, 91, 109, 90, 81, 81, 60, 41, 57, 97, 54, 63, 96, 80, 86, 96, 74, 105, 62, 79, 85, 91, 49, 116, 38, 46, 29, 63, 91, 79, 93, 48, 73, 82, 45, 90, 74, 40, 57, 88, 92, 113, 73, 62, 97, 99, 54, 94, 110, 43, 87, 74, 102, 46, 84, 91, 80, 62, 89, 63, 63, 63, 112, 105, 83, 112, 54, 84, 96, 96, 83, 65, 38, 63, 39, 30, 92, 65, 86, 96, 46, 83, 94, 59, 94, 74, 53, 95, 39, 112, 98, 60, 114, 42, 39, 110, 95, 74, 63, 28, 119, 30, 96, 65, 99, 27, 78, 38, 92, 39, 112, 116, 45, 43, 95, 112, 77, 81, 82, 82, 109, 44, 30, 63, 37, 55, 75, 47, 92, 118, 97, 38, 100, 96, 101, 82, 58, 75, 40, 38, 32, 77, 77, 88, 53, 80, 115, 108, 62, 74, 98, 88, 62, 82, 84, 87, 74, 63, 96, 119, 27, 59, 48, 92, 93, 99, 101, 100, 95, 40, 108, 56, 60, 109, 81, 56, 109, 77, 57, 59, 114, 59, 39, 44, 47, 75, 111, 95, 29, 88, 78, 89, 64, 106, 105, 84, 64, 118, 65, 99, 90, 40, 64, 111, 61, 47, 32, 83, 113, 74, 90, 90, 53, 95, 95, 94, 60, 105, 110, 105, 27, 40, 100, 79, 89, 93, 73, 74, 34, 41, 34, 29, 73, 62, 60, 89, 115, 88, 104, 33, 54, 73, 91, 60, 98, 109, 112, 59, 27, 81, 27, 88, 113, 55, 116, 65, 98, 91, 65, 83, 53, 91, 92, 61, 82, 58, 89, 82, 35, 53, 108, 38, 93, 62, 82, 95, 73, 73, 107, 92, 91, 32, 96, 83, 76, 90, 64, 94, 42, 110, 97, 97, 109, 105, 52, 75, 74, 40, 50, 96, 79, 63, 74, 102, 42, 60, 116, 43, 38, 83, 60, 112, 95, 114, 59, 97, 99, 62, 63, 48, 43, 88, 96, 60, 85, 74, 37, 54, 53, 109, 96, 99, 84, 60, 92, 36, 74, 87, 79, 92, 95, 60, 59, 57, 75, 75, 89, 35, 83, 112, 58, 90, 38, 64, 74, 109, 109, 92, 36, 81, 84, 78, 76, 113, 42, 64, 103, 49, 115, 64, 118, 64, 115, 100, 63, 34, 112, 38, 38, 31, 44, 88, 94, 88, 96, 27, 110, 49, 47, 88, 65, 119, 47, 29, 38, 94, 41, 81, 83, 112, 102, 97, 85, 78, 83, 59, 39, 60, 39, 110, 82, 32, 77, 46, 61, 53, 94, 110, 85, 40, 112, 36, 31, 28, 60, 60, 89, 60, 63, 76, 117, 38, 112, 112, 95, 92, 59, 100, 110, 92, 113, 57, 92, 119, 94, 98, 54, 98, 65, 73, 109, 77, 89, 77, 48, 111, 117, 84, 96, 74, 37, 109, 117, 79, 77, 38, 39, 79, 78, 94, 88, 112, 88, 89, 59, 54, 91, 61, 30, 95, 59, 64, 95, 73, 110, 102, 56, 93, 63, 29, 54, 40, 42, 59, 95, 75, 54, 33, 86, 93, 52, 63, 112, 60, 96, 92, 88, 87, 106, 74, 114, 95, 114, 101, 95, 90, 62, 75, 97, 46, 39, 39, 56, 103, 102, 49, 82, 89, 103, 77, 96, 117, 87, 44, 111, 53, 109, 80, 103, 115, 59, 32, 98, 51, 96, 108, 111, 111, 95, 102, 74, 38, 39, 75, 46, 91, 28, 64, 109, 53, 111, 95, 96, 96, 117, 110, 52, 65, 100, 38, 34, 43, 82, 62, 57, 33, 59, 52, 113, 61, 111, 104, 42, 109, 36, 109, 109, 98, 60, 65, 65, 89, 43, 99, 41, 40, 53, 42, 58, 49, 41, 33, 94, 98, 81, 53, 104, 100, 47, 45, 75, 93, 100, 96, 91, 79, 102, 29, 54, 89, 90, 107, 73, 53, 53, 76, 97, 53, 62, 36, 100, 101, 27, 60, 98, 47, 39, 62, 105, 100, 76, 77, 116, 92, 30, 110, 58, 118, 47, 59, 83, 96, 46, 98, 57, 52, 74, 108, 47, 89, 28, 54, 104, 32, 85, 116, 110, 75, 91, 93, 90, 38, 57, 46, 82, 96, 41, 60, 46, 73, 105, 111, 109, 48, 116, 63, 116, 98, 99, 102, 103, 53, 41, 30, 47, 74, 65, 104, 49, 111, 93, 62, 42, 46, 39, 77, 29, 102, 59, 43, 43, 105, 109, 85, 28, 47, 64, 114, 102, 89, 114, 90, 42, 112, 83, 88, 38, 74, 96, 56, 46, 51, 39, 39, 77, 115, 39, 86, 42, 94, 60, 107, 105, 51, 111, 112, 81, 82, 92, 117, 98, 62, 105, 52, 76, 60, 64, 75, 99, 104, 62, 35, 47, 102, 54, 109, 37, 74, 116, 101, 42, 120, 89, 47, 53, 53, 86, 81, 74, 115, 65, 93, 73, 94, 40, 61, 82, 61, 111, 105, 93, 102, 63, 107, 94, 111, 62, 28, 114, 89, 38, 76, 114, 80, 52, 91, 46, 89, 73, 95, 77, 83, 89, 111, 61, 91, 95, 64, 95, 76, 85, 60, 63, 95, 89, 112, 54, 97, 40, 110, 65, 39, 29, 81, 118, 79, 52, 84, 77, 73, 83, 100, 95, 34, 108, 36, 84, 89, 38, 64, 118, 74, 80, 77, 79, 109, 60, 110, 65, 89, 74, 112, 63, 99, 99, 62, 37, 112, 88, 97, 91, 96, 65, 81, 38, 87, 73, 53, 33, 88, 118, 76, 49, 44, 38, 40, 90, 86, 58, 106, 76, 40, 62, 39, 76, 35, 41, 83, 97, 48, 100, 81, 75, 81, 39, 52, 47, 112, 95, 118, 38, 30, 81, 39, 64, 75, 31, 109, 95, 53, 113, 116, 53, 96, 36, 89, 36, 101, 77, 92, 116, 110, 64, 57, 117, 58, 58, 56, 49, 30, 95, 76, 86, 49, 102, 104, 92, 111, 82, 77, 27, 111, 95, 42, 102, 83, 62, 45, 56, 81, 80, 37, 54, 80, 96, 29, 79, 96, 111, 106, 93, 43, 55, 56, 84, 39, 62, 29, 61, 41, 96, 88, 91, 112, 37, 41, 35, 38, 98, 83, 76, 96, 106, 93, 92, 82, 110, 56, 114, 31, 60, 58, 107, 48, 46, 64, 116, 104, 79, 75, 54, 59, 58, 39, 63, 107, 119, 103, 80, 39, 39, 37, 33, 105, 82, 42, 39, 59, 49, 59, 82, 34, 104, 34, 103, 39, 54, 44, 74, 78, 110, 79, 104, 116, 74, 36, 39, 81, 95, 34, 85, 93, 58, 105, 110, 113, 28, 105, 87, 41, 104, 82, 102, 107, 41, 28, 48, 74, 38, 110, 59, 82, 54, 80, 58, 74, 29, 31, 36, 81, 42, 60, 82, 90, 37, 98, 34, 79, 83, 84, 64, 43, 84, 31, 40, 93, 103, 63, 112, 108, 90, 80, 100, 98, 46, 46, 39, 114, 108, 82, 77, 118, 77, 87, 47, 63, 47, 85, 101, 86, 75, 37, 74, 60, 75, 47, 115, 73, 97, 42, 117, 73, 119, 58, 28, 89, 39, 45, 95, 47, 82, 30, 90, 118, 38, 38, 62, 76, 65, 27, 31, 61, 31, 94, 90, 74, 87, 47, 76, 111, 92, 113, 99, 59, 51, 102, 81, 108, 116, 76, 94, 65, 58, 117, 42, 78, 89, 37, 85, 33, 96, 116, 91, 34, 38, 87, 46, 74, 113, 101, 31, 49, 109, 52, 112, 94, 102, 62, 64, 61, 93, 75, 33, 37, 79, 90, 103, 81, 60, 80, 116, 78, 108, 95, 97, 42, 102, 58, 82, 59, 79, 81, 82, 112, 61, 115, 103, 34, 96, 38, 86, 58, 89, 33, 47, 102, 82, 102, 110, 95, 99, 83, 61, 37, 28, 75, 106, 95, 96, 65, 88, 103, 93, 93, 73, 88, 96, 60, 96, 38, 82, 88, 49, 28, 99, 81, 109, 82, 80, 74, 85, 34, 118, 40, 61, 44, 102, 79, 82, 88, 88, 100, 79, 62, 39, 77, 40, 96, 28, 110, 46, 116, 52, 77, 112, 89, 83, 119, 73, 116, 65, 101, 35, 89, 47, 59, 27, 95, 81, 88, 75, 106, 90, 95, 81, 52, 61, 109, 38, 89, 61, 90, 95, 88, 75, 94, 60, 61, 64, 34, 94, 109, 119, 42, 60, 110, 60, 92, 88, 76, 43, 117, 92, 116, 76, 74, 58, 89, 74, 42, 81, 43, 97, 60, 65, 46, 34, 28, 34, 82, 89, 39, 118, 32, 35, 95, 74, 119, 81, 75, 78, 103, 63, 45, 101, 35, 38, 62, 38, 112, 118, 94, 59, 47, 39, 83, 92, 29, 39, 29, 107, 80, 87, 110, 47, 116, 88, 35, 65, 81, 97, 38, 88, 101, 74, 30, 92, 63, 64, 114, 102, 79, 83, 81, 40, 41, 112, 39, 117, 65, 65, 76, 76, 86, 32, 61, 81, 27, 84, 37, 58, 96, 118, 102, 98, 74, 84, 64, 91, 106, 82, 48, 80, 62, 79, 61, 102, 42, 107, 92, 113, 112, 76, 110, 34, 85, 92, 32, 46, 114, 75, 74, 84, 47, 94, 49, 116, 82, 36, 94, 116, 40, 58, 46, 40, 39, 83, 28, 65, 89, 34, 75, 96, 87, 82, 65, 63, 58, 84, 91, 109, 38, 117, 84, 103, 77, 61, 39, 96, 82, 87, 97, 81, 104, 38, 45, 79, 59, 95, 60, 110, 42, 119, 27, 40, 38, 102, 32, 89, 34, 81, 81, 43, 34, 118, 115, 80, 33, 95, 84, 46, 83, 63, 35, 92, 75, 93, 112, 106, 116, 103, 85, 75, 79, 63, 82, 112, 37, 82, 38, 80, 75, 37, 27, 88, 117, 75, 116, 75, 91, 61, 102, 116, 101, 76, 39, 105, 107, 34, 74, 119, 85, 92, 99, 95, 46, 87, 74, 107, 65, 100, 84, 77, 58, 27, 97, 60, 111, 112, 95, 39, 44, 79, 43, 75, 48, 117, 80, 30, 88, 34, 119, 89, 84, 97, 61, 40, 60, 105, 110, 59, 88, 116, 79, 109, 85, 94, 106, 46, 48, 100, 34, 115, 99, 109, 105, 95, 31, 81, 35, 60, 34, 47, 88, 47, 63, 28, 107, 83, 74, 78, 106, 34, 105, 116, 104, 73, 95, 59, 108, 95, 98, 78, 59, 44, 98, 84, 80, 114, 61, 76, 76, 107, 79, 108, 43, 42, 77, 79, 102, 110, 112, 76, 73, 47, 41, 102, 40, 110, 84, 73, 93, 99, 39, 81, 91, 104, 73, 78, 89, 95, 76, 79, 114, 39, 59, 94, 82, 76, 44, 111, 87, 49, 105, 95, 113, 85, 60, 88, 110, 105, 118, 35, 102, 39, 39, 99, 100, 89, 115, 52, 76, 50, 37, 30, 58, 91, 29, 81, 50, 93, 92, 79, 96, 75, 109, 106, 82, 59, 103, 44, 38, 91, 86, 119, 39, 36, 96, 60, 30, 82, 96, 80, 43, 109, 76, 38, 59, 76, 27, 60, 109, 96, 38, 38, 83, 74, 60, 88, 89, 85, 101, 75, 73, 98, 79, 28, 89, 88, 31, 92, 95, 99, 48, 83, 42, 112, 119, 112, 91, 34, 115, 47, 85, 73, 96, 74, 61, 82, 37, 39, 29, 43, 108, 105, 116, 95, 38, 93, 81, 37, 61, 79, 105, 32, 47, 117, 78, 74, 34, 31, 81, 33, 113, 113, 106, 81, 117, 94, 95, 41, 95, 61, 81, 75, 76, 110, 63, 58, 38, 82, 61, 61, 107, 47, 38, 113, 47, 117, 39, 30, 64, 42, 91, 65, 100, 103, 34, 44, 76, 65, 62, 42, 46, 37, 110, 107, 60, 61, 83, 115, 84, 37, 46, 74, 59, 110, 91, 38, 65, 42, 98, 65, 90, 89, 119, 88, 91, 97, 96, 39, 81, 48, 64, 47, 36, 89, 109, 89, 102, 35, 100, 35, 83, 109, 100, 60, 87, 74, 99, 77, 60, 43, 63, 107, 37, 75, 39, 73, 107, 34, 42, 29, 42, 62, 95, 39, 109, 119, 109, 95, 108, 117, 29, 102, 99, 84, 105, 61, 79, 61, 60, 39, 107, 89, 76, 110, 39, 60, 46, 59, 104, 88, 34, 75, 115, 102, 76, 99, 39, 41, 108, 104, 30, 38, 92, 95, 111, 112, 112, 60, 109, 47, 83, 45, 33, 98, 60, 109, 39, 41, 60, 103, 116, 33, 77, 88, 32, 93, 104, 74, 98, 32, 48, 84, 77, 74, 102, 46, 117, 96, 75, 99, 86, 73, 45, 41, 49, 28, 110, 59, 110, 39, 84, 88, 98, 38, 50, 73, 117, 109, 88, 40, 107, 38, 37, 74, 50, 60, 79, 51, 75, 52, 104, 96, 112, 73, 107, 78, 89, 103, 27, 84, 39, 63, 93, 103, 39, 111, 73, 101, 105, 95, 83, 97, 103, 100, 74, 106, 38, 119, 110, 83, 110, 114, 40, 90, 39, 84, 74, 96, 116, 52, 75, 102, 94, 102, 52, 103, 95, 119, 33, 64, 98, 110, 38, 45, 96, 117, 52, 64, 110, 95, 84, 84, 116, 79, 81, 44, 64, 95, 74, 106, 108, 103, 32, 107, 115, 48, 63, 37, 73, 94, 117, 58, 92, 38, 115, 95, 83, 65, 79, 93, 81, 29, 79, 45, 105, 89, 46, 94, 96, 84, 116, 96, 59, 83, 112, 60, 33, 109, 109, 33, 74, 36, 96, 40, 110, 74, 105, 90, 102, 33, 31, 109, 33, 52, 58, 38, 115, 86, 35, 30, 88, 76, 77, 80, 93, 110, 42, 39, 39, 74, 103, 103, 40, 74, 78, 76, 110, 116, 62, 91, 102, 29, 65, 77, 112, 112, 94, 105, 75, 27, 47, 110, 110, 110, 101, 85, 95, 76, 118, 43, 118, 74, 116, 58, 114, 82, 96, 116, 40, 60, 36, 102, 97, 65, 83, 89, 46, 42, 62, 83, 116, 46, 59, 108, 109, 109, 39, 28, 65, 109, 109, 99, 76, 38, 27, 39, 89, 49, 111, 58, 82, 32, 41, 81, 104, 60, 89, 76, 86, 46, 64, 63, 83, 64, 108, 47, 64, 29, 46, 95, 96, 96, 77, 110, 85, 61, 59, 107, 38, 96, 41, 92, 74, 116, 76, 38, 108, 27, 74, 106, 95, 74, 88, 88, 104, 73, 113, 65, 94, 38, 74, 110, 89, 41, 39, 98, 98, 38, 80, 48, 86, 95, 52, 81, 102, 110, 64, 38, 109, 31, 63, 60, 39, 114, 86, 30, 29, 65, 33, 51, 59, 76, 63, 110, 99, 99, 107, 86, 47, 65, 89, 40, 85, 77, 97, 97, 52, 117, 99, 99, 102, 99, 61, 28, 63, 90, 74, 40, 88, 88, 65, 82, 38, 88, 74, 74, 60, 99, 93, 90, 99, 98, 63, 99, 99, 99, 117, 95, 65, 117, 75, 88, 58, 105, 32, 95, 47, 62, 98, 39, 75, 95, 81, 37, 37, 81, 110, 50, 88, 97, 96, 87, 94, 99, 34, 88, 116, 42, 77, 88, 100, 99, 43, 113, 37, 112, 76, 44, 74, 105, 73, 37, 37, 110, 101, 86, 102, 92, 59, 105, 109, 92, 110, 117, 110, 116, 113, 108, 77, 64, 65, 77, 73, 89, 93, 49, 61, 51, 102, 41, 91, 61, 75, 92, 52, 44, 102, 109, 87, 38, 42, 39, 116, 39, 64, 109, 108, 39, 59, 37, 74, 39, 75, 95, 65, 86, 37, 38, 106, 63, 111, 106, 82, 58, 113, 58, 60, 104, 30, 73, 104, 36, 58, 65, 98, 81, 99, 51, 27, 102, 97, 41, 96, 63, 73, 97, 50, 39, 78, 37, 112, 65, 63, 95, 60, 41, 93, 29, 38, 93, 60, 75, 45, 64, 115, 74, 116, 97, 98, 116, 46, 41, 119, 52, 92, 78, 85, 61, 102, 28, 74, 29, 39, 107, 39, 77, 95, 81, 39, 91, 73, 60, 77, 116, 97, 76, 95, 59, 107, 76, 85, 86, 119, 35, 52, 48, 115, 75, 95, 52, 38, 59, 101, 117, 98, 85, 77, 78, 119, 51, 91, 44, 29, 89, 93, 85, 91, 77, 47, 52, 106, 38, 41, 36, 59, 44, 76, 109, 82, 88, 37, 34, 109, 96, 78, 45, 84, 110, 61, 64, 32, 115, 80, 95, 77, 59, 65, 59, 101, 39, 48, 78, 79, 42, 97, 89, 109, 100, 63, 111, 108, 92, 59, 105, 37, 74, 45, 112, 100, 78, 96, 118, 48, 112, 74, 41, 38, 77, 117, 75, 81, 87, 52, 58, 103, 73, 95, 73, 47, 37, 73, 116, 78, 65, 92, 86, 104, 106, 109, 106, 88, 59, 115, 60, 88, 29, 28, 43, 75, 90, 38, 117, 63, 96, 97, 82, 82, 73, 63, 46, 38, 64, 92, 81, 40, 86, 46, 29, 102, 110, 85, 116, 99, 91, 32, 58, 106, 74, 95, 43, 99, 42, 105, 92, 89, 74, 39, 73, 105, 83, 61, 99, 95, 101, 94, 73, 112, 65, 59, 31, 46, 89, 33, 86, 75, 96, 93, 109, 85, 61, 45, 47, 47, 93, 31, 60, 60, 42, 99, 115, 40, 102, 82, 91, 92, 82, 94, 102, 98, 117, 95, 91, 48, 28, 96, 88, 92, 47, 102, 109, 109, 109, 115, 117, 100, 33, 65, 61, 102, 101, 50, 87, 100, 50, 50, 105, 97, 30, 95, 74, 59, 106, 65, 76, 118, 108, 113, 99, 95, 87, 87, 60, 73, 82, 73, 117, 31, 119, 111, 60, 60, 95, 61, 79, 88, 64, 60, 110, 81, 58, 99, 78, 37, 91, 33, 98, 47, 51, 63, 111, 109, 82, 86, 95, 91, 64, 39, 103, 89, 111, 77, 94, 114, 109, 87, 106, 95, 109, 75, 112, 32, 76, 98, 75, 102, 115, 45, 76, 37, 81, 101, 74, 47, 74, 89, 30, 105, 81, 111, 49, 109, 109, 46, 110, 35, 40, 74, 113, 114, 75, 31, 43, 76, 101, 62, 38, 64, 99, 99, 103, 59, 109, 76, 78, 106, 79, 89, 80, 109, 63, 115, 105, 60, 81, 96, 95, 60, 91, 78, 78, 43, 90, 115, 64, 42, 79, 40, 58, 44, 107, 37, 114, 40, 42, 73, 80, 101, 108, 42, 43, 106, 43, 95, 108, 96, 75, 81, 65, 111, 60, 76, 65, 48, 98, 97, 64, 116, 52, 107, 79, 99, 99, 99, 59, 49, 77, 97, 110, 46, 61, 60, 83, 62, 65, 89, 99, 32, 87, 62, 115, 81, 99, 81, 74, 83, 119, 39, 59, 85, 59, 99, 110, 77, 33, 38, 62, 60, 102, 75, 95, 95, 95, 88, 93, 112, 64, 65, 75, 38, 75, 95, 103, 91, 96, 64, 89, 119, 60, 114, 44, 113, 61, 115, 79, 115, 96, 38, 77, 42, 79, 60, 77, 91, 118, 81, 98, 60, 73, 80, 39, 87, 95, 39, 27, 63, 110, 42, 63, 58, 83, 110, 92, 80, 74, 92, 32, 65, 49, 73, 82, 82, 112, 39, 83, 39, 41, 58, 97, 41, 31, 107, 103, 46, 93, 60, 76, 91, 101, 51, 96, 86, 82, 109, 109, 91, 39, 117, 29, 111, 41, 80, 106, 109, 91, 109, 63, 110, 38, 92, 60, 28, 84, 91, 58, 52, 93, 94, 92, 37, 115, 89, 58, 88, 97, 38, 85, 88, 76, 96, 46, 102, 80, 32, 60, 80, 74, 47, 77, 82, 29, 82, 82, 39, 74, 42, 60, 76, 33, 98, 107, 76, 59, 107, 38, 114, 28, 110, 43, 108, 34, 92, 63, 95, 64, 97, 109, 82, 76, 38, 58, 65, 111, 73, 61, 109, 82, 96, 60, 88, 93, 76, 81, 86, 91, 115, 38, 65, 98, 102, 88, 88, 77, 60, 88, 58, 88, 85, 92, 38, 76, 83, 117, 106, 50, 80, 77, 109, 109, 80, 81, 106, 85, 75, 60, 101, 92, 99, 77, 95, 75, 91, 79, 28, 37, 79, 103, 75, 80, 94, 89, 82, 88, 116, 80, 31, 116, 85, 60, 95, 74, 81, 59, 82, 58, 73, 111, 45, 99, 29, 58, 80, 119, 102, 73, 38, 102, 98, 113, 86, 39, 84, 75, 106, 95, 77, 59, 38, 99, 93, 62, 74, 102, 48, 105, 74, 34, 112, 38, 64, 109, 117, 105, 40, 65, 92, 52, 79, 107, 112, 112, 91, 84, 92, 97, 46, 90, 61, 43, 81, 42, 111, 82, 73, 34, 58, 82, 40, 38, 43, 109, 112, 81, 63, 58, 38, 80, 117, 86, 37, 117, 88, 96, 37, 81, 109, 81, 65, 98, 82, 75, 117, 99, 103, 42, 48, 83, 31, 98, 87, 42, 95, 79, 46, 32, 98, 96, 60, 74, 119, 44, 49, 99, 96, 73, 102, 111, 46, 63, 108, 64, 99, 60, 40, 76, 95, 42, 47, 112, 98, 37, 80, 76, 59, 116, 61, 39, 52, 77, 31, 74, 74, 111, 119, 39, 75, 89, 91, 100, 118, 75, 81, 99, 60, 85, 91, 34, 87, 76, 76, 73, 80, 91, 111, 105, 45, 51, 60, 82, 79, 33, 89, 106, 95, 86, 62, 119, 90, 104, 104, 40, 40, 52, 60, 86, 119, 84, 76, 102, 80, 58, 96, 89, 81, 74, 60, 89, 103, 42, 81, 82, 108, 46, 76, 112, 52, 75, 83, 34, 52, 74, 117, 63, 106, 63, 109, 44, 33, 104, 103, 82, 75, 109, 75, 74, 81, 43, 75, 116, 65, 46, 46, 73, 81, 89, 73, 73, 109, 105, 103, 61, 35, 95, 52, 42, 61, 58, 81, 74, 51, 74, 41, 81, 86, 93, 51, 109, 91, 83, 96, 75, 96, 96, 96, 62, 103, 27, 74, 75, 108, 38, 59, 64, 92, 41, 79, 78, 30, 110, 87, 76, 58, 99, 78, 64, 108, 89, 89, 109, 88, 42, 109, 108, 64, 86, 109, 75, 80, 83, 33, 65, 106, 42, 78, 110, 78, 50, 101, 46, 59, 109, 65, 27, 39, 32, 98, 105, 75, 87, 83, 42, 84, 65, 27, 47, 88, 63, 115, 103, 46, 46, 78, 82, 81, 81, 85, 99, 61, 97, 73, 44, 116, 29, 74, 76, 74, 32, 43, 80, 45, 110, 60, 100, 58, 38, 109, 77, 103, 99, 95, 92, 109, 63, 115, 87, 37, 92, 65, 64, 96, 97, 74, 107, 119, 90, 88, 77, 60, 49, 27, 44, 114, 65, 110, 34, 61, 62, 65, 94, 78, 78, 97, 116, 46, 40, 63, 78, 60, 32, 60, 96, 31, 88, 74, 110, 50, 83, 78, 91, 59, 107, 94, 52, 52, 41, 83, 83, 95, 105, 60, 109, 95, 60, 103, 75, 87, 87, 110, 60, 108, 85, 79, 47, 32, 65, 50, 76, 110, 32, 94, 58, 39, 111, 103, 100, 39, 47, 91, 61, 39, 50, 59, 40, 73, 81, 87, 76, 49, 81, 89, 112, 115, 64, 44, 52, 65, 29, 44, 30, 44, 27, 93, 44, 30, 40, 52, 81, 112, 103, 113, 32, 74, 74, 107, 116, 109, 80, 78, 58, 74, 91, 74, 113, 42, 111, 95, 27, 102, 50, 60, 116, 118, 92, 42, 96, 91, 58, 40, 96, 107, 78, 33, 42, 37, 74, 96, 42, 94, 102, 60, 76, 38, 48, 32, 76, 101, 34, 96, 92, 75, 45, 75, 40, 78, 96, 73, 116, 58, 96, 109, 58, 98, 92, 98, 91, 109, 116, 92, 95, 115, 37, 109, 98, 63, 93, 76, 96, 95, 30, 79, 37, 83, 114, 111, 81, 95, 49, 52, 50, 115, 59, 114, 75, 103, 103, 109, 102, 74, 77, 96, 60, 96, 95, 99, 61, 60, 115, 116, 28, 73, 94, 75, 75, 109, 41, 94, 33, 95, 99, 81, 45, 30, 79, 79, 80, 102, 109, 52, 95, 76, 100, 74, 52, 88, 73, 59, 45, 76, 105, 33, 85, 28, 83, 91, 43, 82, 38, 110, 116, 89, 29, 74, 73, 92, 112, 65, 77, 103, 77, 95, 89, 79, 65, 109, 96, 97, 76, 84, 119, 40, 92, 49, 93, 38, 77, 106, 74, 65, 111, 108, 90, 89, 99, 96, 73, 82, 52, 102, 32, 102, 118, 63, 41, 93, 112, 99, 88, 119, 85, 75, 81, 95, 40, 46, 103, 100, 111, 44, 100, 99, 50, 109, 95, 61, 82, 41, 120, 77, 35, 90, 95, 113, 84, 99, 30, 110, 108, 62, 101, 84, 50, 60, 86, 65, 58, 110, 91, 32, 103, 65, 47, 103, 76, 40, 85, 75, 76, 65, 90, 75, 108, 109, 95, 61, 95, 52, 89, 41, 61, 106, 76, 61, 81, 97, 87, 42, 91, 98, 65, 31, 103, 60, 79, 77, 63, 117, 118, 35, 97, 88, 27, 44, 80, 77, 60, 52, 73, 89, 86, 87, 60, 79, 61, 73, 87, 75, 48, 59, 65, 60, 41, 103, 63, 29, 46, 52, 41, 80, 78, 74, 93, 82, 86, 34, 97, 102, 30, 102, 95, 82, 104, 117, 74, 95, 96, 87, 84, 93, 110, 33, 91, 76, 73, 64, 89, 89, 28, 115, 63, 86, 82, 31, 99, 111, 106, 38, 52, 117, 75, 81, 86, 117, 93, 115, 117, 32, 63, 38, 30, 119, 81, 99, 46, 87, 95, 47, 97, 116, 47, 49, 42, 37, 76, 58, 76, 119, 40, 113, 109, 96, 102, 88, 51, 94, 63, 65, 63, 85, 44, 107, 59, 99, 33, 106, 74, 79, 109, 40, 80, 39, 76, 112, 65, 73, 115, 51, 74, 75, 63, 89, 63, 95, 101, 116, 106, 76, 59, 109, 90, 74, 112, 95, 28, 109, 76, 117, 109, 106, 74, 90, 82, 102, 82, 93, 59, 89, 102, 31, 60, 82, 93, 102, 80, 30, 116, 115, 58, 113, 48, 75, 110, 59, 61, 38, 60, 102, 75, 38, 60, 73, 73, 39, 88, 78, 81, 93, 120, 65, 91, 65, 74, 83, 43, 73, 30, 31, 34, 40, 110, 118, 107, 34, 65, 106, 44, 59, 62, 75, 40, 74, 108, 109, 29, 98, 74, 99, 32, 85, 75, 117, 96, 32, 118, 89, 74, 95, 101, 105, 63, 60, 38, 99, 93, 89, 109, 60, 43, 61, 91, 29, 105, 105, 116, 77, 42, 112, 38, 58, 116, 114, 29, 80, 79, 82, 60, 114, 61, 82, 28, 119, 38, 94, 102, 113, 91, 112, 42, 105, 100, 81, 108, 115, 30, 60, 78, 76, 74, 52, 65, 38, 108, 111, 76, 73, 42, 89, 117, 104, 109, 111, 49, 82, 79, 43, 49, 33, 116, 99, 107, 96, 101, 96, 115, 109, 92, 62, 92, 82, 50, 82, 118, 78, 78, 114, 95, 65, 81, 63, 78, 78, 117, 98, 42, 109, 119, 59, 102, 78, 119, 119, 40, 78, 98, 103, 78, 58, 97, 29, 78, 78, 98, 79, 43, 78, 38, 119, 109, 100, 115, 27, 109, 45, 74, 78, 95, 109, 76, 113, 88, 102, 75, 78, 43, 77, 120, 88, 109, 101, 50, 75, 119, 44, 116, 88, 74, 109, 111, 37, 116, 99, 93, 59, 49, 92, 97, 32, 76, 58, 83, 109, 111, 34, 112, 99, 86, 83, 98, 109, 109, 37, 97, 110, 81, 37, 91, 82, 108, 99, 115, 83, 48, 85, 60, 107, 90, 98, 113, 119, 104, 84, 88, 60, 44, 88, 90, 100, 51, 40, 97, 110, 95, 39, 86, 117, 74, 106, 47, 77, 63, 63, 62, 88, 106, 98, 115, 44, 29, 42, 60, 84, 94, 111, 58, 39, 86, 109, 47, 111, 43, 88, 100, 86, 116, 27, 27, 91, 87, 119, 51, 91, 73, 74, 88, 108, 82, 89, 98, 89, 109, 109, 41, 98, 81, 93, 59, 32, 106, 102, 95, 117, 91, 118, 102, 109, 76, 39, 30, 106, 58, 58, 79, 114, 39, 39, 73, 39, 93, 78, 78, 46, 75, 106, 107, 38, 58, 88, 89, 105, 79, 104, 106, 61, 89, 94, 115, 112, 86, 77, 32, 99, 46, 51, 91, 103, 80, 91, 73, 111, 103, 75, 59, 101, 119, 103, 105, 116, 116, 93, 94, 79, 60, 40, 85, 93, 98, 92, 114, 65, 65, 75, 63, 109, 88, 110, 81, 33, 61, 64, 114, 81, 44, 88, 85, 116, 85, 60, 96, 39, 61, 96, 93, 27, 103, 98, 75, 99, 115, 73, 73, 78, 64, 44, 36, 65, 60, 80, 119, 118, 112, 77, 91, 116, 96, 27, 82, 99, 42, 114, 94, 118, 75, 113, 33, 75, 115, 58, 37, 75, 51, 82, 104, 103, 62, 49, 94, 95, 75, 95, 108, 73, 105, 79, 34, 78, 73, 63, 74, 84, 87, 105, 46, 43, 32, 75, 80, 91, 110, 91, 73, 84, 64, 95, 61, 63, 95, 92, 76, 107, 38, 105, 109, 107, 92, 78, 85, 99, 109, 74, 65, 95, 52, 87, 110, 46, 117, 106, 96, 82, 92, 38, 117, 33, 42, 82, 52, 83, 58, 45, 109, 117, 93, 60, 111, 85, 96, 60, 109, 109, 44, 37, 108, 60, 96, 61, 93, 118, 110, 77, 94, 93, 95, 103, 95, 103, 47, 110, 98, 119, 119, 118, 118, 89, 117, 117, 99, 117, 117, 117, 116, 116, 116, 116, 116, 85, 116, 47, 115, 115, 115, 89, 41, 114, 114, 114, 114, 77, 80, 76, 73, 113, 83, 112, 112, 98, 74, 112, 111, 111, 62, 111, 111, 32, 111, 91, 111, 38, 38, 110, 110, 102, 110, 64, 110, 109, 109, 104, 109, 109, 109, 109, 109, 109, 108, 108, 108, 99, 108, 108, 105, 107, 30, 106, 106, 89, 78, 106, 105, 105, 105, 104, 47, 63, 104, 81, 95, 103, 31, 103, 103, 74, 102, 102, 102, 102, 102, 102, 101, 89, 100, 100, 99, 99, 99, 98, 98, 98, 76, 83, 98, 73, 98, 98, 96, 97, 42, 97, 79, 43, 96, 96, 82, 96, 95, 92, 96, 95, 95, 95, 95, 85, 95, 73, 94, 94, 93, 88, 88, 92, 92, 92, 91, 91, 90, 90, 89, 74, 88, 88, 88, 88, 88, 88, 61, 88, 88, 88, 59, 88, 61, 87, 86, 58, 86, 85, 85, 85, 85, 84, 84, 84, 41, 83, 82, 82, 82, 82, 65, 81, 81, 65, 81, 81, 81, 81, 78, 76, 79, 79, 75, 78, 78, 78, 78, 78, 78, 77, 77, 74, 65, 77, 77, 76, 76, 76, 76, 76, 75, 76, 76, 76, 75, 75, 75, 75, 75, 75, 75, 75, 75, 75, 41, 74, 74, 42, 74, 36, 74, 38, 38, 74, 74, 74, 74, 30, 73, 49, 73, 73, 60, 59, 51, 50, 65, 52, 64, 37, 63, 61, 65, 65, 65, 65, 50, 65, 64, 64, 64, 63, 63, 61, 63, 39, 62, 61, 61, 61, 61, 61, 39, 46, 60, 60, 60, 60, 60, 60, 59, 59, 59, 59, 59, 58, 58, 58, 58, 33, 38, 29, 46, 33, 52, 52, 50, 49, 47, 49, 48, 47, 33, 44, 46, 46, 46, 45, 45, 44, 44, 44, 42, 42, 42, 42, 33, 41, 40, 40, 39, 37, 36, 36, 35, 34, 34, 32, 31, 30, 29, 29, 28, 27, 27], \"y\": [3, 11, 2, 5, 3, 3, 7, 3, 2, 2, 1, 2, 1, 2, 8, 1, 3, 1, 2, 11, 1, 1, 13, 3, 5, 6, 6, 6, 4, 5, 6, 1, 5, 2, 1, 8, 3, 5, 5, 3, 1, 2, 7, 2, 7, 2, 2, 4, 2, 4, 1, 3, 4, 1, 1, 1, 6, 2, 5, 4, 5, 12, 4, 2, 1, 3, 6, 2, 7, 2, 5, 6, 2, 10, 6, 1, 2, 3, 4, 2, 2, 1, 2, 3, 1, 4, 5, 1, 2, 1, 6, 2, 2, 3, 2, 3, 4, 2, 6, 5, 2, 5, 3, 6, 8, 12, 5, 4, 2, 2, 4, 8, 1, 5, 1, 4, 7, 4, 1, 1, 2, 4, 1, 3, 4, 4, 5, 4, 3, 6, 1, 3, 5, 5, 5, 6, 1, 4, 4, 3, 5, 2, 1, 4, 4, 3, 4, 5, 3, 9, 6, 2, 4, 2, 5, 1, 2, 6, 4, 2, 3, 3, 3, 2, 1, 1, 1, 2, 2, 5, 3, 3, 1, 3, 2, 1, 4, 5, 3, 1, 5, 7, 1, 1, 7, 4, 2, 1, 8, 3, 1, 5, 1, 2, 6, 3, 5, 2, 2, 1, 1, 3, 3, 3, 1, 1, 4, 6, 4, 7, 2, 2, 6, 1, 2, 5, 6, 1, 1, 5, 5, 5, 5, 5, 2, 2, 3, 4, 5, 3, 6, 4, 3, 3, 1, 3, 2, 1, 6, 7, 5, 2, 5, 2, 3, 2, 4, 4, 1, 3, 1, 3, 4, 3, 2, 2, 7, 2, 7, 6, 2, 1, 2, 7, 7, 6, 4, 6, 3, 5, 4, 11, 3, 1, 6, 5, 5, 2, 6, 1, 5, 5, 3, 7, 4, 5, 7, 1, 8, 2, 1, 14, 9, 2, 6, 4, 4, 1, 4, 6, 6, 4, 3, 3, 1, 4, 3, 1, 5, 3, 1, 2, 2, 4, 5, 2, 1, 8, 3, 3, 7, 6, 5, 2, 2, 1, 2, 9, 2, 6, 6, 1, 4, 3, 1, 3, 3, 1, 2, 3, 3, 4, 3, 2, 1, 6, 6, 2, 5, 3, 6, 1, 8, 3, 2, 1, 2, 7, 6, 5, 1, 2, 6, 2, 6, 5, 11, 2, 3, 4, 7, 2, 6, 3, 12, 6, 1, 2, 4, 2, 2, 5, 6, 7, 8, 6, 6, 6, 2, 2, 10, 2, 3, 7, 3, 1, 5, 4, 4, 4, 3, 2, 1, 6, 6, 2, 10, 3, 5, 5, 4, 6, 3, 3, 7, 3, 3, 10, 3, 1, 1, 1, 6, 4, 2, 2, 5, 3, 5, 5, 1, 6, 5, 4, 1, 2, 3, 4, 1, 1, 2, 4, 3, 4, 4, 11, 4, 4, 3, 8, 1, 3, 2, 5, 2, 11, 4, 2, 4, 5, 3, 3, 6, 11, 3, 9, 1, 6, 2, 1, 3, 3, 4, 5, 4, 7, 1, 4, 3, 3, 5, 12, 4, 7, 9, 2, 3, 8, 2, 4, 1, 7, 6, 3, 4, 1, 7, 1, 8, 1, 5, 1, 4, 3, 2, 6, 6, 1, 6, 5, 3, 2, 2, 3, 5, 3, 1, 1, 4, 4, 5, 6, 2, 1, 6, 7, 2, 3, 2, 5, 4, 2, 7, 2, 1, 1, 4, 4, 3, 4, 4, 3, 10, 2, 5, 6, 3, 2, 4, 3, 7, 1, 4, 1, 2, 5, 5, 3, 9, 3, 1, 1, 2, 4, 3, 5, 4, 3, 11, 2, 1, 7, 2, 1, 1, 4, 1, 5, 4, 4, 6, 7, 1, 6, 5, 2, 5, 3, 3, 2, 4, 2, 9, 5, 3, 6, 6, 1, 1, 2, 2, 1, 5, 2, 6, 3, 12, 5, 10, 6, 10, 3, 2, 4, 7, 5, 2, 2, 11, 4, 1, 6, 4, 1, 4, 5, 2, 4, 4, 8, 4, 6, 4, 3, 5, 10, 3, 1, 1, 5, 3, 7, 1, 2, 1, 3, 3, 1, 4, 4, 3, 10, 2, 7, 4, 8, 3, 2, 3, 1, 6, 2, 3, 2, 2, 1, 3, 2, 6, 1, 4, 7, 4, 6, 3, 7, 1, 2, 7, 2, 7, 3, 4, 8, 5, 1, 6, 9, 2, 9, 4, 2, 4, 2, 1, 6, 6, 7, 4, 3, 2, 7, 3, 4, 1, 5, 6, 1, 2, 9, 2, 3, 8, 1, 3, 4, 1, 4, 1, 3, 2, 1, 6, 1, 6, 5, 8, 6, 3, 3, 6, 2, 1, 4, 4, 5, 6, 2, 5, 3, 4, 3, 4, 3, 3, 6, 1, 1, 3, 4, 3, 1, 4, 1, 1, 2, 6, 5, 5, 6, 4, 4, 6, 6, 6, 2, 1, 1, 3, 2, 4, 4, 3, 2, 1, 3, 2, 2, 2, 3, 1, 1, 5, 2, 2, 2, 3, 1, 3, 1, 6, 10, 4, 3, 3, 5, 1, 3, 1, 1, 3, 2, 3, 3, 7, 3, 1, 1, 3, 3, 3, 2, 4, 8, 4, 13, 2, 5, 2, 2, 2, 2, 2, 4, 7, 8, 2, 2, 1, 1, 5, 8, 5, 3, 2, 1, 3, 3, 7, 5, 2, 5, 5, 4, 3, 4, 7, 2, 2, 2, 2, 2, 6, 2, 7, 3, 9, 4, 6, 2, 1, 1, 2, 1, 4, 5, 4, 3, 4, 1, 1, 2, 3, 9, 2, 3, 2, 10, 1, 3, 4, 3, 2, 2, 4, 1, 1, 2, 6, 5, 6, 4, 3, 4, 3, 4, 3, 1, 3, 6, 7, 3, 1, 1, 3, 1, 4, 2, 1, 4, 4, 6, 3, 4, 5, 1, 7, 4, 6, 1, 3, 5, 11, 1, 3, 9, 8, 4, 5, 3, 1, 4, 1, 2, 4, 5, 2, 3, 4, 4, 4, 2, 7, 4, 8, 7, 3, 5, 1, 9, 4, 7, 2, 6, 8, 1, 9, 10, 3, 2, 5, 4, 5, 6, 3, 3, 6, 4, 4, 2, 1, 3, 1, 2, 1, 2, 10, 2, 3, 7, 10, 2, 1, 1, 1, 2, 1, 1, 5, 3, 2, 1, 4, 5, 2, 5, 1, 4, 5, 6, 3, 1, 5, 6, 3, 1, 1, 2, 1, 2, 7, 3, 9, 1, 6, 1, 2, 3, 3, 3, 6, 3, 1, 6, 5, 4, 2, 3, 5, 7, 4, 4, 3, 4, 7, 5, 1, 2, 1, 1, 8, 14, 5, 2, 5, 3, 9, 2, 3, 5, 1, 4, 6, 2, 4, 3, 8, 3, 1, 3, 2, 1, 5, 2, 7, 2, 4, 5, 3, 1, 2, 1, 2, 4, 4, 2, 12, 3, 1, 4, 2, 2, 4, 7, 4, 1, 2, 2, 7, 5, 3, 2, 2, 2, 6, 3, 4, 2, 2, 4, 4, 3, 5, 4, 3, 5, 5, 1, 6, 8, 1, 5, 10, 5, 3, 5, 2, 2, 7, 2, 4, 1, 1, 6, 4, 2, 3, 8, 6, 2, 3, 5, 2, 7, 3, 2, 3, 8, 5, 6, 2, 1, 5, 1, 6, 8, 4, 4, 2, 4, 5, 10, 5, 2, 5, 2, 6, 5, 6, 4, 1, 6, 5, 7, 2, 1, 1, 4, 1, 2, 5, 3, 3, 1, 5, 6, 6, 5, 1, 3, 4, 1, 3, 1, 5, 2, 5, 6, 5, 3, 3, 1, 6, 4, 6, 4, 1, 9, 2, 3, 8, 1, 4, 1, 5, 1, 5, 6, 4, 3, 3, 4, 4, 1, 3, 3, 2, 2, 2, 5, 1, 2, 1, 1, 1, 8, 3, 1, 2, 5, 4, 4, 4, 6, 2, 1, 2, 2, 6, 3, 4, 10, 7, 5, 2, 2, 3, 2, 1, 2, 4, 4, 1, 6, 5, 5, 1, 2, 6, 5, 3, 4, 2, 3, 3, 4, 1, 2, 1, 6, 4, 5, 6, 5, 3, 1, 7, 4, 3, 2, 3, 3, 2, 6, 8, 4, 2, 3, 1, 3, 4, 3, 1, 4, 3, 5, 1, 4, 1, 3, 2, 5, 4, 5, 6, 6, 13, 6, 5, 6, 2, 5, 2, 9, 5, 1, 6, 3, 3, 2, 3, 2, 1, 4, 1, 1, 1, 6, 7, 6, 2, 1, 1, 4, 2, 5, 9, 5, 3, 2, 8, 6, 5, 2, 7, 3, 1, 6, 3, 4, 6, 6, 1, 2, 6, 1, 4, 5, 4, 2, 5, 4, 5, 11, 7, 3, 1, 6, 1, 3, 3, 2, 2, 5, 5, 2, 1, 2, 3, 3, 2, 4, 1, 7, 5, 6, 6, 3, 1, 3, 3, 2, 6, 3, 1, 3, 6, 5, 7, 2, 5, 5, 6, 5, 2, 2, 5, 3, 4, 4, 2, 6, 3, 3, 3, 1, 1, 6, 4, 3, 2, 3, 3, 5, 1, 3, 8, 6, 4, 2, 10, 3, 2, 4, 2, 2, 4, 6, 3, 5, 1, 10, 2, 4, 1, 1, 4, 5, 2, 3, 6, 2, 2, 6, 5, 6, 1, 6, 3, 1, 9, 3, 2, 5, 1, 4, 4, 4, 7, 2, 2, 4, 6, 6, 4, 1, 2, 7, 3, 6, 6, 3, 4, 1, 1, 5, 6, 5, 2, 1, 3, 3, 3, 1, 7, 5, 1, 3, 4, 1, 1, 2, 1, 2, 3, 4, 5, 7, 11, 5, 7, 2, 8, 5, 7, 6, 1, 1, 4, 8, 7, 2, 6, 3, 1, 6, 3, 1, 5, 3, 2, 4, 1, 1, 3, 3, 6, 3, 4, 5, 1, 5, 7, 3, 6, 3, 4, 1, 3, 2, 1, 6, 3, 7, 2, 2, 2, 1, 6, 6, 4, 4, 3, 2, 6, 3, 7, 14, 5, 5, 2, 2, 3, 4, 6, 5, 4, 5, 3, 10, 7, 3, 2, 4, 7, 9, 1, 2, 5, 3, 6, 1, 5, 1, 4, 3, 3, 1, 1, 2, 1, 5, 3, 2, 3, 5, 3, 2, 3, 6, 4, 3, 4, 6, 4, 3, 1, 7, 2, 6, 4, 1, 9, 4, 4, 5, 6, 2, 3, 6, 2, 4, 3, 1, 5, 13, 6, 3, 3, 1, 2, 4, 4, 1, 1, 7, 6, 4, 3, 2, 4, 4, 5, 4, 1, 3, 6, 2, 2, 2, 3, 6, 1, 7, 1, 5, 6, 3, 4, 2, 3, 4, 5, 8, 4, 3, 1, 4, 5, 3, 2, 3, 6, 4, 5, 5, 4, 5, 2, 1, 5, 6, 1, 8, 9, 4, 5, 8, 3, 7, 2, 4, 6, 4, 1, 4, 11, 4, 2, 6, 9, 2, 2, 3, 3, 5, 1, 1, 1, 4, 4, 6, 7, 4, 2, 1, 2, 7, 3, 1, 1, 4, 5, 3, 2, 3, 8, 10, 5, 4, 1, 2, 3, 2, 5, 3, 2, 6, 7, 2, 6, 7, 5, 2, 5, 5, 5, 4, 2, 2, 5, 9, 7, 3, 3, 4, 2, 3, 4, 6, 7, 3, 6, 3, 12, 5, 5, 6, 5, 4, 4, 1, 7, 1, 3, 7, 1, 4, 1, 5, 9, 3, 7, 2, 7, 3, 5, 7, 3, 4, 6, 3, 3, 6, 6, 5, 4, 1, 1, 2, 7, 2, 1, 3, 6, 7, 6, 5, 4, 6, 5, 2, 5, 4, 1, 5, 11, 13, 3, 1, 2, 5, 5, 3, 6, 8, 3, 3, 2, 1, 4, 5, 4, 1, 2, 1, 2, 7, 5, 7, 3, 6, 5, 3, 6, 5, 2, 5, 1, 1, 2, 8, 3, 3, 6, 3, 4, 7, 4, 7, 2, 7, 4, 1, 2, 6, 3, 4, 1, 4, 3, 3, 1, 6, 7, 4, 4, 6, 1, 3, 4, 6, 7, 2, 1, 3, 1, 4, 3, 6, 4, 4, 1, 4, 8, 3, 3, 5, 5, 6, 4, 5, 1, 2, 6, 5, 1, 4, 1, 4, 8, 4, 7, 1, 3, 2, 1, 2, 1, 5, 7, 2, 4, 2, 5, 2, 8, 7, 4, 4, 1, 1, 5, 3, 2, 5, 1, 1, 9, 1, 5, 4, 3, 1, 2, 1, 4, 4, 4, 8, 5, 7, 3, 6, 1, 10, 4, 2, 4, 7, 6, 1, 3, 2, 8, 6, 2, 2, 4, 4, 2, 4, 2, 3, 3, 3, 3, 1, 1, 8, 4, 3, 5, 4, 5, 4, 2, 1, 2, 2, 4, 3, 3, 3, 1, 6, 5, 6, 3, 4, 5, 2, 1, 4, 5, 1, 6, 1, 6, 1, 5, 1, 3, 6, 2, 8, 3, 3, 2, 3, 3, 1, 2, 6, 4, 4, 3, 3, 3, 5, 4, 1, 6, 1, 3, 2, 3, 4, 3, 7, 10, 3, 5, 2, 1, 5, 5, 4, 5, 7, 2, 7, 2, 4, 1, 5, 2, 8, 4, 2, 6, 3, 3, 13, 2, 4, 6, 7, 8, 2, 3, 5, 4, 4, 5, 2, 4, 2, 6, 1, 2, 5, 3, 5, 6, 2, 1, 4, 5, 2, 6, 1, 3, 6, 4, 2, 3, 3, 2, 6, 1, 3, 4, 4, 3, 4, 3, 1, 2, 3, 6, 10, 9, 5, 2, 3, 4, 2, 2, 7, 5, 1, 3, 2, 2, 5, 1, 6, 6, 1, 5, 2, 4, 4, 1, 9, 2, 6, 2, 1, 3, 1, 6, 1, 2, 6, 2, 3, 3, 5, 2, 5, 5, 11, 3, 2, 4, 1, 1, 2, 2, 1, 1, 5, 4, 3, 1, 3, 4, 3, 6, 5, 4, 2, 4, 8, 1, 4, 5, 8, 5, 4, 5, 8, 6, 10, 4, 3, 1, 8, 1, 5, 13, 1, 2, 7, 5, 3, 3, 2, 4, 5, 8, 6, 1, 9, 6, 2, 3, 1, 8, 3, 2, 2, 1, 4, 2, 2, 2, 4, 3, 7, 1, 6, 2, 4, 6, 5, 6, 6, 6, 4, 1, 6, 7, 5, 2, 4, 3, 6, 1, 5, 6, 5, 3, 3, 8, 4, 5, 12, 4, 3, 5, 5, 5, 1, 2, 2, 3, 1, 3, 3, 3, 6, 6, 2, 5, 6, 5, 5, 5, 6, 6, 4, 6, 6, 2, 2, 4, 9, 6, 5, 1, 3, 1, 10, 5, 1, 2, 8, 3, 9, 6, 4, 6, 2, 3, 1, 9, 7, 1, 6, 3, 4, 1, 10, 1, 7, 6, 2, 4, 11, 2, 6, 5, 4, 6, 6, 4, 2, 2, 5, 4, 5, 6, 7, 6, 3, 6, 5, 2, 2, 1, 1, 6, 3, 4, 1, 5, 1, 3, 3, 4, 1, 3, 1, 2, 8, 4, 3, 4, 2, 5, 5, 1, 1, 4, 3, 6, 6, 2, 4, 9, 12, 2, 7, 2, 5, 4, 1, 3, 3, 5, 5, 4, 4, 4, 2, 6, 6, 3, 5, 1, 2, 2, 4, 6, 1, 3, 2, 2, 2, 2, 1, 3, 7, 7, 3, 1, 10, 5, 4, 8, 3, 5, 4, 2, 4, 3, 2, 5, 1, 5, 3, 2, 2, 9, 3, 3, 4, 2, 4, 2, 4, 3, 7, 4, 3, 5, 4, 1, 1, 2, 2, 2, 3, 4, 1, 4, 6, 4, 7, 3, 4, 2, 6, 4, 1, 3, 3, 5, 3, 4, 2, 2, 10, 3, 3, 3, 1, 9, 4, 6, 1, 1, 2, 5, 5, 1, 10, 5, 9, 3, 3, 5, 6, 4, 4, 4, 5, 8, 3, 4, 1, 2, 2, 2, 2, 3, 3, 4, 3, 5, 1, 3, 8, 5, 5, 2, 1, 1, 6, 1, 2, 3, 1, 1, 2, 3, 2, 1, 4, 4, 8, 3, 4, 12, 5, 4, 1, 4, 1, 7, 1, 3, 1, 1, 6, 8, 2, 1, 5, 5, 10, 3, 3, 5, 5, 1, 8, 5, 5, 2, 5, 4, 1, 1, 5, 2, 4, 3, 1, 6, 3, 8, 5, 1, 3, 3, 3, 8, 4, 3, 5, 1, 10, 6, 8, 4, 1, 5, 6, 5, 9, 7, 2, 4, 10, 6, 1, 4, 9, 3, 7, 1, 6, 3, 2, 6, 3, 4, 4, 4, 4, 1, 2, 2, 2, 3, 8, 7, 3, 2, 5, 5, 2, 5, 10, 1, 1, 9, 2, 4, 1, 3, 1, 6, 3, 4, 2, 8, 3, 1, 1, 12, 5, 8, 1, 7, 2, 6, 1, 7, 5, 2, 1, 6, 6, 1, 4, 1, 6, 5, 1, 4, 4, 1, 11, 3, 3, 2, 5, 1, 1, 6, 4, 1, 4, 1, 4, 1, 2, 2, 1, 2, 2, 2, 2, 5, 10, 3, 9, 4, 6, 9, 8, 4, 3, 8, 1, 6, 4, 5, 3, 5, 5, 6, 1, 5, 2, 7, 6, 6, 5, 5, 1, 3, 2, 6, 6, 3, 2, 5, 5, 2, 6, 3, 1, 5, 1, 5, 3, 1, 5, 5, 6, 8, 8, 3, 3, 3, 2, 3, 5, 8, 2, 3, 6, 7, 6, 7, 5, 1, 6, 4, 1, 2, 2, 5, 3, 1, 1, 5, 1, 9, 2, 6, 3, 1, 4, 6, 3, 1, 2, 5, 5, 4, 3, 5, 5, 7, 1, 4, 7, 5, 4, 9, 2, 2, 2, 2, 2, 5, 1, 3, 4, 2, 1, 5, 6, 3, 4, 2, 5, 3, 3, 2, 4, 1, 10, 5, 4, 2, 3, 7, 3, 8, 4, 3, 6, 1, 2, 3, 2, 3, 4, 9, 5, 1, 7, 2, 5, 5, 2, 6, 4, 1, 1, 4, 4, 5, 5, 1, 1, 1, 1, 6, 6, 3, 3, 5, 2, 2, 8, 1, 2, 5, 4, 1, 6, 3, 7, 1, 3, 1, 6, 7, 4, 6, 2, 3, 1, 1, 3, 3, 3, 2, 3, 6, 4, 5, 3, 9, 3, 1, 4, 2, 4, 7, 2, 7, 4, 1, 1, 1, 1, 8, 1, 7, 6, 2, 6, 2, 4, 2, 5, 2, 4, 5, 2, 5, 1, 1, 1, 1, 2, 7, 7, 1, 5, 4, 2, 5, 4, 3, 5, 4, 3, 5, 4, 1, 3, 6, 5, 1, 4, 4, 2, 2, 8, 4, 5, 4, 1, 1, 1, 3, 1, 1, 6, 8, 2, 1, 3, 2, 3, 2, 3, 1, 5, 3, 5, 4, 6, 1, 3, 3, 1, 4, 11, 2, 3, 3, 3, 2, 6, 1, 3, 4, 8, 1, 5, 6, 4, 3, 1, 1, 1, 1, 4, 1, 1, 6, 1, 8, 2, 5, 1, 6, 6, 1, 2, 2, 1, 5, 6, 3, 4, 6, 3, 1, 8, 6, 5, 6, 1, 1, 1, 6, 4, 5, 2, 2, 1, 2, 5, 2, 1, 3, 8, 3, 6, 5, 1, 4, 2, 2, 4, 12, 2, 1, 3, 7, 3, 3, 4, 3, 1, 3, 3, 9, 5, 5, 1, 2, 1, 3, 5, 5, 6, 4, 5, 3, 2, 3, 1, 2, 5, 4, 6, 5, 1, 6, 6, 5, 6, 8, 6, 1, 2, 1, 5, 1, 2, 4, 10, 5, 4, 2, 5, 1, 6, 2, 2, 5, 4, 1, 2, 2, 2, 2, 6, 1, 2, 2, 1, 6, 5, 1, 2, 6, 1, 7, 3, 4, 8, 3, 1, 5, 3, 2, 5, 7, 7, 6, 4, 1, 1, 2, 10, 2, 5, 2, 5, 4, 4, 3, 9, 2, 5, 1, 7, 3, 6, 4, 4, 5, 1, 1, 2, 2, 2, 3, 9, 1, 8, 3, 3, 5, 3, 4, 3, 4, 4, 4, 9, 7, 7, 1, 3, 3, 2, 4, 6, 3, 2, 1, 5, 6, 14, 4, 6, 5, 6, 2, 5, 1, 1, 5, 2, 4, 5, 1, 7, 3, 1, 1, 3, 6, 5, 1, 3, 2, 2, 5, 3, 1, 5, 3, 4, 8, 1, 4, 3, 4, 5, 6, 6, 7, 2, 6, 1, 5, 5, 6, 6, 2, 2, 4, 4, 5, 4, 5, 6, 3, 3, 3, 3, 3, 1, 3, 8, 4, 5, 5, 1, 2, 1, 3, 3, 6, 4, 4, 2, 6, 7, 5, 5, 3, 1, 3, 2, 3, 2, 3, 2, 1, 1, 1, 5, 7, 6, 5, 5, 4, 1, 4, 5, 5, 2, 2, 3, 3, 1, 1, 4, 4, 1, 5, 1, 4, 2, 3, 7, 3, 5, 2, 5, 5, 8, 5, 1, 10, 7, 5, 2, 4, 5, 6, 4, 7, 1, 2, 6, 3, 5, 6, 3, 3, 3, 5, 5, 2, 1, 6, 5, 3, 3, 2, 3, 1, 6, 1, 1, 1, 5, 2, 8, 2, 2, 1, 1, 5, 2, 2, 1, 4, 3, 2, 4, 3, 3, 6, 1, 3, 2, 6, 5, 1, 7, 2, 4, 1, 1, 1, 4, 10, 4, 6, 6, 3, 2, 4, 6, 1, 1, 6, 7, 4, 6, 6, 12, 3, 4, 3, 13, 1, 7, 5, 3, 10, 5, 2, 4, 3, 4, 4, 5, 3, 11, 2, 4, 11, 6, 2, 6, 2, 3, 3, 6, 2, 5, 2, 1, 6, 6, 9, 2, 6, 2, 1, 4, 5, 6, 2, 5, 1, 6, 4, 1, 5, 6, 1, 6, 7, 8, 5, 7, 7, 9, 3, 1, 1, 1, 4, 4, 4, 6, 5, 7, 13, 4, 3, 2, 4, 1, 6, 4, 2, 3, 1, 5, 2, 6, 2, 7, 1, 3, 4, 2, 1, 1, 7, 9, 9, 1, 6, 1, 3, 10, 3, 1, 3, 3, 1, 8, 4, 7, 2, 3, 2, 1, 5, 1, 1, 4, 2, 3, 1, 6, 4, 4, 5, 4, 2, 7, 4, 1, 6, 4, 8, 1, 1, 1, 1, 1, 6, 4, 6, 1, 3, 7, 2, 6, 5, 3, 2, 5, 1, 8, 5, 5, 6, 2, 3, 8, 2, 2, 9, 4, 3, 3, 4, 3, 2, 2, 2, 6, 1, 10, 3, 6, 4, 7, 5, 1, 5, 4, 3, 6, 6, 1, 6, 4, 1, 2, 2, 5, 4, 5, 3, 6, 4, 1, 3, 2, 2, 11, 5, 1, 1, 1, 1, 6, 3, 4, 6, 4, 6, 3, 4, 3, 2, 2, 2, 4, 2, 1, 1, 2, 1, 3, 3, 1, 2, 1, 1, 1, 5, 2, 1, 4, 5, 1, 3, 1, 3, 1, 1, 3, 7, 4, 3, 3, 3, 6, 4, 4, 7, 3, 7, 1, 1, 1, 6, 2, 3, 1, 10, 4, 1, 6, 1, 5, 4, 1, 2, 2, 5, 1, 7, 6, 2, 4, 5, 5, 3, 4, 2, 8, 2, 5, 2, 8, 5, 1, 2, 6, 9, 5, 7, 3, 2, 1, 4, 3, 8, 5, 4, 1, 3, 5, 5, 2, 4, 4, 1, 5, 2, 2, 3, 1, 5, 4, 2, 9, 2, 3, 1, 8, 6, 4, 1, 3, 2, 1, 5, 1, 1, 4, 1, 1, 11, 1, 1, 1, 8, 2, 10, 3, 3, 1, 3, 1, 2, 5, 1, 1, 1, 5, 4, 3, 2, 2, 1, 6, 5, 4, 4, 9, 3, 3, 9, 4, 6, 1, 1, 4, 4, 5, 4, 1, 3, 1, 3, 8, 1, 11, 3, 1, 1, 6, 2, 1, 4, 5, 2, 8, 3, 2, 1, 7, 3, 2, 1, 3, 3, 3, 1, 5, 4, 4, 7, 4, 2, 8, 2, 5, 1, 2, 2, 5, 12, 5, 6, 4, 1, 9, 11, 5, 6, 2, 4, 2, 5, 11, 8, 1, 1, 6, 7, 6, 1, 2, 4, 1, 2, 2, 4, 1, 5, 3, 6, 5, 4, 2, 6, 7, 5, 10, 2, 1, 3, 4, 2, 9, 2, 9, 1, 2, 2, 4, 4, 2, 5, 1, 5, 6, 1, 2, 4, 2, 4, 3, 4, 3, 4, 4, 5, 5, 2, 6, 5, 1, 7, 6, 1, 11, 1, 1, 2, 5, 4, 9, 2, 4, 4, 5, 7, 3, 2, 3, 2, 6, 1, 2, 7, 6, 3, 2, 1, 8, 1, 6, 1, 2, 4, 3, 12, 4, 7, 6, 6, 4, 1, 3, 1, 3, 7, 2, 2, 1, 8, 1, 2, 1, 3, 2, 6, 4, 3, 3, 1, 3, 8, 4, 1, 3, 3, 2, 1, 4, 1, 6, 4, 1, 1, 6, 6, 10, 1, 9, 4, 7, 6, 6, 1, 4, 6, 4, 3, 2, 2, 5, 1, 3, 1, 5, 3, 5, 11, 3, 1, 2, 4, 4, 2, 4, 2, 6, 2, 6, 6, 1, 9, 1, 3, 5, 5, 4, 2, 10, 2, 1, 3, 7, 7, 2, 2, 4, 3, 1, 6, 1, 5, 5, 6, 3, 2, 3, 3, 7, 4, 5, 1, 2, 1, 6, 3, 3, 7, 3, 3, 2, 4, 6, 2, 6, 2, 7, 5, 1, 3, 2, 3, 6, 2, 2, 3, 5, 1, 5, 1, 1, 8, 2, 5, 2, 5, 2, 1, 3, 4, 1, 9, 12, 3, 1, 1, 3, 5, 4, 5, 5, 3, 11, 1, 9, 3, 2, 5, 1, 6, 3, 3, 3, 1, 3, 1, 4, 1, 6, 6, 6, 3, 1, 2, 2, 5, 1, 6, 8, 7, 11, 2, 5, 3, 5, 6, 11, 2, 1, 4, 3, 3, 4, 2, 11, 7, 6, 2, 6, 6, 4, 6, 2, 7, 3, 3, 1, 4, 2, 6, 6, 6, 5, 4, 5, 2, 2, 6, 1, 6, 2, 9, 1, 5, 3, 3, 7, 8, 2, 2, 2, 3, 1, 6, 6, 2, 5, 5, 3, 5, 4, 5, 4, 7, 3, 3, 1, 4, 4, 4, 1, 7, 1, 2, 5, 4, 1, 2, 2, 6, 2, 5, 3, 5, 1, 2, 4, 3, 4, 2, 3, 3, 6, 4, 4, 1, 4, 1, 1, 5, 1, 4, 4, 5, 6, 4, 7, 6, 4, 4, 3, 1, 5, 6, 8, 12, 2, 14, 5, 3, 3, 3, 1, 2, 4, 5, 2, 1, 5, 1, 4, 3, 6, 6, 7, 4, 1, 2, 9, 2, 2, 6, 11, 2, 5, 4, 5, 8, 4, 5, 3, 3, 10, 2, 6, 9, 4, 5, 4, 1, 7, 1, 3, 2, 7, 1, 1, 1, 2, 1, 8, 2, 2, 3, 9, 6, 1, 2, 9, 3, 2, 4, 3, 1, 3, 4, 2, 1, 3, 1, 6, 1, 1, 3, 2, 11, 1, 3, 9, 7, 1, 3, 6, 1, 1, 1, 4, 2, 4, 1, 1, 6, 1, 1, 7, 2, 5, 1, 3, 1, 6, 1, 1, 6, 4, 1, 4, 2, 6, 5, 1, 4, 1, 1, 1, 2, 4, 4, 4, 10, 1, 1, 4, 5, 1, 3, 3, 5, 1, 3, 1, 6, 4, 3, 4, 1, 2, 2, 4, 5, 5, 3, 8, 7, 4, 4, 1, 1, 4, 1, 3, 2, 1, 1, 1, 2, 3, 5, 1, 1, 10, 1, 7, 5, 2, 3, 7, 3, 4, 6, 1, 2, 2, 2, 4, 7, 2, 2, 3, 2, 3, 5, 2, 6, 3, 8, 1, 4, 4, 3, 1, 3, 4, 4, 3, 2, 6, 5, 5, 2, 4, 2, 1, 5, 11, 3, 2, 1, 6, 6, 2, 3, 3, 1, 5, 3, 2, 2, 3, 1, 6, 1, 2, 7, 2, 2, 1, 1, 5, 4, 7, 6, 3, 3, 6, 5, 5, 7, 8, 4, 1, 9, 6, 3, 4, 1, 3, 3, 8, 3, 5, 3, 2, 1, 1, 4, 4, 1, 3, 5, 5, 6, 4, 8, 7, 5, 8, 1, 4, 5, 4, 1, 12, 1, 4, 3, 5, 2, 8, 4, 6, 9, 2, 1, 1, 12, 4, 4, 1, 6, 10, 1, 3, 3, 6, 1, 1, 10, 2, 1, 1, 4, 3, 6, 2, 4, 8, 2, 2, 2, 5, 5, 2, 5, 7, 4, 1, 6, 2, 5, 2, 3, 5, 3, 2, 2, 3, 4, 2, 4, 6, 4, 2, 3, 2, 2, 2, 3, 6, 5, 5, 3, 8, 6, 5, 2, 7, 5, 1, 10, 1, 10, 4, 2, 9, 2, 5, 6, 5, 5, 2, 3, 2, 7, 3, 6, 2, 6, 3, 7, 1, 2, 6, 3, 4, 3, 8, 5, 1, 4, 3, 1, 6, 4, 1, 5, 6, 1, 2, 9, 5, 8, 2, 3, 1, 2, 2, 6, 1, 1, 2, 4, 1, 5, 7, 2, 7, 5, 1, 7, 2, 5, 6, 5, 1, 6, 5, 1, 6, 5, 1, 8, 3, 5, 5, 1, 5, 1, 4, 5, 1, 3, 9, 2, 1, 4, 3, 5, 3, 4, 7, 4, 2, 1, 2, 5, 2, 2, 4, 3, 5, 3, 6, 8, 2, 3, 1, 1, 1, 2, 3, 1, 1, 6, 2, 4, 8, 5, 3, 6, 2, 1, 1, 1, 1, 3, 1, 6, 2, 3, 2, 3, 4, 2, 3, 2, 12, 10, 8, 6, 3, 9, 6, 3, 1, 6, 4, 1, 1, 5, 1, 4, 2, 3, 10, 4, 4, 3, 5, 6, 2, 2, 1, 3, 2, 3, 1, 6, 1, 3, 1, 4, 7, 3, 6, 11, 6, 4, 4, 2, 2, 1, 2, 3, 8, 1, 3, 1, 6, 6, 9, 5, 1, 2, 12, 2, 1, 7, 2, 1, 5, 7, 4, 7, 4, 1, 13, 6, 1, 2, 1, 2, 7, 2, 2, 2, 3, 8, 3, 2, 2, 9, 2, 3, 3, 2, 4, 11, 7, 6, 2, 5, 8, 12, 3, 6, 5, 8, 7, 3, 1, 2, 1, 8, 2, 5, 1, 1, 8, 2, 6, 7, 3, 1, 2, 2, 11, 6, 8, 5, 2, 4, 5, 2, 1, 2, 7, 3, 4, 4, 5, 4, 1, 6, 10, 1, 2, 8, 3, 7, 2, 5, 6, 2, 6, 2, 1, 8, 1, 5, 4, 4, 11, 2, 5, 4, 2, 3, 6, 7, 2, 3, 6, 5, 2, 7, 4, 1, 1, 3, 7, 6, 4, 3, 6, 4, 7, 1, 2, 5, 5, 6, 2, 3, 4, 8, 6, 3, 3, 5, 2, 6, 3, 1, 4, 6, 1, 10, 1, 5, 2, 3, 3, 3, 5, 5, 2, 3, 4, 4, 2, 11, 6, 1, 2, 4, 3, 2, 3, 1, 1, 4, 1, 1, 6, 5, 2, 5, 1, 7, 6, 5, 1, 3, 8, 3, 2, 3, 1, 2, 3, 2, 5, 8, 2, 3, 2, 2, 5, 3, 5, 5, 1, 2, 3, 5, 5, 5, 4, 2, 5, 10, 1, 2, 1, 3, 2, 2, 1, 3, 1, 2, 2, 2, 2, 4, 2, 4, 9, 5, 4, 3, 1, 5, 4, 2, 1, 7, 2, 2, 2, 3, 4, 13, 6, 1, 2, 5, 6, 6, 4, 4, 1, 2, 5, 5, 6, 5, 1, 4, 5, 1, 2, 3, 3, 1, 5, 4, 4, 3, 12, 3, 7, 2, 6, 5, 2, 1, 2, 6, 2, 1, 4, 6, 1, 6, 8, 2, 1, 1, 2, 1, 5, 5, 2, 1, 6, 1, 5, 5, 1, 10, 4, 1, 2, 5, 7, 1, 6, 5, 1, 4, 5, 1, 1, 1, 6, 1, 5, 2, 2, 4, 5, 2, 1, 3, 5, 5, 3, 5, 5, 1, 8, 3, 4, 2, 2, 3, 4, 5, 12, 6, 4, 1, 2, 1, 2, 4, 7, 4, 5, 1, 5, 4, 5, 13, 3, 3, 2, 4, 3, 5, 3, 6, 5, 5, 1, 4, 2, 3, 13, 3, 3, 3, 4, 1, 1, 1, 5, 1, 2, 1, 5, 3, 2, 2, 2, 6, 6, 10, 3, 4, 1, 5, 6, 5, 2, 3, 2, 4, 5, 5, 4, 2, 5, 6, 3, 1, 1, 1, 9, 2, 1, 4, 2, 2, 2, 3, 6, 3, 2, 5, 2, 2, 6, 6, 4, 8, 3, 4, 2, 4, 2, 4, 1, 4, 4, 3, 1, 3, 6, 5, 3, 1, 3, 10, 1, 5, 4, 2, 3, 1, 6, 1, 7, 3, 3, 2, 4, 2, 2, 3, 3, 3, 7, 2, 3, 1, 12, 1, 1, 2, 4, 2, 3, 2, 6, 8, 4, 1, 1, 4, 12, 2, 3, 6, 1, 4, 1, 7, 1, 10, 8, 5, 2, 1, 5, 3, 6, 4, 4, 1, 1, 2, 2, 8, 6, 9, 2, 5, 5, 1, 1, 4, 2, 1, 5, 1, 2, 5, 6, 1, 1, 3, 4, 1, 4, 4, 4, 6, 2, 7, 5, 6, 10, 1, 5, 7, 2, 1, 5, 8, 3, 4, 4, 2, 4, 1, 3, 1, 1, 4, 5, 4, 4, 2, 7, 6, 4, 4, 2, 1, 1, 1, 5, 2, 4, 4, 5, 2, 2, 2, 3, 4, 5, 2, 1, 2, 3, 1, 4, 3, 3, 1, 3, 6, 2, 6, 5, 6, 5, 8, 3, 5, 3, 3, 6, 1, 3, 6, 7, 1, 3, 5, 6, 6, 6, 3, 2, 3, 13, 13, 1, 5, 1, 2, 3, 5, 2, 2, 1, 2, 1, 6, 13, 5, 10, 1, 12, 3, 4, 1, 2, 1, 2, 5, 7, 8, 1, 5, 5, 4, 3, 4, 4, 5, 5, 4, 2, 3, 7, 11, 4, 1, 4, 2, 1, 1, 4, 2, 5, 6, 1, 5, 7, 2, 3, 12, 5, 1, 3, 4, 2, 6, 6, 1, 6, 1, 1, 4, 4, 1, 4, 1, 6, 6, 1, 6, 6, 6, 4, 2, 12, 5, 1, 5, 3, 9, 2, 1, 3, 5, 4, 13, 5, 6, 3, 12, 4, 1, 1, 4, 3, 4, 1, 6, 2, 1, 5, 7, 7, 10, 7, 1, 6, 9, 4, 4, 1, 7, 5, 1, 1, 5, 7, 5, 1, 7, 6, 4, 5, 3, 1, 5, 5, 2, 3, 2, 1, 1, 9, 4, 2, 6, 3, 3, 2, 5, 6, 4, 4, 5, 3, 5, 3, 1, 3, 3, 2, 4, 2, 2, 5, 5, 3, 5, 5, 9, 4, 3, 2, 4, 6, 6, 1, 1, 8, 5, 6, 6, 3, 2, 12, 8, 8, 3, 2, 3, 1, 6, 3, 7, 3, 3, 3, 2, 6, 3, 5, 2, 8, 1, 5, 1, 3, 4, 6, 8, 2, 4, 4, 6, 1, 4, 5, 6, 1, 5, 2, 5, 2, 1, 2, 2, 1, 1, 2, 2, 4, 2, 1, 6, 4, 1, 4, 5, 6, 2, 5, 2, 2, 2, 3, 4, 12, 5, 4, 3, 5, 1, 4, 1, 6, 2, 3, 1, 2, 2, 2, 6, 2, 7, 2, 5, 1, 2, 4, 4, 1, 2, 1, 1, 6, 2, 4, 1, 1, 5, 3, 5, 3, 1, 3, 4, 2, 1, 1, 3, 5, 3, 5, 6, 1, 6, 6, 4, 1, 1, 2, 1, 2, 1, 3, 3, 6, 1, 1, 1, 2, 4, 2, 2, 6, 1, 2, 4, 1, 3, 2]}, {\"marker\": {\"color\": \"green\", \"line\": {\"width\": 1}, \"opacity\": 0.8, \"size\": 7}, \"mode\": \"markers\", \"name\": \"Everyday\", \"type\": \"scatter\", \"x\": [47, 24, 29, 10, 90, 11, 114, 2, 95, 4, 68, 37, 33, 3, 30, 54, 18, 35, 15, 88, 56, 84, 90, 44, 15, 17, 15, 81, 54, 23, 31, 6, 6, 37, 9, 25, 2, 5, 25, 37, 41, 8, 82, 46, 10, 32, 19, 5, 17, 74, 33, 87, 68, 38, 47, 40, 89, 6, 7, 40, 66, 6, 18, 98, 47, 40, 48, 68, 37, 40, 32, 67, 51, 81, 26, 10, 46, 10, 10, 8, 34, 53, 39, 38, 38, 101, 116, 38, 23, 7, 54, 15, 6, 79, 39, 76, 66, 2, 5, 71, 111, 53, 65, 22, 96, 74, 12, 53, 10, 79, 67, 44, 81, 33, 39, 47, 58, 89, 2, 12, 23, 53, 48, 14, 6, 8, 116, 16, 34, 83, 34, 93, 88, 20, 63, 89, 119, 96, 37, 17, 119, 39, 95, 39, 41, 8, 11, 8, 81, 4, 13, 39, 2, 78, 20, 24, 59, 13, 78, 41, 11, 47, 21, 109, 20, 20, 42, 37, 8, 14, 23, 69, 25, 22, 18, 116, 73, 119, 109, 11, 33, 80, 109, 40, 10, 10, 26, 10, 25, 15, 83, 31, 89, 55, 55, 43, 53, 31, 29, 41, 5, 35, 69, 3, 39, 39, 31, 38, 81, 74, 20, 4, 91, 14, 47, 9, 6, 29, 1, 44, 46, 75, 107, 7, 19, 74, 57, 65, 17, 59, 25, 82, 5, 86, 38, 64, 5, 53, 6, 7, 43, 113, 4, 88, 38, 65, 53, 69, 62, 38, 12, 51, 19, 91, 3, 5, 2, 16, 8, 16, 4, 13, 67, 7, 6, 7, 119, 12, 59, 8, 7, 61, 6, 9, 17, 53, 68, 74, 114, 7, 57, 81, 64, 30, 9, 59, 10, 7, 76, 14, 42, 73, 41, 66, 96, 85, 58, 39, 25, 79, 58, 18, 76, 64, 9, 7, 51, 54, 89, 81, 88, 3, 22, 116, 92, 15, 64, 42, 12, 11, 41, 34, 39, 3, 52, 3, 6, 25, 59, 25, 8, 23, 23, 19, 8, 44, 24, 6, 95, 79, 74, 34, 10, 34, 25, 18, 9, 116, 26, 66, 17, 95, 114, 67, 102, 68, 66, 101, 91, 106, 40, 96, 54, 74, 91, 18, 18, 81, 63, 22, 72, 25, 76, 20, 88, 6, 37, 108, 8, 41, 33, 50, 60, 61, 45, 7, 48, 39, 27, 9, 118, 7, 66, 37, 111, 87, 103, 14, 18, 33, 54, 70, 27, 39, 4, 53, 11, 105, 52, 76, 63, 75, 75, 46, 69, 114, 42, 90, 85, 95, 78, 27, 27, 25, 96, 66, 89, 5, 39, 39, 46, 67, 4, 6, 5, 6, 3, 29, 95, 96, 67, 6, 85, 74, 9, 6, 83, 38, 97, 12, 93, 15, 16, 1, 53, 2, 89, 21, 23, 97, 53, 103, 11, 37, 40, 89, 27, 83, 102, 108, 39, 80, 17, 61, 40, 59, 27, 16, 81, 96, 29, 11, 60, 10, 20, 37, 119, 96, 6, 9, 86, 81, 19, 29, 4, 2, 47, 1, 40, 89, 74, 15, 4, 14, 54, 115, 43, 53, 4, 37, 36, 39, 8, 27, 1, 80, 39, 10, 22, 38, 7, 25, 53, 43, 52, 6, 49, 7, 6, 53, 8, 81, 113, 19, 16, 46, 94, 8, 79, 57, 39, 5, 87, 41, 37, 4, 64, 11, 39, 63, 11, 28, 3, 26, 37, 41, 39, 36, 98, 69, 53, 11, 41, 24, 32, 79, 29, 104, 8, 44, 97, 40, 62, 78, 28, 47, 41, 13, 10, 24, 5, 2, 6, 39, 90, 29, 112, 11, 63, 33, 54, 91, 54, 14, 6, 59, 103, 38, 24, 8, 110, 43, 7, 60, 24, 109, 90, 65, 3, 97, 30, 33, 97, 28, 1, 43, 82, 19, 8, 95, 9, 74, 2, 88, 62, 12, 5, 54, 5, 5, 9, 21, 77, 96, 81, 52, 56, 39, 2, 57, 91, 15, 54, 31, 11, 15, 116, 23, 49, 52, 89, 60, 42, 81, 8, 39, 33, 39, 23, 81, 95, 102, 49, 40, 54, 4, 97, 57, 10, 45, 39, 103, 10, 82, 102, 40, 54, 10, 118, 102, 62, 2, 38, 60, 90, 109, 88, 11, 119, 85, 94, 8, 109, 20, 116, 23, 104, 118, 59, 34, 95, 25, 21, 14, 96, 8, 60, 55, 34, 33, 106, 57, 17, 37, 58, 2, 30, 33, 6, 46, 81, 61, 91, 93, 36, 24, 43, 17, 13, 74, 10, 24, 41, 26, 9, 92, 63, 6, 15, 99, 65, 3, 49, 6, 5, 90, 11, 19, 65, 56, 5, 95, 96, 59, 54, 16, 53, 23, 115, 10, 35, 37, 8, 26, 3, 28, 43, 12, 107, 110, 119, 10, 61, 38, 8, 38, 116, 101, 81, 78, 51, 82, 30, 23, 23, 98, 11, 25, 11, 41, 58, 19, 38, 46, 40, 105, 15, 18, 87, 42, 86, 111, 89, 103, 98, 113, 6, 58, 50, 27, 32, 31, 96, 25, 15, 6, 119, 10, 54, 39, 42, 3, 48, 41, 3, 7, 5, 5, 2, 16, 8, 106, 40, 30, 46, 17, 97, 53, 52, 94, 14, 74, 19, 53, 74, 46, 33, 19, 40, 7, 7, 22, 59, 52, 46, 82, 75, 54, 41, 32, 92, 102, 49, 54, 109, 45, 116, 60, 33, 39, 39, 88, 7, 98, 83, 31, 88, 32, 52, 115, 73, 27, 8, 18, 117, 46, 58, 103, 13, 8, 37, 18, 63, 98, 49, 65, 40, 21, 25, 5, 41, 109, 75, 60, 48, 95, 95, 9, 8, 64, 44, 83, 40, 20, 29, 42, 74, 23, 116, 5, 10, 90, 47, 3, 18, 11, 92, 38, 1, 25, 33, 58, 1, 83, 108, 16, 53, 53, 4, 76, 27, 119, 109, 115, 95, 60, 31, 8, 92, 51, 64, 17, 103, 43, 37, 88, 4, 116, 6, 46, 40, 92, 28, 8, 19, 14, 74, 49, 4, 33, 46, 58, 79, 12, 37, 9, 27, 65, 96, 25, 10, 95, 37, 106, 31, 65, 25, 46, 94, 81, 120, 39, 62, 13, 12, 37, 22, 96, 37, 64, 18, 3, 90, 14, 86, 60, 74, 34, 37, 26, 11, 95, 31, 24, 40, 91, 105, 113, 83, 53, 42, 5, 9, 33, 60, 44, 45, 80, 2, 46, 38, 93, 40, 88, 73, 54, 77, 59, 14, 77, 45, 14, 17, 23, 65, 45, 9, 37, 91, 59, 40, 16, 33, 42, 74, 6, 44, 26, 37, 18, 26, 38, 42, 94, 35, 18, 110, 48, 22, 1, 53, 4, 10, 18, 26, 73, 60, 27, 89, 42, 9, 29, 98, 74, 23, 46, 76, 23, 92, 7, 47, 85, 42, 28, 83, 90, 4, 34, 10, 17, 38, 59, 34, 41, 13, 43, 14, 82, 76, 42, 82, 16, 29, 46, 39, 56, 109, 52, 63, 109, 92, 19, 52, 54, 90, 16, 95, 99, 53, 9, 25, 11, 9, 46, 74, 22, 54, 34, 14, 8, 8, 14, 58, 60, 61, 2, 8, 38, 11, 2, 74, 26, 26, 40, 87, 23, 59, 43, 7, 10, 11, 83, 95, 41, 13, 14, 38, 32, 78, 37, 54, 17, 25, 89, 95, 41, 59, 32, 73, 12, 77, 59, 30, 88, 24, 88, 36, 75, 98, 6, 52, 6, 6, 17, 22, 9, 44, 90, 44, 3, 28, 62, 3, 39, 97, 53, 48, 74, 7, 39, 23, 43, 37, 43, 7, 97, 11, 83, 61, 8, 61, 91, 47, 112, 50, 25, 33, 3, 21, 29, 21, 99, 47, 23, 46, 116, 6, 39, 20, 46, 81, 79, 3, 88, 40, 15, 9, 9, 59, 97, 107, 14, 23, 49, 11, 15, 6, 38, 17, 22, 36, 19, 47, 40, 60, 15, 99, 61, 52, 47, 8, 81, 8, 44, 2, 50, 23, 26, 33, 15, 50, 2, 86, 27, 60, 18, 116, 6, 26, 25, 6, 49, 47, 8, 29, 43, 10, 40, 14, 1, 18, 9, 39, 54, 26, 36, 46, 47, 15, 27, 44, 79, 9, 30, 18, 89, 6, 115, 81, 63, 24, 45, 38, 29, 44, 57, 95, 47, 6, 10, 45, 49, 49, 25, 6, 9, 17, 41, 18, 26, 40, 4, 8, 8, 3, 12, 85, 1, 10, 36, 88, 11, 78, 33, 113, 81, 38, 42, 85, 7, 102, 38, 80, 65, 10, 6, 39, 1, 115, 81, 26, 5, 81, 94, 38, 39, 82, 95, 52, 79, 26, 38, 17, 1, 15, 29, 96, 61, 76, 38, 25, 13, 3, 2, 54, 40, 76, 6, 36, 23, 45, 88, 43, 74, 34, 8, 37, 13, 53, 14, 21, 95, 116, 51, 20, 24, 27, 102, 61, 46, 38, 74, 22, 98, 13, 53, 29, 15, 89, 25, 19, 53, 13, 41, 64, 38, 43, 13, 52, 76, 99, 109, 39, 28, 109, 47, 48, 95, 74, 96, 55, 24, 60, 10, 76, 82, 26, 37, 33, 17, 74, 75, 98, 94, 5, 26, 6, 8, 6, 111, 15, 96, 42, 65, 42, 1, 23, 8, 59, 23, 9, 95, 10, 26, 6, 3, 11, 47, 39, 32, 46, 96, 6, 42, 7, 113, 19, 20, 52, 60, 107, 3, 46, 3, 10, 26, 15, 57, 63, 25, 46, 7, 61, 75, 23, 17, 22, 7, 46, 39, 24, 87, 6, 28, 41, 22, 59, 91, 29, 96, 105, 10, 39, 5, 95, 40, 77, 14, 49, 10, 78, 7, 3, 99, 95, 5, 119, 42, 64, 38, 60, 1, 96, 35, 60, 57, 5, 111, 16, 18, 7, 33, 93, 28, 20, 56, 39, 9, 52, 40, 29, 97, 17, 81, 19, 97, 16, 46, 88, 1, 110, 76, 51, 114, 40, 6, 26, 25, 109, 22, 96, 18, 80, 98, 32, 2, 39, 24, 33, 42, 43, 16, 38, 60, 43, 40, 46, 33, 82, 82, 35, 46, 42, 26, 38, 10, 30, 6, 9, 44, 39, 42, 91, 60, 18, 4, 9, 93, 60, 40, 30, 25, 56, 40, 60, 18, 102, 38, 3, 38, 6, 48, 42, 74, 25, 116, 10, 19, 110, 53, 115, 24, 117, 53, 10, 95, 61, 24, 92, 15, 114, 33, 6, 24, 38, 82, 59, 42, 26, 77, 22, 1, 43, 18, 18, 47, 63, 116, 8, 19, 27, 11, 52, 53, 36, 39, 81, 1, 25, 109, 44, 5, 75, 48, 54, 4, 81, 53, 85, 47, 17, 116, 29, 6, 8, 42, 25, 89, 40, 30, 83, 109, 57, 11, 109, 43, 19, 116, 18, 10, 16, 95, 13, 105, 64, 15, 60, 45, 43, 7, 73, 38, 33, 86, 42, 47, 88, 14, 93, 21, 26, 32, 95, 5, 56, 31, 5, 21, 73, 40, 49, 117, 110, 57, 27, 75, 1, 19, 42, 110, 51, 74, 65, 27, 39, 24, 110, 96, 33, 102, 6, 60, 79, 74, 110, 64, 8, 81, 31, 60, 55, 62, 8, 28, 7, 42, 53, 28, 18, 2, 96, 21, 6, 9, 45, 53, 35, 6, 59, 6, 109, 41, 75, 11, 37, 40, 77, 14, 25, 13, 42, 10, 113, 48, 30, 26, 40, 111, 75, 62, 81, 27, 38, 5, 11, 76, 40, 22, 30, 120, 74, 91, 39, 76, 1, 54, 18, 37, 8, 20, 53, 40, 39, 39, 25, 32, 84, 54, 15, 87, 91, 80, 38, 43, 9, 65, 32, 11, 38, 105, 59, 37, 39, 3, 108, 47, 103, 4, 73, 17, 37, 6, 24, 42, 45, 7, 38, 98, 38, 26, 21, 64, 25, 88, 20, 51, 25, 33, 15, 2, 27, 25, 40, 60, 12, 48, 53, 43, 39, 43, 28, 12, 30, 74, 93, 76, 8, 21, 12, 25, 38, 11, 48, 46, 19, 32, 95, 54, 91, 39, 5, 11, 47, 6, 49, 73, 48, 40, 37, 113, 48, 91, 24, 40, 40, 24, 46, 74, 39, 34, 8, 118, 95, 95, 91, 15, 88, 15, 79, 26, 32, 17, 9, 1, 8, 42, 7, 64, 94, 18, 34, 101, 73, 85, 9, 60, 119, 96, 16, 114, 25, 58, 11, 103, 13, 38, 3, 38, 30, 2, 105, 45, 87, 110, 61, 73, 34, 102, 38, 110, 102, 115, 48, 78, 53, 94, 16, 35, 65, 62, 107, 105, 75, 10, 74, 26, 10, 22, 75, 20, 29, 9, 10, 58, 18, 13, 44, 53, 117, 76, 19, 13, 32, 3, 74, 78, 48, 48, 109, 15, 73, 33, 45, 95, 112, 87, 56, 59, 32, 81, 107, 93, 54, 10, 39, 18, 62, 116, 59, 39, 62, 22, 15, 24, 53, 37, 81, 99, 15, 59, 2, 7, 65, 98, 39, 7, 59, 7, 5, 26, 6, 107, 111, 18, 34, 75, 2, 38, 13, 34, 37, 16, 33, 92, 102, 13, 8, 75, 89, 95, 6, 78, 65, 11, 38, 63, 40, 21, 4, 24, 86, 21, 53, 44, 102, 59, 110, 98, 88, 47, 30, 84, 116, 113, 31, 41, 74, 39, 8, 112, 119, 43, 46, 111, 78, 65, 116, 15, 5, 59, 42, 92, 84, 63, 38, 59, 110, 58, 22, 94, 46, 33, 42, 81, 18, 60, 60, 60, 38, 32, 81, 38, 103, 95, 110, 39, 53, 81, 46, 51, 7, 25, 104, 79, 21, 19, 43, 45, 16, 87, 75, 107, 39, 26, 5, 8, 49, 74, 77, 47, 54, 20, 91, 39, 49, 100, 59, 47, 86, 55, 1, 24, 85, 6, 109, 12, 4, 60, 2, 40, 88, 44, 16, 84, 38, 80, 24, 19, 58, 54, 110, 41, 31, 52, 17, 37, 90, 38, 41, 88, 3, 32, 14, 22, 15, 29, 22, 32, 58, 110, 74, 62, 117, 44, 52, 18, 52, 6, 13, 103, 5, 3, 7, 58, 89, 8, 28, 15, 12, 37, 15, 40, 106, 43, 11, 15, 40, 92, 78, 50, 48, 64, 107, 113, 116, 81, 33, 18, 95, 60, 41, 33, 19, 43, 109, 27, 76, 14, 43, 83, 41, 25, 95, 4, 37, 94, 99, 17, 11, 41, 1, 26, 50, 100, 87, 59, 60, 4, 26, 2, 42, 50, 24, 88, 47, 26, 10, 97, 97, 10, 20, 22, 11, 34, 58, 88, 33, 110, 46, 7, 117, 89, 8, 95, 79, 38, 75, 22, 59, 26, 85, 11, 18, 29, 39, 39, 33, 17, 12, 8, 46, 38, 46, 25, 21, 97, 91, 28, 90, 25, 2, 82, 77, 20, 110, 81, 61, 42, 52, 76, 60, 10, 30, 91, 58, 74, 95, 112, 102, 74, 17, 38, 4, 100, 8, 38, 94, 12, 77, 59, 16, 9, 25, 37, 82, 85, 17, 97, 114, 61, 29, 9, 89, 25, 33, 60, 39, 20, 85, 76, 85, 101, 74, 59, 20, 96, 14, 4, 7, 32, 10, 5, 5, 14, 18, 103, 60, 32, 28, 117, 23, 61, 29, 107, 76, 109, 116, 1, 4, 50, 99, 15, 39, 41, 109, 51, 92, 89, 50, 46, 12, 81, 112, 25, 12, 8, 101, 4, 19, 114, 13, 47, 41, 64, 31, 38, 96, 46, 104, 81, 81, 13, 4, 115, 87, 45, 94, 41, 2, 11, 52, 96, 37, 26, 109, 75, 109, 7, 107, 109, 62, 74, 22, 46, 97, 43, 20, 89, 34, 110, 61, 28, 82, 47, 33, 14, 19, 25, 118, 5, 102, 93, 40, 17, 74, 89, 82, 25, 44, 42, 119, 65, 59, 6, 6, 102, 35, 28, 49, 80, 77, 90, 96, 86, 8, 8, 89, 40, 85, 106, 116, 17, 51, 10, 48, 47, 116, 15, 113, 10, 73, 12, 116, 9, 94, 93, 6, 23, 42, 77, 6, 26, 1, 109, 13, 119, 61, 4, 103, 34, 88, 42, 34, 90, 63, 59, 64, 75, 46, 38, 46, 77, 81, 27, 13, 88, 48, 34, 1, 96, 92, 95, 13, 85, 25, 30, 4, 74, 89, 78, 31, 9, 77, 74, 36, 11, 38, 50, 13, 11, 79, 13, 26, 38, 9, 31, 43, 18, 40, 24, 113, 85, 74, 34, 79, 17, 46, 1, 14, 97, 6, 1, 41, 7, 58, 41, 43, 38, 18, 84, 14, 103, 116, 116, 1, 6, 44, 88, 93, 14, 81, 12, 119, 119, 18, 85, 15, 83, 116, 74, 51, 60, 11, 32, 20, 64, 15, 22, 60, 74, 8, 25, 58, 98, 109, 20, 47, 28, 1, 18, 101, 52, 12, 60, 47, 102, 95, 18, 30, 49, 73, 110, 1, 88, 116, 49, 101, 78, 79, 32, 95, 61, 6, 61, 4, 81, 60, 117, 25, 50, 50, 97, 34, 60, 46, 28, 27, 89, 29, 20, 59, 1, 15, 45, 75, 76, 43, 46, 49, 78, 16, 22, 92, 37, 20, 27, 37, 40, 6, 22, 19, 8, 38, 46, 60, 46, 47, 112, 11, 90, 50, 9, 86, 11, 50, 104, 85, 30, 90, 59, 22, 34, 22, 115, 82, 11, 24, 19, 92, 76, 104, 44, 7, 11, 47, 18, 40, 60, 60, 21, 39, 10, 117, 88, 98, 76, 46, 59, 75, 27, 9, 80, 14, 82, 94, 59, 109, 95, 38, 23, 112, 11, 12, 81, 23, 112, 60, 16, 64, 1, 80, 7, 49, 59, 47, 34, 111, 109, 5, 61, 83, 45, 102, 18, 60, 99, 115, 3, 38, 82, 19, 89, 11, 98, 95, 5, 102, 9, 43, 96, 22, 88, 40, 104, 23, 74, 59, 110, 37, 36, 107, 18, 51, 59, 119, 11, 59, 78, 45, 38, 102, 59, 39, 116, 100, 110, 73, 37, 88, 39, 109, 102, 64, 116, 47, 42, 25, 42, 12, 110, 38, 84, 12, 95, 24, 64, 58, 58, 27, 11, 8, 39, 32, 45, 44, 37, 26, 60, 76, 14, 40, 50, 85, 15, 21, 88, 21, 25, 43, 110, 7, 46, 96, 14, 61, 95, 47, 36, 25, 113, 95, 25, 5, 29, 37, 82, 88, 25, 107, 6, 103, 33, 95, 29, 30, 37, 22, 24, 31, 88, 116, 11, 12, 74, 50, 74, 42, 50, 96, 12, 75, 3, 87, 6, 39, 14, 22, 42, 60, 46, 42, 42, 24, 46, 42, 75, 34, 25, 39, 47, 112, 64, 110, 18, 96, 94, 81, 109, 112, 1, 49, 38, 95, 13, 98, 95, 75, 33, 19, 38, 31, 107, 80, 88, 95, 40, 74, 84, 119, 80, 47, 62, 10, 93, 39, 4, 43, 19, 117, 25, 24, 93, 26, 46, 95, 75, 117, 29, 42, 49, 59, 51, 60, 10, 93, 49, 88, 107, 104, 30, 77, 4, 33, 74, 85, 8, 77, 77, 12, 20, 97, 111, 16, 9, 39, 48, 87, 75, 41, 12, 24, 40, 116, 73, 12, 28, 59, 60, 10, 113, 24, 81, 97, 38, 77, 78, 73, 102, 86, 35, 28, 63, 76, 94, 38, 39, 37, 62, 59, 19, 89, 9, 34, 52, 91, 102, 41, 6, 42, 74, 21, 82, 98, 6, 31, 96, 109, 42, 74, 96, 59, 38, 89, 109, 60, 45, 88, 45, 25, 47, 12, 27, 95, 34, 39, 43, 65, 89, 21, 22, 60, 31, 90, 6, 82, 43, 76, 34, 42, 88, 39, 46, 24, 91, 63, 9, 109, 9, 27, 24, 34, 61, 20, 18, 107, 16, 2, 59, 76, 20, 102, 58, 43, 64, 24, 26, 46, 105, 28, 21, 102, 20, 25, 96, 74, 99, 109, 83, 98, 41, 96, 77, 14, 73, 46, 59, 58, 7, 17, 88, 41, 9, 82, 29, 60, 88, 76, 61, 26, 16, 23, 46, 47, 34, 10, 7, 47, 58, 88, 31, 60, 89, 85, 8, 82, 59, 64, 22, 61, 110, 115, 42, 83, 41, 108, 25, 42, 84, 9, 45, 45, 5, 101, 49, 47, 7, 30, 44, 95, 114, 79, 38, 37, 81, 96, 38, 46, 43, 12, 15, 86, 83, 7, 12, 8, 8, 117, 19, 88, 15, 80, 40, 7, 41, 40, 39, 19, 24, 50, 47, 32, 30, 42, 110, 90, 7, 35, 64, 26, 58, 10, 43, 83, 34, 8, 4, 51, 101, 96, 45, 5, 17, 45, 13, 43, 47, 115, 82, 47, 119, 59, 39, 26, 24, 5, 46, 41, 32, 64, 74, 109, 49, 95, 100, 14, 44, 18, 77, 26, 94, 7, 2, 49, 87, 52, 28, 26, 5, 19, 101, 46, 6, 6, 96, 25, 8, 119, 106, 110, 32, 16, 6, 9, 29, 39, 13, 82, 32, 39, 74, 110, 94, 82, 46, 93, 109, 22, 111, 42, 98, 73, 97, 5, 108, 48, 10, 64, 9, 4, 18, 40, 35, 78, 5, 95, 42, 12, 74, 5, 39, 88, 40, 6, 18, 20, 115, 39, 47, 79, 60, 39, 38, 90, 30, 106, 40, 59, 32, 1, 110, 39, 116, 95, 82, 106, 13, 47, 116, 81, 14, 15, 18, 26, 19, 38, 59, 10, 34, 109, 1, 52, 101, 79, 43, 81, 75, 15, 75, 40, 24, 19, 43, 106, 82, 37, 100, 18, 49, 7, 19, 90, 11, 51, 11, 41, 95, 31, 78, 33, 59, 63, 61, 51, 93, 102, 93, 33, 23, 96, 105, 21, 98, 60, 88, 39, 41, 46, 97, 91, 44, 10, 93, 6, 96, 88, 60, 63, 47, 15, 1, 46, 51, 64, 5, 13, 24, 95, 106, 75, 51, 7, 76, 45, 11, 90, 16, 38, 3, 61, 98, 33, 93, 75, 4, 12, 49, 83, 19, 43, 16, 6, 38, 1, 25, 36, 84, 59, 118, 40, 35, 31, 115, 59, 75, 23, 28, 82, 107, 3, 79, 32, 41, 6, 63, 114, 10, 11, 17, 93, 14, 117, 64, 25, 76, 60, 1, 104, 117, 6, 25, 88, 98, 41, 15, 3, 92, 40, 77, 1, 83, 75, 10, 103, 94, 16, 40, 39, 10, 43, 59, 63, 36, 38, 37, 102, 37, 18, 25, 28, 59, 112, 59, 103, 37, 50, 15, 40, 64, 104, 93, 86, 83, 15, 92, 96, 90, 60, 38, 98, 20, 74, 51, 95, 25, 98, 99, 18, 11, 96, 50, 59, 49, 24, 34, 93, 93, 59, 25, 20, 118, 47, 47, 9, 33, 40, 58, 49, 7, 59, 22, 114, 30, 11, 101, 74, 79, 110, 38, 82, 46, 118, 60, 4, 7, 29, 99, 99, 4, 49, 82, 44, 83, 47, 9, 9, 99, 99, 9, 35, 8, 95, 43, 110, 4, 118, 7, 47, 74, 73, 61, 27, 96, 26, 39, 22, 98, 85, 52, 88, 40, 35, 44, 41, 73, 97, 2, 90, 32, 81, 88, 41, 65, 40, 78, 38, 91, 87, 3, 65, 37, 82, 50, 26, 46, 98, 12, 28, 80, 28, 105, 11, 14, 74, 20, 80, 25, 44, 38, 101, 13, 77, 48, 17, 46, 5, 13, 16, 38, 1, 17, 60, 60, 4, 111, 7, 34, 10, 92, 116, 59, 2, 39, 1, 95, 52, 79, 19, 22, 7, 19, 11, 40, 35, 27, 5, 41, 41, 36, 58, 37, 77, 33, 80, 73, 76, 78, 64, 94, 46, 27, 19, 1, 1, 45, 8, 62, 82, 40, 20, 47, 95, 41, 47, 1, 77, 60, 38, 40, 76, 4, 16, 49, 107, 64, 50, 32, 37, 11, 20, 19, 45, 106, 77, 81, 87, 7, 75, 59, 77, 42, 46, 112, 117, 21, 59, 47, 42, 19, 92, 42, 45, 37, 39, 19, 61, 46, 38, 38, 15, 23, 112, 98, 98, 41, 26, 91, 76, 18, 81, 33, 103, 60, 5, 34, 42, 98, 49, 4, 77, 81, 5, 19, 50, 11, 46, 98, 77, 43, 39, 88, 46, 81, 81, 25, 39, 115, 103, 95, 46, 116, 17, 73, 105, 41, 26, 73, 14, 14, 8, 39, 40, 29, 25, 65, 25, 91, 17, 96, 105, 96, 9, 61, 43, 82, 8, 109, 23, 103, 74, 102, 64, 3, 21, 40, 3, 42, 83, 52, 89, 24, 52, 79, 109, 37, 64, 15, 41, 41, 25, 102, 35, 8, 78, 30, 5, 74, 96, 104, 13, 51, 11, 18, 109, 88, 33, 61, 99, 6, 61, 4, 88, 59, 98, 5, 108, 11, 114, 39, 47, 79, 48, 25, 88, 38, 80, 74, 10, 75, 7, 119, 39, 21, 80, 46, 37, 24, 26, 16, 30, 48, 17, 13, 77, 49, 17, 47, 2, 79, 3, 15, 113, 95, 1, 97, 97, 34, 7, 6, 20, 15, 62, 26, 49, 11, 95, 12, 95, 84, 35, 37, 41, 44, 5, 5, 13, 13, 115, 59, 47, 43, 31, 11, 61, 84, 44, 26, 14, 40, 10, 4, 21, 19, 31, 10, 16, 22, 88, 96, 16, 15, 25, 81, 40, 25, 26, 17, 49, 88, 32, 51, 7, 7, 108, 39, 8, 76, 43, 98, 40, 49, 79, 25, 82, 11, 93, 8, 46, 26, 31, 91, 35, 14, 76, 11, 46, 35, 88, 40, 49, 93, 89, 81, 26, 17, 31, 96, 13, 49, 81, 34, 8, 76, 49, 38, 102, 18, 31, 46, 16, 96, 21, 43, 22, 92, 96, 14, 61, 89, 93, 38, 95, 83, 24, 117, 16, 38, 26, 39, 108, 15, 116, 8, 6, 60, 8, 24, 97, 62, 76, 46, 112, 85, 61, 83, 48, 38, 37, 30, 90, 7, 19, 46, 96, 109, 46, 108, 11, 43, 28, 75, 14, 90, 18, 6, 18, 76, 118, 5, 26, 59, 14, 19, 74, 15, 59, 61, 83, 17, 9, 4, 27, 64, 8, 4, 63, 84, 21, 11, 80, 1, 29, 23, 74, 9, 31, 10, 114, 21, 41, 49, 37, 5, 24, 19, 40, 26, 90, 40, 38, 4, 30, 48, 63, 17, 3, 98, 14, 81, 50, 103, 26, 89, 99, 75, 99, 50, 44, 97, 95, 41, 14, 30, 29, 11, 52, 90, 82, 10, 10, 22, 24, 4, 33, 75, 59, 36, 74, 6, 37, 2, 112, 20, 60, 62, 24, 19, 52, 79, 15, 89, 89, 40, 26, 15, 59, 11, 117, 25, 76, 32, 37, 14, 97, 10, 17, 118, 22, 58, 9, 9, 38, 118, 82, 73, 22, 6, 18, 47, 104, 16, 48, 12, 98, 101, 7, 44, 104, 89, 105, 12, 78, 1, 102, 81, 16, 65, 19, 12, 17, 21, 64, 62, 95, 49, 46, 81, 10, 10, 7, 47, 4, 23, 5, 82, 114, 38, 19, 90, 83, 95, 115, 59, 97, 63, 16, 33, 40, 84, 80, 21, 83, 19, 24, 1, 43, 26, 58, 10, 11, 33, 25, 112, 61, 43, 29, 49, 117, 64, 97, 8, 6, 24, 32, 28, 40, 59, 43, 79, 20, 38, 65, 92, 75, 36, 109, 15, 93, 111, 42, 26, 18, 18, 97, 77, 40, 23, 101, 108, 84, 11, 30, 38, 82, 20, 45, 13, 46, 26, 46, 26, 7, 26, 119, 75, 6, 90, 81, 26, 59, 6, 79, 64, 3, 61, 65, 63, 9, 81, 1, 74, 95, 17, 82, 50, 15, 89, 60, 62, 4, 4, 15, 59, 5, 39, 4, 25, 46, 46, 75, 32, 85, 29, 59, 46, 6, 35, 33, 87, 42, 110, 4, 37, 19, 96, 118, 6, 81, 74, 112, 33, 38, 31, 78, 15, 59, 29, 60, 23, 21, 4, 79, 18, 18, 23, 10, 4, 22, 41, 96, 46, 86, 82, 18, 4, 49, 82, 39, 15, 26, 5, 10, 24, 14, 116, 19, 7, 118, 92, 13, 107, 4, 88, 102, 1, 110, 41, 19, 95, 101, 111, 6, 12, 17, 45, 58, 30, 46, 10, 25, 77, 17, 81, 63, 16, 97, 15, 33, 46, 15, 24, 40, 50, 81, 50, 96, 116, 38, 43, 46, 21, 18, 95, 5, 38, 11, 58, 2, 79, 84, 3, 95, 82, 32, 37, 38, 111, 26, 19, 18, 34, 47, 74, 38, 9, 18, 111, 18, 94, 25, 95, 10, 63, 12, 33, 87, 25, 22, 74, 10, 88, 96, 39, 26, 5, 36, 118, 17, 7, 92, 39, 8, 42, 9, 40, 47, 91, 34, 64, 35, 96, 26, 18, 2, 11, 8, 38, 116, 45, 74, 26, 8, 18, 23, 74, 25, 43, 38, 78, 8, 73, 28, 10, 18, 10, 42, 47, 39, 109, 25, 46, 19, 23, 40, 7, 116, 60, 106, 46, 11, 47, 39, 22, 52, 26, 98, 21, 83, 33, 95, 14, 65, 9, 51, 87, 115, 7, 91, 5, 38, 96, 87, 48, 51, 63, 14, 29, 47, 20, 5, 94, 25, 6, 38, 15, 1, 20, 17, 47, 60, 65, 4, 51, 62, 46, 9, 32, 7, 76, 48, 36, 26, 19, 9, 11, 6, 1, 39, 73, 111, 35, 7, 75, 5, 60, 92, 23, 10, 30, 6, 6, 10, 88, 81, 46, 51, 9, 96, 109, 7, 8, 59, 4, 45, 8, 98, 39, 81, 10, 18, 79, 6, 94, 74, 12, 60, 13, 7, 42, 8, 31, 37, 38, 46, 10, 20, 47, 16, 37, 48, 9, 45, 14, 116, 27, 96, 42, 1, 63, 81, 100, 25, 75, 1, 39, 59, 9, 119, 14, 15, 90, 15, 9, 96, 16, 105, 18, 15, 5, 12, 59, 39, 28, 73, 41, 8, 1, 1, 63, 82, 38, 75, 9, 8, 79, 22, 19, 76, 9, 83, 112, 85, 38, 38, 109, 46, 39, 27, 116, 84, 39, 26, 8, 40, 23, 74, 13, 36, 88, 10, 65, 13, 83, 8, 59, 3, 47, 16, 40, 42, 91, 38, 2, 8, 29, 2, 10, 52, 52, 15, 43, 38, 109, 33, 42, 86, 5, 47, 26, 96, 44, 39, 9, 6, 14, 31, 38, 6, 62, 80, 5, 26, 47, 10, 11, 60, 97, 42, 19, 84, 65, 64, 77, 106, 46, 3, 40, 88, 40, 16, 116, 91, 19, 41, 39, 34, 4, 26, 16, 44, 40, 47, 65, 3, 46, 25, 4, 19, 10, 21, 37, 78, 96, 98, 3, 38, 106, 75, 8, 111, 10, 32, 42, 3, 10, 22, 91, 41, 6, 18, 39, 96, 20, 23, 12, 26, 47, 82, 10, 52, 22, 1, 103, 38, 10, 47, 118, 38, 19, 52, 91, 88, 38, 102, 8, 8, 114, 42, 51, 3, 105, 102, 81, 20, 15, 6, 59, 17, 37, 21, 32, 36, 65, 91, 39, 61, 18, 48, 27, 9, 97, 60, 15, 39, 13, 109, 41, 96, 95, 118, 100, 81, 96, 14, 96, 25, 11, 32, 86, 58, 26, 19, 19, 99, 88, 47, 24, 41, 26, 45, 78, 62, 74, 43, 81, 6, 4, 26, 75, 8, 7, 33, 78, 43, 4, 74, 13, 106, 5, 79, 7, 85, 23, 23, 51, 83, 75, 48, 74, 19, 61, 95, 7, 40, 44, 60, 58, 25, 18, 96, 25, 39, 87, 48, 95, 89, 18, 102, 9, 39, 61, 13, 32, 44, 103, 76, 79, 13, 22, 79, 9, 40, 97, 102, 30, 96, 96, 77, 100, 20, 58, 43, 89, 102, 37, 8, 18, 85, 74, 38, 86, 110, 19, 50, 25, 58, 25, 97, 47, 102, 97, 44, 14, 20, 26, 37, 44, 37, 39, 24, 99, 63, 28, 9, 101, 44, 102, 21, 32, 75, 96, 19, 74, 59, 37, 3, 29, 25, 95, 87, 118, 49, 40, 24, 119, 64, 40, 27, 74, 79, 30, 114, 25, 14, 5, 34, 75, 63, 83, 95, 46, 93, 37, 45, 10, 38, 44, 13, 29, 33, 28, 118, 61, 78, 40, 82, 92, 81, 79, 11, 27, 18, 96, 61, 10, 3, 13, 22, 18, 81, 110, 74, 73, 5, 14, 47, 20, 23, 27, 23, 113, 25, 116, 27, 6, 31, 1, 52, 84, 41, 11, 75, 101, 114, 46, 13, 75, 94, 12, 37, 6, 79, 49, 17, 93, 49, 39, 7, 74, 109, 38, 6, 9, 18, 97, 41, 40, 33, 76, 44, 89, 36, 46, 81, 104, 43, 50, 106, 59, 96, 41, 111, 3, 3, 37, 6, 16, 11, 40, 19, 95, 95, 39, 45, 60, 15, 18, 13, 117, 5, 26, 1, 19, 47, 109, 32, 3, 39, 45, 103, 6, 22, 45, 38, 46, 95, 36, 8, 47, 81, 8, 33, 15, 15, 11, 73, 26, 103, 9, 75, 75, 79, 110, 74, 46, 47, 102, 47, 6, 104, 89, 14, 9, 25, 99, 51, 39, 14, 40, 14, 20, 22, 46, 51, 39, 31, 18, 40, 75, 46, 84, 41, 44, 97, 93, 13, 9, 43, 98, 21, 21, 97, 14, 89, 88, 15, 7, 77, 37, 41, 45, 48, 24, 24, 49, 96, 73, 96, 75, 76, 18, 39, 46, 10, 4, 10, 58, 19, 84, 96, 82, 32, 47, 52, 83, 42, 20, 8, 24, 5, 50, 47, 18, 3, 7, 99, 12, 99, 33, 58, 9, 46, 6, 6, 75, 8, 27, 20, 36, 38, 11, 118, 46, 31, 7, 15, 39, 18, 94, 41, 98, 10, 109, 17, 23, 113, 101, 63, 39, 42, 10, 14, 74, 38, 52, 38, 8, 43, 25, 110, 10, 10, 96, 117, 49, 25, 39, 75, 21, 64, 27, 42, 22, 37, 63, 1, 97, 15, 39, 60, 94, 34, 25, 29, 24, 19, 16, 73, 100, 116, 12, 47, 59, 42, 59, 39, 50, 64, 37, 26, 79, 9, 93, 32, 3, 23, 9, 6, 7, 47, 25, 17, 60, 26, 43, 101, 36, 76, 87, 83, 11, 116, 96, 31, 9, 32, 109, 102, 8, 40, 95, 9, 13, 36, 42, 24, 7, 7, 9, 8, 23, 8, 95, 38, 74, 37, 83, 50, 14, 60, 119, 21, 39, 110, 20, 13, 25, 87, 33, 58, 4, 38, 42, 81, 7, 6, 85, 99, 1, 8, 26, 47, 10, 17, 77, 19, 13, 25, 14, 10, 21, 15, 8, 96, 38, 26, 25, 52, 4, 5, 51, 46, 42, 12, 74, 94, 81, 74, 96, 6, 20, 109, 39, 39, 25, 90, 104, 19, 46, 81, 25, 40, 24, 23, 14, 41, 112, 11, 2, 43, 37, 21, 46, 107, 99, 42, 76, 51, 7, 7, 47, 118, 39, 50, 11, 81, 9, 23, 21, 31, 75, 6, 10, 46, 116, 46, 19, 82, 6, 38, 6, 25, 8, 91, 82, 12, 22, 11, 39, 17, 42, 19, 7, 93, 28, 28, 46, 115, 82, 82, 102, 32, 48, 6, 80, 43, 15, 31, 28, 24, 29, 97, 2, 41, 90, 47, 116, 81, 8, 31, 52, 65, 116, 39, 76, 89, 88, 39, 32, 117, 22, 30, 32, 32, 34, 47, 6, 109, 75, 34, 51, 88, 48, 77, 50, 99, 40, 40, 9, 60, 21, 73, 11, 109, 51, 7, 22, 46, 40, 15, 48, 88, 41, 100, 5, 58, 1, 97, 59, 27, 10, 42, 17, 12, 10, 78, 2, 107, 11, 81, 23, 96, 116, 38, 77, 41, 40, 43, 16, 40, 24, 85, 51, 89, 31, 16, 28, 64, 18, 101, 106, 116, 43, 4, 40, 96, 50, 22, 13, 26, 91, 10, 81, 20, 116, 2, 10, 15, 96, 102, 83, 37, 39, 111, 7, 7, 116, 102, 9, 77, 77, 45, 8, 116, 59, 19, 2, 18, 82, 38, 106, 100, 8, 5, 100, 59, 21, 58, 11, 93, 75, 32, 5, 25, 37, 76, 30, 61, 75, 39, 77, 23, 14, 6, 14, 93, 43, 95, 43, 51, 9, 4, 46, 18, 48, 27, 46, 96, 88, 6, 38, 78, 64, 23, 44, 36, 96, 1, 5, 64, 96, 33, 6, 79, 4, 99, 24, 74, 21, 80, 60, 102, 22, 109, 14, 26, 87, 6, 60, 40, 82, 17, 40, 81, 80, 20, 117, 82, 60, 14, 111, 21, 49, 18, 85, 19, 96, 17, 37, 48, 41, 48, 99, 90, 11, 6, 104, 39, 16, 50, 12, 20, 20, 74, 10, 95, 82, 64, 38, 29, 3, 9, 11, 83, 2, 58, 28, 63, 16, 16, 90, 115, 37, 79, 39, 20, 37, 102, 100, 10, 11, 81, 14, 14, 109, 62, 28, 14, 43, 90, 6, 6, 32, 48, 94, 76, 3, 111, 2, 30, 34, 37, 95, 26, 88, 104, 37, 35, 7, 29, 89, 109, 59, 116, 116, 39, 81, 26, 4, 38, 18, 74, 11, 6, 89, 60, 100, 73, 47, 78, 42, 62, 30, 59, 35, 75, 4, 38, 19, 43, 12, 88, 95, 27, 59, 7, 80, 63, 7, 14, 3, 25, 50, 39, 47, 10, 31, 39, 39, 3, 45, 20, 109, 4, 21, 6, 8, 22, 28, 33, 18, 22, 86, 89, 20, 117, 74, 102, 44, 27, 101, 74, 3, 13, 77, 3, 5, 94, 31, 41, 38, 42, 37, 46, 76, 2, 93, 74, 50, 42, 49, 45, 14, 39, 1, 20, 62, 23, 41, 14, 51, 79, 47, 98, 40, 95, 41, 21, 58, 95, 38, 80, 92, 42, 60, 38, 6, 37, 9, 38, 23, 22, 25, 96, 74, 88, 32, 13, 64, 46, 22, 9, 47, 58, 12, 7, 38, 105, 33, 109, 38, 26, 47, 12, 109, 51, 19, 17, 48, 23, 40, 84, 25, 19, 17, 38, 8, 74, 19, 26, 39, 102, 10, 26, 8, 41, 17, 7, 5, 1, 86, 22, 74, 38, 89, 39, 93, 6, 5, 89, 4, 98, 103, 79, 79, 117, 16, 5, 15, 52, 14, 6, 21, 82, 77, 109, 75, 42, 23, 24, 3, 97, 46, 3, 18, 26, 81, 23, 64, 25, 115, 86, 14, 95, 8, 5, 22, 87, 60, 48, 101, 17, 85, 11, 39, 89, 63, 116, 97, 95, 11, 76, 95, 4, 103, 15, 18, 77, 60, 74, 75, 20, 82, 29, 7, 8, 59, 59, 24, 60, 21, 40, 96, 41, 87, 5, 5, 102, 41, 27, 24, 110, 59, 95, 28, 25, 45, 76, 99, 9, 39, 45, 24, 61, 28, 76, 74, 93, 23, 21, 25, 102, 17, 18, 13, 40, 31, 83, 19, 25, 107, 45, 10, 8, 97, 41, 88, 7, 74, 14, 38, 39, 15, 96, 9, 75, 84, 42, 18, 24, 110, 5, 13, 89, 25, 42, 40, 60, 2, 16, 6, 82, 2, 33, 4, 73, 35, 8, 110, 37, 9, 10, 15, 109, 65, 36, 20, 1, 40, 20, 39, 39, 63, 22, 111, 5, 12, 38, 9, 40, 117, 106, 46, 25, 40, 2, 50, 28, 43, 15, 23, 8, 7, 7, 7, 10, 33, 34, 108, 7, 7, 25, 81, 22, 48, 47, 76, 10, 52, 41, 2, 15, 9, 7, 107, 95, 79, 102, 9, 39, 75, 79, 90, 7, 7, 7, 4, 13, 8, 1, 60, 25, 32, 11, 77, 58, 75, 46, 27, 99, 12, 60, 6, 33, 41, 74, 3, 25, 6, 13, 20, 23, 10, 58, 8, 8, 6, 102, 8, 12, 2, 43, 96, 9, 94, 60, 24, 32, 44, 39, 90, 45, 11, 39, 47, 114, 115, 59, 9, 105, 18, 59, 59, 26, 89, 6, 8, 16, 74, 77, 85, 59, 25, 5, 39, 102, 27, 15, 44, 110, 42, 47, 26, 96, 25, 92, 39, 49, 17, 39, 96, 75, 25, 88, 6, 81, 76, 82, 42, 81, 38, 61, 11, 38, 89, 76, 20, 7, 14, 46, 110, 47, 88, 38, 2, 40, 117, 77, 36, 95, 20, 65, 32, 14, 60, 50, 17, 9, 7, 93, 3, 46, 60, 98, 2, 7, 59, 89, 74, 20, 77, 88, 5, 108, 74, 49, 39, 8, 8, 7, 3, 32, 21, 19, 29, 117, 6, 24, 3, 3, 86, 65, 86, 31, 64, 8, 10, 76, 37, 98, 24, 82, 17, 96, 11, 37, 39, 43, 101, 88, 30, 6, 85, 20, 59, 110, 7, 117, 10, 80, 32, 33, 33, 63, 20, 10, 34, 93, 43, 2, 2, 11, 96, 9, 18, 63, 47, 31, 109, 3, 8, 88, 44, 58, 14, 38, 51, 73, 40, 30, 47, 90, 18, 46, 87, 38, 61, 19, 6, 76, 13, 40, 40, 109, 25, 114, 74, 89, 109, 12, 27, 73, 38, 14, 64, 5, 9, 22, 75, 43, 7, 115, 79, 97, 5, 74, 80, 74, 47, 42, 103, 100, 95, 7, 43, 75, 97, 88, 82, 21, 11, 59, 8, 63, 46, 96, 73, 94, 25, 5, 95, 61, 80, 73, 42, 59, 40, 10, 102, 29, 119, 19, 39, 14, 28, 18, 50, 40, 4, 32, 46, 87, 98, 50, 96, 25, 41, 64, 13, 116, 95, 30, 91, 3, 40, 30, 88, 82, 45, 106, 120, 1, 95, 16, 95, 83, 17, 26, 20, 29, 93, 100, 41, 93, 39, 42, 107, 49, 33, 5, 61, 110, 14, 46, 76, 10, 82, 40, 4, 75, 30, 12, 25, 58, 30, 117, 96, 36, 20, 96, 81, 12, 41, 6, 63, 11, 13, 65, 5, 24, 6, 3, 43, 76, 20, 24, 82, 60, 119, 1, 47, 63, 6, 40, 19, 74, 85, 58, 117, 8, 21, 42, 38, 38, 51, 22, 3, 22, 119, 96, 39, 96, 65, 19, 27, 11, 26, 114, 42, 18, 90, 46, 94, 10, 26, 45, 13, 39, 75, 15, 12, 116, 64, 42, 88, 76, 19, 16, 82, 79, 36, 39, 11, 16, 86, 74, 12, 119, 89, 27, 118, 116, 117, 117, 22, 41, 116, 116, 82, 60, 116, 116, 116, 92, 110, 115, 115, 3, 59, 48, 85, 39, 114, 26, 98, 112, 76, 29, 6, 112, 22, 10, 105, 111, 110, 25, 110, 61, 102, 82, 110, 83, 110, 89, 8, 107, 96, 108, 18, 11, 109, 94, 91, 108, 108, 108, 31, 98, 39, 93, 87, 88, 9, 105, 60, 39, 37, 104, 104, 49, 95, 43, 103, 76, 103, 28, 25, 102, 102, 102, 16, 39, 4, 10, 5, 79, 17, 43, 99, 38, 99, 99, 99, 30, 61, 26, 25, 38, 98, 22, 36, 89, 11, 97, 79, 65, 96, 5, 96, 75, 96, 96, 96, 9, 58, 82, 84, 95, 79, 95, 95, 1, 92, 94, 94, 52, 94, 83, 82, 63, 8, 93, 88, 92, 91, 28, 36, 90, 90, 15, 90, 88, 89, 3, 89, 45, 89, 15, 89, 89, 89, 76, 88, 88, 26, 88, 88, 88, 64, 82, 46, 86, 76, 86, 85, 85, 85, 4, 39, 78, 83, 83, 77, 38, 82, 82, 82, 39, 81, 42, 80, 49, 58, 79, 79, 79, 31, 12, 75, 77, 40, 77, 77, 77, 76, 76, 2, 11, 41, 75, 75, 39, 38, 73, 74, 6, 4, 74, 60, 74, 18, 63, 73, 13, 73, 73, 73, 25, 31, 14, 4, 16, 33, 18, 31, 25, 22, 17, 47, 25, 12, 13, 9, 9, 6, 12, 12, 25, 51, 39, 37, 65, 64, 11, 35, 5, 13, 60, 62, 62, 62, 58, 62, 33, 43, 10, 61, 60, 60, 6, 9, 18, 32, 47, 59, 59, 46, 59, 59, 12, 59, 44, 10, 15, 23, 21, 25, 47, 44, 52, 26, 6, 49, 20, 4, 47, 13, 27, 4, 16, 10, 51, 50, 13, 5, 26, 37, 20, 20, 48, 17, 10, 40, 47, 24, 31, 8, 19, 46, 25, 46, 22, 46, 46, 46, 45, 45, 30, 7, 44, 23, 43, 24, 12, 19, 43, 42, 42, 38, 42, 42, 41, 26, 40, 40, 40, 40, 37, 38, 39, 39, 10, 6, 6, 38, 38, 37, 35, 37, 37, 34, 26, 1, 33, 19, 32, 32, 31, 31, 30, 30, 30, 27, 29, 28, 28, 8, 19, 27, 27, 1, 27, 19, 23, 26, 12, 26, 26, 26, 5, 12, 16, 26, 26, 26, 21, 23, 26, 25, 25, 25, 25, 25, 25, 25, 25, 25, 25, 25, 25, 25, 25, 25, 25, 24, 24, 9, 4, 10, 9, 23, 2, 10, 17, 10, 23, 23, 13, 21, 21, 21, 21, 21, 20, 20, 20, 20, 20, 19, 18, 19, 19, 19, 19, 19, 18, 18, 18, 18, 18, 17, 17, 17, 17, 17, 16, 16, 16, 16, 16, 8, 15, 15, 15, 3, 4, 13, 13, 12, 12, 12, 12, 12, 12, 12, 11, 11, 11, 6, 11, 11, 3, 4, 10, 10, 9, 7, 8, 9, 8, 8, 7, 8, 8, 8, 8, 7, 7, 7, 7, 1, 5, 5, 5, 1, 6, 6, 6, 6, 3, 5, 5, 5, 5, 5, 5, 4, 4, 4, 4, 4, 4, 4, 3, 3, 2, 2, 1, 1, 1, 1, 1, 1, 1], \"y\": [9, 6, 4, 2, 7, 3, 10, 4, 9, 2, 13, 6, 4, 6, 10, 7, 2, 12, 2, 11, 7, 8, 4, 8, 4, 6, 3, 11, 13, 6, 7, 4, 1, 9, 3, 1, 6, 5, 5, 12, 11, 3, 12, 6, 6, 10, 11, 6, 6, 10, 9, 22, 15, 5, 13, 12, 1, 2, 1, 11, 2, 1, 5, 12, 2, 3, 13, 11, 11, 14, 4, 12, 10, 13, 9, 1, 14, 2, 12, 1, 13, 3, 8, 11, 9, 11, 15, 14, 1, 6, 4, 2, 5, 6, 9, 14, 8, 4, 2, 3, 12, 9, 11, 4, 15, 11, 3, 11, 2, 12, 12, 7, 16, 10, 5, 7, 12, 7, 2, 5, 2, 7, 11, 2, 3, 5, 9, 8, 14, 11, 13, 3, 11, 5, 8, 16, 7, 10, 10, 8, 11, 1, 15, 7, 11, 5, 1, 5, 11, 1, 1, 11, 3, 25, 5, 1, 9, 2, 13, 13, 2, 9, 9, 13, 7, 4, 10, 8, 4, 5, 3, 15, 3, 7, 3, 8, 15, 12, 7, 3, 8, 10, 18, 10, 11, 13, 8, 2, 9, 5, 15, 11, 7, 11, 11, 14, 14, 10, 2, 10, 3, 9, 19, 2, 8, 13, 5, 10, 16, 13, 6, 4, 15, 6, 7, 4, 1, 11, 3, 4, 8, 10, 10, 4, 2, 14, 4, 17, 3, 7, 1, 14, 3, 15, 8, 8, 4, 11, 2, 3, 5, 16, 4, 9, 6, 6, 6, 7, 10, 10, 6, 7, 5, 7, 5, 2, 2, 6, 2, 2, 3, 1, 7, 2, 4, 2, 11, 6, 11, 3, 4, 20, 3, 5, 6, 14, 10, 16, 1, 2, 9, 15, 9, 12, 3, 12, 5, 4, 18, 2, 10, 8, 12, 7, 14, 11, 7, 13, 3, 11, 4, 2, 8, 9, 3, 3, 13, 6, 9, 9, 8, 2, 10, 10, 12, 7, 9, 6, 2, 2, 7, 6, 12, 1, 9, 5, 3, 11, 12, 10, 1, 4, 8, 4, 5, 8, 3, 3, 12, 18, 19, 10, 1, 11, 3, 8, 2, 20, 8, 9, 2, 16, 13, 8, 19, 13, 14, 8, 11, 8, 11, 10, 9, 10, 8, 7, 2, 14, 18, 1, 14, 6, 13, 5, 16, 6, 6, 12, 5, 14, 10, 9, 9, 15, 6, 5, 10, 7, 5, 4, 13, 3, 13, 8, 10, 21, 10, 8, 5, 10, 10, 23, 11, 4, 6, 8, 4, 10, 13, 14, 10, 9, 9, 11, 9, 9, 7, 15, 13, 14, 6, 9, 8, 1, 13, 17, 22, 2, 11, 10, 9, 14, 6, 2, 2, 1, 1, 13, 11, 8, 8, 4, 13, 19, 3, 5, 7, 9, 13, 1, 14, 3, 5, 6, 13, 4, 9, 1, 9, 9, 11, 7, 5, 2, 3, 10, 11, 28, 9, 16, 14, 8, 3, 14, 9, 8, 8, 6, 10, 10, 6, 3, 16, 5, 3, 9, 9, 18, 3, 2, 8, 9, 4, 12, 4, 5, 10, 1, 7, 8, 9, 8, 1, 6, 11, 12, 7, 3, 4, 7, 8, 4, 1, 8, 4, 7, 13, 6, 3, 10, 1, 5, 9, 7, 8, 4, 4, 4, 2, 5, 5, 11, 13, 4, 12, 11, 8, 5, 17, 9, 10, 2, 18, 8, 10, 2, 6, 11, 3, 16, 4, 8, 4, 9, 11, 7, 3, 10, 4, 7, 11, 2, 11, 5, 13, 9, 14, 12, 2, 6, 13, 11, 16, 10, 3, 6, 12, 5, 5, 6, 1, 5, 3, 11, 14, 11, 9, 10, 14, 9, 11, 7, 7, 1, 2, 12, 13, 12, 5, 1, 9, 12, 5, 12, 1, 10, 12, 16, 3, 5, 9, 14, 18, 6, 4, 10, 32, 5, 1, 12, 4, 14, 5, 11, 8, 5, 3, 12, 3, 3, 6, 5, 9, 9, 7, 1, 7, 3, 3, 5, 8, 2, 5, 5, 4, 1, 14, 2, 8, 9, 11, 16, 10, 14, 3, 13, 6, 7, 7, 13, 12, 21, 5, 9, 10, 6, 11, 14, 3, 13, 14, 10, 5, 20, 11, 5, 5, 2, 17, 14, 13, 1, 10, 19, 10, 13, 14, 6, 10, 13, 4, 3, 3, 6, 15, 4, 13, 8, 3, 13, 6, 1, 1, 3, 12, 2, 14, 9, 13, 5, 3, 12, 6, 8, 11, 2, 7, 12, 2, 9, 10, 18, 8, 9, 5, 6, 7, 6, 5, 20, 3, 1, 3, 5, 1, 20, 4, 2, 5, 18, 13, 4, 9, 2, 2, 11, 1, 1, 12, 6, 4, 9, 9, 11, 8, 1, 16, 5, 16, 4, 1, 7, 2, 2, 2, 13, 8, 3, 8, 9, 12, 2, 9, 11, 1, 13, 7, 11, 9, 18, 8, 12, 7, 3, 3, 7, 3, 3, 3, 11, 2, 4, 9, 10, 11, 10, 8, 3, 16, 12, 10, 11, 9, 8, 11, 16, 4, 4, 6, 11, 1, 9, 9, 4, 4, 5, 12, 3, 11, 4, 13, 6, 4, 8, 6, 2, 1, 2, 1, 7, 6, 14, 9, 6, 8, 9, 10, 10, 7, 11, 1, 9, 9, 14, 7, 5, 3, 6, 5, 6, 4, 8, 14, 2, 3, 8, 19, 13, 6, 11, 5, 10, 8, 11, 10, 12, 10, 20, 9, 14, 10, 11, 6, 14, 6, 7, 13, 7, 5, 15, 8, 5, 3, 2, 13, 7, 9, 7, 7, 5, 10, 1, 9, 12, 4, 9, 9, 1, 1, 1, 10, 9, 12, 9, 8, 10, 1, 1, 5, 8, 4, 17, 6, 6, 8, 13, 7, 2, 7, 4, 1, 14, 11, 4, 5, 4, 9, 7, 6, 1, 3, 7, 6, 16, 12, 1, 13, 8, 5, 16, 9, 15, 12, 2, 13, 7, 11, 3, 11, 8, 22, 5, 14, 7, 9, 7, 4, 24, 6, 7, 12, 12, 11, 5, 6, 5, 17, 14, 1, 7, 6, 11, 18, 5, 4, 6, 16, 10, 13, 3, 2, 17, 11, 20, 14, 4, 2, 14, 8, 12, 20, 12, 14, 6, 5, 11, 2, 4, 11, 5, 5, 6, 6, 2, 22, 7, 10, 7, 7, 1, 5, 7, 5, 5, 10, 12, 13, 10, 12, 7, 10, 5, 2, 3, 17, 7, 5, 7, 1, 13, 6, 7, 12, 12, 12, 5, 12, 11, 1, 8, 10, 6, 9, 4, 9, 6, 3, 8, 8, 9, 5, 5, 6, 11, 12, 1, 14, 11, 9, 3, 2, 1, 5, 17, 14, 2, 11, 6, 4, 4, 5, 5, 1, 3, 5, 7, 11, 12, 9, 8, 2, 12, 8, 14, 6, 7, 10, 6, 14, 6, 7, 10, 7, 7, 8, 7, 4, 7, 1, 2, 7, 6, 8, 14, 2, 12, 2, 8, 11, 2, 2, 6, 14, 10, 11, 13, 8, 6, 11, 14, 10, 4, 1, 5, 12, 3, 6, 12, 8, 6, 4, 2, 2, 10, 13, 2, 9, 8, 1, 6, 2, 5, 7, 17, 12, 6, 4, 7, 8, 6, 8, 9, 6, 13, 15, 4, 5, 11, 3, 1, 6, 10, 21, 1, 3, 3, 13, 10, 12, 8, 10, 3, 4, 8, 7, 14, 12, 14, 8, 6, 11, 8, 14, 8, 2, 17, 14, 15, 7, 1, 8, 1, 4, 4, 5, 5, 7, 7, 9, 6, 12, 15, 4, 6, 20, 12, 12, 10, 6, 2, 5, 11, 5, 9, 3, 15, 4, 16, 7, 1, 13, 12, 9, 12, 2, 4, 6, 2, 4, 2, 3, 8, 9, 9, 4, 15, 5, 7, 3, 9, 10, 13, 5, 9, 9, 5, 3, 5, 9, 10, 4, 1, 10, 6, 5, 9, 4, 9, 4, 2, 2, 1, 7, 1, 10, 4, 10, 21, 6, 11, 3, 15, 3, 5, 1, 6, 3, 7, 4, 4, 5, 2, 11, 4, 12, 12, 5, 4, 3, 3, 2, 3, 7, 3, 11, 8, 3, 11, 2, 3, 2, 3, 11, 4, 6, 10, 14, 7, 3, 10, 5, 12, 6, 4, 3, 14, 5, 8, 15, 10, 5, 10, 12, 14, 9, 12, 3, 8, 3, 2, 5, 7, 12, 5, 5, 4, 3, 6, 5, 2, 12, 6, 4, 3, 1, 4, 12, 1, 4, 6, 11, 3, 7, 4, 11, 11, 11, 8, 25, 4, 10, 9, 11, 10, 2, 2, 1, 4, 11, 13, 2, 6, 12, 9, 11, 7, 11, 16, 11, 9, 2, 8, 3, 1, 4, 6, 11, 5, 9, 8, 4, 6, 1, 6, 13, 8, 11, 2, 14, 2, 11, 17, 11, 10, 4, 4, 12, 2, 9, 10, 3, 15, 12, 7, 9, 5, 9, 12, 17, 6, 14, 8, 11, 12, 7, 9, 9, 4, 16, 4, 1, 8, 11, 2, 9, 14, 14, 4, 10, 7, 7, 13, 4, 9, 7, 7, 8, 13, 21, 9, 7, 5, 11, 4, 10, 14, 5, 14, 12, 7, 11, 14, 14, 3, 3, 7, 4, 2, 6, 9, 5, 12, 11, 14, 14, 5, 4, 4, 13, 4, 4, 21, 7, 2, 3, 3, 1, 10, 7, 1, 5, 12, 3, 8, 1, 11, 10, 1, 8, 8, 11, 1, 8, 1, 11, 5, 8, 13, 10, 6, 9, 1, 8, 7, 6, 7, 3, 5, 14, 11, 3, 10, 2, 7, 8, 6, 11, 12, 10, 9, 15, 8, 8, 2, 12, 3, 17, 3, 7, 6, 9, 6, 3, 11, 14, 6, 12, 9, 10, 5, 9, 2, 18, 8, 14, 12, 4, 7, 2, 2, 2, 13, 14, 12, 5, 5, 11, 5, 12, 3, 3, 7, 7, 10, 8, 27, 11, 11, 7, 2, 17, 10, 11, 9, 7, 4, 5, 5, 14, 6, 14, 2, 8, 14, 10, 2, 10, 4, 10, 9, 5, 5, 6, 9, 3, 12, 11, 7, 14, 15, 12, 12, 6, 8, 14, 8, 10, 4, 6, 10, 6, 12, 13, 13, 2, 1, 3, 10, 20, 10, 6, 1, 7, 5, 13, 9, 20, 2, 4, 13, 4, 8, 4, 12, 7, 10, 2, 2, 14, 6, 8, 5, 8, 13, 8, 19, 10, 2, 22, 6, 9, 3, 3, 2, 11, 19, 8, 7, 8, 17, 1, 6, 14, 7, 13, 9, 16, 10, 4, 1, 7, 5, 9, 11, 12, 9, 10, 3, 8, 8, 10, 3, 13, 8, 11, 1, 18, 8, 9, 8, 7, 22, 4, 3, 6, 3, 2, 12, 7, 10, 2, 9, 13, 5, 12, 8, 5, 18, 4, 3, 7, 12, 1, 14, 15, 5, 7, 7, 10, 5, 13, 7, 5, 13, 3, 8, 10, 5, 13, 1, 4, 5, 9, 1, 6, 11, 3, 5, 9, 10, 9, 14, 11, 11, 9, 3, 6, 9, 3, 14, 14, 7, 14, 14, 14, 3, 22, 18, 9, 10, 6, 13, 7, 11, 10, 8, 6, 12, 13, 20, 5, 18, 1, 7, 3, 7, 6, 13, 7, 1, 11, 8, 5, 6, 9, 11, 14, 3, 13, 5, 8, 8, 10, 4, 4, 12, 13, 2, 6, 3, 6, 6, 14, 11, 6, 8, 11, 11, 12, 27, 10, 5, 10, 1, 1, 9, 6, 3, 13, 14, 9, 10, 9, 10, 2, 6, 6, 6, 4, 6, 14, 7, 4, 11, 5, 10, 3, 13, 1, 8, 16, 13, 10, 8, 6, 14, 6, 7, 12, 9, 9, 9, 4, 4, 11, 10, 2, 4, 9, 7, 15, 4, 6, 11, 11, 1, 11, 23, 6, 1, 8, 14, 3, 16, 6, 14, 2, 3, 8, 5, 10, 6, 1, 12, 4, 13, 3, 9, 5, 11, 9, 6, 6, 2, 13, 10, 1, 1, 6, 6, 14, 1, 8, 9, 8, 10, 12, 10, 17, 6, 6, 8, 14, 4, 13, 8, 9, 11, 7, 8, 9, 12, 2, 13, 12, 8, 13, 12, 8, 12, 6, 11, 7, 13, 4, 6, 8, 3, 7, 4, 7, 4, 1, 2, 4, 10, 5, 10, 12, 4, 10, 7, 10, 7, 1, 12, 6, 7, 6, 13, 7, 12, 8, 1, 2, 12, 2, 15, 7, 2, 13, 12, 15, 10, 12, 13, 2, 15, 14, 11, 12, 5, 7, 7, 7, 12, 9, 7, 11, 10, 13, 9, 20, 2, 8, 8, 6, 7, 10, 7, 7, 1, 4, 2, 8, 3, 9, 4, 1, 14, 7, 2, 14, 1, 10, 12, 2, 10, 20, 8, 16, 8, 6, 2, 21, 7, 7, 7, 8, 10, 7, 4, 9, 4, 10, 5, 14, 17, 8, 12, 13, 2, 3, 1, 13, 10, 8, 9, 2, 8, 5, 2, 15, 10, 2, 4, 12, 3, 5, 8, 3, 18, 20, 2, 4, 10, 3, 10, 5, 7, 9, 4, 14, 5, 15, 5, 1, 11, 1, 12, 2, 8, 11, 6, 8, 17, 11, 5, 1, 1, 12, 5, 5, 9, 12, 8, 22, 11, 9, 4, 6, 8, 8, 6, 10, 7, 14, 9, 2, 14, 24, 7, 10, 7, 5, 19, 14, 2, 3, 6, 8, 6, 9, 11, 8, 7, 4, 14, 7, 15, 6, 4, 12, 17, 9, 12, 8, 14, 13, 2, 10, 10, 11, 18, 18, 4, 8, 9, 8, 6, 4, 2, 12, 7, 1, 3, 7, 5, 1, 18, 10, 12, 6, 6, 5, 2, 2, 17, 12, 5, 5, 4, 5, 10, 8, 9, 7, 9, 9, 9, 2, 5, 12, 1, 11, 3, 3, 12, 1, 5, 13, 8, 1, 7, 4, 10, 4, 3, 8, 14, 1, 8, 10, 1, 5, 8, 11, 14, 11, 15, 4, 5, 2, 5, 5, 7, 4, 13, 9, 12, 13, 13, 16, 14, 13, 3, 5, 2, 1, 13, 2, 4, 2, 5, 15, 2, 3, 2, 4, 12, 2, 4, 14, 6, 1, 6, 5, 23, 8, 14, 6, 8, 10, 11, 17, 8, 5, 4, 10, 17, 5, 9, 3, 8, 6, 9, 11, 6, 7, 13, 14, 6, 13, 1, 14, 14, 10, 5, 9, 6, 4, 7, 12, 9, 11, 11, 9, 3, 9, 5, 7, 12, 10, 11, 8, 7, 4, 23, 8, 7, 1, 1, 5, 10, 13, 9, 9, 14, 9, 4, 7, 8, 4, 23, 14, 6, 13, 9, 4, 5, 10, 8, 3, 11, 9, 14, 8, 1, 3, 5, 5, 1, 12, 4, 8, 13, 28, 9, 11, 4, 5, 13, 12, 3, 15, 16, 9, 13, 11, 13, 15, 6, 12, 6, 7, 10, 13, 20, 14, 12, 4, 7, 5, 11, 1, 12, 17, 8, 8, 7, 8, 1, 1, 11, 16, 9, 1, 11, 11, 5, 8, 2, 15, 10, 3, 14, 11, 5, 10, 9, 18, 13, 13, 11, 4, 9, 1, 2, 4, 10, 1, 3, 1, 4, 6, 15, 9, 14, 5, 13, 5, 11, 12, 8, 21, 11, 8, 3, 4, 9, 8, 2, 8, 8, 23, 14, 3, 8, 12, 11, 8, 12, 15, 6, 4, 4, 7, 5, 6, 8, 5, 12, 4, 15, 8, 14, 19, 2, 10, 10, 14, 5, 1, 1, 13, 13, 13, 8, 3, 6, 6, 9, 12, 8, 5, 16, 11, 1, 10, 1, 12, 7, 2, 8, 9, 12, 6, 12, 8, 11, 9, 12, 10, 8, 14, 4, 1, 12, 14, 5, 11, 22, 12, 5, 13, 9, 8, 1, 9, 3, 21, 12, 7, 1, 2, 12, 12, 10, 3, 15, 6, 20, 8, 10, 4, 2, 14, 7, 12, 4, 15, 3, 7, 2, 6, 7, 9, 3, 23, 1, 15, 5, 17, 2, 8, 10, 4, 5, 10, 19, 4, 3, 5, 11, 6, 15, 7, 4, 8, 7, 16, 14, 8, 11, 2, 11, 15, 10, 5, 10, 8, 12, 19, 9, 6, 6, 3, 12, 2, 10, 15, 12, 1, 9, 5, 11, 5, 7, 14, 8, 7, 4, 13, 25, 4, 3, 12, 9, 1, 6, 10, 4, 2, 8, 4, 7, 6, 3, 12, 3, 7, 18, 10, 11, 14, 4, 9, 3, 2, 8, 6, 4, 14, 6, 14, 10, 7, 3, 8, 10, 1, 10, 8, 16, 6, 3, 3, 24, 10, 8, 7, 2, 18, 7, 4, 8, 2, 20, 6, 12, 12, 20, 4, 4, 6, 3, 5, 4, 8, 8, 4, 2, 10, 9, 9, 2, 7, 11, 4, 5, 14, 12, 12, 12, 4, 3, 15, 4, 8, 7, 14, 9, 1, 13, 15, 5, 11, 8, 16, 6, 18, 11, 2, 11, 5, 9, 14, 18, 9, 7, 13, 9, 9, 9, 4, 7, 7, 13, 14, 2, 7, 3, 11, 11, 14, 4, 7, 13, 10, 14, 6, 2, 12, 9, 6, 7, 14, 6, 5, 10, 5, 5, 7, 11, 13, 4, 1, 14, 4, 8, 6, 2, 11, 5, 9, 21, 18, 7, 9, 9, 8, 6, 8, 7, 8, 7, 5, 1, 13, 12, 7, 12, 3, 6, 7, 11, 9, 12, 10, 6, 7, 3, 10, 11, 6, 9, 13, 3, 11, 11, 2, 7, 5, 15, 10, 13, 12, 16, 13, 2, 11, 10, 6, 11, 1, 9, 13, 10, 5, 3, 13, 2, 3, 4, 6, 6, 15, 13, 6, 11, 9, 9, 11, 7, 18, 4, 8, 2, 4, 9, 2, 8, 4, 11, 10, 2, 15, 2, 8, 10, 5, 10, 7, 7, 8, 19, 11, 7, 13, 9, 9, 5, 7, 8, 14, 2, 7, 20, 8, 14, 13, 7, 7, 18, 17, 7, 2, 12, 7, 11, 20, 21, 9, 17, 10, 10, 3, 1, 2, 11, 11, 21, 2, 13, 3, 13, 13, 8, 6, 6, 6, 7, 12, 12, 1, 3, 1, 7, 26, 3, 6, 14, 13, 2, 6, 14, 2, 4, 8, 15, 3, 7, 7, 4, 8, 8, 10, 14, 1, 1, 14, 9, 2, 14, 7, 15, 10, 7, 9, 1, 10, 12, 8, 8, 6, 8, 5, 6, 1, 3, 12, 6, 1, 13, 10, 4, 13, 8, 9, 4, 11, 5, 11, 2, 9, 11, 5, 2, 11, 11, 6, 12, 2, 4, 5, 9, 4, 4, 3, 14, 2, 9, 8, 11, 22, 11, 8, 7, 8, 4, 3, 8, 19, 10, 12, 13, 20, 14, 3, 2, 6, 7, 9, 13, 11, 10, 19, 9, 12, 10, 13, 18, 9, 9, 3, 5, 7, 2, 11, 4, 10, 11, 9, 1, 10, 10, 7, 13, 8, 5, 6, 4, 10, 8, 18, 8, 7, 12, 11, 3, 11, 4, 12, 8, 10, 2, 11, 8, 3, 5, 14, 14, 6, 1, 6, 6, 13, 8, 14, 5, 6, 10, 10, 15, 3, 8, 3, 8, 1, 8, 9, 10, 10, 14, 6, 7, 7, 9, 13, 12, 9, 8, 7, 7, 3, 11, 11, 14, 10, 3, 15, 3, 9, 12, 22, 12, 9, 4, 8, 19, 6, 7, 11, 4, 10, 14, 23, 8, 7, 8, 9, 12, 14, 13, 7, 12, 20, 11, 2, 6, 3, 6, 13, 13, 12, 6, 14, 9, 5, 3, 9, 3, 11, 5, 11, 5, 10, 4, 13, 11, 7, 3, 4, 13, 12, 4, 25, 4, 8, 6, 14, 13, 5, 3, 13, 6, 4, 10, 9, 4, 14, 8, 12, 11, 2, 6, 10, 2, 7, 4, 12, 3, 8, 6, 21, 11, 14, 12, 20, 10, 12, 11, 3, 11, 9, 13, 11, 1, 13, 20, 11, 4, 9, 3, 15, 9, 8, 11, 9, 2, 3, 10, 6, 12, 3, 4, 6, 9, 14, 6, 3, 16, 20, 6, 14, 10, 9, 3, 11, 21, 9, 8, 14, 10, 13, 7, 10, 13, 5, 9, 2, 3, 15, 1, 12, 5, 10, 5, 14, 9, 8, 10, 7, 3, 17, 8, 11, 14, 8, 2, 13, 10, 1, 1, 3, 4, 6, 6, 14, 2, 11, 13, 1, 6, 6, 10, 5, 6, 7, 9, 14, 7, 13, 12, 12, 3, 11, 13, 4, 11, 9, 10, 8, 13, 1, 4, 13, 9, 5, 5, 2, 4, 8, 2, 12, 7, 9, 7, 7, 20, 7, 4, 2, 6, 3, 8, 2, 12, 15, 13, 20, 10, 15, 9, 4, 7, 3, 14, 10, 8, 6, 1, 12, 10, 9, 12, 1, 2, 3, 10, 14, 1, 4, 8, 5, 4, 14, 11, 7, 14, 11, 2, 3, 7, 12, 5, 10, 3, 9, 14, 9, 17, 11, 10, 11, 12, 3, 7, 14, 13, 8, 14, 6, 14, 6, 10, 23, 1, 1, 1, 6, 8, 21, 4, 5, 10, 4, 18, 4, 7, 13, 13, 3, 4, 4, 19, 10, 11, 12, 7, 8, 11, 18, 10, 16, 13, 9, 7, 6, 15, 1, 11, 21, 13, 19, 5, 4, 14, 20, 1, 2, 6, 8, 9, 9, 6, 1, 12, 9, 4, 5, 9, 4, 9, 11, 12, 1, 12, 10, 1, 13, 11, 8, 12, 7, 13, 4, 13, 6, 6, 9, 6, 1, 6, 3, 11, 5, 10, 14, 14, 15, 7, 14, 11, 11, 9, 13, 1, 7, 8, 8, 12, 18, 9, 8, 12, 5, 7, 11, 8, 7, 7, 1, 14, 17, 3, 15, 11, 1, 4, 7, 7, 15, 5, 3, 6, 9, 14, 9, 8, 1, 12, 8, 7, 13, 6, 9, 4, 20, 8, 8, 11, 12, 4, 3, 7, 10, 7, 8, 5, 2, 14, 4, 12, 7, 20, 7, 20, 10, 6, 3, 14, 6, 14, 2, 12, 10, 7, 1, 11, 3, 7, 1, 13, 6, 5, 2, 1, 29, 3, 18, 15, 2, 14, 13, 2, 4, 15, 3, 5, 8, 2, 7, 5, 4, 13, 10, 23, 4, 18, 12, 2, 20, 8, 1, 11, 14, 1, 7, 5, 16, 5, 6, 8, 8, 2, 3, 2, 7, 7, 11, 6, 9, 4, 5, 6, 2, 17, 18, 12, 22, 9, 5, 9, 12, 12, 8, 10, 9, 5, 2, 14, 9, 9, 2, 4, 3, 3, 7, 14, 9, 11, 5, 13, 16, 8, 11, 3, 4, 8, 7, 9, 6, 10, 10, 10, 1, 2, 2, 1, 20, 11, 6, 14, 8, 16, 10, 10, 10, 7, 13, 10, 1, 2, 9, 3, 6, 6, 7, 9, 12, 19, 6, 1, 1, 4, 3, 1, 11, 2, 12, 10, 11, 2, 12, 5, 9, 9, 18, 11, 11, 12, 6, 3, 3, 24, 7, 10, 13, 7, 1, 6, 9, 13, 11, 1, 8, 9, 13, 14, 5, 7, 4, 14, 6, 11, 17, 5, 1, 12, 16, 10, 4, 9, 10, 5, 11, 10, 1, 7, 1, 6, 8, 6, 14, 3, 6, 3, 11, 3, 12, 14, 3, 12, 2, 5, 7, 9, 4, 1, 16, 16, 5, 10, 1, 13, 1, 7, 9, 10, 4, 7, 4, 9, 10, 8, 4, 1, 2, 2, 6, 13, 1, 13, 2, 14, 7, 9, 5, 14, 18, 9, 13, 16, 14, 1, 14, 11, 8, 12, 7, 5, 5, 8, 5, 10, 14, 10, 9, 10, 11, 3, 4, 2, 7, 9, 7, 6, 14, 4, 5, 12, 15, 14, 6, 9, 12, 11, 10, 6, 12, 1, 6, 12, 8, 2, 7, 9, 8, 10, 11, 2, 14, 5, 14, 9, 12, 11, 11, 13, 5, 8, 12, 10, 2, 10, 3, 14, 5, 4, 18, 2, 5, 3, 6, 1, 12, 8, 15, 6, 9, 11, 6, 7, 11, 7, 9, 6, 8, 14, 5, 10, 4, 1, 10, 12, 11, 4, 6, 12, 13, 10, 8, 2, 7, 11, 3, 15, 14, 14, 3, 29, 1, 9, 8, 11, 7, 7, 1, 11, 6, 14, 1, 17, 5, 17, 3, 11, 7, 21, 5, 14, 12, 8, 1, 13, 8, 12, 13, 10, 13, 3, 3, 8, 3, 8, 11, 1, 14, 5, 4, 8, 4, 14, 16, 2, 9, 9, 3, 11, 14, 1, 13, 7, 2, 10, 12, 10, 4, 4, 6, 5, 8, 9, 2, 7, 22, 6, 17, 2, 7, 6, 3, 4, 13, 3, 11, 13, 12, 13, 11, 9, 18, 12, 5, 4, 11, 10, 5, 6, 8, 5, 3, 4, 2, 9, 6, 2, 12, 11, 5, 1, 7, 9, 3, 7, 5, 11, 5, 1, 7, 18, 6, 10, 1, 10, 6, 3, 7, 8, 15, 7, 8, 6, 3, 2, 11, 12, 6, 2, 10, 14, 5, 1, 2, 9, 17, 11, 8, 8, 8, 13, 17, 8, 10, 2, 4, 6, 3, 1, 6, 7, 3, 4, 2, 3, 8, 10, 4, 2, 4, 12, 11, 5, 4, 3, 8, 28, 13, 7, 4, 2, 16, 9, 2, 8, 7, 2, 8, 7, 16, 4, 10, 4, 14, 2, 5, 9, 3, 17, 11, 5, 15, 4, 8, 10, 16, 10, 14, 23, 11, 13, 12, 6, 1, 15, 6, 9, 8, 11, 4, 8, 3, 2, 15, 4, 2, 5, 7, 25, 6, 11, 5, 20, 11, 5, 10, 7, 12, 12, 7, 9, 7, 17, 1, 13, 5, 12, 7, 1, 7, 4, 3, 13, 3, 3, 12, 10, 11, 7, 12, 2, 7, 17, 8, 13, 12, 5, 12, 2, 3, 13, 17, 12, 13, 10, 2, 12, 5, 18, 3, 20, 5, 1, 2, 10, 7, 5, 4, 14, 6, 7, 9, 1, 7, 7, 12, 8, 2, 3, 9, 11, 1, 3, 21, 7, 6, 5, 10, 2, 4, 4, 11, 5, 2, 5, 10, 11, 11, 13, 1, 3, 13, 6, 10, 7, 9, 9, 2, 1, 14, 4, 17, 1, 1, 12, 6, 13, 11, 5, 5, 13, 14, 11, 11, 2, 4, 8, 13, 7, 6, 7, 13, 3, 12, 7, 12, 2, 2, 9, 8, 1, 8, 16, 14, 12, 5, 5, 6, 2, 13, 1, 17, 29, 1, 5, 12, 10, 1, 2, 7, 12, 1, 3, 6, 3, 17, 2, 10, 14, 9, 2, 22, 4, 6, 7, 2, 5, 3, 4, 11, 7, 13, 11, 3, 6, 6, 9, 7, 6, 6, 2, 11, 9, 6, 14, 11, 11, 13, 1, 8, 5, 8, 11, 5, 14, 6, 7, 6, 6, 10, 7, 15, 5, 12, 8, 5, 6, 1, 8, 5, 8, 4, 14, 11, 9, 5, 1, 12, 19, 7, 4, 12, 21, 3, 11, 12, 7, 14, 6, 11, 6, 3, 5, 11, 1, 11, 1, 8, 7, 6, 1, 7, 6, 12, 7, 9, 17, 14, 5, 3, 6, 4, 6, 14, 9, 8, 15, 6, 4, 8, 8, 22, 7, 22, 5, 19, 8, 9, 9, 2, 2, 13, 10, 3, 5, 2, 6, 23, 5, 5, 9, 10, 5, 13, 8, 13, 2, 2, 3, 3, 8, 8, 9, 6, 5, 10, 2, 12, 3, 12, 11, 4, 28, 10, 8, 2, 12, 2, 12, 8, 3, 13, 4, 4, 10, 7, 8, 4, 5, 3, 14, 6, 6, 1, 3, 7, 12, 15, 13, 8, 2, 11, 9, 2, 8, 10, 14, 10, 14, 2, 4, 3, 10, 9, 2, 10, 10, 16, 9, 13, 10, 2, 3, 8, 10, 11, 3, 4, 4, 14, 5, 2, 10, 5, 1, 10, 11, 15, 5, 11, 15, 6, 2, 9, 8, 10, 3, 3, 2, 1, 10, 6, 15, 3, 4, 14, 8, 7, 10, 1, 12, 10, 2, 13, 6, 4, 10, 7, 1, 6, 7, 5, 4, 8, 6, 10, 2, 6, 7, 6, 10, 10, 4, 9, 4, 13, 7, 6, 1, 7, 4, 6, 8, 25, 7, 13, 3, 6, 6, 4, 13, 4, 8, 2, 3, 2, 8, 12, 5, 17, 17, 14, 1, 4, 11, 1, 5, 6, 8, 7, 13, 14, 4, 5, 18, 1, 7, 6, 5, 3, 9, 7, 14, 14, 5, 2, 10, 7, 7, 12, 11, 6, 3, 10, 3, 3, 5, 11, 8, 3, 7, 5, 8, 10, 8, 8, 11, 11, 8, 1, 4, 3, 2, 1, 14, 14, 5, 3, 3, 3, 8, 1, 10, 7, 10, 11, 14, 1, 14, 2, 7, 1, 4, 5, 7, 6, 11, 4, 12, 10, 6, 5, 1, 15, 24, 12, 8, 6, 11, 7, 8, 2, 1, 10, 4, 7, 11, 18, 2, 16, 5, 8, 10, 16, 2, 5, 4, 4, 11, 16, 10, 7, 14, 5, 4, 11, 5, 2, 6, 2, 1, 14, 5, 5, 8, 5, 9, 12, 14, 3, 7, 7, 10, 2, 9, 1, 4, 11, 14, 5, 3, 3, 3, 2, 4, 4, 5, 16, 12, 6, 9, 3, 10, 11, 9, 5, 10, 1, 2, 4, 10, 11, 11, 14, 3, 17, 9, 6, 6, 5, 6, 2, 3, 2, 14, 12, 1, 8, 4, 2, 5, 15, 2, 12, 2, 1, 9, 6, 2, 14, 13, 6, 8, 3, 14, 12, 5, 1, 4, 2, 6, 1, 10, 13, 11, 5, 1, 12, 17, 8, 9, 6, 13, 13, 6, 7, 2, 7, 12, 3, 2, 14, 6, 15, 4, 7, 1, 4, 8, 7, 10, 11, 5, 4, 3, 2, 12, 8, 13, 10, 1, 6, 7, 4, 2, 12, 3, 14, 7, 3, 12, 5, 4, 11, 12, 12, 9, 3, 13, 7, 6, 7, 3, 25, 5, 8, 9, 6, 9, 6, 10, 2, 7, 6, 9, 6, 10, 9, 14, 4, 3, 3, 5, 3, 4, 1, 1, 4, 11, 8, 10, 10, 9, 11, 4, 7, 1, 25, 8, 2, 3, 5, 5, 3, 10, 3, 14, 7, 4, 10, 6, 4, 4, 18, 7, 6, 2, 9, 12, 12, 14, 13, 10, 2, 8, 11, 9, 5, 23, 17, 3, 9, 9, 9, 3, 1, 4, 6, 12, 9, 18, 3, 7, 10, 6, 8, 8, 2, 12, 9, 15, 12, 2, 14, 13, 9, 1, 15, 2, 2, 14, 1, 4, 1, 8, 6, 5, 2, 8, 3, 6, 1, 3, 9, 12, 13, 6, 2, 4, 6, 9, 4, 4, 8, 16, 11, 9, 4, 8, 11, 13, 22, 1, 4, 15, 11, 6, 4, 10, 13, 12, 3, 5, 3, 8, 1, 7, 7, 13, 7, 9, 13, 11, 15, 5, 6, 2, 6, 18, 14, 5, 11, 6, 12, 7, 18, 12, 9, 20, 16, 5, 6, 18, 4, 4, 8, 6, 3, 1, 6, 5, 8, 7, 10, 3, 12, 5, 14, 16, 6, 13, 6, 6, 2, 3, 3, 2, 5, 3, 2, 10, 4, 5, 8, 2, 12, 5, 8, 1, 12, 5, 5, 3, 12, 10, 7, 10, 5, 21, 16, 1, 5, 11, 11, 7, 4, 9, 11, 1, 13, 15, 7, 10, 10, 5, 21, 6, 5, 7, 6, 7, 8, 12, 11, 8, 3, 2, 20, 5, 6, 20, 9, 2, 18, 8, 6, 9, 3, 9, 14, 8, 10, 7, 4, 10, 14, 15, 11, 24, 8, 4, 5, 1, 4, 3, 13, 11, 12, 13, 8, 3, 5, 11, 9, 12, 5, 9, 4, 11, 20, 10, 2, 7, 7, 13, 9, 8, 7, 15, 2, 14, 10, 8, 3, 7, 9, 16, 13, 8, 1, 3, 4, 9, 11, 12, 8, 11, 7, 9, 10, 6, 12, 5, 4, 8, 14, 7, 14, 5, 11, 9, 12, 4, 8, 9, 3, 9, 11, 8, 11, 10, 8, 10, 11, 6, 13, 4, 5, 6, 5, 16, 11, 8, 1, 2, 4, 4, 12, 9, 11, 7, 2, 3, 7, 5, 2, 7, 5, 11, 8, 8, 4, 4, 2, 3, 7, 9, 4, 2, 9, 7, 19, 8, 4, 10, 11, 9, 8, 2, 9, 4, 5, 10, 14, 8, 5, 15, 13, 9, 3, 2, 5, 14, 6, 6, 8, 11, 4, 10, 14, 7, 11, 7, 4, 1, 8, 9, 8, 6, 10, 1, 5, 8, 4, 4, 3, 11, 6, 14, 15, 9, 14, 7, 8, 1, 14, 14, 3, 6, 1, 7, 7, 15, 5, 5, 10, 9, 14, 1, 1, 5, 8, 10, 10, 9, 3, 12, 17, 4, 5, 4, 8, 2, 12, 11, 11, 6, 25, 10, 8, 14, 12, 10, 7, 13, 3, 4, 9, 12, 1, 4, 11, 7, 5, 12, 5, 6, 2, 6, 2, 3, 9, 13, 10, 1, 10, 7, 3, 12, 3, 9, 10, 14, 1, 2, 10, 11, 2, 6, 7, 5, 15, 7, 8, 3, 7, 8, 4, 8, 11, 3, 5, 5, 10, 14, 8, 23, 12, 7, 3, 9, 1, 3, 2, 10, 6, 13, 6, 12, 2, 5, 8, 16, 10, 2, 2, 1, 6, 1, 10, 11, 4, 4, 19, 6, 16, 10, 8, 2, 9, 2, 6, 22, 3, 11, 12, 14, 4, 4, 9, 10, 6, 5, 6, 4, 2, 10, 8, 14, 2, 9, 4, 2, 8, 10, 14, 8, 2, 11, 2, 8, 11, 11, 5, 1, 10, 9, 3, 14, 2, 3, 17, 9, 8, 11, 14, 6, 11, 7, 5, 7, 2, 9, 3, 14, 5, 8, 14, 9, 11, 5, 2, 2, 3, 5, 15, 17, 3, 4, 4, 10, 5, 7, 10, 10, 11, 9, 2, 8, 4, 7, 8, 1, 6, 1, 2, 4, 7, 1, 5, 22, 4, 14, 13, 15, 11, 8, 10, 6, 22, 24, 10, 2, 12, 9, 15, 1, 9, 7, 3, 2, 4, 11, 5, 3, 3, 6, 3, 2, 3, 15, 3, 11, 7, 5, 7, 3, 6, 8, 1, 4, 10, 5, 6, 4, 9, 12, 12, 3, 14, 9, 5, 3, 5, 13, 10, 3, 6, 3, 7, 7, 2, 16, 4, 1, 5, 2, 5, 3, 3, 1, 19, 7, 4, 6, 13, 5, 5, 7, 9, 7, 6, 12, 21, 8, 13, 15, 3, 3, 4, 13, 3, 5, 8, 6, 1, 4, 15, 5, 3, 12, 11, 3, 11, 8, 2, 2, 14, 3, 3, 12, 13, 14, 11, 12, 11, 1, 1, 2, 19, 8, 8, 4, 12, 1, 2, 4, 13, 15, 1, 5, 12, 10, 7, 4, 22, 1, 3, 1, 3, 6, 10, 7, 1, 4, 2, 7, 1, 3, 8, 2, 9, 11, 8, 10, 13, 13, 15, 8, 11, 7, 6, 9, 3, 3, 10, 11, 6, 2, 6, 4, 6, 11, 11, 8, 12, 2, 12, 3, 13, 9, 1, 9, 11, 13, 10, 9, 12, 7, 2, 2, 14, 12, 11, 3, 10, 7, 7, 7, 14, 13, 14, 6, 18, 11, 3, 1, 5, 7, 10, 3, 8, 7, 5, 1, 10, 5, 2, 10, 17, 8, 11, 4, 14, 5, 14, 3, 9, 5, 11, 10, 11, 1, 26, 1, 10, 2, 15, 4, 11, 8, 4, 16, 6, 10, 10, 1, 11, 2, 13, 3, 19, 3, 4, 14, 7, 2, 12, 15, 7, 12, 1, 11, 10, 12, 2, 2, 2, 11, 3, 9, 2, 13, 2, 5, 5, 10, 20, 23, 13, 10, 10, 4, 4, 12, 13, 3, 7, 11, 6, 4, 13, 7, 4, 2, 5, 19, 8, 9, 13, 6, 2, 10, 7, 5, 9, 14, 10, 13, 8, 1, 4, 13, 11, 8, 13, 9, 3, 9, 1, 3, 1, 10, 13, 9, 11, 10, 10, 3, 4, 8, 1, 6, 9, 7, 14, 21, 4, 6, 6, 12, 4, 4, 9, 4, 3, 6, 7, 13, 1, 2, 5, 3, 6, 3, 10, 6, 13, 11, 14, 6, 6, 3, 3, 16, 3, 7, 9, 11, 7, 10, 8, 11, 6, 10, 9, 18, 3, 12, 14, 1, 2, 21, 8, 20, 9, 10, 13, 12, 11, 6, 17, 6, 3, 8, 8, 2, 4, 1, 5, 1, 7, 13, 13, 15, 10, 13, 8, 4, 4, 7, 18, 2, 3, 5, 9, 1, 2, 4, 14, 11, 12, 8, 3, 6, 13, 16, 1, 3, 11, 6, 3, 8, 8, 14, 1, 11, 7, 4, 2, 1, 3, 10, 8, 3, 7, 5, 7, 7, 7, 13, 1, 11, 8, 10, 7, 5, 7, 9, 15, 13, 1, 6, 7, 6, 6, 4, 12, 12, 21, 6, 1, 5, 10, 14, 16, 6, 16, 5, 12, 8, 8, 9, 13, 6, 13, 2, 13, 7, 22, 9, 6, 9, 6, 9, 14, 5, 2, 2, 6, 8, 9, 7, 2, 3, 11, 2, 6, 5, 2, 7, 6, 3, 4, 3, 1, 10, 8, 1, 5, 11, 7, 4, 23, 17, 15, 12, 3, 10, 12, 2, 12, 8, 3, 1, 11, 5, 4, 14, 12, 11, 9, 11, 1, 19, 21, 4, 11, 12, 7, 2, 11, 6, 5, 12, 3, 11, 2, 4, 8, 11, 8, 11, 8, 1, 3, 7, 14, 9, 8, 15, 9, 12, 1, 1, 2, 4, 8, 6, 11, 1, 2, 7, 14, 5, 11, 8, 7, 1, 6, 4, 6, 10, 1, 7, 12, 3, 16, 11, 7, 5, 2, 9, 4, 8, 1, 1, 3, 9, 14, 10, 7, 4, 14, 2, 6, 6, 14, 8, 10, 5, 6, 4, 4, 6, 4, 2, 3, 8, 3, 13, 12, 4, 13, 11, 4, 6, 14, 2, 11, 9, 11, 7, 8, 2, 2, 1, 10, 3, 2, 3, 14, 9, 10, 18, 8, 8, 8, 3, 12, 14, 4, 7, 3, 11, 1, 13, 5, 11, 12, 1, 11, 4, 1, 11, 15, 8, 8, 16, 3, 9, 2, 12, 8, 9, 8, 7, 10, 5, 13, 2, 2, 12, 5, 8, 7, 8, 13, 15, 1, 13, 6, 6, 4, 7, 3, 3, 11, 4, 7, 10, 12, 9, 6, 1, 11, 11, 14, 6, 10, 12, 14, 6, 2, 9, 15, 7, 3, 10, 9, 2, 11, 11, 11, 9, 15, 3, 6, 8, 14, 6, 1, 1, 12, 4, 8, 5, 6, 13, 11, 3, 4, 8, 3, 14, 4, 11, 5, 14, 3, 5, 16, 1, 14, 2, 12, 5, 3, 13, 2, 3, 9, 2, 8, 9, 8, 1, 1, 5, 11, 3, 11, 3, 10, 12, 6, 5, 14, 3, 1, 5, 11, 16, 7, 5, 2, 9, 1, 9, 10, 18, 5, 4, 3, 5, 1, 5, 7, 14, 9, 7, 8, 13, 2, 9, 12, 6, 6, 9, 3, 5, 3, 6, 3, 8, 6, 4, 4, 5, 3, 9, 6, 3, 11, 14, 2, 7, 4, 3, 11, 4, 6, 7, 2, 10, 10, 3, 6, 7, 13, 9, 2, 2, 3, 1, 9, 1, 3, 7, 3, 5, 2, 11, 9, 15, 8, 13, 7, 7, 10, 2, 12, 7, 7, 3, 4, 4, 1, 5, 3, 6, 12, 6, 1, 2, 1, 6, 1, 5, 7, 10, 1, 14, 25, 6, 8, 7, 11, 15, 13, 8, 3, 7, 12, 12, 13, 3, 14, 4, 10, 9, 7, 16, 3, 1, 4, 11, 12, 7, 14, 2, 1, 9, 15, 14, 1, 4, 7, 6, 7, 7, 9, 7, 7, 5, 7, 3, 3, 7, 12, 6, 8, 4, 12, 7, 6, 11, 12, 6, 12, 12, 14, 10, 15, 2, 4, 2, 12, 9, 5, 8, 5, 4, 13, 10, 20, 6, 18, 1, 17, 8, 7, 11, 7, 4, 5, 1, 9, 2, 12, 27, 7, 3, 4, 7, 2, 12, 6, 7, 13, 2, 1, 23, 5, 11, 3, 2, 5, 3, 5, 2, 2, 14, 9, 5, 4, 4, 2, 11, 9, 9, 7, 19, 1, 2, 16, 12, 11, 3, 10, 10, 7, 3, 5, 9, 6, 13, 6, 10, 1, 10, 3, 7, 9, 1, 11, 1, 14, 3, 9, 7, 2, 1, 1, 8, 14, 11, 2, 1, 4, 19, 3, 6, 2, 9, 2, 11, 1, 5, 13, 7, 7, 3, 5, 4, 7, 13, 7, 10, 7, 3, 6, 9, 11, 16, 3, 6, 7, 2, 9, 5, 11, 2, 19, 10, 11, 5, 5, 12, 10, 12, 3, 8, 4, 3, 7, 11, 14, 2, 18, 7, 3, 5, 8, 10, 11, 8, 8, 7, 7, 11, 4, 5, 9, 8, 7, 16, 10, 1, 12, 4, 12, 13, 12, 7, 10, 2, 4, 4, 16, 7, 20, 9, 11, 8, 4, 12, 3, 15, 5, 10, 13, 17, 5, 14, 12, 4, 3, 11, 11, 8, 8, 10, 2, 6, 14, 6, 17, 7, 12, 15, 3, 5, 11, 21, 23, 2, 18, 13, 6, 7, 1, 10, 13, 2, 3, 2, 8, 19, 12, 8, 17, 3, 6, 8, 6, 6, 2, 7, 2, 7, 13, 7, 1, 14, 9, 3, 7, 3, 1, 11, 11, 7, 7, 5, 8, 2, 16, 14, 11, 11, 4, 8, 1, 2, 16, 5, 2, 5, 1, 8, 7, 4, 6, 7, 16, 13, 5, 7, 14, 2, 9, 2, 17, 12, 11, 9, 6, 3, 2, 1, 13, 8, 9, 5, 3, 8, 14, 13, 15, 24, 1, 3, 9, 6, 17, 5, 2, 10, 13, 4, 3, 5, 14, 4, 5, 21, 6, 7, 10, 12, 7, 3, 10, 7, 3, 13, 5, 7, 1, 8, 6, 14, 7, 4, 8, 11, 14, 12, 6, 4, 20, 6, 13, 17, 9, 14, 11, 8, 7, 9, 18, 10, 12, 13, 4, 9, 11, 13, 10, 12, 3, 10, 15, 8, 7, 5, 17, 6, 8, 3, 16, 10, 2, 11, 6, 12, 14, 12, 16, 7, 7, 2, 12, 3, 9, 11, 1, 7, 12, 9, 7, 12, 12, 14, 10, 14, 15, 29, 11, 4, 1, 9, 16, 7, 8, 10, 8, 10, 13, 17, 18, 2, 13, 6, 12, 16, 9, 7, 11, 1, 4, 1, 12, 12, 12, 7, 11, 6, 13, 5, 7, 22, 1, 4, 10, 3, 11, 14, 6, 2, 11, 7, 10, 14, 3, 12, 19, 5, 9, 14, 4, 4, 9, 8, 8, 3, 11, 8, 5, 13, 7, 8, 14, 6, 15, 9, 14, 4, 8, 7, 24, 12, 3, 3, 11, 5, 6, 9, 7, 10, 5, 27, 5, 13, 7, 14, 12, 15, 17, 21, 7, 3, 10, 11, 11, 15, 9, 11, 14, 6, 13, 7, 18, 3, 4, 2, 14, 12, 12, 15, 2, 7, 18, 14, 7, 14, 6, 11, 14, 9, 8, 10, 9, 9, 4, 15, 25, 3, 16, 14, 2, 11, 6, 1, 4, 10, 16, 10, 4, 11, 8, 6, 2, 5, 14, 13, 11, 10, 10, 1, 2, 10, 13, 13, 9, 12, 7, 3, 2, 8, 5, 7, 7, 5, 6, 10, 6, 7, 1, 3, 4, 1, 5, 1, 2, 8, 6, 14, 13, 14, 6, 11, 3, 3, 4, 11, 10, 13, 8, 12, 15, 5, 4, 7, 10, 8, 3, 2, 3, 11, 10, 7, 7, 12, 2, 8, 3, 8, 8, 3, 3, 2, 2, 6, 2, 4, 2, 6, 3, 14, 1, 3, 2, 9, 9, 2, 5, 6, 7, 7, 5, 4, 10, 7, 1, 7, 9, 5, 4, 11, 4, 2, 4, 1, 7, 8, 5, 2, 5, 13, 9, 9, 2, 12, 8, 1, 7, 1, 8, 3, 6, 4, 10, 13, 2, 6, 4, 10, 9, 5, 7, 4, 2, 5, 14, 8, 6, 12, 3, 1, 1, 2, 8, 11, 13, 6, 13, 12, 1, 6, 8, 3, 8, 1, 1, 8, 7, 7, 11, 4, 6, 4, 4, 2, 3, 10, 3, 1, 8, 10, 2, 2, 8, 6, 7, 5, 1, 5, 2, 6, 5, 8, 5, 2, 5, 5, 5, 1, 4, 1, 6, 2, 4, 3, 2, 1, 5, 6, 4, 5, 10, 2, 4, 4, 6, 10, 2, 1, 4, 3, 2, 1, 1, 9, 7, 9, 2, 6, 1, 3, 3, 2, 2, 3, 10, 8, 11, 7, 3, 6, 1, 6, 2, 5, 1, 7, 1, 1, 4, 3, 3, 1, 5, 4, 2, 3, 3, 2, 8, 4, 1, 6, 6, 2, 5, 6, 1, 4, 1, 2, 2, 6, 6, 6, 2, 1, 7, 6, 4, 5, 1, 4, 6, 1, 4, 3, 1, 1, 1, 3, 2, 4, 4, 2, 3, 1, 2, 5, 3, 3, 3, 5, 1, 3, 5, 1, 2, 1, 3, 1, 1, 4, 1, 1, 1, 3, 1, 3, 2, 2, 3, 1, 4, 3, 2, 5, 2, 3, 4, 1, 5]}, {\"marker\": {\"color\": \"black\", \"line\": {\"width\": 1}, \"opacity\": 0.8, \"size\": 9}, \"mode\": \"markers\", \"name\": \"Occasional\", \"type\": \"scatter\", \"x\": [19, 36, 15, 18, 7, 48, 23, 38, 42, 116, 3, 68, 29, 15, 26, 53, 6, 14, 1, 19, 10, 42, 33, 95, 11, 4, 22, 14, 8, 73, 20, 114, 15, 8, 36, 10, 11, 9, 26, 26, 68, 7, 10, 8, 42, 42, 12, 31, 93, 11, 7, 8, 31, 5, 47, 24, 44, 7, 5, 5, 6, 26, 38, 18, 71, 71, 22, 37, 38, 99, 16, 8, 33, 12, 25, 2, 39, 38, 102, 67, 59, 17, 5, 32, 29, 41, 38, 6, 8, 66, 7, 7, 45, 54, 21, 69, 68, 44, 5, 38, 32, 10, 72, 17, 9, 76, 12, 53, 94, 21, 71, 7, 57, 10, 56, 4, 40, 115, 19, 39, 72, 66, 110, 66, 24, 19, 40, 42, 89, 59, 82, 43, 18, 22, 38, 53, 18, 38, 22, 6, 38, 6, 18, 41, 43, 6, 21, 33, 59, 16, 13, 10, 47, 60, 15, 1, 43, 9, 54, 18, 29, 24, 14, 18, 39, 29, 56, 66, 15, 41, 32, 17, 11, 117, 5, 36, 111, 38, 6, 37, 82, 18, 41, 6, 25, 60, 15, 2, 30, 21, 41, 47, 55, 17, 25, 66, 40, 39, 35, 30, 13, 67, 18, 18, 116, 18, 64, 18, 5, 25, 65, 102, 25, 95, 60, 8, 7, 38, 24, 12, 56, 75, 4, 16, 104, 2, 16, 10, 26, 54, 2, 44, 43, 12, 9, 26, 17, 13, 109, 6, 30, 43, 35, 19, 39, 18, 115, 23, 104, 14, 39, 66, 13, 35, 12, 70, 5, 14, 14, 3, 87, 12, 6, 2, 63, 6, 1, 25, 28, 20, 68, 1, 4, 1, 5, 35, 5, 37, 18, 5, 119, 118, 15, 12, 32, 37, 42, 10, 4, 33, 28, 58, 67, 66, 7, 71, 59, 27, 82, 50, 40, 39, 18, 48, 10, 28, 25, 16, 5, 74, 25, 37, 44, 23, 46, 102, 6, 23, 103, 39, 88, 9, 4, 73, 82, 43, 14, 27, 26, 7, 39, 41, 5, 89, 5, 51, 30, 2, 6, 11, 39, 10, 59, 45, 102, 39, 62, 41, 25, 38, 20, 33, 38, 79, 38, 5, 82, 20, 37, 31, 88, 5, 91, 6, 1, 19, 88, 25, 48, 13, 33, 13, 29, 97, 11, 4, 74, 21, 5, 4, 59, 88, 31, 95, 18, 81, 50, 16, 15, 110, 16, 4, 6, 38, 5, 12, 65, 60, 33, 5, 59, 29, 56, 38, 86, 73, 57, 23, 5, 20, 15, 111, 62, 40, 15, 39, 16, 25, 61, 11, 11, 89, 3, 28, 17, 13, 6, 15, 83, 34, 45, 87, 88, 13, 60, 82, 108, 40, 6, 75, 12, 34, 19, 18, 46, 11, 24, 15, 11, 60, 54, 6, 1, 15, 13, 8, 58, 38, 13, 39, 15, 10, 11, 3, 22, 82, 57, 9, 8, 30, 95, 47, 117, 17, 95, 10, 48, 15, 61, 53, 15, 116, 98, 39, 19, 12, 74, 89, 111, 60, 42, 4, 39, 25, 32, 22, 45, 73, 25, 39, 82, 111, 95, 97, 42, 77, 53, 91, 19, 74, 14, 17, 42, 1, 78, 31, 18, 55, 53, 31, 73, 38, 27, 46, 2, 89, 33, 31, 43, 116, 15, 45, 21, 79, 24, 4, 14, 111, 54, 13, 81, 37, 22, 42, 20, 26, 25, 21, 25, 19, 5, 34, 95, 7, 7, 25, 78, 3, 8, 54, 14, 53, 50, 9, 85, 12, 42, 53, 9, 13, 20, 89, 21, 38, 15, 50, 16, 9, 75, 90, 12, 49, 76, 40, 82, 40, 43, 41, 89, 42, 98, 15, 60, 24, 3, 14, 96, 98, 38, 30, 88, 6, 41, 19, 44, 3, 1, 34, 63, 38, 7, 42, 90, 25, 24, 53, 25, 34, 117, 22, 5, 9, 9, 7, 56, 61, 95, 64, 27, 89, 13, 14, 45, 52, 42, 80, 50, 25, 4, 112, 18, 47, 14, 33, 42, 8, 52, 48, 40, 38, 9, 12, 43, 42, 40, 80, 11, 23, 7, 15, 14, 87, 95, 1, 42, 25, 14, 11, 39, 58, 24, 10, 38, 20, 82, 24, 30, 31, 21, 13, 19, 3, 47, 3, 7, 38, 74, 89, 30, 46, 16, 11, 25, 6, 37, 25, 53, 12, 95, 88, 22, 19, 6, 26, 26, 24, 46, 23, 53, 24, 27, 28, 1, 42, 102, 13, 116, 15, 3, 40, 38, 36, 17, 4, 43, 5, 31, 37, 94, 37, 47, 19, 19, 16, 74, 74, 38, 5, 74, 20, 91, 53, 23, 30, 30, 10, 16, 16, 59, 13, 30, 107, 15, 40, 14, 11, 18, 9, 57, 42, 38, 59, 6, 110, 79, 55, 56, 38, 22, 65, 43, 31, 15, 19, 74, 57, 102, 29, 103, 10, 17, 118, 57, 21, 21, 17, 34, 36, 38, 43, 6, 91, 42, 21, 76, 29, 37, 38, 16, 40, 44, 59, 37, 34, 54, 37, 25, 42, 14, 81, 81, 4, 17, 8, 31, 64, 24, 41, 75, 4, 6, 27, 40, 104, 59, 27, 108, 59, 53, 21, 60, 6, 10, 25, 96, 61, 27, 5, 114, 54, 60, 25, 83, 38, 74, 14, 39, 83, 16, 43, 49, 7, 28, 22, 54, 9, 8, 61, 12, 28, 41, 81, 8, 2, 73, 55, 95, 94, 6, 43, 42, 11, 37, 39, 25, 40, 5, 27, 52, 25, 6, 19, 31, 15, 6, 102, 43, 42, 95, 38, 18, 30, 13, 54, 79, 28, 46, 4, 8, 37, 45, 109, 91, 50, 39, 113, 37, 109, 60, 75, 95, 18, 15, 92, 60, 82, 37, 19, 11, 54, 26, 13, 39, 30, 84, 59, 8, 57, 47, 19, 58, 58, 97, 1, 102, 83, 10, 14, 74, 28, 75, 1, 13, 3, 1, 17, 15, 18, 1, 37, 42, 6, 21, 24, 42, 54, 11, 89, 14, 6, 40, 43, 40, 90, 97, 92, 61, 40, 108, 88, 47, 17, 15, 48, 74, 63, 102, 51, 15, 24, 27, 32, 12, 31, 89, 20, 23, 80, 25, 23, 6, 19, 47, 54, 19, 7, 38, 32, 34, 23, 94, 43, 62, 63, 91, 80, 1, 26, 100, 5, 42, 96, 2, 39, 25, 74, 12, 25, 12, 4, 7, 24, 10, 26, 18, 39, 11, 10, 22, 53, 5, 53, 88, 16, 38, 23, 40, 36, 26, 23, 86, 102, 18, 54, 116, 4, 96, 29, 100, 7, 84, 74, 14, 23, 19, 8, 74, 40, 1, 5, 41, 60, 8, 19, 30, 79, 49, 100, 47, 98, 4, 7, 26, 54, 11, 4, 24, 12, 75, 44, 14, 11, 10, 89, 29, 117, 13, 22, 60, 18, 10, 23, 6, 26, 91, 40, 88, 37, 38, 95, 6, 7, 22, 15, 6, 37, 47, 57, 93, 54, 60, 74, 112, 18, 97, 18, 53, 85, 82, 27, 47, 48, 2, 85, 34, 24, 58, 76, 76, 2, 90, 29, 44, 36, 12, 46, 65, 109, 7, 25, 75, 109, 95, 109, 26, 81, 114, 14, 74, 44, 3, 46, 114, 98, 13, 7, 19, 44, 36, 62, 109, 8, 48, 40, 23, 88, 21, 18, 49, 4, 63, 21, 29, 116, 47, 88, 74, 94, 16, 109, 89, 29, 37, 5, 33, 7, 65, 39, 13, 58, 115, 19, 42, 39, 40, 36, 81, 27, 12, 25, 107, 59, 96, 81, 12, 17, 23, 16, 11, 11, 117, 16, 83, 45, 4, 2, 26, 83, 60, 91, 42, 4, 6, 100, 18, 58, 59, 65, 44, 22, 19, 42, 80, 23, 15, 79, 19, 39, 11, 65, 23, 18, 76, 27, 12, 8, 95, 14, 89, 50, 65, 98, 60, 110, 111, 101, 19, 45, 15, 88, 11, 39, 90, 18, 8, 39, 41, 6, 60, 16, 46, 80, 19, 103, 28, 32, 3, 10, 11, 18, 15, 6, 21, 39, 60, 89, 4, 89, 43, 87, 18, 18, 88, 18, 30, 13, 81, 20, 26, 78, 109, 42, 73, 2, 36, 40, 50, 1, 22, 96, 88, 33, 5, 20, 30, 26, 18, 5, 37, 82, 114, 12, 58, 74, 13, 37, 94, 4, 16, 91, 79, 21, 5, 5, 39, 37, 30, 4, 21, 42, 38, 116, 38, 45, 8, 46, 14, 79, 76, 111, 46, 37, 11, 40, 5, 33, 51, 36, 33, 100, 83, 20, 31, 109, 97, 64, 73, 82, 3, 44, 4, 41, 4, 39, 74, 15, 26, 36, 12, 5, 106, 14, 19, 117, 46, 51, 73, 39, 21, 101, 34, 34, 59, 19, 14, 12, 92, 41, 34, 13, 74, 86, 47, 38, 18, 116, 73, 88, 60, 24, 96, 79, 5, 38, 60, 39, 88, 81, 18, 41, 110, 83, 11, 88, 81, 46, 73, 47, 117, 50, 20, 83, 48, 11, 38, 109, 8, 12, 18, 11, 6, 64, 115, 111, 10, 18, 4, 116, 18, 16, 96, 82, 11, 81, 16, 13, 39, 21, 88, 99, 18, 39, 12, 17, 41, 23, 110, 25, 39, 116, 18, 19, 47, 26, 12, 39, 78, 10, 33, 21, 15, 39, 10, 74, 15, 30, 77, 81, 3, 73, 96, 26, 46, 39, 87, 38, 103, 108, 46, 20, 17, 12, 15, 65, 32, 62, 18, 11, 112, 4, 6, 26, 62, 14, 95, 95, 42, 60, 40, 83, 29, 27, 50, 12, 60, 1, 60, 90, 25, 108, 36, 87, 63, 37, 19, 25, 109, 6, 107, 32, 1, 15, 20, 46, 118, 99, 14, 5, 23, 102, 22, 115, 96, 11, 74, 49, 86, 39, 112, 18, 43, 96, 92, 104, 60, 6, 41, 15, 16, 47, 18, 11, 74, 3, 40, 18, 109, 15, 8, 46, 97, 23, 87, 76, 46, 7, 23, 73, 19, 6, 108, 75, 1, 33, 96, 27, 81, 14, 19, 42, 74, 23, 13, 85, 26, 32, 81, 21, 74, 74, 18, 109, 39, 39, 100, 79, 10, 60, 47, 88, 96, 61, 37, 17, 99, 104, 116, 18, 76, 25, 32, 79, 104, 27, 40, 89, 78, 19, 118, 26, 82, 10, 25, 74, 1, 15, 62, 34, 39, 98, 20, 12, 1, 11, 25, 4, 83, 9, 46, 17, 11, 84, 33, 39, 31, 93, 93, 109, 89, 50, 80, 16, 26, 59, 52, 38, 15, 60, 14, 13, 30, 45, 25, 19, 41, 109, 86, 92, 64, 60, 92, 110, 6, 36, 19, 23, 108, 10, 98, 8, 25, 33, 21, 60, 12, 21, 34, 6, 102, 47, 95, 60, 40, 2, 30, 46, 60, 18, 23, 49, 24, 47, 25, 24, 74, 60, 25, 81, 48, 109, 40, 27, 38, 76, 30, 65, 22, 73, 45, 19, 30, 52, 59, 84, 9, 32, 59, 26, 30, 3, 6, 24, 13, 63, 6, 17, 33, 38, 23, 24, 17, 83, 3, 102, 60, 19, 9, 2, 18, 2, 18, 12, 20, 49, 41, 79, 6, 38, 50, 6, 59, 74, 40, 45, 80, 60, 52, 19, 114, 38, 26, 6, 42, 18, 83, 74, 65, 32, 93, 14, 45, 83, 4, 18, 21, 25, 4, 11, 7, 8, 89, 43, 5, 86, 24, 24, 80, 16, 116, 3, 44, 20, 47, 96, 111, 79, 10, 60, 22, 29, 101, 6, 26, 11, 26, 10, 105, 1, 18, 29, 95, 6, 23, 37, 3, 8, 88, 25, 3, 95, 16, 65, 6, 26, 1, 25, 40, 17, 75, 74, 18, 40, 59, 21, 99, 59, 107, 35, 95, 38, 95, 110, 82, 115, 23, 21, 40, 31, 32, 111, 16, 74, 52, 10, 18, 35, 37, 4, 50, 75, 33, 78, 12, 46, 83, 33, 19, 74, 43, 7, 59, 27, 77, 38, 17, 109, 38, 39, 15, 41, 13, 15, 12, 24, 40, 75, 21, 60, 108, 92, 9, 24, 74, 31, 22, 10, 13, 33, 10, 95, 60, 4, 113, 39, 109, 98, 81, 88, 16, 4, 82, 47, 116, 13, 59, 26, 89, 20, 18, 108, 97, 39, 25, 14, 2, 79, 4, 14, 39, 3, 94, 103, 18, 37, 42, 79, 116, 14, 37, 88, 37, 13, 88, 12, 42, 11, 42, 63, 9, 25, 20, 59, 5, 40, 39, 30, 65, 114, 41, 10, 38, 84, 82, 14, 11, 41, 8, 87, 90, 11, 78, 21, 23, 108, 48, 17, 62, 7, 37, 8, 15, 46, 6, 45, 4, 103, 20, 25, 18, 21, 15, 12, 33, 6, 116, 15, 1, 4, 47, 2, 118, 95, 11, 82, 19, 20, 12, 21, 92, 107, 8, 20, 3, 10, 88, 8, 21, 64, 17, 65, 89, 27, 23, 43, 41, 45, 30, 46, 26, 63, 1, 94, 51, 47, 14, 24, 46, 82, 38, 16, 7, 1, 1, 28, 33, 74, 82, 60, 10, 29, 99, 26, 43, 18, 99, 18, 25, 7, 60, 44, 39, 7, 14, 12, 22, 25, 12, 102, 78, 83, 25, 19, 44, 15, 62, 44, 21, 25, 73, 52, 78, 9, 40, 15, 39, 24, 95, 17, 26, 41, 47, 25, 7, 81, 26, 21, 14, 22, 85, 37, 44, 118, 59, 75, 2, 34, 22, 4, 17, 10, 77, 10, 42, 17, 2, 8, 46, 27, 89, 63, 19, 58, 91, 5, 77, 81, 38, 1, 109, 9, 42, 77, 39, 27, 25, 15, 34, 25, 14, 4, 109, 60, 27, 21, 8, 47, 6, 13, 78, 47, 5, 30, 85, 87, 1, 101, 25, 74, 1, 38, 20, 14, 19, 25, 19, 40, 19, 5, 22, 2, 92, 18, 10, 102, 95, 4, 18, 74, 19, 85, 11, 14, 20, 17, 22, 3, 19, 8, 9, 18, 8, 25, 88, 20, 79, 39, 10, 37, 37, 52, 18, 18, 65, 1, 39, 15, 109, 33, 81, 83, 52, 99, 5, 50, 3, 23, 10, 41, 32, 9, 42, 47, 23, 4, 39, 20, 33, 9, 38, 46, 36, 24, 25, 88, 3, 9, 17, 43, 29, 39, 42, 39, 63, 44, 18, 21, 25, 42, 48, 77, 8, 7, 25, 16, 8, 89, 43, 6, 37, 29, 11, 1, 4, 117, 8, 27, 59, 31, 4, 24, 43, 19, 19, 15, 32, 102, 82, 47, 63, 117, 47, 15, 110, 14, 20, 10, 13, 4, 112, 8, 30, 96, 19, 22, 65, 26, 64, 34, 15, 83, 91, 21, 23, 89, 77, 74, 25, 81, 19, 21, 1, 87, 34, 10, 5, 59, 33, 16, 34, 10, 6, 46, 46, 17, 31, 7, 43, 18, 25, 97, 79, 37, 32, 34, 26, 11, 46, 73, 3, 38, 96, 38, 50, 39, 73, 89, 6, 15, 22, 65, 44, 23, 43, 5, 75, 16, 76, 44, 47, 42, 26, 31, 91, 37, 95, 80, 11, 25, 88, 26, 19, 82, 26, 25, 16, 90, 20, 41, 45, 24, 73, 17, 28, 6, 21, 52, 10, 28, 19, 49, 44, 43, 15, 23, 111, 48, 8, 31, 3, 25, 24, 14, 90, 60, 2, 1, 4, 5, 50, 7, 11, 40, 11, 16, 44, 87, 88, 96, 80, 18, 103, 37, 18, 23, 13, 18, 30, 18, 22, 46, 8, 74, 5, 90, 21, 64, 61, 75, 24, 47, 19, 51, 95, 33, 38, 3, 20, 43, 6, 19, 11, 11, 25, 15, 105, 2, 78, 46, 41, 82, 13, 81, 44, 38, 60, 84, 96, 20, 28, 15, 43, 5, 39, 10, 17, 23, 28, 39, 7, 44, 117, 42, 40, 10, 15, 20, 19, 18, 95, 78, 6, 8, 34, 103, 100, 60, 112, 19, 88, 8, 5, 8, 26, 37, 26, 26, 63, 1, 41, 39, 18, 59, 17, 49, 8, 1, 12, 19, 60, 100, 12, 43, 74, 18, 109, 6, 58, 102, 7, 5, 8, 26, 14, 6, 46, 14, 37, 5, 82, 88, 8, 38, 4, 25, 23, 8, 21, 58, 92, 21, 98, 6, 10, 39, 14, 8, 40, 18, 96, 9, 30, 19, 59, 26, 25, 74, 27, 63, 21, 19, 96, 59, 18, 33, 15, 39, 26, 3, 65, 15, 39, 14, 39, 111, 48, 26, 18, 15, 18, 5, 113, 3, 4, 11, 108, 2, 5, 40, 89, 22, 32, 23, 12, 6, 49, 1, 45, 38, 18, 73, 89, 37, 5, 37, 39, 64, 3, 43, 9, 99, 89, 38, 46, 84, 74, 7, 16, 37, 89, 1, 21, 44, 9, 27, 24, 10, 20, 82, 3, 10, 4, 97, 87, 4, 8, 94, 1, 52, 110, 3, 26, 14, 77, 58, 8, 4, 40, 18, 39, 39, 17, 6, 10, 17, 41, 48, 6, 12, 14, 65, 5, 15, 116, 25, 5, 88, 87, 19, 10, 81, 20, 44, 12, 12, 46, 39, 7, 38, 20, 48, 3, 23, 5, 37, 73, 38, 116, 11, 18, 52, 8, 4, 4, 18, 38, 11, 47, 83, 59, 23, 94, 73, 26, 26, 80, 38, 2, 17, 98, 38, 14, 7, 14, 73, 25, 8, 7, 1, 9, 82, 8, 75, 38, 13, 42, 4, 116, 74, 95, 26, 7, 10, 15, 18, 78, 7, 2, 103, 79, 82, 25, 63, 74, 11, 88, 8, 19, 52, 14, 16, 23, 111, 47, 73, 1, 29, 32, 111, 102, 6, 88, 7, 11, 14, 47, 46, 93, 52, 105, 104, 10, 14, 37, 18, 16, 15, 26, 13, 50, 24, 64, 94, 45, 1, 32, 33, 11, 32, 12, 6, 74, 25, 87, 15, 28, 2, 1, 6, 111, 34, 51, 37, 116, 9, 86, 59, 7, 81, 47, 38, 83, 14, 27, 64, 24, 47, 24, 24, 12, 20, 110, 19, 65, 18, 8, 13, 14, 82, 25, 6, 23, 38, 25, 59, 5, 51, 26, 48, 98, 10, 58, 39, 26, 39, 3, 86, 6, 26, 2, 21, 1, 81, 26, 109, 26, 6, 23, 14, 19, 19, 11, 15, 39, 25, 39, 4, 42, 46, 89, 30, 74, 73, 39, 42, 18, 93, 42, 42, 37, 20, 13, 9, 22, 15, 94, 33, 58, 38, 40, 31, 26, 109, 7, 46, 23, 47, 15, 75, 65, 46, 14, 10, 17, 29, 2, 30, 6, 6, 37, 43, 16, 18, 23, 78, 81, 39, 6, 31, 3, 85, 37, 117, 19, 5, 48, 31, 39, 38, 61, 1, 46, 107, 47, 86, 6, 10, 14, 102, 18, 82, 21, 37, 18, 74, 20, 63, 6, 46, 14, 10, 3, 27, 101, 9, 12, 1, 42, 3, 34, 39, 79, 18, 21, 38, 15, 7, 19, 8, 117, 34, 13, 18, 35, 12, 1, 60, 45, 13, 4, 39, 78, 65, 37, 58, 23, 60, 16, 6, 74, 19, 117, 31, 76, 31, 12, 1, 119, 37, 40, 4, 20, 89, 43, 20, 61, 117, 76, 13, 40, 12, 25, 74, 3, 46, 25, 22, 4, 2, 37, 63, 91, 73, 6, 79, 61, 7, 93, 89, 40, 30, 14, 12, 1, 95, 22, 14, 49, 29, 91, 95, 22, 106, 24, 15, 26, 26, 43, 27, 10, 5, 31, 26, 6, 9, 8, 39, 23, 41, 24, 19, 83, 15, 44, 33, 1, 1, 22, 5, 18, 30, 51, 109, 24, 6, 15, 12, 30, 37, 21, 2, 5, 61, 36, 5, 19, 42, 114, 74, 47, 73, 116, 88, 47, 95, 43, 26, 76, 99, 16, 95, 46, 45, 6, 81, 19, 41, 20, 42, 38, 12, 21, 8, 11, 22, 18, 4, 4, 94, 18, 100, 37, 31, 31, 35, 19, 34, 47, 113, 88, 21, 39, 45, 5, 21, 40, 21, 1, 37, 77, 44, 62, 14, 13, 18, 73, 7, 110, 58, 17, 31, 11, 3, 75, 46, 74, 31, 16, 88, 1, 16, 95, 58, 12, 20, 19, 96, 5, 52, 102, 20, 94, 9, 60, 88, 89, 6, 74, 14, 88, 65, 25, 11, 88, 17, 38, 40, 110, 38, 64, 18, 26, 5, 26, 36, 9, 83, 95, 47, 51, 1, 41, 97, 45, 83, 110, 26, 39, 22, 20, 41, 25, 38, 46, 3, 116, 75, 81, 96, 101, 27, 16, 25, 19, 10, 19, 83, 45, 39, 117, 117, 81, 116, 41, 83, 9, 29, 28, 44, 2, 82, 109, 33, 73, 111, 110, 63, 22, 88, 109, 73, 4, 74, 7, 108, 12, 31, 107, 64, 15, 34, 42, 100, 37, 100, 99, 99, 62, 93, 94, 94, 82, 96, 19, 15, 96, 48, 95, 95, 82, 38, 89, 51, 89, 38, 88, 25, 59, 2, 1, 64, 23, 82, 23, 25, 77, 80, 80, 79, 79, 20, 38, 77, 16, 38, 47, 75, 74, 74, 37, 21, 44, 3, 14, 26, 8, 63, 3, 3, 48, 26, 60, 25, 43, 59, 59, 25, 42, 18, 25, 1, 7, 34, 4, 4, 52, 31, 14, 14, 41, 47, 18, 18, 23, 14, 45, 13, 41, 33, 32, 33, 40, 39, 39, 5, 38, 36, 34, 33, 33, 1, 28, 31, 19, 30, 30, 23, 21, 14, 9, 26, 26, 10, 24, 22, 14, 11, 8, 22, 22, 21, 16, 19, 15, 19, 12, 5, 18, 19, 18, 18, 17, 17, 17, 16, 13, 15, 15, 15, 15, 15, 1, 13, 12, 11, 10, 10, 10, 10, 10, 9, 8, 7, 8, 8, 8, 1, 7, 1, 6, 5, 5, 5, 4, 4, 4, 3, 1], \"y\": [14, 14, 12, 14, 4, 16, 12, 7, 14, 15, 5, 19, 26, 9, 8, 13, 6, 9, 6, 13, 6, 15, 25, 29, 14, 6, 5, 12, 9, 26, 11, 13, 10, 10, 13, 7, 9, 9, 11, 1, 18, 10, 11, 9, 13, 14, 7, 16, 21, 7, 7, 13, 8, 6, 15, 7, 13, 7, 8, 5, 5, 9, 12, 12, 18, 21, 8, 23, 10, 10, 14, 10, 17, 12, 14, 5, 17, 14, 15, 20, 11, 11, 8, 7, 15, 19, 11, 1, 7, 27, 9, 2, 16, 12, 10, 19, 14, 14, 13, 20, 7, 11, 28, 8, 8, 17, 8, 17, 25, 13, 15, 11, 17, 13, 15, 10, 8, 25, 4, 15, 19, 19, 18, 19, 9, 10, 17, 20, 32, 18, 21, 12, 12, 10, 21, 11, 8, 12, 11, 2, 26, 6, 10, 12, 10, 7, 11, 18, 14, 11, 12, 14, 14, 22, 7, 3, 10, 11, 11, 11, 17, 10, 11, 8, 20, 12, 20, 30, 8, 15, 15, 7, 11, 25, 8, 22, 15, 12, 8, 10, 29, 12, 12, 5, 7, 20, 8, 8, 23, 9, 18, 22, 19, 14, 9, 22, 7, 14, 17, 18, 4, 28, 7, 9, 24, 12, 31, 6, 9, 13, 23, 27, 9, 9, 21, 8, 10, 10, 13, 9, 1, 27, 1, 10, 21, 4, 7, 8, 11, 16, 4, 17, 17, 12, 4, 12, 14, 1, 16, 10, 16, 19, 10, 11, 13, 7, 15, 12, 18, 8, 14, 17, 8, 14, 13, 27, 7, 8, 11, 5, 29, 9, 2, 7, 17, 7, 8, 13, 17, 8, 18, 4, 2, 9, 6, 7, 11, 15, 8, 13, 32, 15, 12, 10, 14, 13, 15, 13, 13, 12, 10, 20, 19, 31, 3, 18, 12, 23, 22, 13, 11, 11, 10, 18, 14, 16, 11, 7, 7, 26, 12, 19, 12, 4, 18, 15, 3, 8, 24, 11, 30, 3, 7, 15, 23, 16, 8, 17, 12, 6, 16, 12, 7, 14, 10, 12, 13, 6, 10, 8, 15, 12, 15, 22, 26, 13, 13, 14, 9, 19, 12, 15, 25, 31, 17, 6, 26, 11, 8, 17, 17, 8, 19, 7, 3, 12, 17, 7, 18, 12, 13, 12, 8, 14, 4, 5, 23, 14, 8, 4, 18, 28, 19, 28, 8, 18, 20, 4, 10, 25, 8, 3, 8, 17, 5, 12, 22, 20, 13, 9, 24, 19, 16, 8, 23, 30, 18, 12, 4, 9, 10, 24, 21, 8, 12, 9, 12, 12, 19, 6, 7, 16, 6, 18, 9, 9, 10, 12, 16, 15, 18, 28, 23, 13, 24, 26, 17, 21, 6, 19, 7, 14, 12, 12, 18, 9, 11, 7, 8, 19, 19, 3, 5, 10, 12, 4, 15, 8, 14, 10, 14, 13, 10, 8, 11, 22, 16, 4, 8, 1, 28, 21, 19, 12, 17, 14, 13, 10, 27, 17, 7, 16, 12, 16, 11, 9, 21, 18, 13, 16, 3, 1, 17, 6, 8, 12, 22, 20, 12, 16, 21, 22, 17, 20, 12, 29, 17, 32, 8, 30, 10, 11, 22, 6, 21, 16, 9, 20, 20, 15, 17, 13, 15, 13, 8, 31, 13, 14, 13, 12, 13, 18, 9, 21, 14, 7, 13, 16, 10, 7, 20, 7, 12, 8, 9, 13, 7, 8, 7, 14, 5, 17, 27, 9, 10, 12, 28, 6, 11, 15, 9, 19, 9, 9, 15, 10, 18, 18, 4, 9, 10, 20, 9, 10, 10, 14, 6, 9, 21, 28, 11, 8, 18, 9, 26, 17, 17, 9, 28, 17, 15, 10, 29, 10, 12, 8, 21, 16, 16, 16, 18, 7, 10, 8, 12, 11, 9, 3, 28, 18, 7, 16, 22, 10, 11, 12, 11, 19, 16, 13, 8, 4, 9, 8, 18, 26, 18, 20, 12, 21, 9, 13, 12, 12, 7, 21, 13, 12, 8, 23, 8, 7, 9, 12, 10, 10, 12, 15, 22, 19, 10, 11, 12, 17, 14, 17, 14, 8, 7, 6, 7, 16, 23, 9, 9, 10, 12, 10, 20, 10, 7, 14, 18, 9, 18, 13, 13, 10, 14, 7, 8, 11, 10, 4, 13, 14, 26, 17, 24, 21, 13, 12, 10, 8, 12, 10, 11, 14, 18, 19, 13, 12, 8, 11, 9, 13, 14, 4, 14, 7, 15, 7, 1, 16, 20, 11, 21, 14, 5, 10, 21, 14, 6, 7, 16, 5, 23, 23, 23, 16, 10, 13, 12, 11, 26, 23, 16, 6, 17, 10, 27, 14, 8, 14, 11, 6, 16, 10, 18, 12, 15, 23, 13, 7, 7, 13, 7, 6, 22, 12, 12, 10, 8, 22, 30, 10, 11, 14, 8, 24, 16, 25, 14, 14, 15, 12, 19, 14, 25, 7, 13, 13, 9, 11, 8, 9, 9, 16, 19, 20, 3, 15, 14, 11, 24, 15, 10, 18, 11, 12, 11, 15, 22, 24, 20, 27, 8, 19, 13, 25, 19, 6, 8, 5, 8, 22, 7, 7, 26, 6, 5, 19, 8, 20, 15, 13, 20, 11, 19, 13, 25, 1, 11, 12, 8, 19, 22, 9, 27, 12, 32, 8, 31, 17, 21, 8, 11, 16, 9, 18, 9, 2, 18, 11, 22, 5, 13, 20, 14, 22, 16, 24, 11, 7, 19, 20, 18, 16, 6, 12, 6, 7, 12, 17, 12, 9, 7, 17, 10, 13, 6, 10, 11, 9, 13, 19, 20, 13, 27, 15, 6, 22, 10, 18, 21, 27, 13, 6, 14, 16, 12, 29, 27, 22, 20, 18, 7, 26, 27, 32, 11, 8, 7, 18, 13, 18, 18, 14, 9, 15, 9, 8, 8, 8, 26, 23, 8, 7, 20, 9, 13, 13, 25, 10, 25, 28, 8, 12, 25, 11, 17, 10, 14, 4, 7, 13, 10, 10, 10, 15, 23, 7, 13, 10, 11, 15, 14, 22, 12, 8, 16, 14, 16, 21, 18, 30, 19, 18, 15, 23, 25, 11, 8, 12, 17, 21, 15, 13, 13, 11, 14, 18, 12, 13, 24, 9, 8, 30, 12, 9, 9, 10, 13, 20, 8, 7, 13, 25, 14, 3, 24, 7, 29, 19, 14, 32, 9, 11, 23, 4, 19, 26, 4, 17, 13, 20, 8, 14, 8, 7, 7, 10, 5, 9, 10, 13, 9, 14, 13, 15, 8, 13, 27, 14, 14, 9, 10, 20, 11, 14, 20, 19, 14, 12, 17, 6, 26, 11, 10, 7, 15, 25, 11, 5, 11, 8, 16, 16, 8, 1, 14, 19, 13, 10, 10, 17, 7, 21, 12, 12, 1, 4, 10, 22, 12, 5, 7, 14, 20, 14, 12, 7, 7, 20, 15, 27, 13, 10, 26, 7, 13, 14, 5, 11, 26, 12, 16, 15, 9, 15, 3, 11, 7, 9, 6, 15, 16, 18, 26, 9, 22, 28, 16, 11, 15, 10, 18, 9, 19, 13, 16, 12, 7, 22, 17, 8, 16, 25, 17, 6, 17, 14, 16, 16, 9, 17, 12, 32, 5, 10, 21, 24, 20, 19, 13, 12, 30, 14, 23, 19, 2, 22, 19, 32, 10, 6, 7, 15, 13, 28, 24, 6, 14, 19, 9, 32, 15, 16, 9, 4, 32, 10, 15, 10, 13, 23, 29, 30, 10, 20, 23, 15, 15, 12, 17, 8, 27, 20, 10, 27, 22, 9, 10, 19, 18, 16, 17, 7, 13, 13, 18, 15, 10, 25, 14, 14, 10, 11, 7, 12, 12, 5, 21, 15, 8, 3, 7, 31, 23, 21, 9, 4, 4, 15, 11, 31, 14, 22, 14, 12, 14, 22, 12, 9, 13, 22, 9, 14, 11, 29, 12, 12, 23, 20, 13, 11, 26, 9, 20, 14, 29, 20, 29, 27, 20, 23, 8, 9, 7, 21, 12, 10, 16, 11, 2, 11, 13, 9, 17, 8, 10, 20, 11, 9, 17, 13, 9, 11, 8, 12, 7, 5, 3, 17, 19, 17, 12, 30, 18, 21, 13, 9, 19, 12, 15, 9, 11, 8, 11, 24, 22, 20, 26, 8, 16, 10, 11, 5, 9, 22, 16, 18, 7, 12, 9, 13, 5, 2, 15, 28, 28, 10, 16, 23, 3, 8, 24, 6, 12, 18, 22, 7, 8, 8, 11, 8, 12, 2, 12, 11, 12, 20, 15, 16, 7, 8, 11, 29, 26, 15, 20, 23, 7, 14, 12, 17, 18, 17, 20, 7, 21, 11, 16, 14, 24, 20, 26, 21, 7, 24, 3, 15, 13, 13, 17, 9, 9, 13, 13, 1, 22, 14, 8, 21, 7, 24, 16, 18, 12, 24, 15, 17, 18, 8, 10, 12, 28, 14, 11, 13, 19, 10, 3, 12, 14, 24, 23, 20, 15, 12, 27, 17, 8, 11, 29, 14, 18, 21, 7, 7, 25, 15, 14, 28, 20, 11, 15, 17, 23, 17, 4, 8, 10, 4, 23, 15, 13, 10, 12, 14, 9, 16, 31, 19, 9, 10, 8, 24, 11, 14, 21, 20, 13, 16, 7, 10, 13, 13, 32, 15, 14, 10, 9, 7, 18, 12, 21, 12, 15, 18, 9, 8, 26, 8, 11, 12, 24, 12, 15, 10, 9, 21, 7, 26, 11, 18, 20, 23, 7, 27, 18, 9, 22, 20, 23, 8, 23, 22, 19, 8, 14, 10, 8, 22, 17, 32, 10, 13, 17, 9, 6, 14, 19, 13, 17, 17, 16, 23, 17, 32, 18, 15, 11, 11, 26, 11, 15, 27, 9, 21, 13, 25, 32, 16, 16, 10, 25, 10, 24, 12, 5, 3, 10, 14, 19, 20, 9, 4, 14, 17, 6, 20, 22, 13, 17, 29, 30, 17, 21, 13, 14, 19, 18, 16, 24, 11, 7, 12, 4, 17, 10, 11, 21, 8, 10, 10, 21, 9, 8, 6, 30, 7, 27, 25, 14, 4, 14, 25, 9, 8, 15, 28, 6, 13, 16, 8, 30, 6, 13, 19, 15, 7, 13, 7, 7, 14, 19, 10, 21, 20, 10, 31, 14, 10, 15, 7, 5, 16, 18, 18, 22, 22, 16, 10, 19, 15, 24, 14, 16, 9, 11, 19, 18, 11, 14, 17, 25, 12, 9, 14, 18, 10, 7, 21, 9, 11, 18, 15, 4, 15, 10, 12, 8, 10, 11, 7, 23, 4, 8, 11, 9, 22, 14, 27, 13, 18, 16, 25, 27, 14, 20, 14, 10, 13, 13, 15, 13, 19, 13, 12, 10, 12, 8, 10, 11, 25, 27, 16, 9, 22, 10, 30, 3, 9, 8, 12, 17, 9, 17, 5, 13, 22, 11, 16, 13, 7, 16, 5, 17, 12, 19, 8, 18, 8, 11, 14, 17, 9, 9, 22, 14, 29, 9, 7, 15, 25, 9, 29, 13, 23, 15, 16, 8, 31, 21, 23, 9, 20, 8, 11, 18, 11, 7, 28, 3, 16, 11, 10, 12, 10, 7, 12, 9, 24, 7, 13, 12, 16, 8, 9, 19, 25, 3, 21, 25, 12, 1, 11, 11, 7, 8, 7, 11, 13, 11, 21, 5, 17, 13, 11, 17, 32, 12, 17, 16, 22, 12, 9, 20, 17, 8, 6, 14, 12, 16, 22, 22, 11, 15, 13, 16, 18, 7, 9, 8, 14, 6, 12, 9, 7, 24, 9, 7, 12, 13, 11, 27, 8, 15, 9, 7, 9, 12, 24, 22, 20, 12, 15, 13, 7, 17, 3, 10, 12, 13, 11, 23, 6, 10, 12, 22, 7, 5, 22, 3, 9, 20, 12, 7, 17, 10, 32, 7, 7, 5, 10, 18, 10, 16, 22, 9, 14, 11, 9, 16, 11, 16, 15, 29, 19, 24, 21, 15, 26, 11, 10, 10, 17, 9, 19, 14, 21, 21, 6, 10, 12, 16, 7, 13, 16, 14, 24, 12, 9, 19, 9, 14, 10, 14, 5, 23, 15, 23, 17, 7, 18, 16, 16, 14, 8, 7, 10, 12, 11, 15, 23, 13, 17, 15, 18, 9, 14, 26, 10, 10, 10, 14, 16, 12, 13, 19, 7, 9, 19, 21, 21, 22, 23, 10, 4, 31, 12, 23, 12, 12, 5, 19, 13, 1, 35, 20, 19, 11, 8, 7, 21, 12, 12, 9, 2, 19, 18, 9, 15, 13, 26, 20, 8, 17, 22, 9, 7, 22, 12, 12, 9, 16, 29, 7, 11, 12, 11, 5, 13, 15, 9, 28, 16, 25, 12, 8, 25, 24, 13, 9, 21, 4, 17, 15, 13, 32, 12, 8, 15, 7, 11, 25, 5, 26, 5, 14, 18, 9, 5, 6, 26, 13, 7, 9, 6, 13, 9, 15, 13, 22, 10, 9, 8, 19, 6, 15, 15, 10, 27, 1, 12, 12, 9, 15, 26, 9, 12, 2, 11, 26, 7, 11, 7, 11, 19, 30, 20, 12, 12, 15, 12, 13, 15, 13, 16, 8, 28, 15, 7, 4, 8, 25, 19, 15, 12, 6, 7, 7, 10, 7, 19, 30, 21, 9, 10, 20, 9, 12, 7, 15, 8, 7, 12, 20, 10, 14, 8, 13, 9, 7, 11, 7, 23, 28, 15, 12, 10, 11, 14, 24, 8, 11, 10, 21, 15, 16, 7, 16, 10, 12, 12, 18, 12, 1, 14, 15, 5, 6, 15, 14, 13, 11, 7, 15, 9, 5, 16, 17, 12, 1, 17, 10, 4, 10, 2, 15, 13, 22, 9, 6, 3, 8, 15, 21, 19, 14, 16, 30, 9, 13, 20, 10, 2, 24, 8, 9, 20, 20, 10, 8, 7, 18, 15, 8, 10, 19, 24, 12, 11, 7, 19, 5, 13, 20, 22, 7, 15, 21, 29, 5, 29, 11, 28, 4, 24, 11, 9, 8, 8, 13, 11, 12, 8, 10, 9, 19, 9, 8, 11, 15, 9, 12, 18, 7, 24, 9, 9, 7, 11, 14, 3, 10, 8, 13, 9, 11, 7, 26, 11, 24, 11, 11, 8, 17, 13, 8, 9, 21, 3, 17, 14, 24, 24, 30, 19, 15, 19, 2, 15, 6, 11, 13, 14, 26, 6, 12, 17, 10, 6, 6, 15, 20, 4, 15, 12, 12, 13, 13, 14, 12, 7, 14, 16, 15, 13, 20, 15, 17, 9, 14, 7, 8, 18, 18, 15, 9, 7, 9, 7, 6, 32, 8, 3, 23, 17, 7, 10, 5, 9, 9, 21, 16, 15, 6, 8, 10, 12, 10, 8, 15, 17, 17, 11, 9, 15, 15, 13, 31, 9, 8, 7, 8, 9, 23, 8, 17, 17, 14, 7, 16, 10, 28, 26, 13, 22, 31, 8, 11, 27, 15, 16, 14, 26, 10, 4, 6, 25, 24, 6, 7, 13, 17, 8, 14, 8, 9, 22, 11, 13, 15, 7, 14, 9, 11, 10, 14, 19, 15, 8, 11, 10, 14, 18, 8, 19, 20, 22, 15, 15, 23, 18, 5, 15, 6, 21, 10, 9, 14, 5, 17, 6, 24, 11, 15, 10, 4, 19, 17, 19, 26, 29, 7, 13, 32, 10, 8, 32, 13, 10, 8, 20, 12, 14, 18, 5, 15, 11, 15, 8, 13, 22, 9, 17, 12, 11, 10, 6, 13, 11, 17, 10, 10, 8, 6, 12, 14, 11, 20, 29, 6, 11, 5, 6, 29, 4, 14, 17, 12, 12, 20, 17, 25, 16, 29, 9, 28, 16, 11, 10, 12, 13, 11, 14, 13, 12, 8, 21, 1, 18, 13, 15, 19, 21, 15, 16, 7, 10, 8, 12, 20, 11, 12, 5, 5, 13, 10, 12, 10, 11, 28, 5, 23, 10, 19, 31, 7, 9, 16, 15, 15, 21, 10, 11, 8, 14, 15, 2, 13, 7, 14, 10, 30, 10, 7, 16, 16, 17, 18, 8, 2, 1, 13, 8, 20, 11, 8, 7, 15, 23, 25, 8, 19, 7, 18, 9, 11, 12, 14, 15, 8, 12, 23, 7, 7, 9, 9, 19, 11, 14, 9, 8, 10, 12, 21, 32, 10, 15, 20, 7, 21, 8, 14, 10, 11, 8, 13, 12, 10, 5, 15, 13, 26, 4, 17, 15, 4, 16, 11, 5, 13, 7, 14, 11, 30, 6, 19, 10, 8, 28, 14, 8, 10, 11, 20, 11, 15, 7, 20, 9, 12, 11, 16, 27, 14, 8, 18, 24, 4, 12, 9, 14, 9, 8, 18, 13, 16, 12, 15, 24, 21, 10, 13, 9, 13, 3, 32, 11, 5, 14, 15, 3, 8, 15, 7, 9, 14, 12, 11, 10, 10, 5, 10, 22, 8, 18, 21, 7, 9, 15, 15, 15, 5, 10, 7, 19, 17, 17, 15, 15, 24, 7, 7, 13, 28, 9, 13, 16, 4, 18, 14, 10, 10, 32, 11, 13, 7, 17, 20, 9, 7, 18, 5, 17, 12, 6, 7, 9, 15, 16, 7, 2, 17, 5, 10, 11, 10, 6, 9, 8, 10, 15, 10, 3, 5, 21, 11, 7, 25, 5, 6, 21, 22, 12, 14, 30, 9, 12, 7, 9, 9, 7, 3, 23, 13, 13, 3, 8, 5, 7, 23, 17, 18, 14, 11, 16, 8, 7, 7, 9, 9, 14, 15, 19, 11, 12, 27, 21, 13, 11, 17, 13, 7, 4, 20, 17, 9, 10, 11, 24, 9, 11, 7, 6, 4, 12, 8, 19, 7, 12, 12, 11, 26, 17, 27, 14, 6, 4, 12, 14, 23, 8, 3, 21, 19, 19, 2, 15, 26, 8, 21, 9, 14, 12, 9, 12, 12, 25, 23, 20, 10, 18, 19, 17, 25, 4, 24, 7, 8, 9, 7, 8, 8, 19, 15, 27, 12, 7, 14, 3, 4, 10, 7, 9, 14, 11, 20, 10, 8, 5, 18, 20, 17, 9, 8, 4, 24, 12, 16, 12, 20, 8, 10, 8, 31, 15, 13, 10, 31, 6, 17, 10, 7, 17, 14, 13, 15, 12, 18, 16, 10, 21, 12, 11, 10, 5, 19, 14, 26, 7, 6, 12, 9, 21, 10, 1, 9, 17, 10, 15, 7, 8, 10, 9, 11, 8, 25, 8, 14, 14, 3, 22, 1, 10, 3, 11, 7, 13, 12, 22, 14, 11, 13, 9, 14, 9, 8, 11, 16, 7, 18, 8, 15, 17, 17, 16, 24, 16, 22, 6, 13, 29, 18, 13, 14, 9, 14, 9, 9, 10, 34, 18, 23, 16, 13, 8, 11, 28, 8, 12, 11, 15, 11, 17, 20, 11, 11, 9, 13, 11, 7, 24, 11, 2, 9, 20, 8, 9, 14, 15, 23, 16, 11, 15, 5, 19, 12, 17, 6, 9, 14, 19, 17, 18, 26, 11, 18, 25, 16, 18, 4, 11, 13, 20, 11, 16, 12, 11, 10, 17, 10, 18, 4, 9, 8, 12, 10, 19, 21, 8, 14, 8, 14, 6, 19, 13, 29, 12, 14, 9, 11, 7, 10, 3, 18, 8, 14, 11, 18, 13, 10, 15, 19, 11, 6, 11, 16, 17, 18, 24, 10, 22, 9, 12, 26, 8, 28, 9, 21, 16, 13, 3, 22, 19, 8, 5, 9, 18, 12, 8, 26, 27, 24, 14, 14, 7, 11, 15, 8, 11, 12, 3, 10, 4, 12, 21, 17, 23, 10, 21, 27, 8, 15, 24, 15, 16, 8, 10, 1, 31, 12, 10, 14, 11, 9, 19, 14, 27, 9, 12, 11, 11, 16, 17, 9, 1, 5, 14, 8, 7, 6, 16, 14, 14, 14, 12, 27, 10, 8, 16, 4, 7, 12, 7, 13, 8, 22, 25, 14, 10, 8, 8, 13, 9, 9, 4, 5, 21, 11, 7, 9, 13, 20, 20, 19, 22, 29, 15, 14, 22, 17, 10, 21, 21, 19, 16, 12, 2, 6, 20, 11, 13, 11, 7, 10, 12, 10, 4, 12, 10, 14, 3, 4, 16, 13, 19, 18, 2, 16, 13, 8, 15, 27, 32, 25, 13, 15, 8, 2, 9, 21, 7, 9, 20, 26, 12, 20, 9, 14, 14, 24, 7, 17, 10, 11, 2, 14, 5, 16, 7, 18, 2, 11, 30, 7, 8, 26, 14, 9, 13, 9, 23, 6, 15, 18, 7, 16, 10, 26, 19, 17, 9, 30, 12, 16, 31, 13, 13, 27, 11, 16, 10, 18, 23, 22, 10, 7, 10, 14, 18, 8, 32, 16, 6, 10, 6, 15, 20, 21, 30, 25, 14, 7, 7, 13, 19, 12, 9, 15, 10, 26, 17, 17, 22, 21, 13, 11, 10, 10, 7, 7, 15, 14, 19, 15, 24, 21, 8, 17, 31, 1, 23, 11, 15, 5, 24, 24, 8, 15, 27, 7, 29, 9, 17, 13, 15, 4, 26, 4, 19, 9, 11, 15, 30, 14, 20, 10, 18, 13, 22, 8, 20, 22, 27, 11, 10, 16, 15, 9, 14, 26, 19, 19, 15, 8, 13, 9, 9, 20, 11, 32, 13, 17, 3, 11, 21, 9, 26, 7, 7, 25, 18, 22, 10, 16, 2, 17, 15, 12, 15, 9, 22, 16, 18, 17, 8, 16, 6, 7, 14, 11, 16, 11, 6, 25, 10, 22, 13, 10, 18, 20, 13, 20, 7, 13, 5, 8, 26, 3, 3, 8, 10, 17, 13, 15, 17, 14, 7, 9, 11, 16, 9, 9, 17, 8, 13, 24, 19, 14, 6, 12, 6, 13, 16, 11, 11, 16, 13, 10, 17, 9, 8, 5, 11, 6, 10, 9, 10, 10, 10, 13, 8, 8, 11, 7, 1, 11, 1, 14, 11, 13, 7, 8, 6, 12, 11, 11, 12, 8, 12, 6, 9, 1, 6, 10, 12, 7, 9, 14, 14, 3, 12, 7, 11, 5, 8, 8, 6, 1, 5, 3, 8, 2, 12, 7, 7, 2, 8, 6, 4, 7, 2, 3]}, {\"marker\": {\"color\": \"yellow\", \"line\": {\"width\": 1}, \"opacity\": 0.8, \"size\": 11}, \"mode\": \"markers\", \"name\": \"Golden\", \"type\": \"scatter\", \"x\": [19, 54, 21, 81, 38, 8, 69, 31, 47, 45, 4, 46, 25, 25, 6, 5, 3, 1, 2, 39, 32, 4, 18, 40, 12, 10, 39, 1, 18, 38, 75, 39, 24, 11, 76, 21, 52, 56, 55, 4, 25, 38, 10, 42, 5, 4, 40, 26, 8, 10, 21, 45, 5, 5, 24, 7, 1, 1, 16, 5, 38, 19, 81, 4, 6, 3, 17, 44, 90, 4, 58, 32, 41, 11, 29, 43, 97, 30, 20, 23, 3, 8, 17, 9, 53, 6, 47, 89, 49, 40, 21, 23, 34, 24, 30, 30, 8, 41, 3, 37, 16, 47, 14, 8, 22, 6, 16, 1, 41, 6, 16, 22, 1, 13, 4, 11, 15, 39, 3, 16, 98, 45, 11, 16, 42, 32, 38, 23, 40, 38, 4, 21, 2, 40, 15, 12, 18, 9, 16, 26, 9, 15, 21, 8, 38, 9, 15, 5, 9, 39, 11, 30, 4, 7, 25, 12, 5, 43, 8, 1, 19, 7, 26, 12, 54, 26, 19, 48, 37, 7, 1, 29, 42, 46, 5, 53, 32, 6, 39, 39, 21, 19, 4, 21, 74, 21, 19, 29, 38, 45, 3, 1, 58, 2, 11, 18, 11, 74, 1, 47, 60, 66, 13, 25, 10, 25, 1, 4, 56, 8, 10, 85, 35, 19, 38, 28, 40, 13, 12, 14, 40, 8, 26, 25, 39, 12, 7, 6, 21, 79, 11, 8, 26, 21, 111, 31, 26, 28, 7, 1, 40, 17, 16, 47, 14, 68, 22, 15, 60, 1, 5, 5, 21, 17, 18, 80, 15, 7, 7, 3, 40, 109, 9, 1, 37, 36, 6, 31, 25, 81, 38, 9, 25, 17, 48, 1, 18, 3, 43, 7, 12, 18, 13, 67, 96, 5, 27, 7, 6, 6, 42, 9, 38, 36, 67, 54, 5, 2, 38, 22, 44, 15, 49, 29, 32, 4, 49, 28, 5, 25, 13, 52, 25, 17, 11, 15, 59, 7, 38, 10, 9, 6, 5, 3, 44, 39, 15, 40, 15, 29, 7, 30, 60, 4, 28, 25, 7, 37, 48, 25, 42, 53, 42, 5, 31, 79, 24, 11, 6, 37, 7, 4, 45, 37, 10, 13, 5, 31, 17, 2, 30, 31, 5, 10, 10, 37, 38, 10, 32, 39, 10, 25, 1, 3, 38, 39, 6, 40, 53, 18, 33, 37, 45, 12, 16, 9, 5, 4, 10, 1, 3, 37, 19, 95, 41, 5, 1, 16, 35, 7, 33, 11, 12, 67, 12, 9, 81, 40, 3, 6, 23, 8, 6, 23, 20, 43, 22, 4, 12, 25, 5, 59, 46, 4, 10, 47, 25, 59, 15, 1, 14, 8, 21, 8, 93, 37, 19, 95, 43, 5, 18, 8, 21, 51, 53, 72, 21, 13, 13, 18, 38, 8, 4, 4, 1, 19, 82, 46, 15, 4, 41, 1, 44, 2, 58, 26, 18, 16, 21, 8, 40, 24, 92, 41, 32, 10, 37, 90, 14, 38, 75, 53, 56, 14, 34, 5, 1, 25, 53, 27, 1, 5, 4, 30, 8, 12, 5, 23, 12, 32, 18, 7, 20, 110, 13, 17, 11, 1, 54, 6, 6, 11, 46, 23, 20, 39, 38, 54, 3, 32, 32, 8, 37, 59, 14, 12, 1, 57, 5, 6, 102, 86, 6, 51, 5, 33, 1, 18, 46, 9, 53, 13, 9, 42, 20, 37, 11, 18, 25, 26, 10, 38, 39, 60, 6, 11, 15, 16, 35, 24, 1, 24, 53, 38, 39, 8, 18, 5, 1, 10, 60, 11, 38, 24, 52, 9, 10, 37, 19, 30, 8, 7, 6, 6, 3, 9, 60, 44, 47, 14, 55, 15, 24, 6, 38, 53, 33, 89, 2, 7, 40, 35, 38, 46, 6, 27, 21, 16, 6, 42, 11, 46, 27, 7, 13, 64, 20, 53, 32, 78, 8, 10, 40, 11, 10, 18, 1, 2, 59, 8, 6, 5, 37, 6, 8, 17, 10, 60, 39, 60, 60, 50, 7, 6, 81, 33, 46, 10, 2, 10, 27, 11, 18, 46, 25, 42, 50, 13, 21, 5, 6, 8, 14, 12, 11, 83, 19, 40, 12, 17, 34, 53, 19, 8, 4, 25, 10, 12, 15, 14, 38, 59, 29, 15, 21, 45, 16, 5, 2, 1, 18, 2, 2, 17, 17, 10, 77, 16, 6, 47, 21, 33, 31, 4, 37, 4, 16, 21, 3, 64, 11, 15, 34, 16, 8, 1, 46, 7, 17, 26, 7, 4, 5, 8, 7, 20, 15, 15, 6, 1, 16, 38, 2, 7, 11, 85, 24, 38, 39, 42, 38, 14, 40, 74, 14, 25, 16, 47, 60, 8, 15, 74, 45, 41, 44, 10, 26, 40, 7, 39, 10, 2, 38, 14, 39, 81, 4, 16, 20, 11, 5, 48, 29, 26, 47, 23, 29, 13, 14, 26, 6, 40, 12, 23, 22, 11, 24, 81, 13, 3, 3, 5, 8, 37, 23, 1, 20, 21, 7, 40, 28, 54, 6, 21, 80, 1, 20, 7, 2, 9, 61, 113, 24, 38, 4, 39, 22, 43, 44, 4, 11, 3, 34, 47, 40, 29, 56, 40, 6, 4, 1, 5, 59, 27, 38, 14, 38, 14, 55, 18, 32, 24, 10, 39, 7, 13, 10, 8, 8, 8, 58, 42, 22, 6, 22, 21, 23, 1, 29, 18, 30, 49, 11, 81, 5, 1, 18, 47, 23, 35, 12, 2, 2, 11, 15, 44, 7, 51, 39, 56, 18, 7, 88, 15, 80, 18, 40, 32, 11, 13, 6, 5, 25, 31, 74, 6, 12, 21, 16, 42, 32, 15, 19, 9, 4, 15, 4, 10, 40, 23, 6, 26, 26, 7, 42, 24, 29, 52, 39, 38, 37, 38, 64, 21, 3, 9, 13, 17, 39, 44, 6, 9, 2, 9, 1, 15, 8, 61, 22, 11, 23, 15, 37, 19, 24, 38, 38, 27, 11, 28, 44, 108, 21, 18, 19, 6, 13, 9, 35, 12, 11, 4, 39, 8, 11, 1, 44, 33, 19, 10, 1, 59, 22, 38, 1, 39, 40, 37, 24, 42, 12, 18, 44, 25, 92, 18, 8, 10, 9, 14, 25, 33, 10, 54, 4, 22, 37, 8, 3, 24, 2, 47, 5, 2, 46, 59, 15, 1, 9, 30, 43, 7, 13, 6, 47, 40, 12, 9, 20, 6, 55, 25, 8, 9, 12, 39, 41, 45, 53, 32, 75, 17, 30, 9, 76, 5, 2, 5, 23, 26, 82, 46, 21, 59, 74, 62, 34, 37, 3, 13, 3, 21, 20, 2, 5, 10, 1, 12, 16, 37, 3, 37, 5, 16, 40, 20, 9, 37, 17, 8, 1, 25, 11, 10, 46, 33, 53, 37, 39, 6, 8, 43, 10, 11, 5, 5, 7, 44, 7, 23, 65, 46, 24, 26, 2, 13, 23, 39, 74, 98, 10, 6, 44, 5, 14, 24, 20, 17, 22, 37, 27, 74, 19, 10, 54, 13, 25, 16, 6, 1, 26, 51, 63, 32, 49, 35, 39, 8, 38, 24, 56, 42, 116, 6, 30, 48, 26, 13, 24, 40, 24, 8, 3, 25, 31, 9, 19, 17, 5, 43, 23, 7, 38, 37, 15, 16, 19, 23, 5, 10, 13, 5, 12, 22, 39, 9, 8, 12, 4, 4, 8, 19, 7, 18, 54, 53, 19, 6, 2, 45, 24, 49, 15, 37, 23, 48, 9, 5, 105, 8, 9, 43, 29, 75, 16, 36, 52, 59, 7, 1, 5, 3, 5, 41, 5, 15, 2, 5, 22, 4, 10, 9, 76, 96, 43, 7, 38, 14, 9, 25, 35, 1, 19, 23, 41, 33, 54, 34, 16, 6, 41, 1, 9, 9, 9, 1, 8, 18, 53, 14, 6, 21, 7, 39, 41, 21, 21, 9, 11, 4, 18, 59, 38, 18, 3, 20, 31, 42, 33, 23, 10, 6, 16, 7, 3, 15, 24, 29, 22, 9, 8, 53, 9, 9, 15, 78, 19, 97, 54, 10, 1, 10, 24, 7, 34, 18, 27, 10, 5, 24, 20, 35, 1, 37, 20, 59, 11, 32, 86, 22, 33, 14, 39, 39, 18, 40, 19, 38, 16, 41, 17, 59, 19, 40, 5, 11, 32, 8, 9, 25, 40, 19, 18, 5, 14, 6, 46, 24, 55, 9, 16, 10, 21, 47, 43, 6, 8, 23, 22, 34, 2, 5, 7, 8, 40, 39, 28, 37, 19, 2, 31, 38, 77, 25, 7, 7, 28, 8, 26, 6, 18, 19, 9, 18, 1, 13, 9, 42, 103, 10, 15, 57, 20, 40, 20, 24, 40, 110, 16, 9, 4, 24, 4, 4, 18, 32, 59, 14, 27, 44, 47, 32, 39, 18, 62, 64, 12, 11, 47, 76, 27, 74, 60, 3, 25, 5, 18, 34, 20, 40, 13, 4, 35, 14, 27, 6, 25, 38, 4, 36, 98, 19, 24, 8, 43, 4, 54, 9, 11, 32, 38, 26, 14, 60, 24, 18, 16, 22, 38, 27, 18, 10, 16, 3, 19, 43, 53, 19, 19, 25, 5, 25, 26, 5, 38, 10, 30, 9, 8, 43, 7, 24, 2, 7, 20, 44, 14, 39, 16, 31, 6, 89, 12, 64, 32, 38, 21, 74, 14, 11, 50, 39, 18, 3, 38, 37, 23, 46, 26, 12, 26, 40, 61, 42, 95, 3, 1, 32, 81, 16, 37, 1, 39, 23, 20, 51, 26, 6, 9, 2, 1, 9, 37, 6, 7, 4, 39, 6, 7, 41, 10, 94, 39, 39, 32, 55, 39, 17, 59, 2, 25, 6, 11, 11, 27, 22, 47, 3, 5, 1, 37, 28, 3, 15, 26, 18, 24, 6, 11, 40, 25, 9, 28, 1, 13, 38, 53, 7, 49, 2, 1, 58, 19, 24, 10, 39, 56, 28, 11, 11, 41, 25, 28, 39, 79, 3, 39, 85, 10, 15, 4, 43, 26, 25, 102, 53, 6, 40, 18, 56, 58, 5, 9, 15, 59, 42, 38, 41, 11, 25, 26, 40, 59, 15, 1, 5, 8, 54, 48, 37, 10, 31, 41, 25, 46, 18, 43, 23, 65, 33, 12, 39, 2, 6, 26, 9, 97, 4, 10, 48, 11, 8, 2, 60, 18, 6, 111, 12, 42, 46, 12, 37, 4, 100, 6, 29, 38, 21, 17, 5, 29, 19, 37, 64, 5, 39, 3, 9, 32, 16, 19, 26, 20, 19, 29, 18, 4, 46, 17, 16, 18, 39, 10, 14, 22, 18, 16, 1, 25, 64, 40, 2, 11, 4, 38, 7, 32, 19, 47, 38, 39, 39, 63, 32, 59, 10, 20, 74, 26, 14, 39, 22, 54, 6, 14, 14, 18, 18, 4, 23, 17, 32, 1, 39, 3, 4, 18, 47, 3, 8, 33, 44, 5, 40, 12, 23, 27, 37, 4, 10, 37, 18, 7, 2, 38, 21, 61, 17, 12, 6, 4, 40, 9, 17, 41, 3, 38, 7, 47, 13, 4, 13, 5, 41, 10, 37, 2, 49, 33, 5, 40, 5, 19, 14, 12, 42, 15, 17, 11, 12, 43, 79, 25, 31, 31, 13, 16, 65, 19, 9, 9, 17, 40, 91, 34, 49, 27, 5, 4, 18, 48, 42, 116, 21, 39, 40, 59, 19, 14, 47, 4, 41, 13, 18, 24, 38, 27, 33, 24, 31, 16, 40, 3, 44, 6, 14, 38, 30, 6, 13, 5, 7, 25, 53, 10, 1, 20, 32, 21, 41, 3, 6, 32, 26, 3, 26, 39, 7, 6, 53, 4, 11, 11, 40, 2, 9, 29, 5, 16, 21, 7, 109, 4, 19, 5, 25, 17, 21, 7, 23, 18, 11, 22, 33, 21, 10, 15, 23, 8, 12, 4, 34, 86, 9, 74, 12, 54, 12, 41, 11, 25, 102, 9, 41, 2, 8, 11, 50, 39, 20, 19, 23, 23, 11, 37, 24, 45, 5, 59, 74, 38, 17, 11, 42, 38, 19, 26, 16, 14, 21, 24, 9, 15, 58, 26, 25, 21, 1, 44, 30, 39, 17, 14, 17, 46, 102, 47, 17, 13, 98, 19, 31, 13, 42, 41, 24, 12, 35, 43, 96, 6, 31, 23, 41, 5, 13, 18, 39, 54, 26, 28, 50, 63, 25, 63, 39, 7, 3, 26, 18, 40, 43, 11, 52, 7, 18, 46, 33, 21, 7, 8, 39, 2, 22, 4, 27, 9, 8, 4, 16, 40, 12, 48, 16, 29, 14, 18, 20, 12, 19, 11, 11, 74, 44, 74, 18, 64, 51, 1, 24, 8, 1, 7, 19, 15, 74, 46, 41, 1, 9, 29, 12, 18, 25, 37, 46, 5, 19, 36, 20, 5, 15, 18, 76, 33, 4, 63, 1, 54, 18, 43, 53, 37, 10, 38, 53, 20, 17, 42, 29, 16, 15, 40, 25, 40, 23, 44, 13, 46, 92, 57, 24, 46, 47, 25, 38, 14, 11, 76, 19, 7, 31, 19, 34, 60, 54, 26, 29, 49, 95, 33, 30, 30, 50, 34, 4, 22, 37, 9, 28, 31, 13, 1, 10, 25, 38, 7, 11, 13, 43, 78, 44, 43, 63, 11, 44, 12, 18, 64, 9, 31, 54, 78, 31, 57, 9, 25, 58, 54, 26, 25, 21, 40, 32, 6, 59, 46, 4, 39, 37, 17, 28, 93, 25, 5, 18, 31, 42, 95, 1, 47, 1, 7, 5, 58, 26, 5, 39, 39, 19, 3, 38, 12, 9, 102, 7, 39, 24, 46, 18, 7, 34, 4, 1, 31, 21, 19, 60, 21, 47, 42, 2, 38, 33, 34, 60, 27, 5, 60, 12, 37, 7, 23, 19, 14, 25, 52, 17, 46, 19, 8, 100, 18, 5, 59, 22, 19, 5, 26, 26, 37, 38, 24, 88, 1, 18, 19, 97, 19, 94, 10, 32, 74, 45, 14, 37, 108, 3, 46, 44, 45, 11, 18, 96, 8, 33, 6, 4, 9, 18, 13, 47, 11, 32, 89, 19, 12, 42, 1, 10, 12, 110, 49, 20, 42, 7, 41, 12, 4, 60, 60, 7, 6, 98, 5, 11, 26, 3, 38, 19, 46, 4, 18, 94, 24, 11, 37, 38, 39, 16, 15, 11, 97, 88, 4, 23, 39, 85, 29, 46, 24, 49, 12, 5, 95, 15, 61, 33, 47, 18, 52, 44, 5, 22, 14, 29, 3, 39, 23, 5, 45, 50, 1, 35, 44, 4, 2, 2, 18, 39, 50, 7, 18, 26, 46, 20, 38, 6, 41, 38, 37, 18, 14, 3, 10, 23, 23, 42, 11, 96, 40, 6, 73, 87, 21, 21, 17, 11, 52, 22, 79, 12, 32, 23, 9, 9, 47, 11, 2, 4, 6, 21, 74, 21, 46, 30, 58, 15, 50, 34, 35, 19, 22, 42, 39, 25, 5, 23, 6, 26, 30, 15, 11, 51, 38, 25, 21, 11, 18, 17, 14, 104, 46, 14, 46, 26, 39, 3, 35, 17, 9, 33, 12, 12, 30, 12, 25, 18, 32, 23, 33, 46, 23, 6, 4, 42, 29, 59, 59, 4, 46, 39, 37, 8, 39, 60, 42, 4, 41, 33, 32, 58, 24, 30, 38, 18, 2, 39, 59, 1, 98, 41, 26, 8, 39, 22, 88, 27, 1, 1, 17, 47, 23, 26, 31, 38, 76, 41, 96, 88, 15, 24, 75, 81, 10, 42, 12, 51, 102, 34, 5, 38, 12, 100, 117, 6, 2, 51, 82, 4, 25, 15, 21, 45, 50, 25, 27, 23, 25, 5, 46, 33, 8, 38, 7, 46, 21, 94, 82, 25, 33, 74, 26, 21, 14, 11, 60, 5, 19, 25, 2, 25, 4, 19, 32, 10, 16, 36, 1, 6, 10, 16, 24, 11, 5, 22, 14, 16, 20, 18, 39, 109, 10, 48, 37, 18, 38, 19, 13, 25, 26, 16, 6, 3, 25, 46, 39, 19, 60, 37, 40, 80, 46, 20, 6, 3, 26, 14, 16, 41, 90, 30, 48, 33, 39, 18, 13, 29, 40, 29, 43, 37, 4, 38, 7, 2, 25, 37, 31, 76, 81, 6, 19, 4, 22, 25, 42, 39, 7, 8, 5, 9, 20, 10, 5, 50, 61, 19, 39, 12, 7, 2, 73, 44, 47, 40, 3, 25, 33, 5, 38, 40, 47, 4, 18, 22, 41, 48, 42, 47, 24, 47, 88, 18, 42, 46, 2, 117, 43, 20, 39, 95, 19, 26, 62, 30, 25, 34, 110, 63, 19, 19, 39, 6, 40, 47, 74, 42, 8, 12, 1, 49, 109, 19, 39, 14, 15, 25, 14, 12, 50, 14, 4, 5, 4, 13, 18, 42, 23, 90, 109, 19, 42, 16, 18, 76, 81, 18, 25, 19, 26, 102, 61, 1, 23, 43, 3, 20, 49, 18, 108, 111, 39, 30, 25, 7, 5, 21, 12, 119, 8, 39, 12, 46, 32, 15, 60, 89, 15, 60, 24, 11, 30, 12, 40, 81, 21, 13, 32, 43, 23, 42, 2, 13, 38, 40, 86, 46, 14, 15, 22, 81, 51, 42, 40, 18, 31, 12, 39, 7, 38, 12, 15, 73, 15, 38, 11, 1, 80, 42, 48, 38, 25, 40, 73, 39, 19, 80, 38, 10, 38, 47, 60, 32, 39, 19, 75, 22, 63, 30, 14, 25, 76, 9, 37, 95, 18, 10, 23, 4, 14, 25, 40, 38, 49, 98, 42, 59, 21, 7, 10, 3, 6, 3, 93, 37, 20, 7, 31, 25, 15, 17, 13, 10, 16, 3, 33, 41, 23, 37, 27, 7, 11, 25, 61, 75, 25, 38, 14, 75, 39, 39, 36, 2, 1, 59, 5, 77, 40, 37, 114, 24, 33, 12, 39, 18, 38, 74, 40, 6, 9, 18, 92, 10, 38, 34, 74, 45, 38, 11, 88, 110, 27, 46, 95, 40, 21, 5, 59, 11, 26, 16, 81, 32, 25, 12, 38, 25, 52, 18, 39, 44, 2, 1, 25, 16, 2, 2, 39, 27, 41, 41, 41, 38, 10, 7, 78, 45, 12, 25, 6, 73, 8, 2, 33, 5, 37, 14, 52, 25, 5, 10, 16, 4, 42, 46, 1, 17, 5, 22, 108, 27, 11, 4, 49, 31, 60, 32, 38, 4, 99, 74, 44, 34, 19, 28, 40, 39, 14, 17, 25, 18, 38, 18, 32, 30, 42, 1, 13, 4, 11, 65, 77, 110, 13, 31, 52, 5, 3, 1, 16, 31, 9, 19, 21, 11, 38, 74, 11, 75, 21, 100, 73, 1, 6, 6, 8, 42, 26, 6, 74, 11, 22, 59, 44, 18, 6, 16, 21, 33, 33, 40, 11, 16, 13, 18, 80, 11, 38, 42, 11, 29, 46, 14, 11, 1, 15, 48, 31, 1, 26, 25, 7, 4, 9, 24, 39, 61, 32, 5, 39, 17, 25, 3, 20, 11, 38, 32, 84, 16, 18, 28, 74, 43, 15, 19, 51, 2, 39, 16, 18, 58, 28, 8, 33, 39, 9, 9, 38, 18, 39, 110, 8, 59, 10, 59, 42, 6, 23, 46, 18, 16, 28, 105, 10, 36, 25, 15, 19, 48, 47, 40, 46, 3, 41, 33, 14, 73, 59, 39, 5, 40, 18, 37, 14, 5, 20, 7, 13, 5, 74, 51, 45, 32, 50, 9, 48, 48, 47, 19, 41, 38, 91, 32, 100, 42, 38, 39, 24, 60, 47, 12, 18, 18, 25, 3, 16, 19, 15, 5, 86, 88, 31, 36, 5, 7, 34, 18, 79, 48, 38, 37, 37, 44, 41, 7, 26, 25, 11, 101, 5, 14, 28, 60, 46, 88, 8, 28, 25, 10, 10, 34, 33, 22, 40, 18, 24, 46, 42, 20, 11, 5, 10, 105, 40, 41, 42, 14, 8, 9, 1, 27, 41, 39, 82, 34, 11, 37, 4, 5, 37, 92, 35, 33, 17, 39, 16, 11, 37, 6, 18, 18, 33, 46, 43, 41, 15, 28, 38, 16, 43, 86, 38, 37, 39, 14, 60, 25, 23, 91, 96, 84, 6, 16, 59, 12, 82, 20, 47, 2, 25, 51, 28, 25, 18, 15, 6, 18, 107, 38, 8, 11, 47, 5, 41, 21, 39, 102, 37, 12, 42, 14, 25, 15, 25, 19, 44, 74, 111, 17, 11, 16, 46, 18, 82, 38, 3, 18, 6, 34, 16, 45, 41, 42, 39, 6, 39, 37, 21, 2, 15, 8, 108, 48, 6, 17, 59, 49, 62, 1, 41, 47, 41, 38, 8, 22, 1, 34, 47, 14, 14, 18, 32, 17, 11, 8, 10, 87, 34, 18, 32, 32, 43, 19, 51, 9, 3, 51, 39, 21, 76, 1, 43, 60, 13, 5, 6, 39, 18, 13, 39, 8, 17, 12, 42, 37, 26, 19, 51, 23, 29, 41, 39, 59, 74, 38, 2, 96, 5, 22, 27, 11, 22, 38, 10, 42, 92, 12, 14, 17, 11, 6, 11, 38, 37, 15, 5, 15, 58, 12, 1, 6, 38, 15, 28, 21, 12, 2, 4, 30, 11, 64, 6, 22, 6, 8, 9, 5, 6, 28, 32, 25, 33, 7, 8, 44, 27, 38, 52, 45, 6, 13, 26, 10, 39, 26, 29, 5, 46, 3, 26, 20, 23, 18, 59, 77, 18, 42, 40, 13, 10, 25, 14, 110, 84, 16, 12, 20, 26, 17, 19, 21, 38, 28, 20, 88, 13, 2, 65, 42, 49, 18, 12, 21, 24, 7, 3, 15, 11, 116, 24, 6, 16, 9, 2, 18, 8, 33, 4, 22, 26, 9, 10, 16, 42, 22, 41, 24, 10, 74, 92, 11, 4, 7, 59, 48, 73, 10, 11, 23, 42, 2, 8, 29, 40, 22, 16, 6, 29, 25, 35, 42, 20, 6, 76, 12, 60, 52, 39, 44, 110, 10, 26, 26, 74, 94, 11, 37, 15, 52, 44, 18, 36, 3, 47, 6, 2, 34, 62, 4, 49, 26, 26, 42, 37, 5, 38, 5, 4, 41, 46, 17, 19, 19, 18, 11, 38, 34, 103, 3, 27, 1, 3, 7, 91, 35, 8, 26, 4, 16, 6, 32, 17, 3, 4, 29, 47, 40, 43, 2, 79, 8, 27, 4, 11, 84, 9, 23, 32, 38, 65, 52, 22, 42, 43, 4, 42, 19, 58, 80, 10, 52, 76, 105, 30, 19, 31, 27, 5, 27, 16, 19, 38, 10, 32, 39, 26, 29, 26, 16, 11, 18, 58, 45, 41, 24, 30, 12, 75, 37, 16, 19, 63, 81, 32, 38, 5, 1, 11, 1, 18, 38, 14, 77, 61, 19, 11, 3, 117, 106, 21, 4, 4, 18, 79, 19, 7, 99, 79, 6, 7, 23, 15, 46, 45, 6, 10, 28, 25, 39, 41, 21, 14, 6, 24, 46, 11, 25, 25, 39, 37, 44, 27, 8, 82, 20, 60, 38, 41, 2, 26, 52, 14, 25, 42, 13, 5, 39, 61, 11, 38, 35, 22, 37, 12, 15, 7, 18, 39, 5, 42, 41, 5, 37, 19, 2, 7, 9, 25, 12, 39, 38, 5, 46, 10, 19, 38, 23, 24, 11, 42, 59, 33, 65, 7, 25, 38, 4, 13, 25, 75, 109, 9, 19, 47, 15, 19, 5, 11, 16, 25, 10, 39, 5, 18, 6, 83, 20, 10, 1, 10, 49, 37, 11, 74, 9, 15, 8, 2, 10, 32, 27, 41, 39, 34, 14, 9, 14, 64, 77, 32, 6, 59, 6, 14, 18, 14, 39, 116, 2, 6, 9, 2, 12, 36, 9, 74, 58, 95, 3, 1, 13, 38, 23, 26, 15, 62, 2, 15, 4, 47, 45, 11, 25, 98, 19, 38, 3, 102, 18, 60, 20, 3, 8, 26, 18, 45, 5, 12, 40, 17, 88, 1, 82, 6, 60, 15, 37, 2, 14, 47, 6, 102, 18, 10, 99, 9, 25, 47, 13, 11, 16, 3, 20, 25, 18, 39, 47, 33, 33, 38, 59, 1, 4, 39, 75, 40, 27, 86, 15, 40, 3, 38, 46, 46, 38, 6, 10, 1, 3, 46, 40, 16, 96, 74, 10, 49, 4, 1, 5, 24, 91, 12, 26, 3, 17, 58, 103, 89, 4, 4, 13, 38, 5, 11, 59, 8, 114, 60, 1, 4, 73, 6, 13, 11, 33, 6, 79, 47, 18, 1, 32, 26, 43, 14, 4, 39, 27, 8, 1, 4, 23, 25, 16, 15, 34, 15, 46, 13, 5, 26, 11, 1, 12, 15, 13, 6, 39, 102, 1, 60, 7, 73, 8, 11, 52, 38, 49, 18, 7, 19, 12, 1, 4, 38, 4, 88, 4, 89, 5, 25, 18, 5, 3, 16, 10, 58, 8, 32, 31, 7, 5, 6, 42, 28, 38, 19, 2, 39, 36, 33, 37, 39, 18, 2, 4, 59, 24, 24, 19, 31, 48, 28, 14, 6, 3, 12, 17, 15, 58, 17, 24, 9, 3, 18, 27, 13, 18, 13, 41, 11, 8, 1, 14, 25, 25, 40, 4, 111, 4, 4, 7, 78, 13, 42, 79, 41, 1, 6, 23, 16, 42, 89, 59, 16, 48, 93, 3, 4, 39, 37, 28, 11, 24, 11, 8, 9, 42, 42, 4, 23, 26, 21, 23, 12, 44, 15, 6, 1, 7, 7, 26, 18, 26, 19, 8, 11, 7, 74, 1, 60, 42, 18, 41, 6, 19, 26, 39, 6, 21, 36, 26, 11, 19, 117, 28, 21, 13, 49, 61, 25, 1, 6, 16, 25, 60, 47, 110, 18, 46, 75, 16, 28, 8, 8, 6, 43, 3, 19, 41, 2, 14, 1, 26, 9, 81, 39, 12, 3, 46, 85, 29, 45, 10, 2, 64, 23, 21, 8, 18, 43, 37, 6, 43, 43, 39, 13, 14, 7, 18, 8, 46, 14, 2, 11, 14, 10, 63, 15, 40, 43, 28, 10, 32, 4, 25, 18, 13, 2, 10, 14, 22, 24, 16, 2, 18, 1, 3, 88, 80, 18, 15, 75, 21, 51, 30, 52, 35, 2, 13, 24, 10, 79, 13, 8, 34, 19, 26, 12, 16, 4, 5, 32, 17, 4, 4, 46, 4, 1, 5, 42, 3, 1, 32, 4, 26, 2, 2, 18, 11, 11, 9, 3, 52, 8, 32, 15, 5, 32, 8, 38, 19, 59, 6, 33, 14, 25, 13, 29, 75, 32, 8, 24, 25, 25, 50, 12, 20, 18, 11, 28, 74, 22, 11, 52, 37, 20, 37, 62, 47, 46, 1, 19, 5, 104, 9, 1, 18, 28, 25, 27, 5, 48, 61, 51, 5, 2, 29, 84, 19, 34, 6, 35, 12, 46, 46, 27, 39, 20, 11, 13, 22, 6, 21, 12, 1, 7, 60, 11, 18, 26, 41, 38, 21, 61, 81, 37, 80, 18, 10, 5, 5, 17, 31, 31, 37, 18, 8, 50, 3, 15, 4, 42, 1, 45, 5, 21, 41, 20, 24, 59, 42, 19, 14, 14, 59, 41, 13, 21, 20, 77, 8, 13, 33, 19, 29, 32, 43, 25, 4, 2, 14, 46, 14, 19, 46, 25, 59, 4, 1, 43, 32, 18, 10, 21, 74, 4, 74, 26, 42, 22, 13, 8, 10, 26, 44, 39, 5, 28, 16, 16, 3, 30, 27, 12, 91, 8, 39, 40, 15, 10, 5, 114, 20, 42, 40, 3, 5, 16, 33, 11, 9, 41, 15, 33, 30, 20, 16, 4, 6, 1, 33, 109, 18, 6, 5, 25, 21, 46, 1, 6, 19, 41, 29, 24, 40, 11, 24, 88, 1, 65, 91, 7, 49, 39, 49, 24, 43, 9, 50, 25, 9, 47, 33, 25, 45, 18, 23, 25, 37, 3, 1, 43, 1, 43, 28, 10, 7, 39, 39, 6, 15, 59, 13, 4, 29, 5, 39, 13, 5, 50, 13, 38, 63, 44, 42, 4, 19, 41, 17, 18, 17, 1, 15, 7, 84, 27, 6, 6, 10, 46, 88, 2, 6, 60, 17, 38, 10, 4, 10, 3, 6, 8, 21, 45, 19, 23, 27, 13, 88, 6, 19, 29, 38, 3, 2, 1, 7, 5, 26, 8, 7, 20, 74, 36, 78, 19, 18, 88, 91, 39, 44, 39, 102, 15, 5, 25, 12, 6, 16, 25, 7, 7, 28, 25, 1, 9, 5, 39, 116, 9, 7, 58, 48, 59, 112, 58, 47, 49, 19, 14, 50, 20, 4, 7, 22, 13, 16, 15, 8, 29, 1, 18, 13, 25, 6, 47, 38, 2, 4, 8, 1, 1, 6, 26, 25, 37, 30, 6, 7, 41, 26, 7, 25, 25, 6, 22, 20, 11, 73, 79, 27, 15, 19, 42, 47, 6, 7, 26, 25, 22, 16, 24, 35, 24, 63, 12, 29, 20, 21, 78, 5, 60, 26, 24, 8, 29, 105, 11, 5, 59, 38, 11, 94, 77, 15, 38, 40, 76, 2, 26, 19, 21, 35, 50, 1, 4, 23, 3, 45, 45, 19, 58, 24, 10, 37, 16, 37, 13, 23, 16, 42, 93, 32, 3, 96, 26, 96, 26, 20, 44, 29, 4, 15, 92, 47, 39, 38, 38, 12, 26, 11, 26, 11, 102, 5, 42, 4, 14, 6, 25, 14, 4, 65, 59, 28, 5, 41, 11, 5, 8, 42, 45, 31, 5, 34, 6, 37, 38, 25, 14, 14, 51, 43, 17, 45, 14, 4, 6, 34, 52, 3, 11, 83, 10, 1, 51, 32, 14, 3, 17, 15, 2, 59, 10, 6, 10, 2, 109, 1, 25, 23, 10, 49, 74, 20, 19, 10, 1, 7, 9, 9, 14, 25, 11, 40, 1, 7, 5, 35, 4, 2, 14, 16, 29, 15, 18, 38, 40, 3, 38, 5, 64, 12, 44, 39, 21, 21, 4, 20, 90, 28, 37, 38, 22, 11, 11, 1, 17, 25, 20, 5, 45, 4, 25, 46, 6, 6, 16, 102, 2, 58, 102, 7, 39, 5, 25, 3, 8, 32, 1, 6, 117, 10, 28, 49, 17, 9, 12, 22, 4, 60, 1, 2, 47, 19, 28, 88, 48, 16, 4, 5, 23, 106, 10, 6, 40, 8, 3, 7, 21, 3, 76, 19, 5, 2, 3, 6, 1, 8, 14, 4, 5, 38, 4, 9, 15, 26, 25, 1, 14, 24, 1, 88, 23, 7, 3, 18, 1, 33, 10, 75, 15, 47, 59, 43, 17, 4, 25, 5, 5, 39, 116, 9, 10, 18, 23, 13, 73, 12, 18, 22, 6, 39, 7, 3, 59, 8, 14, 6, 20, 5, 44, 8, 4, 19, 24, 59, 29, 18, 102, 5, 94, 13, 10, 33, 37, 26, 17, 88, 5, 100, 33, 39, 25, 5, 20, 7, 34, 1, 2, 17, 10, 98, 3, 13, 5, 88, 81, 8, 8, 19, 9, 16, 20, 19, 13, 2, 1, 1, 33, 40, 76, 3, 5, 8, 73, 19, 1, 38, 3, 26, 2, 1, 39, 9, 23, 62, 7, 14, 47, 97, 74, 37, 35, 17, 14, 59, 42, 20, 25, 10, 19, 5, 9, 16, 37, 36, 83, 29, 39, 13, 48, 6, 10, 42, 58, 25, 7, 63, 43, 22, 20, 10, 38, 4, 26, 16, 16, 4, 26, 32, 25, 12, 41, 6, 19, 25, 10, 31, 8, 29, 2, 18, 30, 26, 22, 6, 12, 39, 21, 26, 18, 46, 24, 47, 8, 1, 33, 12, 17, 7, 1, 6, 100, 4, 9, 3, 20, 16, 1, 6, 18, 10, 14, 80, 3, 82, 1, 1, 8, 38, 14, 10, 19, 19, 20, 40, 10, 25, 46, 27, 13, 13, 18, 7, 5, 74, 23, 12, 11, 37, 8, 25, 5, 26, 17, 25, 16, 39, 1, 35, 32, 24, 21, 38, 29, 11, 4, 10, 76, 43, 2, 8, 39, 18, 18, 6, 89, 41, 12, 4, 4, 8, 18, 17, 22, 102, 61, 6, 47, 15, 102, 82, 1, 116, 5, 10, 22, 58, 26, 22, 25, 15, 27, 19, 96, 10, 7, 10, 1, 36, 8, 15, 41, 34, 28, 5, 29, 5, 31, 33, 52, 25, 32, 7, 16, 45, 60, 111, 46, 24, 39, 59, 9, 16, 19, 4, 19, 39, 1, 4, 17, 37, 44, 2, 31, 25, 30, 19, 22, 27, 33, 14, 1, 41, 39, 12, 19, 12, 2, 43, 13, 1, 1, 13, 47, 33, 3, 3, 38, 30, 18, 15, 25, 5, 1, 1, 7, 7, 19, 25, 3, 20, 17, 8, 32, 40, 85, 16, 10, 18, 18, 27, 19, 78, 19, 4, 12, 22, 24, 16, 15, 18, 25, 75, 5, 4, 23, 18, 52, 15, 59, 38, 6, 12, 14, 21, 34, 43, 23, 21, 29, 42, 62, 15, 19, 30, 4, 21, 9, 4, 22, 12, 32, 36, 25, 16, 1, 94, 1, 8, 16, 14, 44, 22, 18, 24, 18, 12, 7, 8, 39, 88, 16, 4, 95, 34, 46, 84, 1, 8, 5, 14, 30, 10, 10, 8, 16, 23, 2, 4, 26, 2, 25, 34, 9, 91, 6, 13, 8, 14, 19, 1, 81, 8, 48, 23, 26, 12, 18, 15, 16, 36, 1, 31, 26, 25, 12, 76, 27, 7, 45, 6, 3, 9, 19, 10, 39, 21, 5, 60, 8, 8, 18, 43, 7, 24, 2, 52, 9, 34, 15, 30, 18, 2, 12, 30, 89, 18, 1, 5, 23, 39, 112, 40, 103, 5, 11, 10, 7, 3, 61, 24, 4, 44, 20, 26, 13, 32, 39, 5, 21, 19, 14, 14, 41, 19, 5, 12, 10, 38, 4, 86, 23, 14, 21, 20, 7, 26, 34, 15, 60, 29, 8, 16, 12, 2, 16, 28, 4, 10, 93, 6, 7, 18, 5, 25, 98, 76, 10, 15, 95, 23, 89, 19, 39, 1, 9, 38, 2, 39, 25, 19, 74, 20, 13, 49, 12, 39, 1, 75, 23, 5, 47, 26, 8, 1, 81, 18, 28, 34, 12, 4, 29, 42, 11, 12, 12, 5, 13, 42, 116, 6, 38, 9, 40, 39, 7, 32, 6, 7, 8, 50, 23, 18, 94, 15, 14, 8, 11, 9, 7, 5, 17, 96, 40, 39, 18, 15, 29, 47, 18, 38, 32, 17, 58, 16, 39, 79, 36, 20, 5, 3, 8, 19, 1, 4, 34, 103, 33, 12, 6, 15, 14, 1, 48, 47, 3, 3, 1, 15, 45, 47, 32, 10, 28, 25, 10, 4, 14, 38, 77, 8, 26, 19, 2, 3, 61, 11, 38, 4, 27, 18, 48, 37, 74, 18, 6, 5, 10, 7, 1, 9, 43, 8, 75, 24, 35, 22, 38, 30, 10, 15, 7, 8, 9, 15, 8, 12, 16, 33, 5, 76, 38, 23, 12, 4, 24, 4, 25, 9, 26, 5, 7, 9, 32, 25, 59, 30, 33, 18, 14, 20, 46, 19, 47, 5, 16, 81, 14, 11, 39, 19, 18, 1, 38, 10, 18, 3, 28, 21, 9, 15, 13, 12, 4, 59, 37, 12, 5, 29, 2, 9, 61, 19, 38, 81, 27, 47, 18, 16, 13, 24, 18, 17, 15, 4, 18, 73, 43, 16, 9, 15, 5, 6, 19, 19, 39, 14, 2, 21, 14, 28, 23, 14, 7, 20, 31, 23, 3, 81, 50, 1, 39, 21, 18, 9, 26, 119, 4, 6, 3, 1, 25, 45, 47, 38, 39, 18, 24, 25, 34, 23, 12, 48, 11, 62, 12, 5, 22, 25, 21, 25, 12, 12, 59, 4, 5, 5, 1, 5, 26, 46, 38, 37, 26, 5, 74, 18, 4, 19, 65, 11, 15, 9, 3, 95, 43, 7, 5, 7, 9, 18, 2, 25, 26, 2, 26, 46, 39, 22, 36, 7, 21, 13, 59, 8, 22, 31, 29, 17, 19, 26, 4, 2, 30, 4, 24, 3, 26, 9, 5, 1, 4, 46, 5, 6, 17, 49, 6, 95, 22, 44, 16, 73, 15, 12, 23, 12, 1, 5, 46, 27, 22, 15, 3, 12, 9, 10, 11, 18, 11, 49, 18, 58, 37, 49, 7, 13, 60, 46, 25, 14, 16, 17, 9, 3, 25, 16, 21, 41, 48, 5, 6, 18, 42, 98, 43, 23, 88, 30, 4, 74, 1, 25, 39, 77, 39, 14, 9, 9, 3, 20, 7, 9, 25, 45, 1, 19, 110, 10, 21, 17, 41, 59, 7, 17, 26, 43, 11, 11, 88, 8, 11, 2, 16, 11, 24, 46, 18, 4, 12, 26, 26, 26, 3, 19, 1, 38, 8, 29, 83, 6, 13, 15, 26, 15, 23, 52, 3, 4, 36, 4, 7, 46, 13, 9, 102, 18, 10, 23, 35, 6, 34, 32, 12, 75, 8, 10, 23, 3, 4, 96, 5, 5, 6, 62, 38, 46, 4, 11, 5, 50, 25, 46, 38, 14, 73, 17, 38, 17, 1, 4, 14, 22, 37, 52, 19, 2, 61, 16, 26, 11, 1, 46, 43, 16, 19, 33, 35, 21, 12, 24, 51, 38, 25, 4, 42, 1, 4, 11, 26, 95, 11, 5, 11, 90, 24, 39, 36, 24, 14, 59, 39, 26, 17, 16, 3, 16, 23, 33, 24, 1, 1, 7, 19, 24, 7, 3, 5, 17, 50, 21, 34, 24, 38, 81, 46, 39, 11, 16, 45, 63, 26, 7, 3, 10, 96, 4, 28, 15, 7, 10, 3, 10, 20, 62, 10, 37, 37, 7, 19, 7, 19, 26, 11, 42, 46, 40, 7, 2, 41, 35, 73, 15, 23, 10, 6, 43, 38, 23, 23, 6, 4, 25, 49, 14, 9, 20, 29, 9, 10, 81, 9, 18, 26, 28, 45, 16, 40, 38, 2, 47, 92, 49, 42, 5, 15, 7, 6, 11, 15, 7, 3, 9, 9, 29, 8, 40, 6, 4, 4, 37, 20, 26, 6, 4, 2, 6, 61, 92, 6, 8, 81, 38, 38, 17, 11, 18, 17, 50, 8, 18, 15, 39, 8, 6, 9, 4, 12, 20, 24, 14, 43, 5, 30, 7, 10, 73, 21, 40, 1, 1, 20, 25, 47, 16, 37, 5, 27, 17, 14, 59, 14, 23, 15, 5, 4, 6, 3, 3, 42, 19, 19, 4, 5, 10, 7, 6, 4, 40, 18, 25, 4, 48, 26, 10, 39, 34, 40, 14, 22, 20, 16, 20, 61, 4, 40, 5, 8, 8, 42, 10, 24, 26, 15, 20, 8, 25, 4, 32, 5, 25, 30, 14, 9, 59, 48, 7, 18, 40, 6, 39, 40, 19, 22, 39, 32, 51, 34, 17, 38, 21, 38, 26, 39, 82, 21, 14, 6, 50, 6, 6, 3, 6, 21, 49, 2, 29, 40, 60, 17, 1, 8, 19, 20, 10, 39, 28, 12, 2, 3, 7, 2, 21, 28, 26, 3, 7, 17, 95, 25, 1, 42, 1, 9, 9, 8, 23, 44, 73, 38, 12, 25, 33, 10, 25, 6, 15, 92, 17, 40, 41, 4, 38, 8, 24, 49, 88, 18, 23, 8, 10, 92, 82, 7, 3, 59, 6, 13, 43, 4, 4, 22, 3, 8, 82, 43, 15, 19, 18, 9, 11, 19, 10, 4, 20, 14, 15, 59, 22, 5, 23, 14, 8, 39, 11, 3, 1, 6, 1, 80, 19, 38, 40, 5, 17, 16, 9, 37, 45, 28, 8, 50, 4, 12, 38, 19, 5, 38, 7, 37, 38, 40, 11, 42, 19, 14, 1, 29, 46, 13, 3, 26, 15, 95, 11, 15, 73, 12, 5, 28, 22, 6, 1, 5, 2, 32, 4, 82, 14, 102, 11, 37, 11, 7, 18, 40, 9, 18, 17, 59, 8, 25, 18, 42, 7, 2, 9, 8, 14, 24, 11, 26, 46, 33, 38, 25, 5, 15, 74, 80, 8, 59, 17, 3, 19, 26, 2, 30, 46, 3, 1, 16, 5, 9, 26, 17, 22, 47, 4, 38, 39, 6, 34, 14, 74, 15, 13, 5, 10, 22, 19, 74, 1, 20, 44, 21, 18, 6, 91, 52, 6, 3, 21, 109, 46, 62, 58, 89, 32, 116, 4, 13, 113, 16, 20, 26, 38, 43, 26, 19, 9, 49, 2, 33, 74, 39, 5, 38, 28, 11, 102, 52, 27, 109, 3, 23, 47, 4, 17, 39, 61, 5, 40, 39, 49, 2, 105, 14, 40, 10, 4, 5, 4, 17, 18, 78, 4, 98, 3, 25, 10, 5, 6, 38, 10, 22, 7, 45, 26, 18, 38, 47, 33, 80, 8, 49, 93, 24, 8, 29, 23, 44, 15, 38, 21, 8, 48, 92, 29, 11, 9, 10, 52, 83, 90, 15, 7, 76, 34, 33, 43, 19, 51, 11, 2, 9, 3, 1, 2, 42, 43, 23, 62, 15, 24, 11, 19, 46, 74, 18, 17, 20, 82, 46, 12, 1, 19, 6, 48, 26, 48, 40, 21, 3, 1, 8, 25, 9, 13, 17, 1, 10, 37, 33, 7, 17, 9, 12, 7, 12, 4, 4, 8, 10, 44, 47, 7, 12, 27, 4, 12, 1, 6, 4, 59, 38, 5, 6, 5, 59, 38, 19, 15, 25, 1, 12, 5, 6, 8, 14, 1, 8, 10, 38, 29, 44, 1, 41, 3, 4, 30, 38, 44, 20, 15, 17, 6, 44, 10, 8, 9, 10, 29, 42, 42, 41, 41, 5, 40, 39, 10, 39, 6, 39, 10, 38, 38, 38, 19, 37, 35, 7, 34, 7, 6, 33, 23, 32, 1, 14, 28, 28, 20, 25, 9, 19, 26, 4, 1, 5, 25, 25, 18, 25, 25, 24, 10, 23, 20, 6, 22, 22, 5, 21, 8, 16, 1, 9, 20, 13, 19, 1, 19, 4, 18, 18, 4, 18, 18, 11, 5, 18, 7, 17, 11, 16, 2, 4, 7, 15, 4, 3, 2, 14, 14, 5, 13, 6, 9, 11, 11, 11, 11, 11, 11, 5, 11, 3, 10, 9, 9, 5, 5, 9, 6, 9, 9, 9, 8, 5, 5, 5, 5, 5, 4, 4, 4, 4, 4, 4, 4, 4, 1, 4, 4, 3, 2, 2, 2, 1, 1, 1, 1], \"y\": [11, 18, 13, 36, 23, 10, 48, 22, 20, 17, 16, 24, 21, 28, 16, 13, 24, 22, 9, 18, 19, 12, 20, 36, 15, 23, 31, 21, 23, 20, 37, 21, 14, 16, 36, 13, 21, 27, 19, 25, 16, 22, 19, 23, 11, 7, 50, 25, 26, 14, 18, 32, 7, 17, 16, 10, 10, 20, 10, 17, 28, 18, 43, 15, 15, 13, 23, 18, 45, 13, 17, 28, 15, 26, 23, 26, 55, 18, 16, 25, 32, 9, 21, 7, 31, 12, 26, 62, 40, 9, 13, 31, 16, 11, 23, 36, 12, 37, 28, 25, 23, 22, 22, 13, 31, 17, 22, 7, 47, 8, 14, 30, 8, 25, 18, 21, 20, 29, 9, 28, 30, 15, 12, 30, 21, 27, 26, 18, 27, 20, 13, 18, 17, 29, 30, 26, 28, 26, 8, 16, 16, 27, 23, 12, 22, 22, 22, 7, 10, 27, 25, 26, 17, 9, 15, 29, 13, 42, 9, 9, 8, 10, 25, 11, 16, 16, 11, 16, 26, 13, 13, 26, 30, 34, 11, 16, 28, 27, 15, 25, 26, 25, 11, 7, 18, 19, 17, 23, 28, 23, 26, 10, 33, 16, 20, 25, 13, 43, 7, 18, 37, 34, 18, 13, 14, 25, 25, 15, 31, 10, 15, 32, 17, 22, 39, 27, 23, 17, 17, 22, 21, 12, 29, 26, 11, 21, 8, 14, 13, 33, 27, 23, 16, 16, 19, 32, 16, 29, 9, 13, 19, 21, 23, 25, 10, 44, 30, 19, 36, 13, 12, 8, 20, 31, 15, 74, 19, 21, 22, 8, 31, 26, 21, 24, 22, 36, 13, 31, 24, 49, 11, 13, 32, 15, 25, 27, 15, 7, 9, 12, 27, 18, 28, 34, 49, 8, 20, 17, 8, 23, 18, 12, 15, 19, 41, 16, 12, 11, 35, 23, 21, 15, 21, 29, 28, 9, 20, 23, 4, 27, 25, 13, 24, 26, 28, 26, 40, 11, 19, 15, 14, 13, 11, 10, 30, 43, 14, 36, 29, 25, 17, 28, 42, 2, 33, 9, 9, 28, 17, 18, 18, 27, 17, 12, 20, 24, 14, 32, 25, 30, 2, 14, 34, 21, 13, 16, 22, 18, 22, 7, 30, 29, 16, 23, 13, 18, 18, 30, 35, 29, 23, 32, 13, 7, 37, 26, 11, 27, 24, 11, 35, 25, 12, 27, 28, 8, 8, 12, 18, 18, 32, 19, 25, 22, 32, 13, 11, 11, 24, 9, 23, 21, 27, 27, 16, 7, 74, 24, 11, 21, 10, 11, 9, 15, 26, 36, 8, 6, 19, 15, 8, 21, 29, 14, 15, 22, 11, 57, 19, 14, 19, 16, 30, 7, 45, 25, 25, 35, 18, 5, 24, 22, 12, 30, 20, 43, 29, 26, 32, 21, 27, 16, 12, 22, 16, 22, 26, 17, 29, 10, 15, 22, 19, 23, 22, 19, 20, 21, 21, 5, 26, 15, 101, 20, 15, 17, 21, 62, 28, 29, 44, 23, 32, 30, 21, 10, 6, 19, 22, 41, 9, 15, 20, 31, 14, 22, 15, 11, 21, 38, 31, 9, 14, 40, 12, 14, 17, 22, 22, 5, 10, 16, 17, 18, 30, 42, 35, 29, 15, 31, 32, 2, 24, 30, 25, 15, 11, 30, 23, 9, 19, 58, 15, 39, 18, 23, 12, 24, 21, 10, 44, 19, 8, 17, 11, 25, 26, 32, 19, 24, 15, 23, 23, 38, 10, 22, 10, 23, 14, 19, 14, 22, 19, 25, 16, 16, 24, 14, 6, 18, 41, 23, 16, 7, 15, 15, 30, 26, 25, 31, 22, 11, 11, 16, 10, 3, 41, 31, 30, 30, 19, 25, 28, 21, 29, 28, 18, 26, 11, 19, 21, 24, 36, 19, 7, 9, 22, 18, 21, 20, 26, 23, 17, 19, 26, 20, 14, 26, 20, 39, 9, 24, 20, 18, 31, 17, 15, 14, 32, 11, 21, 10, 30, 11, 11, 17, 26, 46, 36, 106, 54, 15, 10, 26, 21, 10, 16, 17, 18, 18, 24, 16, 29, 24, 8, 28, 18, 18, 17, 8, 19, 16, 31, 32, 25, 44, 21, 16, 25, 21, 26, 45, 22, 27, 11, 20, 17, 31, 24, 28, 40, 26, 31, 28, 7, 41, 13, 8, 9, 22, 25, 15, 11, 16, 23, 19, 33, 16, 17, 12, 30, 20, 23, 13, 35, 13, 29, 15, 22, 54, 17, 19, 25, 15, 10, 12, 38, 13, 29, 17, 18, 22, 5, 14, 28, 19, 23, 12, 12, 18, 28, 40, 14, 18, 27, 23, 9, 20, 17, 21, 16, 32, 17, 41, 21, 24, 30, 22, 53, 10, 22, 21, 30, 11, 13, 27, 20, 24, 6, 37, 30, 15, 20, 15, 26, 23, 10, 15, 17, 23, 14, 25, 39, 21, 19, 20, 25, 31, 8, 18, 21, 21, 25, 31, 27, 22, 19, 60, 16, 9, 11, 7, 10, 42, 17, 9, 28, 19, 10, 43, 32, 18, 14, 25, 79, 14, 17, 11, 23, 12, 89, 25, 11, 34, 10, 40, 23, 31, 15, 11, 28, 16, 15, 35, 18, 27, 16, 10, 7, 18, 21, 14, 15, 26, 22, 30, 19, 25, 16, 21, 17, 17, 20, 19, 7, 32, 15, 8, 11, 28, 20, 32, 22, 22, 19, 22, 27, 10, 19, 31, 45, 43, 9, 27, 21, 15, 31, 26, 19, 31, 21, 13, 13, 26, 15, 17, 13, 17, 24, 24, 13, 22, 44, 23, 33, 13, 31, 7, 19, 25, 14, 14, 17, 20, 53, 18, 23, 19, 21, 22, 27, 17, 17, 8, 19, 32, 11, 25, 44, 22, 23, 10, 12, 7, 32, 16, 21, 32, 20, 21, 22, 42, 66, 27, 24, 10, 22, 8, 19, 30, 11, 11, 10, 4, 16, 16, 11, 24, 20, 13, 16, 15, 24, 31, 18, 11, 12, 24, 31, 41, 16, 42, 17, 20, 22, 14, 17, 10, 29, 14, 16, 17, 33, 8, 15, 13, 38, 12, 23, 21, 14, 25, 11, 27, 10, 20, 28, 22, 11, 28, 20, 21, 25, 21, 22, 28, 11, 25, 15, 15, 27, 16, 18, 18, 10, 28, 21, 23, 20, 17, 11, 41, 14, 23, 26, 26, 19, 20, 18, 18, 29, 14, 24, 7, 16, 29, 14, 17, 24, 21, 34, 19, 9, 13, 13, 34, 17, 32, 37, 31, 77, 21, 19, 9, 23, 11, 10, 8, 20, 21, 23, 20, 25, 18, 44, 15, 40, 53, 8, 29, 27, 25, 24, 9, 16, 8, 14, 17, 19, 24, 13, 41, 13, 18, 31, 12, 21, 16, 28, 13, 19, 30, 14, 17, 33, 20, 20, 18, 17, 15, 7, 23, 23, 27, 6, 20, 9, 21, 14, 20, 20, 16, 18, 23, 10, 19, 16, 22, 34, 43, 25, 19, 16, 19, 21, 32, 18, 30, 16, 21, 43, 29, 20, 22, 30, 23, 30, 14, 15, 24, 12, 38, 78, 27, 24, 30, 33, 11, 19, 25, 31, 19, 20, 7, 25, 30, 16, 25, 25, 33, 10, 10, 10, 19, 24, 11, 12, 26, 10, 22, 31, 11, 23, 28, 24, 25, 32, 25, 18, 31, 31, 8, 20, 29, 26, 13, 11, 30, 17, 7, 10, 18, 14, 17, 30, 15, 23, 12, 27, 26, 19, 17, 15, 28, 23, 20, 9, 22, 31, 12, 19, 22, 43, 35, 20, 22, 30, 34, 26, 13, 12, 7, 15, 28, 19, 26, 14, 24, 16, 13, 22, 17, 42, 41, 15, 15, 24, 9, 10, 22, 31, 13, 15, 21, 23, 31, 26, 15, 15, 11, 16, 22, 10, 22, 10, 10, 10, 11, 28, 28, 13, 19, 18, 18, 34, 24, 30, 10, 27, 12, 19, 33, 16, 25, 17, 26, 34, 27, 21, 13, 21, 17, 25, 11, 5, 16, 28, 32, 15, 14, 9, 41, 11, 7, 21, 50, 17, 37, 34, 10, 18, 27, 17, 16, 29, 15, 36, 19, 7, 18, 31, 28, 4, 16, 15, 19, 18, 16, 56, 7, 33, 19, 23, 23, 24, 32, 23, 28, 14, 42, 18, 26, 28, 32, 16, 18, 26, 27, 16, 20, 18, 23, 29, 12, 25, 11, 31, 29, 15, 15, 11, 19, 17, 33, 24, 15, 15, 20, 16, 18, 26, 15, 15, 15, 23, 9, 31, 14, 19, 13, 21, 32, 33, 14, 14, 17, 34, 12, 22, 13, 16, 31, 7, 20, 9, 29, 16, 11, 34, 20, 32, 20, 17, 34, 21, 23, 26, 25, 23, 18, 24, 14, 10, 17, 32, 22, 29, 16, 24, 17, 17, 26, 25, 26, 36, 38, 28, 15, 32, 32, 39, 39, 38, 9, 15, 13, 15, 35, 21, 19, 30, 6, 28, 22, 26, 11, 9, 31, 20, 29, 16, 8, 13, 16, 28, 13, 36, 19, 8, 18, 41, 28, 16, 46, 8, 13, 7, 28, 16, 33, 23, 20, 19, 15, 26, 46, 18, 20, 16, 16, 12, 16, 22, 12, 22, 10, 34, 12, 11, 27, 15, 15, 23, 7, 31, 20, 26, 39, 22, 23, 19, 33, 19, 33, 32, 33, 16, 30, 27, 20, 12, 13, 18, 8, 49, 22, 13, 23, 25, 26, 24, 39, 29, 33, 35, 14, 17, 31, 22, 15, 55, 20, 30, 15, 19, 38, 17, 15, 8, 15, 27, 14, 38, 14, 16, 22, 15, 7, 13, 23, 31, 38, 18, 27, 28, 30, 31, 32, 41, 8, 15, 9, 21, 16, 18, 22, 17, 12, 9, 14, 33, 37, 14, 28, 8, 15, 29, 13, 29, 16, 17, 11, 22, 11, 25, 16, 29, 10, 18, 13, 24, 26, 21, 20, 32, 18, 17, 51, 14, 21, 20, 10, 32, 21, 33, 11, 41, 37, 8, 19, 13, 57, 31, 15, 47, 20, 7, 26, 15, 19, 15, 15, 9, 14, 21, 26, 32, 18, 16, 14, 12, 28, 23, 11, 18, 11, 14, 15, 19, 54, 32, 41, 31, 15, 27, 23, 25, 23, 27, 22, 29, 15, 24, 13, 15, 20, 33, 29, 9, 23, 21, 10, 31, 104, 18, 15, 59, 23, 28, 33, 10, 36, 11, 34, 12, 24, 12, 15, 32, 14, 21, 25, 32, 67, 19, 66, 15, 5, 17, 16, 27, 17, 15, 22, 28, 17, 5, 22, 20, 10, 12, 25, 20, 9, 22, 27, 15, 10, 14, 42, 36, 11, 22, 17, 20, 12, 16, 29, 17, 32, 14, 27, 18, 23, 15, 16, 31, 29, 19, 29, 30, 25, 21, 17, 15, 18, 29, 16, 13, 2, 19, 21, 15, 24, 11, 8, 28, 28, 17, 10, 26, 22, 15, 24, 22, 22, 26, 32, 7, 21, 39, 15, 12, 10, 28, 19, 34, 21, 27, 15, 7, 21, 14, 30, 23, 11, 22, 21, 19, 19, 8, 19, 15, 26, 26, 18, 22, 20, 24, 9, 21, 14, 16, 26, 16, 27, 26, 27, 23, 30, 15, 35, 24, 30, 27, 26, 17, 23, 28, 13, 15, 9, 29, 40, 16, 39, 24, 9, 14, 8, 36, 15, 17, 22, 28, 17, 23, 19, 25, 26, 11, 28, 31, 27, 16, 23, 32, 32, 15, 45, 19, 16, 18, 28, 20, 26, 24, 28, 10, 26, 10, 9, 8, 18, 7, 22, 21, 26, 16, 24, 15, 14, 29, 20, 16, 15, 40, 10, 14, 20, 11, 24, 20, 20, 9, 20, 17, 10, 14, 22, 9, 22, 12, 20, 14, 18, 19, 14, 12, 26, 22, 18, 20, 15, 18, 28, 17, 18, 11, 23, 4, 24, 31, 13, 36, 17, 30, 21, 19, 20, 26, 30, 7, 40, 15, 9, 30, 30, 28, 15, 27, 28, 15, 23, 20, 18, 32, 9, 29, 46, 35, 10, 15, 24, 19, 22, 10, 25, 17, 18, 18, 23, 14, 21, 16, 18, 16, 12, 46, 25, 21, 11, 24, 13, 29, 48, 14, 28, 24, 16, 22, 23, 8, 27, 30, 16, 18, 27, 33, 22, 23, 21, 16, 31, 16, 9, 22, 37, 35, 26, 21, 34, 95, 15, 35, 16, 10, 12, 16, 15, 17, 18, 29, 26, 16, 22, 39, 31, 15, 13, 8, 20, 11, 8, 7, 40, 12, 7, 13, 20, 17, 15, 16, 16, 40, 25, 19, 9, 13, 16, 18, 12, 32, 34, 68, 17, 82, 21, 16, 14, 19, 14, 14, 20, 19, 29, 29, 18, 23, 16, 10, 22, 15, 11, 23, 32, 29, 20, 32, 25, 16, 15, 21, 47, 11, 21, 32, 13, 37, 28, 20, 34, 46, 22, 17, 26, 26, 27, 24, 21, 29, 29, 37, 20, 33, 29, 21, 32, 20, 44, 30, 17, 33, 19, 16, 24, 15, 22, 57, 10, 9, 32, 20, 31, 38, 23, 23, 30, 21, 41, 17, 25, 20, 29, 26, 10, 31, 19, 7, 31, 29, 17, 17, 20, 24, 32, 15, 9, 9, 17, 49, 20, 26, 91, 16, 37, 16, 17, 46, 16, 20, 28, 40, 30, 26, 10, 18, 29, 12, 25, 28, 21, 29, 18, 11, 23, 43, 12, 48, 22, 9, 27, 29, 14, 17, 16, 35, 22, 35, 16, 20, 12, 9, 9, 38, 29, 13, 14, 17, 13, 11, 25, 14, 11, 32, 20, 16, 25, 26, 25, 5, 18, 22, 19, 25, 28, 21, 42, 33, 25, 19, 10, 39, 22, 15, 34, 39, 14, 56, 16, 43, 12, 10, 12, 17, 12, 27, 20, 22, 15, 14, 36, 24, 10, 27, 10, 17, 14, 24, 15, 30, 17, 21, 40, 14, 20, 23, 25, 16, 32, 24, 27, 61, 21, 28, 20, 25, 20, 41, 29, 19, 27, 27, 36, 11, 26, 21, 14, 21, 10, 15, 26, 25, 37, 42, 16, 29, 15, 10, 17, 26, 26, 18, 18, 22, 7, 32, 18, 8, 33, 30, 14, 7, 39, 13, 10, 15, 14, 26, 17, 40, 15, 18, 33, 16, 14, 38, 31, 30, 15, 25, 20, 38, 31, 15, 25, 33, 28, 15, 24, 11, 32, 16, 10, 52, 23, 34, 30, 29, 23, 19, 26, 12, 17, 24, 15, 20, 33, 8, 10, 22, 31, 13, 16, 46, 11, 15, 8, 16, 16, 32, 15, 9, 19, 12, 19, 11, 11, 18, 32, 15, 13, 21, 22, 31, 26, 19, 27, 21, 30, 26, 21, 138, 17, 17, 23, 2, 22, 38, 23, 47, 17, 23, 22, 8, 18, 17, 22, 13, 8, 18, 19, 40, 29, 25, 17, 14, 24, 29, 18, 23, 15, 17, 19, 28, 22, 13, 30, 22, 19, 10, 26, 26, 26, 22, 19, 21, 28, 11, 23, 31, 40, 30, 15, 26, 15, 27, 12, 36, 22, 8, 29, 16, 16, 23, 17, 18, 16, 17, 10, 24, 20, 20, 12, 27, 26, 15, 25, 31, 21, 40, 24, 22, 10, 35, 29, 32, 12, 17, 13, 20, 29, 25, 26, 22, 14, 13, 35, 21, 19, 40, 26, 11, 17, 42, 14, 34, 16, 9, 17, 16, 29, 24, 18, 14, 31, 19, 22, 67, 35, 16, 15, 52, 55, 30, 24, 21, 19, 17, 16, 11, 16, 27, 38, 33, 14, 11, 15, 37, 18, 18, 26, 12, 26, 27, 19, 21, 17, 19, 12, 23, 24, 9, 21, 8, 16, 26, 27, 21, 25, 30, 25, 16, 23, 2, 29, 43, 4, 19, 31, 4, 18, 19, 29, 31, 22, 12, 27, 8, 9, 18, 26, 25, 15, 11, 26, 18, 17, 15, 19, 23, 21, 14, 25, 26, 11, 27, 18, 27, 22, 24, 19, 12, 22, 28, 27, 16, 30, 44, 16, 17, 52, 23, 24, 11, 20, 15, 14, 13, 22, 47, 30, 34, 26, 16, 28, 21, 16, 28, 19, 21, 25, 21, 30, 11, 11, 30, 22, 22, 35, 45, 11, 20, 16, 16, 16, 33, 21, 9, 14, 11, 8, 19, 29, 17, 20, 39, 20, 30, 11, 10, 14, 39, 35, 16, 26, 15, 16, 16, 13, 29, 41, 17, 10, 15, 19, 26, 40, 34, 19, 14, 18, 45, 7, 27, 19, 10, 28, 34, 30, 22, 35, 20, 24, 33, 17, 19, 33, 22, 46, 17, 16, 25, 7, 21, 16, 33, 33, 6, 20, 16, 20, 42, 19, 32, 25, 28, 11, 15, 17, 16, 31, 12, 8, 7, 30, 27, 23, 29, 32, 36, 12, 27, 20, 16, 43, 15, 31, 30, 13, 15, 31, 40, 19, 17, 22, 13, 26, 15, 18, 33, 34, 27, 23, 24, 28, 13, 14, 26, 34, 10, 23, 26, 24, 23, 14, 27, 38, 18, 26, 14, 12, 32, 15, 19, 35, 25, 17, 21, 32, 18, 18, 10, 20, 22, 37, 39, 31, 24, 16, 11, 34, 18, 22, 16, 30, 19, 13, 19, 12, 29, 21, 25, 15, 21, 20, 31, 12, 47, 23, 24, 32, 11, 22, 42, 22, 22, 35, 20, 32, 28, 19, 30, 16, 32, 21, 29, 17, 23, 26, 16, 15, 31, 24, 23, 38, 23, 22, 15, 17, 25, 19, 34, 15, 30, 62, 24, 39, 29, 17, 11, 2, 17, 13, 27, 28, 28, 14, 23, 23, 32, 21, 22, 16, 21, 7, 21, 30, 31, 38, 17, 12, 10, 20, 36, 69, 28, 21, 10, 69, 49, 46, 18, 7, 22, 15, 19, 31, 32, 16, 56, 31, 17, 25, 22, 19, 33, 42, 32, 11, 11, 24, 28, 25, 21, 15, 46, 23, 26, 27, 45, 20, 30, 7, 44, 18, 12, 17, 16, 13, 22, 31, 60, 19, 12, 18, 30, 24, 23, 21, 21, 30, 9, 14, 18, 18, 17, 12, 30, 17, 22, 18, 38, 15, 21, 2, 47, 33, 27, 10, 17, 50, 7, 14, 16, 13, 21, 30, 28, 17, 19, 29, 8, 11, 19, 24, 15, 15, 7, 24, 25, 36, 18, 10, 25, 20, 39, 12, 27, 6, 55, 44, 37, 22, 21, 18, 24, 26, 29, 26, 17, 22, 18, 26, 37, 25, 19, 12, 31, 12, 25, 46, 42, 20, 27, 31, 21, 14, 11, 17, 12, 29, 8, 17, 20, 15, 34, 34, 24, 55, 17, 30, 43, 18, 11, 8, 11, 24, 14, 17, 47, 14, 29, 43, 26, 17, 20, 21, 20, 27, 21, 32, 23, 28, 20, 30, 33, 26, 30, 15, 29, 30, 27, 29, 15, 9, 27, 27, 23, 17, 18, 12, 11, 14, 14, 11, 22, 26, 28, 16, 18, 23, 22, 17, 23, 10, 30, 30, 36, 14, 27, 21, 34, 33, 14, 18, 32, 10, 31, 14, 28, 17, 25, 19, 23, 25, 19, 8, 12, 22, 20, 18, 11, 20, 21, 27, 21, 10, 9, 23, 21, 27, 18, 19, 19, 28, 28, 20, 28, 21, 21, 15, 15, 22, 28, 28, 16, 92, 21, 24, 9, 20, 17, 33, 19, 27, 7, 10, 21, 8, 63, 19, 33, 29, 29, 11, 18, 21, 23, 31, 28, 23, 19, 44, 19, 25, 19, 32, 22, 27, 43, 21, 31, 21, 14, 1, 30, 9, 30, 18, 21, 49, 19, 29, 9, 21, 19, 25, 40, 23, 16, 15, 22, 26, 18, 12, 9, 17, 16, 39, 14, 15, 24, 53, 17, 16, 18, 20, 12, 14, 16, 22, 27, 25, 23, 22, 15, 10, 23, 24, 23, 16, 30, 39, 27, 21, 18, 13, 22, 15, 15, 22, 22, 34, 25, 40, 25, 23, 16, 14, 43, 33, 26, 17, 22, 17, 22, 21, 32, 11, 17, 22, 26, 11, 28, 28, 17, 25, 23, 17, 32, 37, 11, 16, 20, 12, 43, 22, 10, 48, 16, 36, 12, 24, 19, 21, 44, 28, 37, 10, 20, 15, 31, 22, 11, 16, 14, 19, 44, 32, 10, 28, 22, 14, 21, 15, 33, 17, 31, 22, 19, 23, 29, 13, 20, 22, 26, 46, 20, 21, 20, 28, 16, 24, 21, 24, 7, 11, 19, 22, 25, 19, 24, 37, 40, 9, 19, 24, 23, 12, 24, 11, 15, 28, 10, 13, 32, 18, 57, 11, 31, 23, 20, 9, 8, 32, 20, 25, 34, 30, 22, 17, 32, 13, 26, 16, 12, 38, 29, 28, 16, 23, 17, 31, 19, 18, 8, 45, 33, 23, 63, 14, 17, 40, 29, 10, 8, 24, 15, 18, 36, 8, 22, 27, 36, 22, 17, 15, 17, 16, 24, 28, 17, 23, 34, 25, 22, 44, 11, 18, 30, 20, 19, 32, 30, 19, 37, 26, 18, 24, 14, 11, 32, 19, 38, 17, 7, 23, 15, 24, 29, 7, 20, 21, 33, 24, 23, 8, 16, 25, 16, 31, 13, 14, 16, 7, 9, 32, 7, 18, 16, 16, 34, 17, 15, 23, 29, 30, 27, 28, 12, 23, 14, 16, 25, 25, 19, 19, 23, 13, 30, 17, 26, 11, 21, 43, 26, 48, 16, 20, 16, 20, 17, 24, 29, 15, 16, 24, 31, 23, 13, 22, 42, 19, 18, 36, 23, 10, 18, 25, 42, 31, 17, 18, 17, 10, 23, 16, 7, 38, 7, 4, 23, 24, 23, 22, 16, 28, 15, 17, 12, 8, 15, 18, 32, 22, 29, 22, 15, 38, 49, 20, 27, 7, 15, 26, 38, 21, 22, 26, 25, 22, 8, 32, 20, 19, 7, 6, 30, 22, 25, 34, 27, 9, 45, 19, 43, 22, 18, 19, 46, 24, 25, 23, 36, 27, 18, 14, 27, 40, 35, 25, 23, 19, 22, 9, 22, 36, 44, 15, 20, 15, 27, 23, 16, 19, 17, 15, 12, 21, 26, 17, 19, 26, 19, 16, 24, 18, 38, 14, 22, 8, 8, 6, 31, 27, 10, 24, 22, 15, 8, 40, 12, 28, 14, 23, 21, 20, 38, 11, 29, 31, 14, 20, 32, 47, 9, 17, 27, 18, 27, 27, 21, 30, 24, 9, 21, 23, 23, 55, 22, 23, 63, 35, 27, 21, 18, 34, 8, 16, 38, 19, 21, 13, 18, 15, 13, 19, 23, 21, 17, 9, 24, 19, 22, 27, 22, 22, 21, 28, 15, 20, 40, 38, 16, 24, 13, 16, 24, 7, 20, 7, 6, 25, 46, 19, 7, 9, 37, 25, 18, 11, 10, 21, 40, 22, 7, 44, 43, 28, 13, 14, 18, 26, 24, 23, 18, 19, 26, 31, 31, 19, 17, 15, 14, 62, 25, 25, 27, 32, 25, 27, 15, 8, 23, 21, 34, 20, 28, 14, 8, 16, 23, 30, 39, 20, 11, 31, 38, 16, 31, 28, 21, 15, 12, 28, 13, 21, 27, 16, 29, 30, 9, 30, 20, 10, 9, 16, 22, 17, 23, 20, 21, 27, 20, 21, 27, 24, 25, 31, 22, 23, 20, 35, 16, 23, 20, 11, 20, 15, 41, 15, 8, 29, 31, 15, 28, 9, 25, 18, 20, 15, 22, 9, 19, 9, 32, 22, 16, 13, 16, 24, 22, 12, 33, 10, 30, 15, 10, 10, 8, 24, 29, 8, 60, 20, 2, 7, 46, 58, 22, 7, 18, 9, 30, 29, 18, 27, 51, 12, 10, 13, 18, 18, 15, 13, 45, 52, 40, 10, 9, 13, 17, 21, 18, 20, 36, 10, 17, 7, 24, 28, 15, 25, 44, 14, 27, 8, 33, 17, 51, 19, 13, 18, 16, 32, 33, 12, 21, 22, 14, 33, 10, 27, 13, 72, 14, 16, 13, 23, 9, 8, 25, 26, 16, 36, 11, 25, 9, 11, 15, 24, 22, 18, 17, 23, 22, 41, 32, 16, 30, 30, 11, 19, 25, 36, 21, 17, 25, 15, 24, 7, 23, 18, 18, 46, 7, 32, 12, 9, 30, 36, 22, 44, 39, 14, 25, 23, 21, 12, 9, 37, 26, 14, 16, 28, 18, 18, 35, 8, 12, 7, 22, 13, 30, 24, 11, 44, 71, 17, 10, 35, 7, 29, 34, 22, 14, 38, 7, 12, 12, 15, 16, 15, 7, 7, 25, 52, 12, 8, 10, 15, 12, 15, 10, 33, 9, 26, 17, 25, 17, 22, 12, 31, 19, 23, 14, 28, 39, 6, 37, 18, 49, 14, 32, 27, 37, 34, 24, 7, 26, 32, 7, 7, 19, 16, 38, 11, 25, 11, 29, 16, 16, 17, 27, 12, 47, 7, 54, 26, 14, 12, 12, 13, 16, 31, 28, 22, 20, 31, 30, 21, 33, 18, 12, 12, 12, 18, 23, 24, 27, 23, 17, 18, 18, 15, 17, 18, 28, 19, 10, 31, 10, 11, 13, 29, 16, 17, 16, 26, 15, 19, 13, 26, 19, 18, 17, 11, 27, 24, 11, 9, 39, 21, 31, 22, 22, 12, 13, 32, 28, 23, 18, 22, 15, 22, 40, 10, 16, 16, 36, 24, 31, 15, 14, 9, 11, 21, 24, 9, 16, 26, 18, 22, 22, 18, 21, 11, 14, 26, 12, 11, 19, 25, 19, 10, 27, 11, 45, 24, 29, 16, 20, 18, 8, 17, 16, 18, 12, 11, 25, 11, 16, 9, 32, 32, 16, 26, 29, 57, 22, 10, 22, 19, 24, 66, 34, 17, 8, 27, 22, 22, 29, 15, 10, 13, 21, 14, 15, 26, 11, 29, 13, 23, 9, 65, 16, 25, 23, 18, 25, 27, 24, 29, 18, 51, 16, 22, 7, 22, 20, 15, 15, 31, 16, 24, 21, 15, 9, 17, 19, 18, 27, 22, 17, 15, 4, 25, 27, 26, 16, 19, 11, 39, 7, 24, 14, 24, 10, 25, 27, 26, 10, 12, 18, 20, 13, 19, 34, 21, 28, 22, 43, 30, 19, 19, 25, 31, 12, 15, 31, 9, 15, 25, 8, 22, 17, 23, 24, 16, 18, 15, 35, 25, 20, 7, 33, 9, 17, 7, 26, 15, 8, 20, 8, 25, 21, 20, 19, 16, 22, 10, 21, 21, 6, 30, 11, 12, 25, 8, 27, 14, 24, 16, 17, 16, 24, 20, 34, 25, 21, 7, 7, 18, 24, 30, 18, 26, 27, 31, 18, 35, 29, 17, 25, 18, 27, 25, 83, 13, 22, 8, 13, 9, 17, 7, 13, 14, 12, 25, 22, 14, 34, 30, 27, 10, 16, 22, 17, 15, 26, 11, 20, 23, 34, 40, 19, 32, 18, 18, 16, 11, 14, 31, 25, 14, 21, 28, 15, 23, 23, 16, 20, 19, 40, 46, 31, 41, 19, 19, 8, 14, 23, 31, 30, 27, 25, 10, 31, 10, 14, 13, 19, 14, 15, 9, 31, 26, 20, 8, 17, 17, 19, 14, 10, 26, 32, 12, 22, 27, 32, 17, 29, 28, 16, 23, 8, 21, 25, 12, 22, 25, 31, 20, 31, 27, 23, 20, 9, 11, 33, 24, 22, 25, 12, 36, 14, 20, 17, 23, 7, 8, 6, 23, 15, 27, 30, 1, 28, 16, 32, 21, 22, 34, 20, 36, 9, 24, 32, 7, 14, 9, 15, 7, 31, 26, 10, 10, 11, 24, 15, 11, 30, 31, 24, 24, 23, 22, 9, 25, 27, 24, 26, 22, 20, 8, 22, 32, 21, 7, 20, 15, 26, 22, 13, 33, 14, 21, 16, 21, 25, 32, 12, 47, 19, 18, 31, 42, 19, 24, 29, 16, 16, 48, 21, 17, 19, 25, 21, 13, 24, 11, 33, 11, 9, 13, 7, 10, 50, 27, 16, 16, 15, 26, 23, 27, 2, 7, 23, 13, 60, 7, 25, 18, 14, 23, 8, 10, 16, 31, 10, 12, 8, 23, 13, 43, 31, 12, 15, 19, 35, 22, 16, 13, 33, 12, 24, 25, 7, 29, 16, 7, 28, 22, 31, 17, 15, 26, 19, 38, 12, 23, 38, 19, 18, 14, 12, 24, 13, 15, 11, 2, 15, 25, 29, 33, 19, 21, 43, 33, 35, 32, 21, 42, 22, 9, 27, 24, 21, 19, 17, 13, 12, 20, 19, 11, 9, 7, 27, 24, 10, 15, 45, 38, 20, 15, 29, 16, 25, 17, 27, 30, 15, 15, 21, 16, 10, 18, 25, 19, 42, 16, 7, 19, 25, 10, 45, 12, 12, 5, 18, 13, 13, 10, 17, 24, 15, 21, 15, 23, 29, 27, 22, 18, 28, 4, 31, 17, 18, 46, 53, 23, 9, 31, 33, 25, 11, 8, 19, 22, 20, 12, 17, 23, 27, 27, 19, 18, 10, 17, 15, 8, 29, 15, 25, 20, 18, 33, 17, 21, 28, 28, 24, 30, 38, 24, 49, 35, 25, 13, 21, 17, 31, 18, 27, 17, 16, 28, 17, 24, 27, 7, 24, 14, 15, 21, 24, 19, 8, 16, 10, 22, 51, 20, 13, 18, 22, 36, 28, 20, 17, 32, 16, 17, 36, 33, 24, 26, 18, 23, 20, 27, 24, 10, 35, 25, 20, 14, 23, 15, 28, 17, 14, 28, 30, 29, 14, 18, 22, 3, 16, 30, 23, 16, 7, 36, 14, 23, 13, 19, 27, 25, 19, 28, 7, 23, 28, 14, 11, 20, 37, 13, 31, 25, 17, 13, 21, 39, 17, 7, 18, 22, 9, 16, 16, 22, 30, 7, 37, 12, 24, 23, 27, 21, 35, 7, 24, 11, 10, 27, 21, 18, 17, 17, 13, 24, 18, 13, 16, 24, 28, 18, 21, 14, 16, 25, 9, 17, 16, 15, 17, 24, 20, 25, 17, 27, 19, 21, 7, 20, 54, 15, 28, 25, 19, 16, 19, 19, 19, 27, 15, 11, 30, 12, 21, 16, 19, 8, 31, 27, 7, 14, 44, 12, 18, 8, 15, 10, 8, 24, 10, 12, 19, 30, 16, 21, 16, 14, 22, 21, 20, 40, 11, 5, 43, 18, 24, 39, 19, 19, 7, 20, 14, 21, 29, 10, 24, 15, 12, 15, 18, 22, 35, 18, 13, 10, 10, 14, 13, 14, 31, 7, 5, 16, 14, 18, 8, 24, 23, 8, 29, 17, 8, 34, 18, 11, 7, 24, 7, 28, 22, 30, 16, 21, 17, 32, 19, 13, 16, 7, 20, 29, 39, 21, 8, 29, 14, 18, 30, 17, 15, 22, 7, 24, 10, 14, 20, 11, 32, 14, 16, 14, 22, 11, 17, 23, 16, 35, 17, 22, 60, 14, 24, 22, 18, 15, 28, 14, 18, 36, 10, 65, 18, 11, 26, 13, 18, 21, 23, 14, 12, 18, 18, 26, 7, 15, 13, 25, 27, 10, 9, 31, 17, 7, 25, 18, 21, 9, 11, 18, 15, 20, 34, 27, 19, 13, 31, 22, 7, 16, 11, 15, 11, 22, 23, 21, 21, 54, 9, 14, 19, 49, 56, 29, 34, 25, 12, 28, 22, 24, 23, 20, 9, 7, 14, 27, 25, 22, 15, 15, 39, 31, 31, 5, 10, 17, 20, 18, 7, 37, 45, 16, 29, 16, 35, 9, 18, 31, 23, 14, 18, 24, 8, 15, 16, 12, 26, 9, 22, 29, 14, 24, 14, 13, 27, 25, 18, 14, 23, 35, 31, 25, 20, 16, 18, 15, 15, 14, 25, 18, 24, 17, 11, 13, 29, 14, 10, 14, 16, 16, 18, 15, 22, 20, 32, 38, 13, 41, 10, 20, 14, 31, 25, 20, 23, 12, 13, 20, 26, 22, 22, 42, 28, 28, 32, 12, 12, 33, 15, 13, 23, 39, 12, 22, 11, 20, 23, 30, 18, 20, 11, 27, 41, 12, 16, 22, 29, 22, 15, 9, 33, 33, 10, 11, 10, 26, 2, 29, 26, 33, 21, 16, 23, 11, 30, 15, 21, 66, 39, 13, 26, 29, 24, 33, 13, 21, 9, 29, 21, 28, 15, 31, 20, 19, 16, 14, 40, 21, 3, 15, 16, 29, 12, 23, 14, 32, 27, 20, 31, 7, 26, 22, 18, 22, 28, 22, 30, 21, 35, 33, 15, 11, 29, 12, 5, 19, 17, 16, 24, 24, 14, 3, 21, 44, 20, 7, 29, 21, 19, 15, 26, 25, 20, 16, 15, 31, 29, 20, 29, 22, 22, 31, 16, 14, 11, 13, 25, 18, 12, 21, 27, 33, 31, 12, 10, 23, 10, 19, 8, 8, 27, 23, 18, 15, 21, 12, 26, 28, 15, 16, 28, 25, 21, 23, 30, 31, 16, 13, 30, 17, 32, 28, 9, 12, 18, 28, 8, 14, 13, 14, 32, 20, 18, 22, 15, 15, 21, 17, 24, 20, 19, 22, 16, 21, 101, 18, 15, 15, 13, 16, 8, 11, 3, 8, 11, 26, 13, 31, 14, 27, 17, 20, 27, 15, 30, 21, 32, 9, 14, 16, 12, 9, 22, 31, 9, 25, 15, 22, 20, 56, 11, 11, 14, 26, 32, 32, 22, 20, 17, 15, 6, 9, 16, 21, 15, 17, 2, 17, 7, 23, 7, 23, 17, 9, 31, 21, 45, 22, 30, 20, 16, 25, 15, 23, 12, 31, 18, 13, 8, 69, 38, 19, 40, 12, 18, 11, 13, 13, 28, 22, 11, 34, 23, 5, 16, 31, 16, 19, 15, 24, 14, 34, 16, 16, 29, 18, 22, 41, 33, 17, 6, 10, 28, 17, 16, 25, 24, 14, 25, 29, 13, 9, 41, 15, 8, 26, 24, 15, 19, 12, 22, 10, 16, 19, 21, 15, 22, 22, 7, 13, 14, 44, 13, 28, 13, 30, 31, 12, 15, 13, 30, 28, 51, 15, 18, 14, 16, 9, 25, 30, 16, 28, 36, 8, 17, 23, 14, 31, 36, 35, 9, 28, 66, 17, 34, 9, 26, 13, 12, 47, 11, 13, 15, 20, 23, 24, 15, 19, 17, 38, 8, 19, 22, 7, 19, 29, 8, 11, 23, 15, 25, 23, 21, 8, 31, 18, 26, 21, 16, 11, 27, 19, 54, 13, 18, 11, 24, 33, 27, 15, 7, 10, 20, 39, 12, 9, 49, 20, 10, 16, 18, 17, 13, 15, 16, 24, 26, 23, 2, 21, 26, 22, 22, 28, 17, 28, 28, 32, 36, 34, 31, 30, 14, 8, 8, 20, 18, 12, 44, 34, 32, 26, 9, 25, 18, 14, 23, 30, 14, 9, 8, 19, 31, 17, 21, 17, 18, 19, 33, 11, 18, 34, 44, 13, 12, 29, 9, 7, 18, 15, 23, 7, 15, 31, 26, 29, 42, 21, 6, 15, 11, 19, 11, 30, 16, 14, 22, 15, 17, 23, 21, 15, 29, 26, 16, 14, 8, 17, 9, 21, 24, 30, 7, 44, 21, 22, 28, 11, 13, 8, 20, 14, 12, 11, 12, 18, 16, 21, 30, 48, 39, 26, 15, 22, 29, 18, 23, 27, 25, 34, 17, 29, 20, 17, 11, 1, 45, 11, 19, 18, 8, 11, 11, 27, 24, 24, 18, 32, 38, 27, 14, 24, 20, 12, 43, 30, 18, 55, 17, 25, 21, 22, 19, 20, 22, 17, 18, 21, 23, 37, 22, 20, 12, 26, 14, 12, 29, 20, 31, 26, 8, 25, 15, 33, 29, 22, 10, 25, 20, 13, 21, 48, 29, 15, 24, 25, 16, 12, 21, 18, 27, 26, 12, 14, 27, 29, 22, 32, 22, 42, 16, 22, 26, 23, 20, 20, 24, 15, 28, 13, 22, 19, 19, 17, 18, 22, 31, 12, 10, 13, 6, 9, 18, 19, 17, 31, 15, 9, 49, 25, 13, 27, 41, 16, 32, 13, 9, 22, 16, 14, 5, 17, 28, 13, 11, 23, 17, 4, 17, 13, 16, 18, 34, 10, 2, 12, 17, 13, 15, 31, 28, 22, 12, 21, 11, 11, 15, 12, 14, 12, 18, 9, 9, 12, 8, 22, 19, 16, 16, 23, 11, 45, 4, 25, 19, 57, 15, 32, 26, 12, 29, 15, 23, 24, 13, 29, 16, 18, 10, 14, 16, 16, 20, 16, 28, 35, 17, 30, 17, 22, 43, 51, 16, 14, 17, 16, 19, 3, 19, 18, 15, 33, 29, 8, 13, 23, 40, 46, 18, 13, 32, 25, 10, 31, 11, 22, 31, 55, 26, 26, 15, 16, 11, 17, 18, 13, 11, 31, 16, 23, 58, 16, 28, 14, 26, 40, 12, 16, 14, 22, 7, 15, 34, 28, 23, 8, 26, 18, 12, 16, 15, 9, 17, 15, 24, 27, 13, 15, 7, 32, 19, 38, 48, 10, 14, 28, 17, 12, 14, 23, 15, 13, 15, 19, 16, 33, 20, 8, 35, 18, 23, 18, 48, 5, 16, 22, 12, 63, 7, 14, 25, 18, 20, 23, 7, 6, 14, 38, 18, 15, 11, 21, 12, 25, 8, 21, 28, 23, 46, 31, 24, 19, 15, 16, 23, 14, 19, 23, 17, 13, 22, 24, 12, 12, 8, 28, 24, 28, 18, 34, 24, 17, 24, 31, 19, 28, 12, 6, 32, 12, 15, 16, 5, 75, 16, 12, 21, 15, 23, 27, 15, 14, 28, 31, 37, 30, 27, 30, 13, 17, 25, 18, 14, 11, 29, 8, 9, 28, 15, 12, 11, 28, 22, 19, 35, 27, 24, 36, 18, 27, 17, 10, 10, 24, 15, 17, 12, 19, 40, 11, 22, 15, 13, 22, 12, 27, 18, 33, 14, 20, 16, 22, 22, 11, 18, 16, 16, 19, 15, 22, 8, 9, 31, 26, 57, 25, 13, 17, 16, 17, 22, 27, 30, 16, 17, 25, 25, 11, 10, 32, 21, 15, 29, 35, 11, 12, 14, 20, 15, 21, 15, 26, 14, 33, 41, 21, 34, 11, 26, 7, 12, 30, 18, 17, 12, 9, 11, 28, 13, 39, 21, 21, 12, 17, 17, 26, 15, 7, 14, 13, 42, 21, 16, 8, 45, 22, 24, 21, 12, 20, 19, 17, 18, 19, 16, 26, 8, 7, 6, 17, 32, 20, 19, 22, 18, 13, 16, 7, 19, 33, 16, 29, 3, 12, 16, 23, 21, 18, 24, 23, 22, 18, 15, 41, 15, 15, 12, 7, 13, 30, 18, 15, 21, 17, 30, 5, 8, 12, 11, 12, 5, 20, 21, 28, 8, 18, 19, 12, 16, 24, 18, 6, 10, 18, 23, 21, 44, 14, 32, 8, 11, 9, 15, 11, 17, 17, 19, 18, 14, 21, 16, 19, 11, 15, 41, 25, 7, 31, 22, 12, 21, 16, 9, 28, 15, 23, 28, 32, 25, 24, 15, 12, 18, 16, 48, 19, 30, 34, 16, 9, 8, 32, 9, 12, 16, 25, 16, 17, 6, 27, 22, 42, 10, 11, 15, 14, 30, 22, 30, 22, 21, 18, 22, 15, 8, 11, 38, 24, 11, 21, 25, 20, 23, 14, 35, 13, 20, 7, 14, 19, 22, 42, 28, 25, 12, 26, 9, 7, 28, 23, 141, 22, 30, 27, 10, 32, 16, 28, 16, 24, 31, 25, 14, 18, 16, 43, 9, 7, 22, 15, 11, 25, 19, 22, 12, 7, 18, 28, 27, 15, 13, 13, 6, 11, 17, 18, 16, 20, 20, 26, 39, 12, 8, 19, 9, 8, 32, 10, 21, 21, 23, 15, 42, 27, 27, 28, 7, 22, 19, 12, 40, 18, 28, 13, 15, 10, 20, 45, 32, 12, 22, 7, 25, 27, 33, 13, 12, 18, 17, 7, 23, 9, 14, 13, 19, 17, 24, 16, 19, 219, 19, 17, 24, 17, 7, 30, 13, 9, 36, 13, 70, 20, 18, 9, 29, 7, 11, 19, 17, 18, 28, 19, 27, 14, 19, 21, 20, 21, 10, 7, 14, 18, 8, 17, 25, 18, 28, 24, 9, 9, 26, 37, 44, 8, 32, 29, 17, 16, 26, 11, 35, 17, 19, 8, 16, 14, 16, 22, 12, 19, 23, 8, 28, 18, 10, 40, 22, 28, 30, 21, 20, 27, 16, 9, 62, 14, 20, 33, 29, 23, 9, 31, 19, 31, 10, 8, 35, 36, 43, 25, 59, 28, 16, 14, 15, 34, 14, 20, 31, 28, 18, 10, 7, 9, 19, 11, 27, 63, 26, 14, 23, 15, 19, 27, 28, 25, 52, 23, 11, 13, 24, 7, 24, 26, 3, 18, 20, 18, 5, 33, 20, 18, 12, 8, 14, 13, 20, 18, 15, 8, 32, 15, 13, 15, 5, 8, 21, 11, 15, 18, 23, 15, 17, 48, 22, 20, 26, 19, 30, 21, 20, 10, 48, 12, 34, 16, 29, 23, 9, 30, 38, 19, 14, 19, 25, 16, 40, 41, 25, 14, 18, 9, 17, 18, 20, 28, 17, 22, 4, 12, 13, 10, 16, 19, 29, 32, 16, 17, 23, 20, 24, 43, 11, 24, 8, 31, 31, 19, 19, 32, 10, 18, 17, 21, 35, 33, 23, 13, 11, 18, 8, 18, 20, 15, 13, 31, 18, 16, 15, 6, 15, 8, 17, 12, 26, 14, 24, 20, 14, 12, 8, 18, 14, 21, 10, 7, 21, 25, 17, 12, 2, 18, 23, 15, 17, 17, 20, 8, 15, 22, 14, 10, 19, 9, 10, 17, 23, 21, 27, 12, 30, 18, 11, 22, 15, 21, 15, 18, 19, 9, 7, 10, 11, 11, 13, 22, 21, 31, 23, 22, 10, 23, 33, 15, 28, 13, 15, 15, 33, 14, 24, 29, 32, 8, 8, 17, 14, 15, 16, 20, 16, 14, 14, 19, 20, 17, 14, 10, 2, 15, 16, 9, 14, 12, 13, 7, 31, 25, 14, 10, 18, 19, 8, 17, 21, 2, 22, 15, 14, 23, 21, 16, 13, 26, 9, 18, 14, 19, 7, 11, 16, 12, 18, 23, 23, 19, 21, 29, 15, 16, 3, 9, 17, 9, 10, 10, 17, 22, 8, 19, 1, 10, 18, 30, 17, 15, 24, 16, 9, 17, 17, 19, 7, 13, 12, 3, 14, 10, 9, 16, 21, 8, 9, 13, 7, 14, 8, 13, 9, 13, 9, 14, 9, 15, 3, 7, 17, 9, 10, 12, 14, 6, 11, 7, 9, 7]}, {\"marker\": {\"color\": \"red\", \"line\": {\"width\": 1}, \"opacity\": 0.8, \"size\": 13}, \"mode\": \"markers\", \"name\": \"Superstars\", \"type\": \"scatter\", \"x\": [57, 10, 27, 5, 19, 3, 2, 1, 6, 12, 4, 6, 3, 9, 23, 9, 5, 21, 2, 4, 5, 13, 28, 8, 6, 5, 18, 4, 1, 42, 5, 6, 23, 13, 9, 3, 7, 1, 18, 6, 4, 13, 5, 3, 12, 37, 9, 7, 18, 5, 7, 13, 15, 4, 10, 1, 9, 1, 1, 8, 8, 4, 11, 1, 4, 3, 8, 7, 6, 3, 26, 12, 24, 17, 7, 4, 2, 30, 5, 13, 1, 2, 3, 10, 4, 8, 1, 28, 5, 4, 11, 30, 7, 1, 8, 6, 18, 5, 4, 2, 1, 5, 7, 11, 6, 1, 41, 7, 15, 13, 7, 2, 51, 3, 5, 9, 2, 11, 8, 9, 18, 11, 6, 12, 9, 7, 2, 7, 4, 5, 3, 8, 5, 1, 1, 6, 18, 2, 25, 24, 5, 1, 6, 4, 25, 18, 22, 13, 2, 7, 17, 17, 4, 9, 5, 5, 1, 1, 6, 5, 22, 5, 18, 12, 1, 9, 40, 4, 16, 7, 4, 17, 9, 1, 11, 41, 39, 7, 37, 46, 18, 2, 4, 2, 8, 17, 3, 2, 7, 6, 4, 7, 8, 4, 4, 13, 14, 1, 5, 6, 38, 1, 23, 21, 5, 3, 10, 24, 25, 1, 18, 6, 4, 20, 2, 6, 16, 9, 12, 3, 3, 1, 11, 5, 2, 33, 35, 24, 18, 4, 8, 17, 14, 13, 1, 49, 4, 42, 5, 19, 1, 7, 11, 18, 7, 1, 10, 7, 6, 46, 9, 5, 8, 35, 10, 21, 18, 7, 5, 9, 23, 2, 6, 7, 1, 2, 1, 8, 1, 4, 8, 27, 8, 23, 3, 1, 1, 1, 3, 15, 6, 23, 17, 18, 26, 11, 4, 3, 4, 23, 6, 9, 6, 5, 8, 5, 5, 2, 6, 9, 8, 4, 4, 19, 9, 8, 2, 4, 4, 6, 6, 9, 6, 8, 12, 7, 19, 7, 26, 26, 1, 1, 14, 6, 4, 5, 5, 1, 1, 12, 3, 24, 1, 3, 19, 6, 10, 4, 8, 4, 41, 18, 8, 12, 37, 28, 1, 6, 6, 47, 21, 10, 1, 12, 3, 56, 39, 2, 13, 11, 1, 12, 37, 5, 4, 5, 4, 3, 6, 1, 7, 8, 12, 4, 7, 11, 19, 18, 2, 8, 1, 10, 19, 17, 4, 1, 7, 1, 11, 4, 47, 9, 31, 1, 5, 6, 3, 18, 11, 3, 38, 16, 3, 3, 15, 8, 1, 1, 38, 14, 40, 5, 50, 11, 11, 5, 6, 7, 2, 8, 9, 7, 5, 11, 2, 16, 6, 1, 4, 3, 14, 2, 13, 39, 17, 32, 2, 18, 1, 2, 9, 7, 8, 5, 6, 28, 1, 5, 6, 12, 9, 47, 23, 47, 2, 7, 6, 4, 11, 8, 10, 4, 1, 19, 39, 8, 25, 5, 5, 19, 39, 16, 38, 6, 16, 53, 32, 23, 2, 5, 1, 38, 2, 15, 5, 4, 6, 19, 10, 23, 1, 1, 5, 18, 8, 9, 14, 4, 2, 18, 53, 8, 3, 18, 3, 4, 3, 2, 9, 6, 14, 1, 12, 25, 32, 9, 18, 20, 5, 3, 18, 28, 15, 2, 14, 11, 1, 8, 18, 1, 19, 1, 9, 6, 6, 7, 2, 19, 4, 3, 1, 6, 6, 1, 10, 9, 39, 37, 8, 21, 9, 9, 58, 9, 7, 30, 5, 6, 9, 1, 2, 5, 2, 1, 4, 12, 4, 5, 19, 2, 11, 7, 18, 8, 5, 24, 13, 5, 5, 8, 40, 8, 7, 6, 3, 8, 9, 13, 3, 1, 19, 9, 18, 6, 11, 4, 25, 5, 19, 25, 8, 9, 7, 15, 1, 27, 5, 8, 6, 9, 6, 16, 6, 12, 1, 37, 4, 42, 11, 5, 4, 20, 10, 11, 13, 2, 1, 3, 5, 35, 3, 8, 3, 1, 23, 25, 12, 23, 6, 39, 25, 8, 9, 5, 41, 4, 39, 14, 4, 4, 2, 10, 5, 4, 2, 1, 1, 4, 3, 8, 7, 14, 3, 3, 9, 7, 12, 1, 38, 14, 50, 4, 4, 6, 14, 6, 2, 6, 1, 25, 12, 2, 23, 6, 1, 10, 7, 1, 19, 40, 3, 8, 14, 8, 18, 1, 10, 11, 4, 7, 1, 4, 9, 1, 14, 25, 7, 2, 6, 1, 59, 9, 7, 11, 9, 9, 6, 2, 1, 50, 2, 38, 6, 8, 5, 7, 6, 9, 32, 19, 5, 4, 1, 26, 10, 53, 1, 16, 5, 4, 20, 3, 11, 12, 4, 25, 2, 4, 15, 2, 9, 5, 6, 5, 4, 24, 8, 9, 2, 2, 6, 8, 1, 20, 8, 19, 8, 8, 7, 39, 2, 7, 8, 15, 1, 1, 1, 1, 1, 13, 5, 5, 4, 47, 4, 11, 13, 4, 15, 38, 4, 4, 14, 18, 3, 26, 4, 7, 38, 18, 1, 11, 5, 26, 7, 1, 6, 2, 1, 5, 8, 3, 23, 4, 9, 5, 4, 5, 7, 38, 4, 15, 5, 1, 5, 1, 44, 2, 1, 6, 5, 9, 2, 1, 11, 11, 7, 6, 18, 11, 14, 38, 2, 7, 1, 5, 46, 21, 8, 38, 3, 8, 10, 50, 7, 19, 38, 9, 12, 39, 5, 44, 12, 5, 6, 2, 3, 37, 39, 1, 8, 18, 39, 12, 15, 1, 5, 32, 15, 26, 4, 39, 22, 37, 3, 38, 1, 32, 1, 5, 2, 6, 3, 8, 17, 7, 21, 1, 2, 9, 10, 44, 5, 16, 7, 34, 23, 4, 7, 12, 6, 12, 5, 10, 9, 11, 4, 23, 46, 12, 23, 14, 17, 1, 9, 1, 1, 41, 1, 2, 10, 43, 6, 4, 18, 6, 8, 26, 1, 16, 24, 4, 2, 8, 5, 10, 9, 16, 8, 19, 8, 3, 7, 14, 8, 1, 14, 8, 6, 5, 3, 2, 11, 12, 26, 1, 26, 21, 26, 7, 4, 27, 12, 18, 24, 1, 28, 11, 9, 1, 18, 8, 47, 6, 25, 2, 11, 2, 13, 21, 4, 3, 18, 17, 4, 5, 49, 6, 26, 3, 17, 13, 4, 5, 4, 3, 6, 4, 10, 2, 3, 9, 2, 2, 18, 6, 41, 4, 4, 2, 9, 2, 2, 18, 1, 5, 1, 4, 4, 9, 2, 4, 10, 11, 11, 3, 1, 2, 4, 2, 26, 4, 9, 5, 1, 21, 17, 6, 13, 11, 1, 3, 2, 46, 11, 3, 22, 8, 24, 1, 18, 18, 8, 4, 3, 18, 9, 8, 19, 2, 8, 4, 18, 1, 4, 30, 4, 2, 1, 1, 25, 12, 38, 2, 20, 1, 2, 4, 5, 6, 7, 8, 6, 3, 8, 3, 14, 28, 26, 1, 16, 8, 7, 2, 1, 6, 8, 39, 7, 7, 8, 5, 13, 19, 52, 2, 11, 15, 4, 2, 8, 38, 11, 5, 6, 5, 24, 8, 2, 2, 4, 1, 39, 53, 2, 4, 13, 7, 7, 12, 7, 5, 38, 2, 25, 4, 8, 29, 3, 3, 18, 2, 5, 4, 8, 19, 11, 8, 1, 41, 11, 6, 1, 2, 4, 7, 2, 43, 5, 12, 10, 2, 9, 33, 4, 7, 4, 17, 17, 1, 13, 1, 36, 4, 38, 27, 12, 10, 4, 38, 18, 9, 33, 3, 17, 1, 7, 9, 12, 23, 10, 8, 25, 40, 5, 6, 5, 1, 9, 35, 25, 12, 3, 1, 18, 20, 16, 20, 1, 12, 14, 15, 16, 29, 14, 12, 45, 13, 4, 6, 1, 18, 9, 47, 4, 11, 2, 21, 2, 4, 13, 28, 3, 4, 12, 23, 20, 14, 13, 7, 4, 8, 1, 2, 2, 6, 43, 4, 2, 8, 7, 25, 8, 20, 24, 14, 2, 17, 7, 10, 53, 2, 4, 46, 45, 10, 12, 2, 9, 3, 8, 4, 39, 3, 8, 38, 2, 5, 6, 10, 8, 47, 1, 13, 5, 3, 12, 6, 39, 4, 7, 10, 18, 9, 7, 25, 2, 11, 2, 2, 9, 7, 5, 5, 1, 6, 6, 12, 6, 26, 29, 1, 7, 4, 6, 19, 21, 7, 19, 25, 1, 4, 1, 2, 4, 7, 15, 8, 14, 3, 9, 39, 16, 3, 5, 1, 4, 6, 16, 2, 18, 28, 4, 5, 7, 3, 38, 5, 1, 1, 10, 10, 7, 5, 5, 1, 6, 3, 4, 25, 5, 8, 4, 7, 5, 1, 8, 1, 28, 9, 1, 6, 3, 13, 1, 15, 9, 2, 8, 5, 10, 11, 11, 46, 25, 6, 10, 1, 1, 4, 17, 10, 1, 36, 1, 5, 33, 14, 13, 7, 4, 33, 13, 10, 7, 1, 3, 11, 7, 6, 26, 34, 1, 15, 2, 1, 8, 4, 1, 25, 5, 33, 5, 14, 4, 37, 12, 5, 19, 39, 13, 11, 1, 12, 4, 8, 7, 8, 1, 3, 2, 4, 1, 9, 11, 9, 4, 16, 5, 20, 25, 4, 4, 18, 3, 39, 6, 17, 5, 7, 3, 14, 4, 2, 9, 4, 3, 8, 46, 16, 1, 10, 25, 5, 2, 1, 9, 40, 11, 7, 19, 4, 9, 9, 5, 8, 40, 1, 9, 38, 32, 6, 41, 18, 43, 8, 8, 10, 1, 46, 1, 1, 10, 2, 4, 4, 59, 5, 12, 28, 3, 5, 1, 4, 4, 12, 4, 25, 7, 8, 9, 25, 38, 15, 3, 2, 5, 39, 4, 1, 1, 1, 19, 4, 2, 2, 3, 4, 6, 12, 1, 3, 37, 2, 25, 26, 4, 4, 9, 7, 13, 17, 11, 5, 26, 5, 1, 14, 10, 8, 5, 9, 14, 1, 37, 12, 19, 38, 7, 11, 10, 3, 3, 47, 3, 11, 11, 4, 5, 2, 5, 1, 1, 1, 6, 34, 7, 7, 15, 2, 15, 9, 29, 8, 11, 16, 6, 2, 11, 9, 3, 2, 15, 6, 37, 2, 3, 15, 5, 5, 2, 7, 4, 8, 1, 8, 7, 3, 15, 6, 2, 7, 3, 9, 9, 4, 30, 3, 16, 5, 4, 5, 3, 6, 53, 19, 25, 14, 7, 4, 8, 25, 1, 1, 11, 58, 39, 23, 5, 15, 9, 18, 24, 20, 13, 8, 13, 19, 14, 15, 8, 11, 3, 33, 15, 39, 3, 3, 8, 4, 23, 53, 5, 12, 11, 8, 3, 5, 6, 11, 2, 1, 7, 19, 1, 8, 3, 4, 2, 2, 11, 7, 26, 6, 8, 5, 4, 5, 17, 5, 6, 4, 19, 5, 4, 8, 6, 11, 24, 1, 4, 55, 1, 1, 8, 3, 3, 33, 20, 1, 17, 1, 9, 2, 3, 9, 4, 5, 8, 34, 13, 15, 4, 3, 3, 9, 9, 11, 43, 38, 27, 3, 43, 1, 13, 4, 15, 1, 15, 4, 2, 1, 20, 9, 46, 1, 3, 12, 40, 8, 5, 1, 24, 5, 5, 1, 5, 3, 5, 32, 24, 5, 6, 1, 5, 9, 3, 2, 7, 9, 4, 1, 5, 4, 3, 11, 3, 10, 23, 29, 10, 13, 1, 5, 16, 1, 2, 1, 4, 6, 1, 1, 17, 23, 5, 4, 14, 7, 18, 17, 2, 3, 20, 1, 5, 4, 1, 17, 7, 7, 5, 38, 40, 1, 1, 5, 9, 8, 9, 4, 2, 2, 18, 1, 5, 7, 8, 1, 9, 1, 25, 8, 4, 25, 4, 8, 5, 3, 3, 7, 10, 17, 4, 2, 3, 5, 4, 4, 2, 20, 4, 5, 27, 52, 10, 4, 1, 7, 9, 26, 2, 3, 2, 3, 6, 26, 7, 3, 2, 4, 1, 1, 2, 12, 2, 37, 10, 19, 1, 1, 1, 1, 3, 2, 19, 2, 4, 4, 10, 9, 9, 20, 13, 4, 1, 32, 11, 2, 3, 8, 11, 1, 26, 14, 4, 1, 3, 6, 25, 5, 2, 5, 4, 13, 46, 8, 9, 7, 10, 9, 3, 7, 3, 4, 14, 16, 16, 1, 2, 7, 1, 11, 8, 2, 39, 4, 25, 3, 2, 3, 1, 6, 7, 5, 4, 8, 41, 6, 3, 2, 4, 4, 15, 42, 16, 5, 16, 9, 11, 25, 26, 7, 2, 5, 24, 7, 1, 30, 5, 22, 11, 2, 5, 1, 2, 10, 1, 12, 14, 2, 9, 8, 10, 1, 8, 1, 3, 8, 9, 7, 18, 1, 19, 1, 6, 2, 7, 8, 3, 2, 7, 4, 10, 11, 10, 1, 4, 16, 5, 6, 10, 2, 3, 3, 6, 1, 15, 3, 26, 3, 18, 18, 22, 6, 20, 6, 6, 2, 6, 1, 2, 15, 8, 8, 8, 4, 3, 9, 4, 39, 3, 7, 7, 4, 10, 25, 4, 4, 2, 7, 1, 8, 6, 22, 11, 11, 16, 14, 10, 20, 5, 2, 26, 4, 1, 3, 9, 4, 3, 9, 9, 1, 3, 4, 24, 2, 4, 9, 8, 4, 6, 4, 10, 12, 6, 9, 4, 13, 8, 2, 1, 15, 14, 2, 34, 4, 6, 7, 3, 2, 13, 5, 7, 4, 10, 9, 19, 10, 11, 11, 5, 7, 3, 26, 29, 9, 5, 9, 9, 4, 11, 12, 6, 26, 9, 24, 18, 12, 44, 19, 13, 13, 9, 10, 7, 11, 2, 9, 10, 1, 4, 9, 4, 21, 1, 25, 8, 2, 2, 1, 20, 1, 7, 1, 4, 18, 34, 3, 18, 2, 3, 17, 11, 34, 43, 8, 4, 1, 6, 1, 17, 2, 3, 23, 1, 2, 8, 6, 16, 21, 2, 2, 1, 10, 15, 9, 2, 8, 2, 6, 23, 6, 28, 38, 5, 1, 3, 6, 29, 1, 1, 5, 16, 8, 1, 11, 6, 16, 11, 4, 4, 1, 11, 6, 21, 10, 37, 6, 3, 4, 16, 12, 9, 1, 9, 14, 21, 2, 11, 15, 8, 3, 5, 9, 19, 15, 42, 12, 10, 13, 4, 7, 15, 11, 9, 8, 15, 15, 1, 5, 10, 2, 2, 9, 2, 26, 1, 1, 2, 22, 9, 9, 2, 14, 26, 30, 17, 10, 41, 5, 11, 4, 3, 3, 21, 1, 10, 39, 39, 14, 7, 6, 5, 7, 9, 9, 2, 12, 9, 4, 11, 5, 2, 1, 2, 17, 26, 11, 18, 1, 9, 5, 1, 34, 5, 9, 4, 17, 9, 10, 8, 6, 4, 2, 37, 8, 3, 3, 7, 4, 33, 1, 5, 26, 6, 15, 16, 1, 7, 16, 12, 21, 24, 59, 7, 7, 46, 19, 3, 6, 5, 2, 16, 16, 7, 5, 1, 5, 5, 8, 4, 9, 9, 1, 25, 4, 18, 1, 15, 8, 2, 6, 6, 7, 4, 4, 19, 10, 11, 5, 11, 16, 3, 17, 1, 2, 25, 9, 19, 15, 5, 11, 8, 1, 1, 23, 31, 26, 25, 6, 13, 3, 6, 1, 1, 18, 5, 37, 15, 4, 4, 7, 33, 3, 11, 5, 2, 4, 2, 6, 8, 3, 8, 14, 11, 4, 4, 29, 1, 10, 43, 5, 10, 2, 11, 1, 10, 26, 7, 16, 1, 9, 39, 9, 11, 4, 3, 4, 8, 7, 3, 3, 7, 4, 44, 3, 5, 8, 11, 12, 1, 5, 1, 10, 5, 6, 7, 6, 5, 37, 11, 8, 5, 3, 13, 1, 3, 4, 1, 6, 7, 2, 16, 12, 18, 8, 2, 59, 4, 2, 35, 3, 37, 5, 18, 1, 1, 2, 13, 13, 6, 26, 3, 14, 18, 5, 27, 15, 16, 1, 36, 17, 7, 38, 19, 9, 46, 19, 1, 8, 45, 1, 3, 3, 12, 17, 1, 14, 21, 18, 2, 13, 54, 42, 39, 1, 49, 5, 13, 39, 5, 6, 4, 6, 2, 54, 26, 21, 11, 1, 3, 2, 6, 1, 8, 5, 24, 8, 38, 7, 4, 8, 10, 23, 2, 1, 4, 1, 11, 6, 8, 1, 56, 48, 1, 42, 4, 31, 1, 8, 52, 5, 2, 3, 1, 26, 6, 2, 9, 47, 12, 9, 38, 1, 4, 5, 2, 21, 4, 2, 10, 5, 1, 7, 10, 10, 7, 1, 6, 10, 6, 18, 2, 11, 10, 4, 38, 16, 1, 7, 12, 7, 14, 41, 19, 4, 4, 14, 15, 20, 38, 10, 2, 18, 2, 18, 8, 9, 7, 2, 1, 11, 10, 1, 54, 2, 7, 5, 58, 8, 11, 18, 7, 5, 14, 5, 5, 3, 6, 2, 9, 28, 10, 1, 34, 3, 17, 4, 12, 6, 18, 15, 4, 3, 5, 7, 17, 19, 13, 5, 11, 15, 13, 5, 1, 25, 25, 32, 40, 1, 4, 3, 14, 11, 24, 4, 11, 18, 3, 8, 9, 11, 2, 16, 25, 6, 2, 32, 15, 26, 3, 19, 7, 3, 10, 5, 16, 36, 5, 5, 4, 18, 8, 2, 14, 24, 2, 1, 1, 3, 5, 25, 1, 24, 8, 7, 11, 15, 13, 4, 43, 29, 51, 12, 1, 19, 3, 1, 1, 26, 6, 5, 5, 4, 26, 6, 2, 1, 19, 11, 7, 9, 29, 5, 6, 11, 6, 8, 15, 14, 2, 17, 19, 7, 7, 4, 12, 26, 30, 13, 9, 10, 5, 11, 11, 59, 2, 1, 19, 22, 5, 7, 2, 25, 4, 3, 16, 9, 3, 16, 59, 40, 4, 2, 6, 11, 8, 1, 7, 15, 6, 4, 11, 14, 8, 1, 5, 37, 10, 5, 21, 9, 47, 19, 8, 7, 6, 3, 3, 4, 11, 18, 7, 18, 9, 5, 14, 4, 4, 26, 11, 9, 16, 15, 27, 1, 7, 16, 1, 26, 3, 4, 30, 18, 7, 14, 6, 18, 11, 19, 18, 8, 23, 1, 9, 7, 10, 1, 4, 20, 11, 24, 12, 8, 22, 5, 36, 24, 13, 7, 5, 24, 48, 2, 1, 14, 1, 11, 1, 6, 9, 10, 12, 5, 11, 26, 10, 3, 9, 25, 26, 45, 10, 3, 11, 8, 13, 5, 4, 16, 10, 4, 6, 21, 10, 6, 14, 1, 3, 3, 18, 4, 23, 11, 3, 12, 12, 7, 5, 6, 17, 21, 9, 29, 2, 46, 14, 1, 4, 6, 50, 4, 4, 53, 25, 4, 11, 5, 8, 8, 1, 32, 21, 52, 26, 9, 6, 1, 9, 20, 1, 1, 6, 10, 8, 2, 8, 24, 46, 1, 23, 8, 1, 5, 11, 38, 7, 6, 4, 9, 37, 19, 2, 31, 25, 5, 14, 5, 27, 39, 20, 11, 5, 14, 8, 16, 4, 2, 1, 5, 20, 4, 11, 8, 9, 26, 5, 7, 4, 6, 6, 9, 31, 2, 26, 5, 4, 7, 19, 26, 22, 8, 2, 25, 4, 1, 12, 44, 5, 33, 25, 1, 8, 32, 1, 10, 5, 3, 13, 10, 6, 19, 2, 5, 7, 2, 34, 31, 5, 3, 25, 4, 4, 3, 1, 8, 1, 10, 9, 2, 3, 3, 9, 38, 19, 8, 15, 4, 26, 25, 4, 43, 8, 5, 31, 6, 19, 39, 3, 22, 26, 4, 5, 6, 13, 17, 17, 17, 23, 3, 12, 22, 28, 11, 14, 1, 22, 4, 7, 7, 10, 2, 33, 6, 19, 2, 7, 54, 18, 9, 5, 23, 6, 11, 38, 30, 2, 3, 41, 4, 8, 1, 18, 16, 1, 11, 47, 1, 51, 25, 9, 18, 37, 44, 21, 3, 7, 11, 31, 3, 3, 19, 9, 23, 10, 4, 5, 3, 5, 4, 7, 14, 8, 2, 17, 27, 18, 3, 11, 5, 1, 39, 34, 5, 7, 43, 4, 4, 4, 16, 8, 4, 4, 5, 24, 1, 41, 46, 1, 9, 3, 5, 20, 2, 3, 22, 11, 5, 2, 3, 4, 8, 6, 1, 7, 9, 17, 16, 5, 10, 8, 5, 6, 9, 24, 8, 9, 1, 15, 8, 33, 29, 24, 1, 8, 3, 4, 5, 38, 45, 37, 3, 1, 13, 12, 7, 9, 7, 2, 9, 6, 17, 9, 5, 5, 38, 9, 17, 2, 1, 5, 39, 3, 9, 3, 32, 12, 2, 4, 26, 5, 6, 14, 3, 29, 12, 18, 4, 25, 2, 56, 47, 1, 22, 54, 3, 23, 18, 17, 12, 12, 4, 18, 52, 12, 6, 8, 14, 1, 10, 39, 39, 3, 19, 14, 40, 23, 1, 4, 5, 7, 20, 25, 46, 18, 32, 11, 25, 6, 8, 4, 40, 1, 6, 5, 4, 2, 26, 4, 8, 19, 1, 49, 4, 38, 9, 9, 9, 43, 54, 26, 16, 38, 2, 4, 3, 11, 11, 13, 2, 37, 18, 6, 3, 1, 18, 9, 1, 29, 39, 12, 6, 26, 4, 2, 4, 47, 11, 4, 1, 5, 1, 3, 16, 8, 39, 12, 5, 22, 33, 4, 12, 19, 13, 17, 11, 27, 10, 17, 8, 10, 29, 8, 25, 2, 32, 5, 11, 2, 12, 10, 14, 5, 4, 3, 8, 8, 13, 28, 3, 12, 4, 52, 26, 6, 2, 12, 19, 9, 7, 26, 18, 9, 7, 5, 4, 11, 8, 5, 4, 4, 41, 19, 1, 18, 16, 4, 7, 11, 11, 15, 30, 8, 15, 2, 39, 1, 12, 10, 12, 6, 15, 1, 11, 47, 41, 4, 40, 12, 4, 7, 4, 4, 1, 14, 3, 30, 4, 1, 3, 7, 4, 39, 2, 40, 4, 28, 1, 16, 59, 1, 6, 10, 4, 40, 10, 4, 5, 25, 44, 21, 32, 13, 4, 2, 9, 2, 5, 7, 2, 31, 3, 26, 1, 3, 37, 10, 30, 4, 1, 12, 6, 12, 16, 25, 8, 5, 2, 21, 4, 9, 1, 12, 16, 5, 8, 10, 15, 1, 26, 37, 12, 6, 2, 2, 1, 23, 13, 6, 2, 4, 4, 29, 24, 7, 29, 3, 9, 4, 1, 4, 2, 5, 13, 11, 4, 7, 18, 12, 28, 1, 3, 4, 11, 15, 9, 25, 6, 40, 1, 24, 7, 14, 30, 34, 6, 10, 3, 19, 18, 7, 42, 1, 12, 10, 18, 1, 39, 6, 10, 26, 11, 12, 9, 1, 5, 18, 5, 12, 3, 5, 20, 17, 25, 10, 16, 6, 41, 14, 1, 4, 4, 4, 30, 6, 4, 32, 29, 4, 24, 1, 15, 14, 12, 5, 6, 1, 12, 3, 3, 4, 2, 42, 17, 1, 6, 3, 4, 19, 19, 41, 1, 1, 10, 1, 14, 12, 24, 4, 7, 15, 40, 12, 2, 6, 4, 26, 18, 37, 7, 18, 4, 4, 4, 4, 35, 10, 39, 2, 2, 4, 4, 39, 4, 3, 3, 1, 46, 10, 4, 1, 4, 10, 4, 2, 1, 5, 14, 3, 18, 52, 7, 10, 5, 5, 34, 3, 26, 3, 2, 1, 7, 28, 58, 25, 16, 2, 2, 14, 36, 25, 4, 25, 7, 18, 6, 2, 11, 26, 18, 25, 17, 25, 31, 20, 19, 26, 23, 5, 1, 1, 6, 11, 10, 3, 4, 4, 2, 1, 30, 25, 4, 26, 6, 4, 1, 1, 1, 14, 12, 33, 26, 4, 35, 46, 8, 12, 40, 20, 16, 2, 25, 7, 5, 7, 4, 1, 1, 17, 17, 3, 6, 9, 1, 7, 23, 5, 21, 18, 1, 11, 12, 2, 1, 12, 27, 4, 39, 6, 37, 16, 4, 5, 21, 9, 18, 4, 3, 12, 15, 15, 14, 4, 11, 6, 1, 11, 4, 2, 46, 2, 16, 3, 52, 23, 10, 15, 41, 13, 6, 12, 10, 2, 4, 1, 2, 7, 4, 10, 19, 5, 19, 3, 8, 5, 3, 5, 5, 1, 4, 9, 14, 25, 23, 7, 6, 19, 4, 20, 59, 42, 4, 23, 14, 5, 18, 3, 18, 4, 4, 24, 16, 6, 32, 40, 18, 4, 5, 9, 2, 19, 4, 21, 9, 4, 5, 11, 39, 41, 4, 4, 11, 17, 5, 26, 1, 9, 19, 1, 8, 1, 8, 18, 1, 14, 2, 1, 3, 10, 7, 18, 3, 2, 3, 1, 7, 2, 1, 44, 5, 11, 13, 26, 5, 41, 4, 10, 11, 21, 2, 4, 5, 33, 5, 26, 31, 6, 12, 26, 6, 41, 11, 1, 39, 4, 19, 16, 2, 11, 13, 6, 18, 2, 18, 25, 6, 5, 21, 17, 14, 6, 4, 12, 4, 10, 6, 23, 7, 7, 7, 12, 1, 1, 12, 9, 13, 2, 33, 12, 19, 23, 4, 1, 4, 2, 18, 13, 11, 7, 1, 3, 8, 11, 3, 4, 3, 18, 1, 3, 1, 7, 6, 12, 3, 23, 4, 26, 20, 2, 36, 1, 11, 2, 5, 24, 7, 11, 21, 39, 1, 18, 13, 5, 7, 46, 7, 59, 4, 16, 8, 25, 14, 2, 7, 7, 12, 4, 19, 5, 9, 1, 5, 9, 2, 7, 22, 8, 4, 10, 5, 9, 6, 40, 1, 4, 2, 10, 6, 15, 6, 6, 18, 8, 18, 4, 4, 39, 2, 24, 37, 29, 9, 10, 5, 3, 25, 1, 8, 19, 4, 1, 19, 20, 18, 13, 4, 6, 6, 30, 40, 15, 8, 39, 25, 19, 4, 9, 39, 32, 9, 2, 13, 13, 4, 12, 8, 5, 12, 25, 19, 2, 8, 13, 1, 11, 3, 6, 40, 7, 4, 34, 23, 2, 5, 14, 3, 9, 3, 7, 22, 1, 16, 11, 7, 4, 2, 3, 10, 5, 9, 34, 8, 20, 6, 38, 8, 3, 3, 11, 43, 19, 3, 24, 15, 15, 20, 21, 4, 4, 4, 14, 6, 4, 1, 47, 14, 1, 4, 5, 10, 1, 8, 5, 1, 11, 4, 4, 13, 23, 49, 1, 48, 5, 40, 10, 1, 4, 29, 1, 4, 12, 1, 14, 43, 28, 10, 23, 18, 12, 2, 1, 38, 20, 22, 4, 2, 4, 24, 19, 13, 9, 8, 9, 41, 11, 9, 7, 5, 24, 11, 11, 4, 3, 7, 10, 9, 5, 16, 26, 11, 27, 19, 40, 9, 37, 4, 2, 4, 5, 1, 7, 1, 1, 19, 8, 11, 47, 14, 9, 12, 8, 14, 17, 18, 3, 7, 45, 5, 46, 7, 5, 2, 4, 20, 40, 2, 4, 21, 1, 42, 4, 26, 14, 9, 11, 17, 1, 32, 3, 2, 16, 4, 12, 12, 4, 25, 6, 6, 18, 2, 19, 14, 34, 2, 39, 18, 18, 18, 59, 8, 58, 25, 8, 11, 19, 4, 4, 2, 48, 5, 8, 44, 22, 8, 1, 39, 11, 4, 1, 13, 12, 37, 6, 14, 18, 2, 2, 10, 18, 25, 3, 19, 6, 18, 4, 5, 7, 4, 13, 18, 2, 4, 28, 10, 4, 12, 9, 12, 1, 52, 19, 1, 32, 19, 1, 8, 18, 14, 7, 10, 9, 3, 13, 13, 25, 9, 29, 42, 14, 12, 3, 4, 21, 7, 10, 4, 9, 1, 12, 26, 19, 38, 1, 2, 5, 2, 40, 8, 4, 4, 9, 46, 14, 15, 21, 3, 11, 16, 41, 4, 44, 26, 46, 9, 5, 1, 19, 1, 11, 12, 21, 13, 6, 13, 2, 9, 13, 37, 21, 4, 6, 10, 9, 4, 4, 2, 5, 6, 4, 4, 7, 2, 1, 5, 10, 4, 4, 1, 32, 5, 1, 1, 6, 3, 19, 26, 10, 11, 8, 25, 8, 1, 16, 10, 6, 14, 3, 9, 18, 6, 6, 5, 11, 18, 5, 1, 16, 10, 38, 12, 9, 5, 4, 8, 4, 19, 25, 24, 30, 40, 39, 5, 10, 43, 19, 25, 5, 14, 3, 4, 1, 3, 1, 12, 14, 6, 1, 10, 23, 15, 18, 25, 5, 5, 18, 2, 19, 7, 1, 4, 5, 39, 8, 26, 12, 3, 5, 4, 4, 13, 24, 38, 33, 40, 10, 12, 52, 22, 3, 22, 7, 3, 21, 4, 4, 5, 15, 19, 17, 4, 1, 3, 20, 6, 7, 40, 4, 2, 8, 11, 9, 3, 23, 39, 44, 12, 5, 5, 13, 2, 5, 4, 25, 6, 26, 1, 11, 3, 38, 6, 9, 11, 25, 4, 1, 6, 10, 19, 40, 2, 4, 8, 46, 26, 15, 4, 5, 10, 26, 8, 40, 4, 8, 19, 5, 5, 14, 1, 19, 19, 12, 22, 19, 33, 10, 25, 8, 5, 18, 19, 4, 38, 8, 31, 4, 20, 19, 9, 7, 6, 40, 7, 6, 26, 7, 43, 32, 5, 6, 2, 4, 2, 44, 20, 46, 1, 37, 18, 5, 34, 5, 1, 6, 39, 26, 4, 21, 25, 23, 10, 18, 1, 6, 4, 6, 4, 9, 11, 17, 22, 11, 6, 13, 6, 1, 12, 8, 4, 40, 38, 8, 31, 10, 10, 26, 1, 5, 34, 15, 5, 13, 4, 11, 4, 40, 1, 35, 12, 9, 14, 16, 5, 26, 11, 30, 9, 7, 4, 18, 4, 1, 7, 20, 6, 2, 7, 19, 46, 4, 9, 5, 25, 9, 44, 4, 7, 24, 3, 33, 8, 2, 10, 3, 4, 2, 1, 4, 1, 5, 47, 1, 7, 5, 25, 4, 7, 25, 4, 6, 4, 41, 33, 19, 5, 3, 16, 14, 4, 42, 10, 6, 25, 12, 6, 18, 8, 13, 26, 8, 17, 5, 46, 12, 3, 4, 38, 5, 19, 18, 10, 18, 7, 6, 4, 8, 1, 32, 46, 4, 5, 5, 9, 3, 3, 5, 7, 31, 47, 11, 24, 13, 33, 2, 1, 1, 1, 3, 6, 11, 4, 3, 11, 19, 3, 5, 58, 33, 7, 3, 1, 2, 4, 4, 18, 5, 9, 21, 15, 43, 5, 1, 4, 8, 23, 48, 6, 59, 7, 6, 11, 4, 4, 46, 4, 11, 10, 5, 38, 5, 1, 15, 4, 15, 8, 32, 2, 13, 18, 4, 11, 4, 9, 18, 5, 27, 1, 10, 19, 5, 11, 41, 4, 11, 1, 16, 22, 11, 34, 4, 21, 40, 1, 11, 5, 17, 11, 1, 1, 2, 18, 20, 1, 14, 5, 6, 18, 26, 5, 2, 5, 2, 47, 7, 1, 1, 1, 26, 41, 1, 2, 16, 5, 3, 1, 19, 8, 4, 11, 11, 5, 52, 1, 26, 25, 4, 11, 4, 32, 3, 50, 18, 1, 6, 6, 7, 38, 7, 5, 11, 18, 15, 5, 3, 1, 4, 1, 3, 39, 38, 3, 20, 7, 46, 18, 8, 39, 5, 3, 9, 51, 13, 13, 16, 18, 33, 37, 23, 9, 24, 10, 5, 9, 31, 4, 42, 38, 26, 20, 26, 15, 18, 1, 13, 26, 21, 8, 6, 8, 4, 11, 4, 18, 8, 15, 12, 1, 1, 25, 12, 6, 26, 7, 14, 27, 10, 39, 7, 25, 39, 1, 3, 4, 4, 13, 52, 8, 5, 13, 1, 44, 6, 15, 38, 12, 5, 12, 23, 4, 4, 5, 1, 10, 48, 5, 1, 26, 47, 13, 37, 8, 8, 10, 10, 11, 4, 6, 4, 4, 43, 8, 4, 11, 11, 5, 2, 2, 2, 10, 2, 28, 1, 6, 3, 4, 4, 10, 15, 44, 25, 12, 5, 19, 3, 12, 3, 44, 5, 1, 38, 23, 11, 4, 31, 18, 1, 5, 4, 6, 5, 11, 4, 4, 6, 39, 45, 10, 40, 7, 25, 3, 4, 16, 40, 3, 18, 5, 6, 12, 6, 19, 5, 42, 14, 8, 14, 13, 6, 5, 9, 20, 5, 25, 10, 8, 2, 4, 3, 1, 4, 18, 19, 8, 18, 4, 40, 18, 7, 1, 10, 8, 1, 4, 18, 6, 4, 6, 1, 5, 17, 19, 4, 1, 12, 6, 4, 5, 11, 1, 2, 15, 13, 9, 4, 15, 14, 15, 1, 17, 14, 11, 31, 14, 18, 18, 4, 25, 6, 9, 41, 23, 16, 1, 21, 5, 5, 12, 4, 5, 4, 39, 14, 7, 26, 10, 9, 13, 1, 17, 3, 1, 7, 1, 3, 4, 9, 21, 11, 13, 1, 4, 5, 1, 18, 1, 3, 13, 1, 9, 5, 7, 18, 3, 5, 45, 19, 7, 5, 12, 11, 40, 28, 38, 1, 8, 7, 12, 3, 9, 12, 8, 2, 2, 1, 39, 2, 4, 2, 8, 4, 5, 3, 13, 4, 31, 23, 2, 17, 47, 38, 5, 8, 12, 1, 16, 10, 5, 1, 7, 13, 13, 6, 9, 45, 15, 1, 23, 17, 20, 4, 7, 34, 12, 8, 13, 5, 52, 7, 42, 5, 19, 4, 10, 23, 7, 17, 14, 4, 12, 25, 10, 3, 1, 11, 18, 1, 19, 4, 4, 4, 14, 42, 46, 23, 3, 4, 1, 8, 10, 23, 36, 4, 2, 1, 12, 16, 37, 12, 38, 4, 4, 8, 1, 13, 10, 38, 50, 5, 5, 12, 1, 19, 6, 9, 1, 24, 8, 1, 2, 38, 4, 11, 9, 3, 3, 31, 49, 32, 5, 11, 24, 30, 13, 39, 4, 7, 13, 15, 5, 4, 16, 13, 46, 5, 5, 12, 11, 25, 15, 10, 19, 4, 4, 14, 30, 38, 6, 8, 5, 24, 2, 2, 24, 10, 8, 25, 4, 33, 6, 5, 7, 9, 14, 8, 2, 17, 5, 10, 14, 6, 9, 14, 2, 2, 3, 19, 15, 24, 6, 4, 2, 27, 19, 4, 2, 9, 5, 3, 4, 11, 4, 15, 2, 30, 31, 26, 13, 6, 39, 2, 13, 2, 10, 4, 2, 23, 39, 22, 46, 14, 14, 49, 12, 5, 42, 4, 4, 16, 5, 6, 15, 9, 13, 2, 4, 3, 13, 18, 6, 18, 3, 9, 10, 5, 20, 4, 8, 8, 14, 12, 3, 2, 4, 2, 25, 7, 5, 3, 2, 2, 14, 3, 13, 4, 7, 13, 25, 17, 3, 13, 7, 25, 5, 47, 14, 15, 3, 8, 14, 8, 4, 42, 8, 6, 46, 12, 9, 25, 8, 33, 3, 4, 21, 5, 4, 2, 2, 7, 3, 16, 10, 9, 41, 21, 18, 10, 13, 5, 11, 9, 14, 4, 8, 4, 23, 4, 5, 18, 10, 41, 5, 8, 19, 8, 18, 29, 25, 4, 17, 19, 2, 11, 4, 16, 1, 4, 40, 4, 39, 23, 15, 8, 27, 4, 1, 9, 21, 33, 1, 9, 14, 19, 5, 41, 11, 26, 3, 6, 11, 41, 11, 4, 3, 42, 46, 11, 9, 4, 1, 3, 8, 11, 13, 24, 1, 4, 16, 46, 4, 1, 8, 14, 20, 11, 2, 3, 16, 3, 5, 22, 11, 41, 27, 25, 4, 4, 44, 3, 1, 6, 14, 2, 3, 7, 2, 8, 7, 2, 5, 20, 29, 5, 5, 18, 15, 3, 20, 9, 22, 3, 5, 8, 37, 19, 2, 1, 4, 3, 1, 6, 37, 39, 1, 15, 11, 18, 4, 29, 5, 8, 3, 1, 7, 8, 42, 17, 17, 18, 10, 52, 4, 10, 29, 4, 4, 2, 5, 2, 1, 7, 12, 39, 43, 21, 4, 41, 5, 4, 12, 12, 24, 4, 38, 26, 14, 2, 24, 9, 20, 7, 10, 1, 15, 2, 25, 3, 41, 6, 14, 4, 31, 37, 4, 5, 2, 24, 29, 7, 19, 1, 13, 16, 16, 4, 2, 38, 16, 4, 9, 47, 6, 6, 12, 10, 9, 5, 2, 21, 3, 27, 19, 6, 2, 15, 1, 3, 3, 6, 12, 2, 18, 4, 18, 13, 11, 4, 5, 3, 16, 17, 5, 3, 12, 10, 26, 9, 18, 25, 2, 11, 1, 18, 5, 9, 5, 14, 13, 3, 38, 4, 2, 6, 3, 1, 39, 9, 29, 17, 1, 4, 3, 13, 25, 3, 1, 36, 11, 17, 3, 46, 1, 5, 9, 2, 5, 7, 5, 26, 18, 5, 9, 25, 6, 46, 33, 12, 4, 39, 5, 4, 41, 1, 7, 5, 39, 1, 3, 22, 26, 11, 20, 18, 15, 14, 29, 4, 14, 9, 39, 3, 4, 5, 15, 23, 15, 5, 10, 3, 5, 4, 6, 58, 52, 3, 18, 36, 11, 18, 44, 39, 4, 4, 32, 5, 38, 1, 2, 58, 9, 5, 38, 10, 40, 5, 31, 1, 1, 19, 4, 5, 8, 1, 1, 2, 17, 1, 18, 3, 14, 1, 1, 5, 27, 4, 18, 11, 7, 6, 11, 4, 5, 9, 1, 46, 8, 20, 11, 37, 24, 38, 9, 3, 26, 26, 8, 12, 26, 4, 22, 6, 4, 36, 3, 6, 8, 15, 8, 4, 4, 39, 20, 23, 4, 5, 5, 1, 4, 4, 16, 38, 5, 9, 15, 11, 3, 42, 19, 8, 44, 26, 9, 11, 21, 11, 15, 14, 4, 2, 10, 5, 8, 25, 19, 16, 14, 38, 9, 18, 9, 9, 4, 2, 8, 2, 4, 10, 21, 6, 4, 6, 18, 3, 7, 2, 5, 8, 15, 19, 1, 15, 12, 2, 9, 1, 4, 2, 24, 4, 7, 16, 47, 1, 9, 2, 1, 13, 2, 25, 5, 21, 8, 7, 1, 9, 4, 19, 30, 3, 18, 5, 2, 20, 7, 4, 25, 22, 26, 3, 1, 4, 7, 4, 4, 38, 25, 10, 40, 6, 25, 20, 5, 52, 1, 42, 20, 2, 11, 14, 5, 42, 18, 40, 4, 5, 10, 1, 13, 5, 11, 27, 38, 6, 14, 1, 3, 7, 25, 25, 9, 25, 2, 1, 1, 33, 1, 1, 4, 20, 45, 1, 14, 14, 15, 39, 6, 47, 8, 15, 1, 4, 13, 4, 1, 38, 1, 1, 24, 36, 18, 2, 4, 15, 3, 8, 2, 4, 4, 4, 4, 4, 9, 5, 3, 4, 8, 5, 11, 9, 12, 4, 8, 4, 21, 3, 10, 4, 3, 14, 2, 2, 5, 23, 25, 5, 4, 2, 41, 4, 5, 6, 7, 5, 9, 1, 4, 17, 5, 13, 14, 8, 14, 8, 4, 39, 4, 2, 15, 2, 1, 2, 8, 2, 13, 23, 12, 3, 18, 4, 43, 8, 5, 7, 1, 7, 15, 1, 8, 6, 10, 1, 8, 25, 18, 3, 5, 19, 26, 10, 18, 1, 4, 18, 6, 9, 18, 24, 2, 12, 49, 8, 3, 9, 4, 5, 14, 25, 10, 26, 4, 18, 37, 11, 13, 4, 18, 18, 42, 1, 26, 11, 5, 1, 12, 3, 26, 3, 5, 47, 7, 5, 17, 9, 10, 7, 18, 2, 3, 10, 24, 15, 14, 9, 5, 42, 1, 7, 7, 1, 12, 52, 12, 11, 2, 4, 1, 18, 10, 1, 5, 3, 8, 7, 8, 12, 19, 17, 2, 5, 22, 7, 12, 6, 23, 22, 14, 4, 7, 8, 40, 6, 4, 1, 8, 6, 5, 25, 1, 3, 3, 46, 45, 6, 38, 19, 6, 5, 2, 35, 4, 38, 2, 18, 37, 2, 20, 1, 1, 14, 25, 19, 6, 18, 17, 1, 9, 5, 18, 9, 4, 6, 3, 2, 5, 11, 16, 4, 4, 4, 8, 5, 26, 1, 13, 17, 39, 8, 4, 2, 15, 46, 1, 8, 7, 9, 1, 4, 2, 18, 5, 9, 41, 47, 20, 5, 40, 9, 19, 1, 1, 8, 5, 19, 18, 26, 1, 3, 4, 19, 5, 7, 6, 1, 3, 10, 1, 6, 3, 3, 7, 26, 22, 2, 8, 9, 5, 1, 5, 4, 18, 8, 9, 6, 1, 35, 2, 18, 2, 7, 4, 39, 15, 14, 5, 39, 4, 11, 4, 20, 8, 3, 9, 26, 20, 7, 6, 2, 47, 38, 23, 4, 16, 22, 14, 26, 2, 5, 1, 8, 1, 10, 19, 3, 35, 27, 1, 1, 26, 12, 38, 11, 39, 18, 59, 5, 11, 12, 1, 7, 15, 3, 3, 26, 2, 7, 7, 41, 25, 47, 28, 5, 5, 2, 41, 2, 26, 12, 4, 19, 1, 4, 18, 3, 25, 1, 5, 38, 1, 1, 3, 3, 6, 19, 5, 10, 8, 15, 7, 8, 8, 1, 25, 38, 3, 5, 3, 19, 4, 1, 11, 7, 4, 19, 11, 2, 1, 17, 13, 2, 14, 8, 1, 22, 1, 2, 5, 5, 6, 1, 26, 2, 10, 19, 11, 5, 1, 1, 10, 5, 19, 1, 11, 12, 4, 7, 1, 34, 18, 10, 4, 5, 1, 33, 4, 4, 2, 42, 24, 4, 4, 14, 4, 4, 8, 14, 9, 12, 3, 3, 7, 6, 3, 3, 12, 21, 46, 12, 24, 4, 6, 8, 25, 9, 8, 26, 7, 1, 2, 36, 25, 3, 8, 10, 10, 1, 5, 19, 4, 14, 31, 19, 12, 15, 5, 11, 4, 2, 4, 1, 3, 58, 3, 25, 39, 3, 25, 44, 40, 10, 20, 8, 3, 1, 10, 1, 25, 11, 3, 1, 1, 6, 8, 2, 7, 12, 33, 4, 1, 59, 4, 19, 2, 4, 8, 11, 10, 4, 5, 4, 7, 22, 1, 3, 15, 2, 13, 1, 11, 18, 10, 7, 8, 4, 25, 19, 3, 4, 46, 18, 4, 13, 8, 2, 5, 9, 13, 8, 4, 2, 11, 23, 4, 3, 19, 3, 18, 2, 41, 17, 9, 5, 38, 1, 24, 1, 13, 40, 7, 39, 4, 4, 1, 15, 26, 2, 2, 13, 13, 5, 28, 4, 1, 2, 4, 4, 38, 5, 16, 50, 13, 2, 9, 8, 10, 1, 10, 43, 9, 9, 21, 7, 13, 4, 4, 2, 10, 45, 7, 39, 4, 4, 2, 3, 9, 10, 3, 3, 19, 3, 3, 4, 4, 5, 25, 8, 18, 51, 39, 7, 6, 22, 8, 31, 1, 3, 11, 5, 18, 9, 25, 1, 18, 3, 52, 16, 5, 15, 3, 15, 5, 5, 3, 13, 8, 12, 12, 40, 2, 5, 5, 2, 39, 1, 25, 5, 18, 33, 29, 6, 6, 3, 12, 38, 5, 6, 46, 1, 23, 4, 15, 7, 4, 40, 3, 13, 4, 3, 5, 2, 1, 9, 1, 18, 7, 29, 12, 7, 16, 23, 20, 4, 29, 8, 15, 12, 18, 21, 4, 8, 37, 9, 1, 2, 2, 2, 1, 1, 4, 1, 1, 7, 20, 1, 3, 14, 1, 3, 51, 3, 1, 8, 2, 2, 2, 3, 7, 2, 1, 2, 16, 3, 1, 1, 2, 1, 4, 1, 2, 1, 10, 2, 2, 3, 1, 2, 52, 1, 7, 5, 2, 1, 4, 8, 51, 2, 1, 1, 1, 7, 40, 38, 15, 2, 1, 15, 19, 5, 6, 3, 3, 3, 25, 3, 5, 4, 1, 9, 14, 1, 2, 5, 1, 3, 12, 6, 4, 8, 13, 6, 5, 18, 2, 11, 14, 8, 8, 26, 8, 8, 25, 8, 10, 5, 8, 4, 8, 10, 43, 3, 5, 4, 7, 18, 38, 4, 20, 13, 18, 25, 4, 5, 4, 13, 21, 1, 18, 9, 24, 1, 6, 6, 4, 25, 6, 18, 8, 7, 14, 4, 46, 1, 48, 11, 11, 7, 6, 4, 1, 5, 8, 4, 8, 4, 7, 1, 2, 12, 48, 6, 8, 15, 7, 19, 5, 25, 34, 1, 5, 4, 17, 2, 20, 5, 1, 8, 14, 1, 11, 1, 21, 4, 8, 19, 4, 2, 26, 7, 26, 1, 4, 6, 2, 10, 3, 16, 3, 1, 22, 24, 14, 8, 12, 15, 18, 14, 9, 2, 46, 2, 4, 7, 7, 4, 3, 8, 6, 14, 38, 13, 7, 37, 6, 2, 5, 12, 3, 2, 7, 6, 12, 9, 11, 6, 4, 19, 7, 3, 7, 4, 19, 6, 4, 1, 22, 10, 2, 1, 9, 5, 9, 40, 3, 10, 7, 4, 47, 46, 51, 1, 16, 26, 3, 39, 29, 7, 15, 28, 2, 2, 3, 3, 1, 4, 5, 19, 15, 7, 8, 26, 5, 5, 22, 2, 8, 2, 5, 2, 9, 42, 7, 10, 8, 59, 5, 2, 7, 18, 5, 28, 18, 44, 1, 9, 4, 10, 1, 1, 5, 25, 7, 26, 4, 4, 2, 4, 3, 9, 13, 3, 4, 1, 10, 1, 16, 7, 6, 25, 14, 12, 5, 8, 1, 6, 6, 24, 9, 3, 31, 1, 25, 4, 4, 5, 4, 10, 5, 4, 4, 6, 1, 8, 6, 4, 35, 7, 11, 5, 9, 38, 9, 44, 5, 9, 10, 16, 8, 5, 7, 23, 4, 10, 8, 4, 5, 25, 6, 10, 7, 43, 9, 3, 7, 25, 9, 3, 8, 4, 7, 14, 28, 4, 12, 16, 9, 5, 9, 6, 24, 4, 10, 2, 4, 3, 8, 11, 37, 25, 4, 26, 19, 8, 4, 4, 5, 5, 9, 6, 31, 11, 3, 49, 5, 8, 29, 5, 8, 10, 10, 8, 18, 1, 4, 15, 15, 5, 2, 6, 4, 8, 2, 2, 1, 4, 7, 6, 14, 7, 9, 4, 2, 14, 12, 3, 4, 8, 7, 23, 1, 1, 5, 1, 16, 4, 4, 5, 18, 6, 2, 1, 17, 7, 21, 1, 4, 9, 12, 1, 9, 8, 7, 2, 8, 18, 4, 4, 1, 25, 8, 1, 2, 15, 1, 14, 4, 11, 9, 41, 9, 6, 20, 12, 5, 15, 1, 46, 8, 24, 1, 19, 8, 4, 6, 4, 11, 4, 1, 11, 7, 1, 8, 9, 4, 5, 5, 9, 13, 9, 18, 17, 4, 6, 5, 1, 1, 7, 24, 44, 33, 8, 8, 18, 4, 42, 39, 10, 16, 1, 9, 13, 22, 5, 16, 6, 18, 4, 15, 6, 6, 5, 6, 1, 1, 18, 1, 12, 26, 1, 2, 21, 8, 1, 4, 9, 3, 5, 1, 9, 1, 8, 38, 2, 2, 7, 20, 4, 5, 26, 4, 5, 2, 23, 11, 1, 1, 5, 4, 39, 9, 2, 22, 3, 6, 6, 4, 5, 4, 11, 13, 18, 3, 18, 17, 9, 11, 5, 23, 9, 5, 2, 1, 1, 6, 9, 19, 1, 11, 43, 1, 1, 3, 42, 6, 4, 22, 20, 5, 21, 14, 40, 15, 4, 19, 2, 8, 13, 45, 18, 3, 2, 46, 3, 3, 6, 3, 1, 27, 5, 10, 2, 4, 2, 10, 9, 12, 13, 1, 1, 6, 8, 11, 1, 15, 22, 1, 5, 35, 14, 1, 5, 1, 5, 9, 4, 4, 1, 1, 4, 12, 1, 33, 11, 11, 1, 5, 19, 21, 26, 17, 10, 1, 3, 36, 4, 5, 3, 9, 4, 25, 18, 4, 1, 15, 5, 1, 12, 3, 1, 1, 1, 39, 9, 19, 1, 26, 5, 26, 8, 6, 1, 14, 1, 8, 7, 6, 3, 34, 17, 58, 10, 3, 7, 15, 4, 15, 5, 9, 3, 18, 4, 5, 11, 9, 1, 4, 9, 2, 7, 4, 5, 1, 13, 7, 7, 7, 10, 16, 4, 7, 11, 21, 15, 4, 18, 3, 20, 3, 6, 5, 8, 9, 25, 7, 4, 5, 4, 9, 20, 16, 17, 11, 19, 16, 3, 5, 36, 37, 6, 9, 5, 8, 13, 4, 25, 8, 2, 3, 26, 1, 4, 5, 1, 19, 8, 8, 5, 4, 4, 3, 1, 4, 28, 8, 25, 1, 2, 2, 12, 20, 8, 4, 3, 38, 2, 1, 2, 32, 2, 13, 5, 17, 41, 2, 40, 1, 1, 1, 9, 7, 1, 1, 7, 16, 1, 6, 1, 11, 3, 4, 1, 5, 8, 17, 2, 2, 39, 5, 4, 1, 3, 18, 2, 4, 4, 5, 1, 3, 2, 1, 6, 6, 5, 10, 5, 3, 12, 2, 2, 4, 4, 5, 28, 1, 5, 19, 4, 23, 10, 6, 5, 9, 1, 6, 25, 14, 3, 16, 15, 3, 38, 32, 16, 13, 10, 16, 18, 10, 10, 4, 6, 4, 13, 7, 11, 39, 7, 28, 5, 12, 1, 4, 4, 1, 18, 2, 20, 7, 4, 7, 44, 3, 26, 16, 18, 7, 7, 11, 1, 19, 46, 4, 4, 16, 11, 2, 13, 2, 1, 5, 22, 8, 10, 5, 1, 16, 9, 1, 1, 2, 10, 2, 2, 3, 2, 22, 13, 15, 1, 16, 1, 4, 4, 4, 25, 10, 2, 4, 3, 8, 1, 22, 6, 3, 3, 4, 5, 1, 13, 24, 12, 1, 2, 8, 12, 6, 13, 2, 1, 21, 3, 7, 1, 18, 11, 6, 12, 9, 7, 1, 18, 34, 1, 11, 9, 15, 9, 7, 14, 38, 10, 9, 14, 15, 9, 42, 1, 4, 6, 1, 7, 9, 11, 4, 5, 4, 2, 5, 3, 1, 2, 12, 8, 3, 12, 4, 8, 21, 9, 12, 25, 11, 11, 25, 1, 47, 2, 3, 3, 8, 8, 4, 5, 16, 5, 6, 4, 9, 10, 37, 4, 13, 7, 3, 4, 3, 32, 8, 11, 8, 5, 3, 20, 46, 45, 6, 1, 4, 5, 2, 22, 14, 4, 5, 6, 21, 25, 4, 19, 1, 6, 3, 12, 4, 8, 6, 5, 18, 8, 5, 4, 2, 2, 1, 7, 19, 14, 11, 6, 9, 14, 19, 5, 3, 6, 5, 9, 19, 1, 9, 5, 12, 7, 25, 1, 5, 18, 6, 19, 2, 22, 4, 19, 1, 3, 6, 16, 10, 1, 3, 5, 13, 13, 2, 28, 9, 1, 1, 8, 1, 8, 18, 1, 42, 20, 13, 5, 12, 7, 13, 1, 5, 9, 8, 13, 1, 19, 4, 8, 6, 7, 12, 1, 1, 18, 6, 16, 1, 5, 4, 19, 4, 8, 4, 4, 9, 7, 3, 6, 37, 10, 3, 7, 5, 1, 1, 6, 22, 26, 30, 9, 1, 7, 10, 14, 1, 10, 24, 2, 6, 3, 4, 30, 2, 3, 14, 25, 2, 11, 3, 19, 14, 46, 19, 13, 8, 12, 2, 7, 1, 8, 12, 4, 7, 12, 25, 12, 18, 17, 25, 2, 5, 38, 12, 6, 9, 1, 1, 5, 8, 11, 2, 8, 30, 11, 2, 8, 5, 11, 1, 19, 18, 1, 8, 42, 3, 3, 6, 21, 4, 4, 5, 9, 10, 9, 39, 14, 5, 4, 11, 8, 18, 22, 25, 7, 21, 11, 18, 1, 5, 21, 19, 15, 23, 42, 43, 11, 3, 18, 2, 22, 2, 23, 8, 38, 2, 8, 4, 34, 12, 7, 5, 3, 3, 43, 6, 5, 16, 8, 19, 38, 20, 5, 4, 46, 3, 1, 26, 8, 39, 59, 19, 14, 30, 16, 48, 1, 6, 1, 39, 5, 4, 1, 3, 32, 3, 12, 3, 20, 7, 19, 4, 7, 9, 38, 9, 5, 1, 23, 7, 5, 3, 16, 1, 6, 8, 9, 38, 8, 1, 12, 8, 11, 8, 15, 3, 1, 3, 1, 12, 10, 1, 5, 4, 11, 19, 1, 4, 1, 10, 9, 3, 2, 26, 7, 4, 11, 38, 19, 5, 4, 12, 18, 4, 9, 7, 19, 3, 6, 6, 5, 3, 3, 10, 26, 12, 2, 10, 38, 5, 9, 25, 25, 42, 1, 22, 14, 5, 26, 20, 4, 29, 3, 19, 1, 6, 9, 39, 12, 13, 8, 3, 17, 1, 5, 1, 5, 4, 32, 14, 12, 8, 10, 3, 6, 1, 11, 16, 11, 7, 6, 7, 1, 2, 4, 4, 11, 47, 24, 1, 1, 5, 11, 18, 45, 5, 11, 1, 18, 48, 1, 41, 8, 3, 10, 2, 2, 3, 1, 14, 9, 31, 4, 12, 1, 6, 26, 1, 5, 4, 7, 23, 4, 13, 12, 1, 9, 7, 28, 26, 7, 8, 7, 1, 8, 3, 21, 38, 5, 3, 11, 21, 23, 42, 26, 5, 1, 10, 5, 8, 2, 2, 6, 33, 22, 8, 33, 52, 1, 28, 1, 13, 11, 1, 4, 4, 2, 8, 18, 9, 4, 1, 7, 8, 12, 21, 7, 14, 1, 40, 12, 49, 2, 11, 1, 37, 21, 10, 1, 4, 1, 3, 6, 19, 5, 16, 7, 1, 18, 17, 10, 7, 26, 25, 6, 16, 5, 5, 11, 7, 11, 26, 18, 20, 4, 4, 6, 7, 22, 19, 1, 6, 4, 3, 5, 15, 8, 12, 1, 5, 2, 11, 14, 6, 9, 3, 8, 7, 6, 11, 1, 10, 6, 39, 18, 19, 6, 11, 5, 11, 3, 23, 4, 10, 6, 25, 4, 3, 21, 16, 30, 1, 3, 15, 22, 18, 2, 4, 17, 6, 18, 7, 3, 8, 8, 7, 1, 23, 59, 4, 5, 7, 4, 7, 5, 15, 3, 47, 5, 10, 37, 4, 39, 6, 9, 14, 2, 22, 12, 5, 37, 32, 2, 2, 11, 2, 43, 18, 12, 38, 2, 10, 5, 16, 8, 45, 34, 10, 19, 6, 3, 3, 4, 8, 26, 5, 12, 19, 6, 8, 20, 4, 25, 5, 9, 11, 4, 5, 4, 44, 1, 31, 9, 11, 11, 22, 1, 24, 3, 18, 18, 4, 25, 11, 8, 1, 5, 4, 23, 6, 6, 20, 8, 5, 8, 4, 19, 4, 2, 5, 5, 8, 8, 4, 13, 22, 6, 1, 1, 19, 11, 42, 5, 1, 8, 13, 8, 4, 14, 5, 4, 1, 14, 15, 7, 9, 2, 28, 6, 2, 26, 19, 13, 3, 24, 38, 9, 7, 25, 39, 20, 4, 3, 9, 6, 12, 8, 6, 5, 3, 8, 9, 11, 4, 9, 12, 4, 17, 6, 2, 5, 58, 8, 10, 9, 19, 4, 4, 2, 24, 10, 3, 37, 13, 1, 24, 14, 5, 1, 26, 23, 47, 1, 1, 2, 16, 16, 38, 2, 14, 5, 8, 1, 1, 6, 4, 11, 5, 11, 14, 1, 1, 3, 23, 1, 50, 1, 5, 12, 2, 7, 12, 4, 18, 6, 1, 4, 3, 5, 47, 10, 10, 1, 10, 27, 28, 8, 2, 2, 6, 11, 33, 8, 39, 4, 4, 7, 25, 23, 13, 2, 10, 1, 28, 1, 12, 2, 18, 6, 4, 5, 26, 8, 7, 10, 1, 4, 18, 4, 25, 9, 10, 5, 5, 4, 18, 5, 1, 1, 10, 3, 5, 4, 7, 4, 38, 22, 15, 59, 16, 2, 16, 3, 5, 5, 9, 1, 4, 6, 8, 6, 2, 2, 1, 5, 7, 5, 5, 14, 4, 8, 17, 1, 15, 2, 19, 6, 9, 1, 6, 2, 26, 6, 1, 1, 6, 1, 18, 39, 13, 4, 3, 15, 1, 14, 7, 15, 13, 4, 30, 3, 3, 13, 9, 18, 7, 9, 1, 1, 1, 3, 34, 4, 22, 18, 1, 8, 7, 25, 8, 10, 4, 44, 19, 1, 1, 10, 12, 19, 5, 11, 9, 1, 26, 5, 6, 11, 1, 2, 5, 26, 8, 15, 24, 3, 7, 1, 1, 5, 15, 5, 6, 4, 1, 2, 17, 16, 4, 1, 11, 12, 29, 13, 10, 3, 5, 5, 42, 25, 7, 10, 3, 17, 8, 37, 5, 5, 37, 23, 2, 4, 7, 10, 40, 3, 7, 14, 1, 7, 7, 27, 18, 7, 4, 3, 18, 37, 25, 1, 4, 5, 10, 6, 4, 4, 5, 1, 18, 5, 10, 9, 4, 4, 1, 8, 17, 11, 1, 10, 2, 9, 12, 1, 21, 13, 12, 29, 8, 3, 5, 20, 8, 7, 2, 7, 1, 25, 11, 21, 5, 4, 30, 44, 46, 10, 7, 28, 13, 9, 3, 3, 9, 1, 2, 11, 8, 17, 27, 8, 15, 5, 48, 26, 5, 16, 3, 15, 9, 10, 11, 10, 4, 5, 2, 4, 6, 46, 7, 29, 39, 24, 25, 4, 7, 18, 38, 39, 1, 12, 4, 2, 39, 6, 6, 18, 22, 9, 20, 4, 11, 10, 6, 4, 10, 5, 1, 19, 5, 8, 22, 20, 1, 38, 1, 17, 5, 4, 15, 38, 4, 2, 4, 21, 44, 4, 2, 3, 29, 26, 6, 6, 5, 9, 12, 6, 2, 1, 1, 18, 2, 1, 2, 19, 8, 10, 6, 26, 21, 41, 38, 6, 9, 17, 1, 26, 18, 19, 4, 1, 3, 4, 6, 13, 3, 8, 12, 1, 11, 28, 4, 7, 1, 4, 1, 2, 4, 6, 1, 15, 1, 8, 22, 3, 7, 7, 3, 4, 59, 6, 14, 6, 2, 1, 6, 3, 6, 4, 1, 8, 11, 8, 8, 15, 7, 24, 16, 5, 40, 40, 38, 4, 7, 6, 7, 4, 25, 9, 4, 4, 26, 5, 4, 25, 3, 19, 6, 1, 2, 5, 7, 2, 4, 6, 15, 4, 5, 5, 5, 11, 9, 7, 5, 5, 4, 4, 4, 2, 2, 1, 1, 1, 1, 1, 1, 24], \"y\": [62, 37, 106, 46, 62, 87, 28, 20, 41, 66, 35, 22, 101, 30, 46, 30, 206, 68, 77, 156, 59, 29, 122, 120, 21, 33, 45, 35, 136, 47, 121, 33, 55, 42, 28, 53, 43, 32, 24, 109, 65, 72, 24, 43, 60, 53, 32, 120, 58, 76, 42, 46, 36, 30, 81, 15, 32, 23, 107, 22, 20, 40, 114, 150, 60, 154, 42, 39, 16, 63, 45, 34, 43, 41, 37, 22, 30, 48, 28, 38, 48, 128, 45, 52, 58, 90, 72, 56, 57, 97, 66, 53, 63, 67, 110, 20, 38, 26, 17, 240, 57, 106, 64, 101, 216, 32, 70, 146, 24, 75, 45, 35, 67, 61, 10, 21, 72, 36, 94, 103, 43, 57, 28, 116, 29, 44, 63, 34, 21, 119, 196, 38, 49, 13, 157, 57, 27, 16, 32, 35, 137, 39, 55, 18, 26, 40, 37, 64, 79, 75, 35, 31, 147, 25, 33, 43, 76, 130, 77, 13, 36, 61, 46, 73, 115, 80, 104, 41, 64, 22, 99, 45, 35, 26, 34, 57, 81, 39, 63, 65, 41, 16, 65, 60, 38, 85, 15, 40, 36, 41, 32, 64, 90, 30, 18, 87, 41, 32, 70, 37, 69, 38, 41, 39, 151, 160, 90, 83, 40, 104, 52, 40, 46, 50, 107, 74, 43, 19, 29, 55, 92, 174, 116, 114, 79, 64, 45, 26, 44, 49, 91, 59, 47, 124, 125, 91, 28, 55, 31, 53, 15, 52, 49, 77, 205, 26, 40, 52, 65, 35, 91, 30, 44, 58, 64, 46, 36, 38, 102, 18, 43, 45, 18, 23, 118, 48, 23, 29, 48, 29, 65, 43, 84, 69, 109, 235, 86, 128, 197, 45, 115, 50, 28, 92, 91, 51, 179, 130, 132, 42, 55, 61, 25, 29, 126, 57, 56, 41, 208, 15, 136, 149, 138, 53, 42, 64, 142, 74, 70, 68, 37, 80, 41, 23, 36, 15, 61, 52, 42, 39, 46, 58, 22, 35, 21, 54, 40, 100, 88, 35, 61, 91, 23, 194, 60, 120, 86, 24, 189, 35, 46, 57, 31, 72, 57, 46, 99, 54, 39, 74, 25, 33, 69, 28, 22, 50, 121, 123, 44, 72, 85, 58, 79, 148, 85, 31, 58, 144, 57, 45, 120, 43, 46, 29, 92, 68, 42, 33, 162, 86, 151, 55, 59, 84, 75, 27, 42, 186, 81, 38, 49, 43, 61, 208, 84, 72, 85, 47, 51, 70, 58, 73, 39, 61, 41, 40, 66, 38, 36, 88, 72, 104, 45, 28, 147, 60, 74, 21, 45, 30, 21, 19, 27, 77, 39, 87, 44, 91, 96, 44, 40, 90, 193, 60, 53, 130, 24, 116, 106, 97, 8, 32, 73, 120, 101, 47, 27, 31, 32, 38, 88, 49, 54, 64, 265, 86, 33, 15, 69, 61, 34, 59, 71, 47, 44, 42, 31, 83, 18, 45, 63, 23, 36, 45, 30, 36, 46, 39, 59, 25, 84, 58, 15, 89, 52, 69, 131, 51, 90, 50, 48, 79, 38, 21, 73, 96, 54, 39, 31, 28, 41, 15, 188, 41, 42, 58, 53, 68, 119, 34, 62, 162, 101, 51, 57, 100, 29, 53, 20, 27, 71, 102, 42, 96, 120, 77, 90, 32, 17, 52, 83, 71, 38, 27, 38, 20, 30, 89, 109, 122, 83, 99, 48, 52, 39, 85, 38, 38, 70, 53, 23, 45, 46, 235, 33, 33, 79, 121, 29, 42, 25, 57, 21, 77, 292, 98, 74, 75, 50, 90, 83, 55, 30, 54, 103, 67, 51, 43, 127, 82, 80, 24, 46, 55, 55, 36, 38, 33, 92, 18, 56, 27, 22, 56, 102, 28, 51, 57, 56, 37, 78, 60, 83, 37, 99, 53, 47, 26, 222, 19, 27, 33, 35, 68, 66, 46, 146, 76, 73, 135, 72, 77, 36, 176, 24, 105, 65, 28, 33, 78, 21, 86, 159, 75, 46, 82, 37, 54, 33, 35, 41, 25, 34, 16, 38, 103, 56, 44, 92, 37, 159, 184, 62, 49, 64, 69, 25, 38, 30, 56, 37, 86, 79, 58, 18, 20, 34, 183, 61, 38, 52, 77, 39, 34, 39, 29, 39, 27, 108, 37, 24, 21, 35, 43, 135, 41, 26, 41, 64, 67, 61, 52, 28, 59, 190, 47, 64, 44, 111, 135, 56, 47, 33, 28, 29, 55, 59, 34, 45, 113, 70, 48, 24, 54, 33, 36, 20, 27, 28, 54, 19, 63, 47, 60, 36, 67, 45, 19, 80, 53, 48, 41, 41, 53, 115, 33, 35, 45, 72, 32, 65, 25, 62, 90, 78, 34, 90, 62, 42, 23, 17, 25, 65, 49, 42, 60, 19, 51, 120, 24, 43, 37, 39, 35, 71, 39, 38, 45, 228, 47, 64, 29, 73, 109, 104, 50, 83, 174, 111, 100, 13, 37, 52, 54, 62, 44, 22, 42, 43, 62, 75, 15, 45, 84, 27, 43, 34, 18, 57, 47, 50, 139, 69, 41, 22, 99, 37, 29, 110, 65, 144, 137, 37, 29, 21, 29, 49, 73, 36, 73, 76, 48, 22, 42, 45, 26, 60, 46, 104, 26, 42, 63, 10, 134, 28, 61, 76, 35, 40, 61, 293, 39, 66, 22, 26, 159, 42, 65, 19, 36, 146, 81, 77, 44, 23, 44, 60, 25, 95, 127, 38, 33, 48, 34, 18, 64, 50, 60, 58, 17, 31, 35, 51, 76, 83, 23, 28, 53, 25, 118, 157, 86, 33, 45, 35, 97, 16, 58, 129, 58, 36, 38, 44, 52, 41, 63, 77, 183, 23, 47, 34, 116, 110, 132, 68, 38, 16, 60, 110, 74, 166, 139, 251, 46, 48, 85, 24, 31, 39, 71, 26, 53, 76, 62, 32, 58, 162, 54, 27, 33, 57, 56, 27, 33, 32, 15, 79, 41, 21, 71, 36, 78, 73, 60, 72, 40, 28, 64, 18, 35, 26, 199, 65, 40, 26, 31, 67, 26, 110, 29, 74, 126, 40, 43, 38, 48, 61, 116, 29, 32, 46, 97, 43, 57, 58, 21, 60, 53, 16, 162, 49, 26, 93, 32, 40, 27, 66, 84, 84, 109, 107, 23, 68, 40, 44, 29, 61, 52, 77, 80, 54, 58, 23, 111, 21, 115, 85, 43, 44, 103, 126, 52, 12, 22, 69, 19, 77, 76, 42, 65, 47, 23, 90, 38, 24, 18, 596, 19, 39, 49, 33, 115, 91, 76, 95, 49, 52, 79, 240, 111, 43, 28, 43, 90, 178, 53, 33, 88, 55, 33, 61, 41, 36, 72, 48, 27, 194, 58, 34, 46, 29, 77, 13, 76, 174, 108, 46, 32, 61, 21, 10, 61, 68, 52, 18, 41, 18, 26, 426, 45, 72, 97, 51, 73, 20, 44, 45, 15, 117, 94, 75, 25, 58, 51, 47, 20, 79, 175, 68, 22, 49, 45, 36, 39, 56, 23, 61, 44, 41, 37, 90, 22, 22, 62, 68, 29, 101, 31, 20, 17, 43, 33, 75, 19, 71, 99, 35, 40, 220, 26, 43, 65, 53, 39, 151, 110, 24, 30, 30, 27, 72, 158, 38, 20, 65, 36, 74, 36, 96, 77, 50, 33, 65, 116, 76, 18, 16, 27, 76, 65, 79, 55, 82, 74, 15, 48, 94, 41, 89, 90, 54, 20, 71, 55, 140, 26, 20, 37, 26, 121, 39, 28, 51, 72, 36, 33, 46, 30, 66, 34, 61, 48, 45, 58, 89, 16, 39, 68, 27, 22, 75, 15, 34, 93, 85, 18, 20, 34, 31, 40, 56, 71, 41, 63, 83, 55, 35, 48, 21, 20, 71, 40, 52, 50, 76, 23, 151, 67, 56, 47, 19, 74, 51, 46, 40, 44, 84, 79, 17, 35, 46, 50, 21, 58, 48, 37, 42, 70, 43, 99, 98, 40, 38, 44, 65, 33, 41, 38, 50, 29, 22, 41, 46, 55, 34, 32, 68, 57, 43, 83, 48, 64, 18, 76, 58, 57, 120, 32, 25, 20, 68, 75, 39, 29, 122, 94, 110, 53, 42, 189, 76, 51, 32, 103, 38, 86, 30, 42, 65, 93, 21, 61, 66, 30, 42, 68, 39, 38, 29, 19, 45, 99, 64, 41, 92, 30, 18, 22, 53, 45, 59, 20, 24, 37, 19, 74, 34, 91, 100, 21, 52, 103, 94, 57, 34, 64, 41, 36, 43, 139, 124, 75, 51, 22, 27, 54, 81, 57, 70, 17, 65, 58, 91, 129, 23, 53, 58, 39, 51, 76, 30, 66, 91, 63, 27, 33, 94, 80, 71, 79, 24, 34, 37, 90, 28, 71, 37, 37, 61, 78, 95, 48, 143, 85, 49, 205, 19, 25, 76, 29, 55, 96, 33, 39, 29, 47, 42, 29, 73, 45, 74, 211, 33, 35, 18, 26, 53, 135, 36, 76, 109, 61, 48, 81, 38, 132, 35, 63, 27, 35, 34, 75, 17, 23, 26, 44, 28, 82, 53, 45, 17, 37, 122, 93, 30, 36, 62, 65, 53, 35, 56, 35, 151, 50, 49, 36, 65, 99, 18, 25, 39, 71, 19, 65, 82, 107, 17, 53, 140, 41, 71, 68, 33, 76, 23, 74, 64, 36, 30, 47, 26, 40, 50, 33, 115, 49, 150, 156, 93, 47, 40, 139, 84, 176, 65, 95, 35, 41, 26, 18, 64, 32, 25, 28, 64, 38, 42, 139, 50, 73, 40, 38, 40, 115, 57, 60, 17, 91, 55, 71, 27, 51, 40, 93, 41, 103, 48, 18, 133, 34, 50, 37, 72, 85, 131, 24, 89, 49, 132, 45, 97, 35, 156, 35, 29, 87, 29, 33, 98, 67, 90, 27, 44, 27, 125, 44, 28, 68, 41, 27, 39, 52, 108, 105, 44, 63, 40, 40, 64, 24, 53, 43, 173, 26, 40, 56, 41, 23, 37, 31, 121, 29, 66, 54, 48, 80, 27, 57, 64, 90, 53, 75, 15, 45, 79, 50, 89, 99, 18, 42, 94, 53, 92, 236, 48, 76, 102, 60, 46, 50, 42, 61, 143, 25, 66, 30, 70, 27, 25, 36, 40, 226, 43, 27, 60, 36, 104, 120, 31, 33, 28, 54, 25, 69, 26, 26, 39, 30, 37, 90, 124, 39, 65, 63, 35, 88, 44, 44, 35, 93, 16, 22, 61, 21, 62, 27, 19, 40, 36, 28, 50, 39, 51, 28, 57, 38, 36, 38, 57, 64, 17, 55, 34, 91, 41, 43, 65, 50, 25, 78, 23, 75, 92, 40, 31, 39, 68, 58, 43, 29, 44, 51, 36, 38, 106, 65, 41, 41, 25, 41, 55, 28, 150, 43, 65, 61, 57, 30, 176, 44, 49, 48, 42, 72, 34, 42, 50, 58, 29, 50, 26, 16, 85, 39, 39, 66, 20, 38, 34, 74, 69, 47, 33, 178, 76, 51, 68, 64, 29, 32, 40, 83, 26, 48, 46, 57, 73, 37, 19, 35, 38, 35, 104, 32, 48, 23, 117, 21, 123, 59, 50, 103, 44, 46, 30, 30, 38, 111, 35, 100, 282, 83, 50, 23, 44, 83, 36, 37, 64, 17, 23, 142, 37, 69, 21, 76, 100, 19, 22, 58, 36, 11, 17, 39, 22, 59, 168, 20, 54, 34, 59, 55, 35, 81, 58, 36, 72, 35, 63, 46, 31, 51, 35, 15, 47, 150, 43, 102, 17, 72, 53, 96, 34, 82, 22, 36, 40, 31, 17, 57, 69, 51, 21, 41, 32, 96, 54, 70, 43, 45, 72, 36, 50, 144, 70, 59, 22, 80, 75, 24, 26, 38, 40, 70, 150, 53, 108, 21, 81, 51, 49, 46, 35, 33, 59, 36, 38, 151, 238, 33, 34, 37, 50, 109, 184, 17, 84, 76, 34, 33, 92, 106, 35, 146, 76, 141, 225, 61, 81, 44, 58, 46, 49, 39, 48, 65, 22, 60, 45, 56, 24, 157, 244, 92, 129, 38, 15, 67, 74, 63, 27, 39, 31, 73, 16, 18, 32, 76, 63, 37, 79, 62, 57, 77, 47, 88, 48, 15, 26, 111, 85, 59, 54, 46, 29, 27, 89, 98, 99, 44, 68, 131, 157, 67, 54, 45, 66, 66, 64, 53, 36, 43, 140, 57, 85, 63, 76, 53, 72, 27, 31, 77, 21, 24, 54, 113, 35, 84, 162, 15, 48, 17, 94, 74, 57, 50, 52, 27, 71, 30, 60, 78, 34, 45, 96, 85, 105, 20, 45, 37, 36, 48, 70, 26, 49, 78, 102, 43, 27, 95, 64, 61, 69, 19, 40, 58, 163, 28, 41, 112, 28, 44, 70, 51, 43, 100, 50, 32, 60, 24, 21, 87, 47, 91, 114, 75, 46, 91, 50, 78, 22, 82, 37, 40, 38, 81, 47, 34, 203, 197, 48, 114, 46, 36, 67, 51, 39, 30, 28, 108, 37, 23, 34, 28, 49, 41, 45, 76, 62, 53, 267, 35, 30, 23, 37, 28, 21, 29, 16, 41, 67, 98, 21, 126, 56, 61, 30, 16, 143, 40, 82, 72, 25, 223, 49, 40, 41, 90, 105, 66, 49, 132, 61, 20, 205, 43, 54, 37, 20, 24, 63, 17, 153, 125, 24, 35, 32, 20, 42, 51, 58, 28, 103, 42, 123, 28, 44, 63, 84, 37, 123, 61, 74, 38, 40, 140, 48, 24, 86, 191, 69, 55, 24, 93, 68, 97, 35, 27, 187, 33, 41, 44, 73, 94, 46, 29, 92, 40, 234, 78, 39, 191, 24, 89, 25, 39, 57, 45, 54, 48, 147, 54, 28, 69, 31, 151, 66, 39, 58, 121, 31, 19, 220, 41, 29, 27, 121, 29, 116, 37, 76, 45, 35, 148, 64, 48, 41, 75, 61, 47, 70, 39, 49, 39, 41, 18, 124, 63, 47, 43, 39, 101, 178, 45, 26, 24, 28, 42, 15, 80, 78, 33, 51, 140, 36, 69, 21, 91, 101, 95, 73, 25, 43, 49, 53, 53, 77, 59, 95, 123, 24, 52, 44, 73, 73, 37, 115, 76, 88, 110, 56, 80, 33, 22, 39, 42, 44, 176, 38, 51, 51, 87, 129, 28, 65, 94, 62, 168, 72, 55, 57, 39, 85, 44, 55, 77, 59, 57, 68, 84, 20, 58, 76, 93, 174, 49, 51, 41, 32, 41, 105, 107, 62, 92, 21, 84, 188, 38, 53, 29, 94, 103, 31, 40, 25, 38, 23, 38, 73, 25, 50, 31, 23, 50, 111, 32, 34, 62, 69, 22, 30, 24, 155, 19, 35, 47, 12, 75, 79, 113, 33, 52, 37, 46, 41, 54, 53, 72, 67, 68, 56, 46, 109, 45, 37, 60, 34, 59, 19, 69, 32, 29, 37, 109, 83, 29, 29, 34, 78, 33, 51, 68, 39, 116, 42, 37, 47, 53, 74, 39, 34, 38, 42, 48, 81, 52, 44, 51, 76, 24, 17, 44, 36, 35, 66, 275, 35, 41, 16, 72, 78, 62, 58, 60, 41, 26, 56, 33, 51, 36, 47, 37, 42, 15, 31, 19, 33, 201, 44, 81, 101, 63, 98, 67, 71, 51, 57, 53, 48, 42, 43, 37, 34, 19, 36, 90, 34, 41, 63, 28, 164, 49, 86, 98, 153, 111, 90, 44, 48, 73, 22, 31, 58, 65, 64, 19, 57, 59, 189, 130, 30, 49, 65, 128, 35, 52, 21, 52, 34, 43, 58, 49, 116, 78, 96, 18, 74, 42, 33, 44, 26, 64, 57, 32, 84, 42, 93, 79, 38, 15, 22, 24, 17, 59, 54, 45, 82, 26, 54, 60, 62, 98, 107, 64, 48, 112, 21, 72, 31, 56, 54, 98, 44, 23, 99, 152, 46, 87, 91, 90, 30, 47, 116, 52, 35, 38, 75, 45, 64, 20, 66, 90, 55, 59, 62, 45, 35, 19, 42, 67, 119, 41, 160, 71, 37, 54, 39, 26, 69, 132, 57, 56, 47, 56, 53, 48, 58, 49, 35, 66, 89, 27, 31, 28, 40, 77, 69, 74, 15, 98, 15, 70, 47, 61, 37, 28, 38, 26, 17, 33, 113, 23, 113, 21, 137, 57, 55, 35, 115, 44, 16, 60, 59, 71, 25, 158, 28, 35, 68, 82, 43, 18, 117, 33, 76, 125, 30, 40, 52, 23, 98, 26, 34, 35, 97, 50, 53, 53, 56, 56, 56, 23, 26, 73, 60, 45, 94, 137, 81, 43, 40, 16, 66, 47, 145, 37, 20, 125, 39, 106, 133, 30, 18, 47, 147, 71, 37, 73, 17, 345, 56, 34, 32, 43, 56, 45, 123, 37, 29, 18, 42, 39, 52, 41, 57, 26, 57, 47, 33, 90, 103, 27, 61, 36, 101, 68, 91, 65, 60, 23, 169, 68, 63, 19, 38, 175, 39, 30, 47, 120, 51, 61, 35, 97, 36, 97, 128, 125, 43, 58, 17, 40, 47, 35, 80, 27, 120, 70, 78, 64, 27, 64, 122, 105, 29, 20, 67, 35, 40, 101, 98, 34, 50, 19, 164, 32, 50, 72, 39, 95, 30, 216, 35, 97, 33, 143, 86, 73, 20, 46, 44, 72, 35, 56, 48, 42, 50, 37, 53, 68, 55, 37, 17, 28, 46, 145, 37, 47, 27, 135, 32, 31, 62, 96, 35, 30, 27, 28, 39, 43, 128, 54, 28, 80, 101, 15, 53, 59, 88, 26, 41, 67, 43, 84, 56, 66, 136, 67, 46, 32, 62, 36, 23, 25, 104, 34, 33, 95, 52, 61, 29, 72, 78, 145, 84, 81, 41, 59, 17, 54, 90, 33, 59, 47, 85, 60, 46, 280, 42, 36, 70, 39, 288, 42, 56, 34, 121, 25, 137, 22, 85, 92, 43, 52, 63, 35, 33, 123, 132, 79, 55, 86, 136, 60, 45, 112, 70, 63, 39, 65, 24, 38, 42, 68, 18, 71, 36, 34, 47, 32, 53, 27, 109, 64, 47, 29, 20, 323, 46, 33, 76, 135, 47, 30, 34, 95, 30, 85, 28, 45, 69, 114, 17, 38, 35, 59, 32, 34, 119, 17, 94, 104, 51, 119, 25, 44, 35, 44, 109, 65, 26, 44, 78, 28, 59, 41, 226, 15, 38, 39, 43, 34, 52, 23, 16, 38, 40, 31, 96, 28, 47, 31, 60, 40, 15, 38, 96, 33, 33, 19, 31, 78, 33, 71, 21, 33, 62, 322, 17, 52, 58, 37, 105, 46, 62, 181, 220, 77, 199, 36, 108, 62, 34, 43, 125, 104, 114, 73, 177, 85, 72, 15, 42, 19, 20, 68, 33, 47, 63, 93, 54, 56, 62, 36, 86, 78, 35, 173, 131, 22, 44, 36, 26, 57, 77, 51, 51, 47, 50, 42, 68, 62, 35, 39, 39, 39, 60, 41, 117, 50, 47, 77, 25, 33, 86, 40, 91, 50, 60, 102, 87, 60, 32, 48, 53, 52, 71, 23, 33, 20, 68, 46, 167, 48, 52, 48, 66, 69, 45, 49, 65, 84, 138, 52, 26, 46, 50, 35, 42, 45, 48, 44, 52, 21, 32, 52, 29, 106, 69, 30, 27, 50, 74, 79, 34, 25, 31, 88, 41, 43, 70, 18, 39, 69, 22, 59, 49, 46, 41, 72, 40, 40, 35, 116, 23, 38, 26, 36, 74, 72, 99, 68, 40, 33, 37, 39, 71, 96, 37, 45, 25, 88, 22, 100, 37, 45, 78, 40, 30, 37, 194, 117, 87, 99, 35, 25, 37, 47, 43, 110, 48, 41, 81, 62, 38, 131, 36, 38, 72, 20, 64, 28, 55, 108, 47, 41, 78, 34, 26, 39, 144, 34, 52, 34, 65, 26, 19, 123, 59, 79, 145, 216, 58, 30, 56, 100, 34, 44, 75, 29, 16, 46, 31, 47, 45, 36, 20, 70, 45, 32, 30, 58, 69, 41, 86, 100, 53, 44, 47, 38, 34, 43, 85, 39, 38, 35, 17, 87, 49, 210, 57, 39, 47, 41, 24, 30, 81, 45, 64, 108, 26, 33, 18, 45, 114, 51, 91, 149, 87, 91, 100, 56, 73, 43, 44, 37, 22, 23, 30, 42, 51, 49, 68, 30, 44, 230, 34, 40, 51, 25, 82, 39, 78, 19, 75, 22, 50, 106, 51, 31, 25, 70, 80, 32, 26, 34, 17, 128, 127, 65, 58, 26, 98, 54, 68, 36, 115, 262, 116, 21, 52, 56, 24, 122, 15, 159, 80, 28, 96, 95, 84, 22, 49, 19, 36, 118, 29, 77, 79, 159, 36, 41, 35, 46, 30, 33, 166, 53, 68, 39, 55, 40, 103, 43, 22, 75, 150, 34, 22, 101, 122, 38, 39, 50, 53, 43, 55, 28, 39, 15, 35, 63, 49, 37, 33, 27, 43, 42, 47, 175, 97, 126, 109, 64, 141, 59, 141, 38, 25, 46, 36, 65, 32, 69, 17, 67, 21, 134, 37, 68, 98, 42, 38, 48, 37, 54, 45, 35, 153, 15, 36, 56, 53, 25, 19, 24, 67, 64, 62, 32, 33, 97, 51, 123, 42, 33, 149, 236, 51, 89, 55, 37, 109, 61, 124, 22, 40, 82, 46, 26, 64, 44, 21, 148, 77, 50, 17, 36, 77, 85, 43, 39, 35, 19, 45, 64, 56, 28, 72, 115, 102, 42, 37, 68, 55, 58, 92, 17, 43, 102, 32, 78, 62, 95, 48, 40, 33, 35, 40, 46, 37, 73, 17, 64, 62, 35, 48, 57, 44, 33, 44, 174, 66, 111, 42, 20, 65, 57, 39, 66, 35, 26, 53, 40, 43, 16, 25, 89, 26, 63, 31, 136, 49, 29, 58, 35, 29, 29, 100, 44, 60, 55, 155, 81, 39, 110, 69, 33, 48, 77, 34, 35, 59, 39, 104, 185, 103, 64, 124, 134, 35, 41, 49, 105, 36, 44, 91, 48, 117, 37, 16, 150, 49, 79, 51, 80, 71, 21, 21, 308, 38, 48, 50, 9, 59, 310, 42, 63, 46, 35, 115, 90, 55, 78, 36, 49, 37, 18, 39, 71, 161, 42, 39, 34, 67, 91, 76, 33, 18, 241, 60, 11, 54, 63, 41, 60, 62, 67, 43, 38, 52, 30, 67, 38, 19, 22, 69, 36, 25, 48, 41, 54, 51, 48, 66, 33, 46, 95, 93, 37, 67, 93, 33, 28, 66, 225, 33, 59, 94, 100, 22, 17, 62, 42, 38, 52, 26, 36, 30, 60, 25, 46, 61, 77, 51, 25, 39, 80, 47, 35, 46, 26, 83, 52, 68, 44, 157, 21, 35, 54, 49, 84, 24, 46, 70, 57, 49, 16, 97, 37, 44, 79, 126, 49, 52, 55, 38, 40, 119, 34, 34, 46, 60, 47, 44, 53, 104, 28, 99, 182, 109, 36, 28, 33, 203, 28, 279, 56, 37, 141, 36, 109, 62, 37, 73, 35, 52, 66, 55, 53, 82, 46, 74, 165, 23, 46, 27, 41, 42, 77, 255, 62, 41, 36, 36, 102, 147, 54, 41, 22, 40, 67, 137, 17, 25, 68, 33, 58, 107, 19, 60, 55, 25, 67, 103, 25, 85, 69, 76, 170, 71, 21, 85, 47, 102, 111, 48, 130, 46, 101, 46, 100, 52, 133, 90, 47, 23, 38, 45, 142, 50, 42, 42, 62, 36, 49, 124, 55, 20, 52, 41, 121, 71, 147, 53, 49, 70, 76, 20, 29, 24, 59, 74, 46, 16, 112, 170, 158, 47, 72, 71, 106, 41, 177, 71, 113, 136, 77, 31, 35, 56, 107, 41, 51, 82, 50, 38, 64, 115, 21, 18, 35, 68, 45, 16, 52, 45, 98, 143, 57, 31, 232, 32, 50, 46, 84, 61, 57, 23, 50, 38, 59, 38, 44, 41, 22, 76, 46, 40, 30, 70, 51, 95, 167, 20, 74, 89, 92, 59, 69, 24, 53, 96, 105, 43, 29, 223, 78, 76, 31, 34, 101, 21, 33, 36, 61, 26, 48, 46, 40, 42, 165, 52, 40, 32, 122, 25, 131, 64, 70, 45, 59, 42, 42, 16, 45, 138, 197, 51, 60, 80, 34, 82, 34, 37, 44, 39, 78, 161, 63, 33, 48, 55, 30, 158, 83, 38, 17, 84, 180, 65, 55, 88, 95, 119, 34, 33, 34, 194, 74, 50, 35, 41, 62, 46, 35, 64, 69, 31, 33, 121, 102, 68, 35, 25, 88, 118, 48, 37, 91, 77, 42, 74, 69, 78, 96, 101, 27, 106, 129, 33, 32, 66, 16, 20, 59, 37, 37, 62, 34, 24, 53, 60, 38, 51, 103, 70, 51, 70, 62, 79, 22, 37, 60, 58, 44, 155, 28, 52, 62, 35, 79, 154, 61, 53, 71, 130, 67, 49, 41, 76, 39, 68, 39, 57, 171, 48, 128, 77, 46, 85, 33, 53, 179, 52, 34, 30, 44, 35, 97, 65, 58, 86, 63, 17, 28, 86, 381, 69, 38, 21, 65, 299, 57, 52, 42, 49, 98, 44, 36, 85, 120, 31, 43, 16, 40, 53, 29, 107, 85, 39, 116, 67, 33, 61, 31, 73, 33, 52, 65, 73, 36, 119, 48, 99, 29, 74, 34, 35, 60, 46, 30, 158, 43, 102, 46, 106, 38, 37, 59, 18, 57, 69, 25, 42, 35, 24, 51, 85, 63, 24, 68, 30, 23, 33, 54, 55, 47, 49, 217, 82, 53, 28, 29, 44, 20, 49, 30, 29, 37, 77, 112, 78, 41, 18, 86, 34, 37, 58, 46, 240, 19, 88, 50, 56, 50, 82, 144, 43, 24, 15, 79, 55, 28, 17, 195, 101, 49, 91, 53, 110, 47, 51, 98, 65, 47, 42, 73, 58, 38, 90, 26, 54, 91, 89, 181, 50, 105, 36, 44, 110, 59, 34, 94, 43, 167, 48, 30, 147, 73, 50, 22, 94, 31, 30, 54, 121, 43, 76, 30, 26, 30, 40, 178, 31, 34, 55, 42, 37, 76, 32, 63, 216, 47, 97, 48, 24, 51, 84, 8, 76, 35, 27, 41, 43, 87, 71, 170, 28, 29, 20, 40, 69, 43, 72, 16, 48, 44, 68, 33, 39, 50, 83, 169, 44, 70, 108, 47, 69, 121, 38, 126, 65, 25, 36, 15, 41, 169, 36, 25, 32, 32, 58, 31, 38, 51, 53, 143, 19, 37, 90, 35, 123, 52, 81, 21, 44, 29, 30, 47, 44, 40, 56, 37, 68, 56, 85, 55, 99, 27, 40, 166, 119, 44, 52, 24, 37, 88, 50, 81, 60, 47, 50, 74, 36, 76, 29, 33, 35, 56, 46, 37, 138, 35, 43, 28, 70, 77, 22, 42, 102, 108, 53, 25, 33, 49, 43, 34, 42, 45, 36, 29, 94, 60, 42, 84, 61, 115, 160, 89, 59, 19, 57, 33, 35, 60, 52, 39, 67, 32, 31, 54, 34, 120, 39, 38, 66, 49, 50, 20, 15, 40, 47, 42, 47, 35, 38, 38, 89, 104, 102, 64, 82, 65, 42, 76, 200, 42, 91, 17, 48, 90, 64, 86, 106, 26, 53, 27, 40, 96, 95, 72, 54, 24, 60, 42, 47, 35, 67, 30, 37, 63, 80, 34, 42, 24, 36, 39, 89, 40, 37, 43, 23, 33, 85, 117, 83, 16, 71, 63, 50, 100, 54, 37, 88, 63, 50, 37, 127, 47, 31, 94, 23, 148, 109, 116, 54, 37, 79, 26, 80, 216, 88, 69, 77, 96, 20, 42, 99, 79, 104, 26, 45, 22, 160, 94, 128, 57, 43, 144, 32, 76, 45, 34, 20, 60, 51, 36, 99, 50, 100, 88, 33, 68, 52, 25, 69, 109, 84, 35, 35, 37, 98, 33, 18, 116, 39, 59, 68, 70, 70, 55, 60, 34, 203, 18, 41, 57, 54, 23, 52, 40, 115, 89, 74, 51, 87, 28, 51, 121, 41, 114, 203, 50, 36, 19, 57, 63, 56, 73, 78, 86, 59, 35, 41, 145, 38, 156, 30, 35, 201, 83, 27, 87, 144, 111, 212, 58, 91, 20, 100, 109, 106, 104, 60, 68, 80, 34, 29, 71, 64, 47, 28, 42, 62, 36, 67, 72, 39, 43, 16, 102, 39, 94, 28, 56, 120, 66, 36, 70, 33, 86, 35, 116, 46, 28, 38, 66, 127, 48, 60, 38, 21, 77, 57, 52, 28, 50, 199, 21, 129, 27, 39, 63, 69, 25, 45, 57, 38, 43, 55, 83, 41, 119, 55, 26, 36, 74, 32, 184, 24, 62, 78, 18, 75, 17, 20, 38, 50, 58, 136, 68, 44, 45, 39, 35, 34, 37, 34, 40, 111, 42, 99, 44, 25, 43, 85, 91, 40, 58, 22, 34, 25, 132, 61, 34, 288, 138, 54, 50, 61, 84, 129, 92, 41, 23, 22, 79, 33, 158, 48, 54, 53, 134, 57, 20, 40, 179, 39, 24, 15, 48, 88, 88, 17, 50, 112, 52, 34, 175, 16, 81, 69, 25, 45, 49, 18, 55, 39, 22, 37, 27, 24, 62, 27, 35, 71, 26, 117, 115, 46, 29, 92, 72, 38, 69, 157, 44, 18, 38, 63, 83, 40, 41, 134, 61, 18, 49, 22, 160, 67, 41, 22, 46, 50, 37, 62, 27, 34, 49, 41, 62, 33, 140, 43, 72, 86, 112, 79, 46, 60, 32, 21, 72, 37, 95, 63, 37, 117, 65, 93, 92, 50, 112, 30, 115, 35, 57, 52, 178, 167, 38, 112, 34, 56, 151, 26, 96, 38, 45, 32, 57, 46, 62, 103, 62, 28, 43, 68, 28, 76, 28, 102, 56, 51, 40, 67, 66, 19, 47, 42, 110, 41, 33, 45, 44, 41, 25, 31, 137, 152, 83, 35, 16, 55, 47, 38, 43, 69, 17, 343, 32, 51, 44, 44, 24, 39, 19, 69, 51, 38, 62, 17, 36, 37, 34, 55, 110, 62, 61, 29, 54, 35, 47, 50, 60, 45, 26, 78, 44, 38, 52, 26, 64, 135, 15, 39, 25, 63, 28, 30, 44, 50, 38, 87, 17, 16, 15, 14, 104, 78, 50, 28, 72, 194, 51, 36, 80, 53, 125, 81, 7, 57, 25, 18, 22, 84, 64, 77, 101, 94, 155, 43, 61, 109, 22, 41, 41, 76, 53, 37, 76, 122, 89, 140, 28, 51, 29, 58, 124, 152, 82, 19, 148, 25, 51, 54, 25, 166, 36, 69, 100, 90, 33, 58, 30, 60, 48, 36, 67, 33, 57, 46, 46, 46, 39, 74, 44, 31, 60, 202, 86, 36, 20, 53, 81, 65, 58, 18, 66, 58, 43, 28, 61, 38, 44, 38, 31, 106, 44, 46, 68, 81, 15, 66, 56, 45, 96, 170, 99, 48, 84, 50, 72, 39, 42, 79, 53, 79, 47, 50, 63, 41, 59, 148, 33, 186, 46, 13, 149, 126, 42, 33, 78, 18, 93, 35, 33, 39, 32, 105, 33, 35, 56, 19, 35, 88, 38, 111, 15, 78, 32, 58, 82, 52, 32, 19, 97, 37, 83, 56, 42, 154, 56, 67, 59, 88, 85, 18, 64, 30, 31, 48, 84, 24, 57, 36, 15, 47, 36, 60, 128, 68, 53, 61, 100, 38, 42, 49, 72, 52, 40, 48, 35, 43, 44, 50, 102, 23, 57, 169, 62, 47, 33, 34, 61, 69, 49, 93, 168, 53, 44, 34, 132, 41, 113, 51, 76, 68, 36, 27, 75, 37, 52, 40, 141, 60, 50, 42, 47, 56, 53, 128, 49, 38, 98, 41, 63, 90, 107, 36, 25, 124, 34, 36, 48, 98, 42, 51, 25, 61, 47, 18, 91, 40, 44, 53, 46, 66, 45, 33, 60, 37, 81, 41, 23, 111, 51, 71, 90, 36, 39, 77, 44, 54, 58, 44, 39, 83, 34, 37, 83, 39, 42, 30, 31, 72, 104, 39, 32, 31, 153, 108, 64, 43, 194, 61, 94, 71, 47, 35, 36, 83, 218, 35, 146, 68, 56, 47, 73, 209, 48, 66, 54, 181, 33, 23, 199, 38, 77, 49, 46, 109, 35, 31, 28, 66, 74, 65, 38, 101, 117, 198, 53, 41, 154, 43, 20, 34, 50, 62, 35, 43, 28, 16, 62, 84, 70, 95, 36, 85, 79, 37, 31, 125, 104, 61, 217, 102, 66, 95, 45, 37, 74, 49, 231, 51, 53, 103, 42, 31, 24, 36, 35, 33, 30, 44, 58, 45, 53, 24, 128, 42, 102, 54, 36, 46, 19, 64, 36, 211, 81, 35, 16, 31, 48, 61, 24, 87, 43, 92, 15, 30, 75, 101, 81, 283, 27, 26, 80, 43, 24, 33, 52, 31, 50, 43, 56, 35, 39, 39, 245, 26, 59, 37, 47, 18, 41, 187, 68, 52, 83, 85, 96, 149, 41, 35, 52, 35, 86, 19, 28, 59, 48, 48, 50, 91, 95, 28, 15, 13, 230, 56, 30, 103, 51, 22, 54, 32, 59, 35, 96, 25, 87, 26, 51, 61, 139, 46, 47, 42, 36, 241, 19, 40, 31, 36, 52, 54, 68, 80, 59, 124, 51, 45, 60, 23, 107, 28, 33, 50, 111, 58, 65, 68, 43, 18, 36, 70, 45, 25, 32, 40, 99, 40, 44, 45, 25, 73, 45, 89, 45, 37, 42, 30, 37, 91, 24, 25, 107, 61, 50, 57, 91, 40, 64, 18, 88, 36, 64, 23, 40, 40, 22, 97, 19, 62, 60, 46, 43, 152, 73, 69, 69, 114, 68, 161, 38, 17, 43, 67, 64, 64, 24, 172, 487, 63, 86, 78, 92, 34, 41, 80, 56, 41, 57, 82, 52, 95, 58, 66, 64, 25, 39, 121, 61, 16, 88, 34, 45, 111, 25, 37, 43, 64, 71, 301, 74, 35, 36, 106, 20, 24, 118, 54, 39, 39, 18, 59, 37, 84, 25, 69, 61, 76, 78, 76, 28, 67, 66, 23, 70, 78, 50, 27, 60, 116, 48, 60, 39, 144, 109, 39, 61, 79, 48, 22, 23, 29, 46, 269, 31, 24, 33, 143, 25, 60, 120, 46, 100, 34, 43, 21, 19, 39, 42, 60, 42, 99, 23, 48, 40, 67, 24, 51, 74, 37, 16, 64, 45, 44, 46, 37, 79, 47, 27, 63, 33, 76, 27, 60, 47, 51, 57, 44, 22, 61, 51, 41, 49, 30, 90, 83, 114, 18, 42, 59, 67, 33, 56, 54, 106, 36, 42, 36, 17, 19, 57, 91, 61, 19, 42, 69, 32, 27, 51, 35, 80, 42, 41, 24, 94, 58, 38, 25, 32, 17, 36, 36, 68, 113, 118, 34, 44, 34, 32, 18, 184, 100, 70, 17, 90, 64, 21, 43, 53, 75, 78, 42, 34, 45, 93, 49, 33, 54, 38, 18, 69, 40, 41, 36, 43, 24, 77, 96, 46, 42, 94, 36, 98, 95, 34, 25, 36, 54, 80, 47, 47, 37, 56, 101, 64, 25, 45, 52, 32, 35, 58, 49, 32, 26, 61, 27, 22, 82, 176, 17, 16, 42, 58, 23, 30, 21, 66, 57, 49, 20, 76, 39, 66, 81, 41, 46, 58, 77, 35, 57, 38, 76, 62, 27, 77, 29, 52, 62, 95, 53, 25, 21, 37, 34, 35, 51, 38, 65, 23, 17, 47, 45, 68, 94, 26, 46, 54, 66, 26, 100, 38, 103, 21, 39, 38, 34, 167, 129, 134, 65, 51, 37, 19, 29, 33, 54, 141, 8, 40, 43, 42, 41, 72, 44, 54, 41, 78, 21, 36, 104, 105, 106, 121, 43, 30, 24, 90, 7, 43, 50, 52, 54, 60, 33, 29, 56, 25, 72, 75, 35, 25, 105, 52, 44, 44, 71, 18, 142, 53, 16, 96, 101, 69, 39, 49, 48, 35, 67, 59, 55, 44, 144, 60, 42, 47, 180, 35, 19, 39, 51, 21, 46, 22, 118, 44, 116, 41, 256, 123, 97, 14, 39, 70, 56, 52, 16, 63, 44, 20, 49, 64, 73, 31, 53, 55, 46, 29, 42, 39, 35, 93, 52, 79, 50, 49, 46, 44, 100, 86, 205, 118, 69, 33, 46, 44, 25, 49, 39, 76, 71, 73, 24, 97, 18, 50, 24, 59, 52, 19, 20, 31, 47, 79, 99, 49, 64, 54, 35, 90, 46, 42, 43, 46, 45, 102, 42, 90, 53, 68, 33, 35, 60, 59, 15, 50, 131, 127, 30, 115, 155, 21, 25, 109, 43, 61, 33, 143, 64, 44, 55, 44, 46, 31, 51, 33, 21, 35, 52, 47, 78, 34, 55, 189, 63, 116, 42, 35, 38, 96, 40, 196, 120, 16, 62, 27, 35, 38, 63, 128, 36, 95, 57, 31, 26, 118, 100, 83, 115, 42, 46, 36, 55, 28, 44, 75, 35, 66, 81, 41, 90, 72, 52, 34, 115, 19, 37, 39, 52, 31, 56, 47, 28, 99, 45, 72, 49, 41, 25, 54, 27, 73, 29, 73, 20, 75, 21, 49, 32, 112, 22, 47, 97, 41, 43, 35, 61, 32, 91, 78, 74, 57, 33, 87, 69, 48, 34, 71, 175, 38, 63, 37, 111, 34, 50, 56, 20, 35, 31, 43, 71, 270, 31, 29, 33, 47, 67, 35, 68, 33, 17, 53, 218, 40, 22, 63, 33, 98, 40, 22, 39, 172, 87, 16, 20, 52, 79, 17, 31, 88, 52, 49, 86, 35, 28, 47, 124, 63, 119, 25, 31, 81, 49, 42, 34, 51, 64, 97, 49, 16, 458, 102, 40, 47, 59, 22, 114, 54, 18, 49, 35, 45, 59, 22, 40, 35, 91, 19, 35, 39, 85, 42, 27, 119, 280, 58, 60, 32, 132, 67, 19, 35, 122, 72, 64, 72, 32, 128, 63, 113, 18, 78, 96, 24, 104, 53, 103, 44, 39, 48, 32, 16, 38, 34, 34, 32, 56, 39, 49, 20, 47, 41, 96, 43, 34, 23, 79, 34, 97, 40, 23, 40, 15, 49, 60, 42, 63, 79, 28, 89, 63, 18, 45, 45, 36, 218, 34, 111, 20, 42, 44, 75, 18, 29, 40, 100, 33, 60, 104, 38, 23, 20, 46, 71, 16, 32, 40, 50, 81, 75, 31, 51, 48, 72, 59, 94, 49, 85, 49, 47, 67, 24, 48, 33, 52, 49, 22, 34, 17, 25, 14, 39, 48, 35, 118, 68, 19, 28, 52, 25, 35, 46, 24, 116, 78, 42, 58, 22, 43, 48, 30, 57, 23, 65, 37, 20, 151, 98, 70, 60, 114, 50, 19, 55, 43, 38, 83, 38, 38, 45, 65, 66, 92, 29, 87, 21, 26, 35, 81, 121, 15, 42, 23, 53, 145, 87, 29, 18, 54, 74, 27, 86, 55, 18, 51, 39, 50, 78, 57, 165, 41, 58, 38, 65, 34, 34, 61, 226, 298, 36, 32, 65, 31, 44, 83, 24, 26, 22, 52, 151, 21, 40, 60, 65, 65, 61, 99, 17, 15, 31, 39, 92, 17, 67, 72, 33, 30, 36, 18, 33, 95, 59, 42, 207, 53, 40, 120, 33, 57, 72, 36, 36, 83, 27, 46, 23, 25, 120, 18, 17, 99, 45, 31, 79, 44, 56, 28, 34, 43, 56, 45, 37, 33, 19, 120, 27, 15, 25, 23, 34, 61, 19, 28, 40, 51, 21, 42, 28, 56, 118, 34, 44, 53, 26, 30, 36, 33, 43, 75, 23, 47, 25, 21, 52, 17, 68, 68, 35, 67, 53, 110, 29, 46, 65, 68, 16, 41, 165, 23, 37, 56, 38, 40, 95, 122, 124, 64, 36, 39, 77, 129, 112, 27, 44, 64, 37, 113, 99, 21, 49, 45, 20, 48, 28, 22, 37, 45, 48, 48, 26, 65, 38, 50, 39, 36, 16, 53, 75, 34, 69, 53, 48, 49, 43, 23, 37, 44, 47, 32, 66, 36, 31, 40, 27, 59, 46, 24, 20, 51, 19, 37, 33, 118, 22, 37, 21, 162, 220, 85, 32, 40, 46, 49, 323, 148, 23, 42, 51, 20, 55, 26, 30, 32, 108, 85, 84, 40, 36, 54, 21, 17, 42, 63, 47, 44, 19, 31, 64, 58, 36, 18, 111, 22, 65, 36, 58, 48, 37, 37, 39, 199, 168, 54, 20, 28, 36, 50, 34, 32, 58, 38, 115, 15, 57, 36, 16, 159, 28, 38, 15, 24, 35, 37, 33, 16, 23, 42, 62, 28, 29, 27, 27, 24, 44, 18, 17, 95, 33, 41, 32, 32, 186, 36, 33, 43, 102, 35, 38, 50, 73, 26, 59, 43, 48, 34, 34, 36, 27, 89, 67, 122, 76, 28, 66, 51, 20, 34, 18, 46, 38, 23, 60, 45, 66, 55, 51, 76, 32, 71, 63, 36, 46, 112, 41, 46, 70, 44, 51, 50, 41, 74, 36, 28, 26, 32, 16, 58, 24, 72, 39, 40, 61, 55, 33, 32, 84, 58, 37, 89, 139, 50, 61, 32, 28, 40, 22, 41, 30, 110, 15, 212, 47, 44, 37, 25, 20, 28, 93, 25, 15, 30, 33, 33, 47, 81, 146, 29, 123, 55, 45, 33, 49, 13, 25, 51, 63, 27, 25, 47, 34, 87, 92, 27, 149, 90, 64, 30, 34, 44, 73, 44, 114, 53, 25, 28, 45, 58, 43, 73, 92, 27, 41, 48, 111, 56, 81, 18, 21, 60, 99, 61, 31, 17, 40, 34, 45, 13, 27, 35, 47, 181, 18, 35, 111, 37, 25, 58, 33, 70, 93, 63, 28, 86, 38, 16, 52, 36, 39, 55, 71, 57, 37, 107, 49, 56, 52, 47, 58, 27, 46, 48, 29, 35, 83, 39, 68, 21, 20, 84, 26, 41, 53, 39, 44, 21, 141, 53, 27, 71, 53, 49, 93, 45, 27, 108, 72, 24, 43, 54, 151, 46, 60, 22, 40, 28, 32, 55, 43, 44, 38, 72, 23, 64, 54, 26, 15, 51, 80, 67, 15, 52, 35, 15, 100, 127, 103, 126, 76, 40, 60, 43, 63, 68, 68, 51, 40, 47, 39, 41, 33, 96, 111, 42, 23, 25, 141, 52, 32, 43, 61, 33, 18, 35, 70, 121, 99, 43, 16, 23, 26, 62, 51, 45, 18, 43, 52, 50, 34, 108, 66, 41, 19, 18, 46, 52, 51, 51, 46, 41, 28, 62, 15, 61, 27, 50, 36, 45, 94, 84, 19, 104, 35, 26, 55, 75, 35, 80, 96, 46, 26, 39, 38, 52, 16, 29, 47, 26, 21, 70, 18, 21, 38, 58, 43, 45, 44, 20, 64, 40, 41, 34, 30, 49, 152, 16, 29, 248, 29, 114, 28, 95, 43, 22, 28, 54, 22, 72, 29, 57, 96, 36, 63, 35, 17, 55, 114, 37, 37, 93, 38, 17, 60, 31, 35, 66, 37, 33, 52, 39, 25, 43, 69, 18, 37, 42, 51, 121, 42, 43, 47, 48, 101, 27, 41, 95, 52, 20, 46, 51, 66, 51, 34, 63, 50, 37, 33, 36, 69, 35, 98, 37, 43, 35, 31, 57, 73, 22, 41, 50, 28, 15, 46, 45, 31, 40, 61, 33, 133, 68, 38, 42, 16, 39, 40, 9, 76, 46, 35, 58, 39, 68, 35, 58, 196, 110, 146, 133, 63, 52, 87, 331, 245, 103, 72, 183, 111, 93, 247, 191, 81, 77, 74, 74, 132, 51, 160, 197, 59, 192, 71, 171, 137, 51, 414, 203, 53, 357, 82, 131, 184, 134, 71, 54, 37, 74, 298, 136, 71, 411, 38, 136, 46, 222, 73, 45, 66, 84, 13, 186, 40, 45, 37, 89, 35, 202, 304, 33, 33, 106, 103, 91, 124, 105, 68, 237, 86, 149, 138, 30, 58, 255, 84, 75, 30, 134, 65, 94, 306, 26, 38, 83, 30, 79, 68, 116, 45, 54, 39, 44, 21, 22, 42, 15, 37, 21, 108, 30, 9, 36, 35, 33, 28, 49, 25, 31, 126, 95, 30, 37, 41, 86, 19, 13, 16, 73, 57, 154, 92, 24, 20, 56, 60, 31, 29, 44, 53, 33, 21, 51, 29, 33, 65, 27, 59, 76, 78, 23, 18, 52, 61, 22, 48, 29, 37, 40, 27, 38, 41, 71, 95, 26, 48, 34, 39, 15, 55, 21, 37, 66, 60, 44, 56, 45, 50, 61, 18, 51, 28, 46, 38, 52, 18, 48, 44, 72, 27, 95, 21, 54, 55, 28, 16, 25, 73, 82, 61, 83, 33, 20, 40, 52, 69, 92, 33, 38, 52, 22, 30, 218, 50, 124, 66, 21, 18, 92, 28, 23, 34, 33, 38, 37, 22, 68, 34, 66, 52, 91, 323, 24, 38, 52, 34, 41, 81, 39, 37, 34, 47, 127, 89, 82, 81, 31, 28, 39, 29, 44, 43, 76, 53, 17, 39, 36, 26, 44, 47, 52, 57, 61, 78, 33, 43, 49, 38, 38, 40, 23, 43, 38, 117, 22, 42, 40, 30, 27, 47, 34, 24, 25, 43, 80, 23, 41, 47, 56, 29, 142, 22, 21, 84, 54, 53, 26, 27, 79, 110, 37, 57, 33, 20, 65, 143, 35, 25, 41, 35, 36, 20, 35, 21, 45, 75, 37, 48, 156, 20, 41, 20, 44, 57, 23, 16, 50, 202, 119, 49, 44, 32, 50, 38, 85, 61, 22, 22, 23, 39, 22, 42, 18, 118, 34, 55, 51, 32, 51, 26, 61, 31, 36, 31, 55, 61, 55, 19, 83, 44, 81, 35, 20, 81, 35, 30, 42, 22, 25, 32, 37, 8, 34, 56, 40, 16, 65, 47, 55, 23, 36, 58, 51, 45, 59, 48, 42, 23, 66, 34, 48, 62, 114, 37, 33, 168, 35, 86, 51, 26, 48, 56, 51, 35, 37, 61, 33, 28, 32, 9, 68, 101, 32, 24, 23, 27, 24, 38, 29, 22, 26, 56, 16, 74, 36, 35, 48, 107, 19, 82, 34, 41, 186, 51, 92, 36, 88, 31, 51, 43, 129, 32, 31, 21, 53, 88, 24, 45, 23, 21, 37, 36, 16, 55, 51, 33, 61, 60, 76, 57, 20, 15, 64, 43, 54, 49, 105, 48, 66, 8, 25, 35, 39, 51, 65, 46, 29, 103, 57, 39, 30, 37, 34, 41, 45, 78, 27, 34, 44, 31, 25, 28, 46, 77, 66, 49, 110, 50, 39, 30, 39, 20, 39, 30, 40, 41, 57, 79, 49, 33, 46, 34, 28, 15, 36, 42, 35, 33, 16, 56, 30, 106, 102, 75, 74, 43, 64, 48, 18, 36, 64, 17, 40, 28, 64, 32, 26, 48, 35, 45, 79, 52, 84, 67, 50, 18, 43, 157, 81, 33, 27, 51, 25, 18, 42, 35, 53, 39, 36, 112, 17, 86, 41, 26, 78, 15, 80, 42, 47, 96, 54, 37, 35, 104, 56, 89, 21, 9, 21, 19, 60, 25, 24, 147, 16, 45, 39, 78, 32, 39, 34, 29, 113, 15, 16, 46, 102, 54, 42, 45, 17, 26, 39, 53, 75, 40, 34, 49, 19, 39, 22, 57, 47, 83, 58, 35, 53, 60, 53, 50, 27, 81, 23, 60, 39, 20, 16, 21, 29, 45, 176, 41, 143, 53, 21, 73, 50, 37, 15, 56, 53, 19, 23, 15, 62, 57, 50, 50, 49, 55, 40, 61, 97, 72, 22, 39, 45, 96, 31, 56, 24, 41, 25, 35, 30, 27, 36, 27, 61, 30, 42, 85, 26, 40, 22, 60, 37, 70, 47, 91, 58, 46, 42, 63, 61, 47, 26, 46, 30, 24, 28, 19, 33, 60, 26, 44, 37, 41, 57, 18, 59, 78, 33, 42, 38, 16, 55, 65, 24, 73, 34, 123, 27, 74, 60, 17, 59, 123, 28, 24, 47, 60, 66, 83, 57, 37, 75, 101, 124, 58, 39, 28, 68, 16, 75, 57, 38, 44, 16, 21, 57, 74, 51, 67, 39, 32, 28, 29, 19, 33, 39, 29, 22, 42, 29, 112, 32, 61, 45, 44, 52, 16, 27, 57, 41, 47, 41, 29, 42, 41, 72, 41, 117, 26, 86, 19, 25, 100, 37, 35, 23, 80, 144, 75, 65, 31, 59, 22, 88, 26, 45, 29, 50, 67, 169, 80, 67, 26, 32, 112, 33, 65, 60, 24, 30, 36, 46, 34, 52, 55, 42, 20, 39, 127, 64, 18, 42, 59, 55, 51, 24, 56, 54, 33, 20, 32, 110, 26, 49, 123, 103, 94, 54, 32, 52, 38, 54, 39, 207, 272, 28, 55, 90, 60, 55, 63, 81, 54, 62, 34, 79, 122, 64, 28, 22, 143, 29, 21, 109, 36, 25, 53, 186, 17, 64, 158, 35, 26, 43, 32, 68, 17, 64, 54, 34, 30, 51, 137, 47, 23, 26, 72, 28, 51, 68, 35, 63, 41, 18, 37, 52, 69, 19, 30, 17, 16, 69, 142, 71, 26, 33, 62, 69, 18, 59, 143, 54, 32, 55, 50, 111, 42, 46, 39, 34, 64, 34, 40, 35, 36, 19, 16, 20, 45, 21, 21, 40, 84, 55, 43, 89, 92, 67, 38, 19, 62, 16, 178, 33, 69, 82, 114, 93, 33, 39, 29, 40, 38, 36, 46, 44, 51, 47, 35, 66, 31, 67, 37, 33, 49, 20, 96, 48, 23, 26, 30, 40, 22, 36, 63, 16, 54, 93, 35, 37, 52, 46, 34, 67, 33, 33, 56, 47, 58, 127, 47, 42, 37, 70, 33, 40, 28, 19, 22, 44, 22, 15, 41, 72, 61, 53, 43, 92, 86, 51, 68, 22, 40, 73, 20, 35, 35, 70, 73, 108, 36, 70, 22, 67, 26, 40, 15, 60, 55, 63, 49, 89, 85, 19, 29, 56, 36, 26, 65, 67, 28, 24, 75, 33, 45, 122, 60, 61, 18, 34, 35, 44, 43, 47, 47, 83, 60, 32, 32, 54, 59, 19, 34, 48, 94, 39, 26, 22, 71, 46, 37, 33, 19, 54, 58, 138, 64, 25, 47, 25, 36, 36, 41, 61, 22, 54, 32, 33, 53, 71, 61, 32, 49, 30, 36, 73, 109, 60, 73, 95, 34, 82, 35, 52, 69, 31, 50, 25, 39, 67, 101, 14, 164, 15, 41, 48, 34, 89, 26, 56, 35, 38, 65, 30, 53, 78, 40, 24, 36, 54, 35, 11, 517, 46, 52, 42, 115, 20, 32, 56, 59, 65, 18, 19, 26, 99, 46, 26, 53, 23, 53, 17, 47, 162, 63, 28, 26, 60, 95, 52, 181, 49, 23, 32, 21, 42, 78, 130, 43, 11, 24, 32, 30, 54, 32, 30, 19, 31, 22, 23, 41, 41, 58, 127, 67, 41, 33, 24, 20, 29, 21, 23, 21, 42, 41, 36, 23, 26, 15, 35, 51, 47, 66, 65, 46, 42, 65, 28, 20, 67, 59, 125, 29, 28, 34, 94, 21, 111, 40, 44, 94, 32, 53, 251, 38, 54, 66, 66, 48, 58, 28, 37, 133, 43, 54, 35, 78, 65, 67, 38, 60, 47, 87, 17, 82, 47, 33, 69, 60, 39, 39, 36, 43, 46, 35, 93, 99, 44, 32, 57, 104, 47, 44, 42, 33, 38, 46, 43, 40, 156, 16, 44, 25, 53, 72, 118, 69, 32, 34, 151, 16, 45, 33, 77, 24, 98, 17, 37, 65, 60, 78, 255, 30, 33, 19, 33, 24, 42, 37, 32, 37, 27, 27, 48, 51, 46, 41, 19, 48, 92, 28, 38, 47, 41, 47, 48, 62, 104, 21, 45, 34, 70, 39, 43, 47, 40, 63, 26, 44, 59, 112, 33, 36, 49, 27, 56, 77, 42, 45, 73, 17, 26, 89, 51, 44, 101, 33, 46, 97, 35, 91, 54, 181, 52, 28, 18, 23, 72, 79, 56, 85, 27, 39, 43, 45, 30, 43, 39, 37, 22, 48, 15, 30, 35, 48, 18, 22, 70, 21, 51, 42, 64, 18, 65, 38, 23, 181, 62, 34, 26, 37, 40, 86, 226, 53, 48, 47, 16, 220, 28, 106, 42, 39, 60, 19, 21, 37, 40, 92, 85, 91, 49, 22, 42, 49, 54, 39, 17, 58, 78, 41, 34, 45, 27, 25, 44, 39, 119, 96, 40, 87, 49, 15, 47, 27, 98, 57, 23, 38, 39, 152, 53, 34, 45, 88, 29, 25, 42, 34, 38, 46, 27, 41, 46, 28, 35, 97, 40, 35, 165, 100, 42, 21, 54, 44, 42, 139, 52, 73, 34, 70, 46, 47, 25, 16, 70, 56, 78, 33, 34, 17, 29, 23, 71, 49, 94, 21, 30, 34, 30, 60, 221, 115, 52, 125, 45, 34, 69, 23, 21, 53, 56, 81, 42, 63, 25, 153, 53, 34, 35, 52, 26, 14, 51, 20, 30, 122, 76, 46, 19, 76, 102, 59, 40, 24, 39, 37, 34, 48, 59, 35, 72, 22, 43, 27, 13, 39, 74, 37, 31, 34, 61, 88, 33, 36, 53, 49, 18, 159, 53, 79, 51, 52, 38, 65, 81, 35, 28, 43, 40, 20, 59, 45, 91, 48, 72, 52, 52, 54, 63, 21, 62, 23, 80, 16, 59, 69, 39, 38, 18, 91, 68, 64, 35, 69, 25, 96, 39, 63, 33, 89, 38, 115, 17, 40, 19, 58, 80, 51, 21, 121, 36, 22, 38, 42, 33, 68, 62, 58, 31, 56, 122, 40, 77, 44, 19, 18, 84, 46, 36, 19, 30, 135, 44, 74, 65, 18, 32, 34, 67, 51, 56, 110, 38, 73, 92, 47, 46, 99, 98, 34, 101, 36, 64, 68, 28, 15, 36, 33, 38, 68, 64, 37, 23, 65, 24, 27, 35, 74, 26, 40, 107, 36, 25, 37, 33, 110, 47, 63, 50, 40, 52, 25, 94, 34, 142, 114, 28, 48, 34, 37, 50, 119, 29, 28, 80, 64, 49, 77, 34, 84, 68, 16, 171, 66, 25, 65, 34, 45, 84, 142, 48, 68, 17, 36, 74, 72, 50, 28, 42, 58, 44, 57, 45, 54, 53, 68, 33, 54, 49, 46, 25, 66, 55, 36, 49, 65, 20, 68, 45, 46, 27, 54, 15, 24, 51, 36, 50, 29, 64, 24, 24, 50, 44, 80, 66, 23, 25, 34, 88, 57, 33, 50, 81, 35, 47, 25, 51, 48, 37, 68, 46, 30, 51, 62, 26, 24, 59, 28, 21, 34, 36, 309, 61, 20, 42, 30, 115, 34, 34, 21, 27, 59, 62, 60, 44, 140, 31, 46, 28, 53, 23, 76, 30, 30, 60, 41, 25, 68, 35, 89, 28, 36, 27, 18, 10, 72, 35, 92, 49, 19, 46, 156, 84, 39, 20, 99, 15, 45, 17, 33, 22, 21, 26, 70, 37, 44, 41, 17, 69, 68, 27, 51, 45, 67, 35, 24, 45, 52, 29, 67, 33, 35, 17, 25, 36, 45, 63, 41, 112, 44, 76, 39, 52, 37, 46, 18, 60, 45, 41, 34, 15, 50, 11, 38, 47, 48, 34, 59, 40, 32, 33, 127, 53, 23, 42, 51, 38, 68, 20, 86, 55, 21, 20, 48, 45, 32, 27, 33, 98, 49, 94, 40, 62, 23, 44, 79, 29, 56, 18, 39, 54, 29, 83, 51, 44, 28, 44, 45, 51, 45, 78, 46, 52, 17, 34, 65, 61, 27, 67, 32, 19, 56, 71, 158, 28, 195, 10, 44, 48, 49, 25, 39, 29, 49, 51, 43, 37, 38, 29, 71, 25, 68, 18, 47, 74, 146, 67, 26, 36, 84, 27, 71, 36, 63, 42, 40, 35, 57, 24, 47, 47, 28, 21, 21, 32, 49, 29, 19, 56, 25, 42, 41, 17, 43, 8, 46, 56, 72, 40, 16, 39, 38, 99, 39, 39, 15, 21, 35, 43, 33, 83, 84, 48, 21, 147, 41, 234, 46, 37, 38, 17, 28, 49, 26, 36, 56, 20, 69, 83, 36, 21, 57, 42, 39, 20, 31, 96, 97, 116, 35, 55, 33, 50, 48, 76, 30, 40, 52, 36, 107, 65, 50, 38, 31, 86, 37, 29, 207, 48, 23, 21, 62, 25, 72, 37, 25, 56, 46, 54, 19, 41, 37, 27, 31, 53, 23, 22, 51, 114, 21, 26, 29, 35, 47, 37, 166, 110, 50, 33, 33, 35, 40, 27, 29, 19, 33, 72, 39, 24, 136, 62, 102, 36, 29, 32, 64, 56, 48, 19, 79, 73, 33, 19, 37, 63, 61, 41, 34, 103, 66, 47, 30, 68, 123, 46, 40, 51, 96, 65, 41, 58, 37, 66, 37, 25, 43, 130, 35, 54, 25, 20, 19, 21, 63, 79, 63, 35, 57, 15, 163, 18, 34, 48, 40, 91, 47, 25, 29, 57, 44, 53, 22, 23, 33, 94, 40, 36, 173, 21, 36, 44, 37, 34, 125, 83, 41, 34, 32, 64, 22, 27, 60, 45, 39, 123, 39, 78, 24, 22, 56, 47, 134, 53, 31, 34, 36, 16, 63, 27, 30, 34, 149, 18, 32, 37, 42, 40, 46, 47, 19, 66, 74, 41, 37, 40, 54, 63, 123, 23, 42, 27, 22, 34, 100, 26, 41, 71, 97, 74, 57, 31, 36, 45, 80, 71, 36, 65, 24, 60, 36, 41, 191, 21, 32, 29, 21, 50, 45, 36, 20, 16, 34, 81, 28, 42, 60, 15, 33, 24, 31, 58, 58, 36, 24, 37, 29, 34, 23, 15, 15, 21, 24, 34, 57, 33, 17, 43, 47, 15, 18, 19, 20, 31, 29, 123, 51, 18, 82, 48, 32, 70, 38, 25, 41, 22, 28, 115, 38, 29, 28, 38, 55, 19, 32, 16, 15, 27, 14, 112, 35, 34, 45, 30, 33, 24, 51, 32, 72, 34, 46, 17, 21, 60, 27, 36, 32, 30, 43, 65, 11, 16, 49, 39, 28, 25, 46, 56, 60, 57, 31, 28, 36, 35, 33, 37, 140, 56, 42, 50, 25, 15, 52, 24, 55, 29, 47, 21, 27, 21, 29, 21, 34, 27, 40, 29, 27, 20, 26, 11, 18, 31, 26, 16, 19, 11, 18, 15, 20, 36, 70, 18, 52, 452]}],\n",
              "                        {\"template\": {\"data\": {\"bar\": [{\"error_x\": {\"color\": \"#2a3f5f\"}, \"error_y\": {\"color\": \"#2a3f5f\"}, \"marker\": {\"line\": {\"color\": \"#E5ECF6\", \"width\": 0.5}}, \"type\": \"bar\"}], \"barpolar\": [{\"marker\": {\"line\": {\"color\": \"#E5ECF6\", \"width\": 0.5}}, \"type\": \"barpolar\"}], \"carpet\": [{\"aaxis\": {\"endlinecolor\": \"#2a3f5f\", \"gridcolor\": \"white\", \"linecolor\": \"white\", \"minorgridcolor\": \"white\", \"startlinecolor\": \"#2a3f5f\"}, \"baxis\": {\"endlinecolor\": \"#2a3f5f\", \"gridcolor\": \"white\", \"linecolor\": \"white\", \"minorgridcolor\": \"white\", \"startlinecolor\": \"#2a3f5f\"}, \"type\": \"carpet\"}], \"choropleth\": [{\"colorbar\": {\"outlinewidth\": 0, \"ticks\": \"\"}, \"type\": \"choropleth\"}], \"contour\": [{\"colorbar\": {\"outlinewidth\": 0, \"ticks\": \"\"}, \"colorscale\": [[0.0, \"#0d0887\"], [0.1111111111111111, \"#46039f\"], [0.2222222222222222, \"#7201a8\"], [0.3333333333333333, \"#9c179e\"], [0.4444444444444444, \"#bd3786\"], [0.5555555555555556, \"#d8576b\"], [0.6666666666666666, \"#ed7953\"], [0.7777777777777778, \"#fb9f3a\"], [0.8888888888888888, \"#fdca26\"], [1.0, \"#f0f921\"]], \"type\": \"contour\"}], \"contourcarpet\": [{\"colorbar\": {\"outlinewidth\": 0, \"ticks\": \"\"}, \"type\": \"contourcarpet\"}], \"heatmap\": [{\"colorbar\": {\"outlinewidth\": 0, \"ticks\": \"\"}, \"colorscale\": [[0.0, \"#0d0887\"], [0.1111111111111111, \"#46039f\"], [0.2222222222222222, \"#7201a8\"], [0.3333333333333333, \"#9c179e\"], [0.4444444444444444, \"#bd3786\"], [0.5555555555555556, \"#d8576b\"], [0.6666666666666666, \"#ed7953\"], [0.7777777777777778, \"#fb9f3a\"], [0.8888888888888888, \"#fdca26\"], [1.0, \"#f0f921\"]], \"type\": \"heatmap\"}], \"heatmapgl\": [{\"colorbar\": {\"outlinewidth\": 0, \"ticks\": \"\"}, \"colorscale\": [[0.0, \"#0d0887\"], [0.1111111111111111, \"#46039f\"], [0.2222222222222222, \"#7201a8\"], [0.3333333333333333, \"#9c179e\"], [0.4444444444444444, \"#bd3786\"], [0.5555555555555556, \"#d8576b\"], [0.6666666666666666, \"#ed7953\"], [0.7777777777777778, \"#fb9f3a\"], [0.8888888888888888, \"#fdca26\"], [1.0, \"#f0f921\"]], \"type\": \"heatmapgl\"}], \"histogram\": [{\"marker\": {\"colorbar\": {\"outlinewidth\": 0, \"ticks\": \"\"}}, \"type\": \"histogram\"}], \"histogram2d\": [{\"colorbar\": {\"outlinewidth\": 0, \"ticks\": \"\"}, \"colorscale\": [[0.0, \"#0d0887\"], [0.1111111111111111, \"#46039f\"], [0.2222222222222222, \"#7201a8\"], [0.3333333333333333, \"#9c179e\"], [0.4444444444444444, \"#bd3786\"], [0.5555555555555556, \"#d8576b\"], [0.6666666666666666, \"#ed7953\"], [0.7777777777777778, \"#fb9f3a\"], [0.8888888888888888, \"#fdca26\"], [1.0, \"#f0f921\"]], \"type\": \"histogram2d\"}], \"histogram2dcontour\": [{\"colorbar\": {\"outlinewidth\": 0, \"ticks\": \"\"}, \"colorscale\": [[0.0, \"#0d0887\"], [0.1111111111111111, \"#46039f\"], [0.2222222222222222, \"#7201a8\"], [0.3333333333333333, \"#9c179e\"], [0.4444444444444444, \"#bd3786\"], [0.5555555555555556, \"#d8576b\"], [0.6666666666666666, \"#ed7953\"], [0.7777777777777778, \"#fb9f3a\"], [0.8888888888888888, \"#fdca26\"], [1.0, \"#f0f921\"]], \"type\": \"histogram2dcontour\"}], \"mesh3d\": [{\"colorbar\": {\"outlinewidth\": 0, \"ticks\": \"\"}, \"type\": \"mesh3d\"}], \"parcoords\": [{\"line\": {\"colorbar\": {\"outlinewidth\": 0, \"ticks\": \"\"}}, \"type\": \"parcoords\"}], \"pie\": [{\"automargin\": true, \"type\": \"pie\"}], \"scatter\": [{\"marker\": {\"colorbar\": {\"outlinewidth\": 0, \"ticks\": \"\"}}, \"type\": \"scatter\"}], \"scatter3d\": [{\"line\": {\"colorbar\": {\"outlinewidth\": 0, \"ticks\": \"\"}}, \"marker\": {\"colorbar\": {\"outlinewidth\": 0, \"ticks\": \"\"}}, \"type\": \"scatter3d\"}], \"scattercarpet\": [{\"marker\": {\"colorbar\": {\"outlinewidth\": 0, \"ticks\": \"\"}}, \"type\": \"scattercarpet\"}], \"scattergeo\": [{\"marker\": {\"colorbar\": {\"outlinewidth\": 0, \"ticks\": \"\"}}, \"type\": \"scattergeo\"}], \"scattergl\": [{\"marker\": {\"colorbar\": {\"outlinewidth\": 0, \"ticks\": \"\"}}, \"type\": \"scattergl\"}], \"scattermapbox\": [{\"marker\": {\"colorbar\": {\"outlinewidth\": 0, \"ticks\": \"\"}}, \"type\": \"scattermapbox\"}], \"scatterpolar\": [{\"marker\": {\"colorbar\": {\"outlinewidth\": 0, \"ticks\": \"\"}}, \"type\": \"scatterpolar\"}], \"scatterpolargl\": [{\"marker\": {\"colorbar\": {\"outlinewidth\": 0, \"ticks\": \"\"}}, \"type\": \"scatterpolargl\"}], \"scatterternary\": [{\"marker\": {\"colorbar\": {\"outlinewidth\": 0, \"ticks\": \"\"}}, \"type\": \"scatterternary\"}], \"surface\": [{\"colorbar\": {\"outlinewidth\": 0, \"ticks\": \"\"}, \"colorscale\": [[0.0, \"#0d0887\"], [0.1111111111111111, \"#46039f\"], [0.2222222222222222, \"#7201a8\"], [0.3333333333333333, \"#9c179e\"], [0.4444444444444444, \"#bd3786\"], [0.5555555555555556, \"#d8576b\"], [0.6666666666666666, \"#ed7953\"], [0.7777777777777778, \"#fb9f3a\"], [0.8888888888888888, \"#fdca26\"], [1.0, \"#f0f921\"]], \"type\": \"surface\"}], \"table\": [{\"cells\": {\"fill\": {\"color\": \"#EBF0F8\"}, \"line\": {\"color\": \"white\"}}, \"header\": {\"fill\": {\"color\": \"#C8D4E3\"}, \"line\": {\"color\": \"white\"}}, \"type\": \"table\"}]}, \"layout\": {\"annotationdefaults\": {\"arrowcolor\": \"#2a3f5f\", \"arrowhead\": 0, \"arrowwidth\": 1}, \"coloraxis\": {\"colorbar\": {\"outlinewidth\": 0, \"ticks\": \"\"}}, \"colorscale\": {\"diverging\": [[0, \"#8e0152\"], [0.1, \"#c51b7d\"], [0.2, \"#de77ae\"], [0.3, \"#f1b6da\"], [0.4, \"#fde0ef\"], [0.5, \"#f7f7f7\"], [0.6, \"#e6f5d0\"], [0.7, \"#b8e186\"], [0.8, \"#7fbc41\"], [0.9, \"#4d9221\"], [1, \"#276419\"]], \"sequential\": [[0.0, \"#0d0887\"], [0.1111111111111111, \"#46039f\"], [0.2222222222222222, \"#7201a8\"], [0.3333333333333333, \"#9c179e\"], [0.4444444444444444, \"#bd3786\"], [0.5555555555555556, \"#d8576b\"], [0.6666666666666666, \"#ed7953\"], [0.7777777777777778, \"#fb9f3a\"], [0.8888888888888888, \"#fdca26\"], [1.0, \"#f0f921\"]], \"sequentialminus\": [[0.0, \"#0d0887\"], [0.1111111111111111, \"#46039f\"], [0.2222222222222222, \"#7201a8\"], [0.3333333333333333, \"#9c179e\"], [0.4444444444444444, \"#bd3786\"], [0.5555555555555556, \"#d8576b\"], [0.6666666666666666, \"#ed7953\"], [0.7777777777777778, \"#fb9f3a\"], [0.8888888888888888, \"#fdca26\"], [1.0, \"#f0f921\"]]}, \"colorway\": [\"#636efa\", \"#EF553B\", \"#00cc96\", \"#ab63fa\", \"#FFA15A\", \"#19d3f3\", \"#FF6692\", \"#B6E880\", \"#FF97FF\", \"#FECB52\"], \"font\": {\"color\": \"#2a3f5f\"}, \"geo\": {\"bgcolor\": \"white\", \"lakecolor\": \"white\", \"landcolor\": \"#E5ECF6\", \"showlakes\": true, \"showland\": true, \"subunitcolor\": \"white\"}, \"hoverlabel\": {\"align\": \"left\"}, \"hovermode\": \"closest\", \"mapbox\": {\"style\": \"light\"}, \"paper_bgcolor\": \"white\", \"plot_bgcolor\": \"#E5ECF6\", \"polar\": {\"angularaxis\": {\"gridcolor\": \"white\", \"linecolor\": \"white\", \"ticks\": \"\"}, \"bgcolor\": \"#E5ECF6\", \"radialaxis\": {\"gridcolor\": \"white\", \"linecolor\": \"white\", \"ticks\": \"\"}}, \"scene\": {\"xaxis\": {\"backgroundcolor\": \"#E5ECF6\", \"gridcolor\": \"white\", \"gridwidth\": 2, \"linecolor\": \"white\", \"showbackground\": true, \"ticks\": \"\", \"zerolinecolor\": \"white\"}, \"yaxis\": {\"backgroundcolor\": \"#E5ECF6\", \"gridcolor\": \"white\", \"gridwidth\": 2, \"linecolor\": \"white\", \"showbackground\": true, \"ticks\": \"\", \"zerolinecolor\": \"white\"}, \"zaxis\": {\"backgroundcolor\": \"#E5ECF6\", \"gridcolor\": \"white\", \"gridwidth\": 2, \"linecolor\": \"white\", \"showbackground\": true, \"ticks\": \"\", \"zerolinecolor\": \"white\"}}, \"shapedefaults\": {\"line\": {\"color\": \"#2a3f5f\"}}, \"ternary\": {\"aaxis\": {\"gridcolor\": \"white\", \"linecolor\": \"white\", \"ticks\": \"\"}, \"baxis\": {\"gridcolor\": \"white\", \"linecolor\": \"white\", \"ticks\": \"\"}, \"bgcolor\": \"#E5ECF6\", \"caxis\": {\"gridcolor\": \"white\", \"linecolor\": \"white\", \"ticks\": \"\"}}, \"title\": {\"x\": 0.05}, \"xaxis\": {\"automargin\": true, \"gridcolor\": \"white\", \"linecolor\": \"white\", \"ticks\": \"\", \"title\": {\"standoff\": 15}, \"zerolinecolor\": \"white\", \"zerolinewidth\": 2}, \"yaxis\": {\"automargin\": true, \"gridcolor\": \"white\", \"linecolor\": \"white\", \"ticks\": \"\", \"title\": {\"standoff\": 15}, \"zerolinecolor\": \"white\", \"zerolinewidth\": 2}}}, \"title\": {\"text\": \"Recency vs Frequency\"}, \"xaxis\": {\"title\": {\"text\": \"Recency\"}}, \"yaxis\": {\"title\": {\"text\": \"Frequency\"}}},\n",
              "                        {\"responsive\": true}\n",
              "                    ).then(function(){\n",
              "                            \n",
              "var gd = document.getElementById('282db5ab-d9a6-4872-bb28-9f493026ce62');\n",
              "var x = new MutationObserver(function (mutations, observer) {{\n",
              "        var display = window.getComputedStyle(gd).display;\n",
              "        if (!display || display === 'none') {{\n",
              "            console.log([gd, 'removed!']);\n",
              "            Plotly.purge(gd);\n",
              "            observer.disconnect();\n",
              "        }}\n",
              "}});\n",
              "\n",
              "// Listen for the removal of the full notebook cells\n",
              "var notebookContainer = gd.closest('#notebook-container');\n",
              "if (notebookContainer) {{\n",
              "    x.observe(notebookContainer, {childList: true});\n",
              "}}\n",
              "\n",
              "// Listen for the clearing of the current output cell\n",
              "var outputEl = gd.closest('.output');\n",
              "if (outputEl) {{\n",
              "    x.observe(outputEl, {childList: true});\n",
              "}}\n",
              "\n",
              "                        })\n",
              "                };\n",
              "                \n",
              "            </script>\n",
              "        </div>\n",
              "</body>\n",
              "</html>"
            ]
          },
          "metadata": {
            "tags": []
          }
        }
      ]
    },
    {
      "cell_type": "code",
      "metadata": {
        "id": "ofDb7z6MfV5l"
      },
      "source": [
        ""
      ],
      "execution_count": 40,
      "outputs": []
    }
  ]
}