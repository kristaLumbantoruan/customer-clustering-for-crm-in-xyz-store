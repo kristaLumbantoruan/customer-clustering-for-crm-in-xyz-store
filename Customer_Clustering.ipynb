{
  "nbformat": 4,
  "nbformat_minor": 0,
  "metadata": {
    "colab": {
      "name": "Customer_Clustering (2).ipynb",
      "provenance": []
    },
    "kernelspec": {
      "name": "python3",
      "display_name": "Python 3"
    }
  },
  "cells": [
    {
      "cell_type": "code",
      "metadata": {
        "id": "9REo9jZ71gKU"
      },
      "source": [
        "#import library\n",
        "%matplotlib inline\n",
        "import numpy as np\n",
        "import pandas as pd\n",
        "import matplotlib.pyplot as plt"
      ],
      "execution_count": null,
      "outputs": []
    },
    {
      "cell_type": "code",
      "metadata": {
        "colab": {
          "base_uri": "https://localhost:8080/",
          "height": 197
        },
        "id": "ZaO2OEdq1jvM",
        "outputId": "307b9479-8224-48ec-981a-51e88f154e61"
      },
      "source": [
        "#import Ta-Feng Grocery with containing data from 01/11/2000 until 28/02/2001\n",
        "Tafeng_data = pd.read_csv(\"/content/drive/MyDrive/PROYEK/Proyek DAMI/ta_feng_all_months_merged.csv\")\n",
        "Tafeng_data.head() "
      ],
      "execution_count": null,
      "outputs": [
        {
          "output_type": "execute_result",
          "data": {
            "text/html": [
              "<div>\n",
              "<style scoped>\n",
              "    .dataframe tbody tr th:only-of-type {\n",
              "        vertical-align: middle;\n",
              "    }\n",
              "\n",
              "    .dataframe tbody tr th {\n",
              "        vertical-align: top;\n",
              "    }\n",
              "\n",
              "    .dataframe thead th {\n",
              "        text-align: right;\n",
              "    }\n",
              "</style>\n",
              "<table border=\"1\" class=\"dataframe\">\n",
              "  <thead>\n",
              "    <tr style=\"text-align: right;\">\n",
              "      <th></th>\n",
              "      <th>TRANSACTION_DT</th>\n",
              "      <th>CUSTOMER_ID</th>\n",
              "      <th>AGE_GROUP</th>\n",
              "      <th>PIN_CODE</th>\n",
              "      <th>PRODUCT_SUBCLASS</th>\n",
              "      <th>PRODUCT_ID</th>\n",
              "      <th>AMOUNT</th>\n",
              "      <th>ASSET</th>\n",
              "      <th>SALES_PRICE</th>\n",
              "    </tr>\n",
              "  </thead>\n",
              "  <tbody>\n",
              "    <tr>\n",
              "      <th>0</th>\n",
              "      <td>11/1/2000</td>\n",
              "      <td>1104905</td>\n",
              "      <td>45-49</td>\n",
              "      <td>115</td>\n",
              "      <td>110411</td>\n",
              "      <td>4710199010372</td>\n",
              "      <td>2</td>\n",
              "      <td>24</td>\n",
              "      <td>30</td>\n",
              "    </tr>\n",
              "    <tr>\n",
              "      <th>1</th>\n",
              "      <td>11/1/2000</td>\n",
              "      <td>418683</td>\n",
              "      <td>45-49</td>\n",
              "      <td>115</td>\n",
              "      <td>120107</td>\n",
              "      <td>4710857472535</td>\n",
              "      <td>1</td>\n",
              "      <td>48</td>\n",
              "      <td>46</td>\n",
              "    </tr>\n",
              "    <tr>\n",
              "      <th>2</th>\n",
              "      <td>11/1/2000</td>\n",
              "      <td>1057331</td>\n",
              "      <td>35-39</td>\n",
              "      <td>115</td>\n",
              "      <td>100407</td>\n",
              "      <td>4710043654103</td>\n",
              "      <td>2</td>\n",
              "      <td>142</td>\n",
              "      <td>166</td>\n",
              "    </tr>\n",
              "    <tr>\n",
              "      <th>3</th>\n",
              "      <td>11/1/2000</td>\n",
              "      <td>1849332</td>\n",
              "      <td>45-49</td>\n",
              "      <td>Others</td>\n",
              "      <td>120108</td>\n",
              "      <td>4710126092129</td>\n",
              "      <td>1</td>\n",
              "      <td>32</td>\n",
              "      <td>38</td>\n",
              "    </tr>\n",
              "    <tr>\n",
              "      <th>4</th>\n",
              "      <td>11/1/2000</td>\n",
              "      <td>1981995</td>\n",
              "      <td>50-54</td>\n",
              "      <td>115</td>\n",
              "      <td>100205</td>\n",
              "      <td>4710176021445</td>\n",
              "      <td>1</td>\n",
              "      <td>14</td>\n",
              "      <td>18</td>\n",
              "    </tr>\n",
              "  </tbody>\n",
              "</table>\n",
              "</div>"
            ],
            "text/plain": [
              "  TRANSACTION_DT  CUSTOMER_ID AGE_GROUP  ... AMOUNT  ASSET  SALES_PRICE\n",
              "0      11/1/2000      1104905     45-49  ...      2     24           30\n",
              "1      11/1/2000       418683     45-49  ...      1     48           46\n",
              "2      11/1/2000      1057331     35-39  ...      2    142          166\n",
              "3      11/1/2000      1849332     45-49  ...      1     32           38\n",
              "4      11/1/2000      1981995     50-54  ...      1     14           18\n",
              "\n",
              "[5 rows x 9 columns]"
            ]
          },
          "metadata": {
            "tags": []
          },
          "execution_count": 2
        }
      ]
    },
    {
      "cell_type": "markdown",
      "metadata": {
        "id": "3sJCXdBN3Ax8"
      },
      "source": [
        "#Exploratory Data Analysis"
      ]
    },
    {
      "cell_type": "code",
      "metadata": {
        "colab": {
          "base_uri": "https://localhost:8080/",
          "height": 347
        },
        "id": "JXUbYoYq1o3T",
        "outputId": "a7cb027c-1809-4e12-a7ff-4fd9a3f1bb7a"
      },
      "source": [
        "#Display 10 sample data\n",
        "Tafeng_data.sample(10)"
      ],
      "execution_count": null,
      "outputs": [
        {
          "output_type": "execute_result",
          "data": {
            "text/html": [
              "<div>\n",
              "<style scoped>\n",
              "    .dataframe tbody tr th:only-of-type {\n",
              "        vertical-align: middle;\n",
              "    }\n",
              "\n",
              "    .dataframe tbody tr th {\n",
              "        vertical-align: top;\n",
              "    }\n",
              "\n",
              "    .dataframe thead th {\n",
              "        text-align: right;\n",
              "    }\n",
              "</style>\n",
              "<table border=\"1\" class=\"dataframe\">\n",
              "  <thead>\n",
              "    <tr style=\"text-align: right;\">\n",
              "      <th></th>\n",
              "      <th>TRANSACTION_DT</th>\n",
              "      <th>CUSTOMER_ID</th>\n",
              "      <th>AGE_GROUP</th>\n",
              "      <th>PIN_CODE</th>\n",
              "      <th>PRODUCT_SUBCLASS</th>\n",
              "      <th>PRODUCT_ID</th>\n",
              "      <th>AMOUNT</th>\n",
              "      <th>ASSET</th>\n",
              "      <th>SALES_PRICE</th>\n",
              "    </tr>\n",
              "  </thead>\n",
              "  <tbody>\n",
              "    <tr>\n",
              "      <th>324735</th>\n",
              "      <td>12/14/2000</td>\n",
              "      <td>1466362</td>\n",
              "      <td>35-39</td>\n",
              "      <td>106</td>\n",
              "      <td>100407</td>\n",
              "      <td>8888215880110</td>\n",
              "      <td>2</td>\n",
              "      <td>120</td>\n",
              "      <td>160</td>\n",
              "    </tr>\n",
              "    <tr>\n",
              "      <th>316129</th>\n",
              "      <td>12/1/2000</td>\n",
              "      <td>1451870</td>\n",
              "      <td>40-44</td>\n",
              "      <td>Others</td>\n",
              "      <td>730716</td>\n",
              "      <td>4965736039143</td>\n",
              "      <td>2</td>\n",
              "      <td>1960</td>\n",
              "      <td>2180</td>\n",
              "    </tr>\n",
              "    <tr>\n",
              "      <th>225353</th>\n",
              "      <td>11/30/2000</td>\n",
              "      <td>1622362</td>\n",
              "      <td>&lt;25</td>\n",
              "      <td>221</td>\n",
              "      <td>320402</td>\n",
              "      <td>20568894</td>\n",
              "      <td>3</td>\n",
              "      <td>1323</td>\n",
              "      <td>1566</td>\n",
              "    </tr>\n",
              "    <tr>\n",
              "      <th>229107</th>\n",
              "      <td>12/10/2000</td>\n",
              "      <td>1102390</td>\n",
              "      <td>30-34</td>\n",
              "      <td>Others</td>\n",
              "      <td>730804</td>\n",
              "      <td>20540791</td>\n",
              "      <td>1</td>\n",
              "      <td>2490</td>\n",
              "      <td>2790</td>\n",
              "    </tr>\n",
              "    <tr>\n",
              "      <th>475725</th>\n",
              "      <td>1/1/2001</td>\n",
              "      <td>1712650</td>\n",
              "      <td>35-39</td>\n",
              "      <td>221</td>\n",
              "      <td>120103</td>\n",
              "      <td>4710011401135</td>\n",
              "      <td>1</td>\n",
              "      <td>22</td>\n",
              "      <td>24</td>\n",
              "    </tr>\n",
              "    <tr>\n",
              "      <th>149233</th>\n",
              "      <td>11/20/2000</td>\n",
              "      <td>1746235</td>\n",
              "      <td>30-34</td>\n",
              "      <td>221</td>\n",
              "      <td>500101</td>\n",
              "      <td>4718433613167</td>\n",
              "      <td>1</td>\n",
              "      <td>12</td>\n",
              "      <td>17</td>\n",
              "    </tr>\n",
              "    <tr>\n",
              "      <th>169084</th>\n",
              "      <td>11/25/2000</td>\n",
              "      <td>1680263</td>\n",
              "      <td>25-29</td>\n",
              "      <td>110</td>\n",
              "      <td>520452</td>\n",
              "      <td>4711713491172</td>\n",
              "      <td>1</td>\n",
              "      <td>470</td>\n",
              "      <td>495</td>\n",
              "    </tr>\n",
              "    <tr>\n",
              "      <th>598829</th>\n",
              "      <td>1/29/2001</td>\n",
              "      <td>1533873</td>\n",
              "      <td>35-39</td>\n",
              "      <td>110</td>\n",
              "      <td>560517</td>\n",
              "      <td>82228266208</td>\n",
              "      <td>1</td>\n",
              "      <td>68</td>\n",
              "      <td>99</td>\n",
              "    </tr>\n",
              "    <tr>\n",
              "      <th>597487</th>\n",
              "      <td>1/29/2001</td>\n",
              "      <td>1631241</td>\n",
              "      <td>40-44</td>\n",
              "      <td>115</td>\n",
              "      <td>130313</td>\n",
              "      <td>4710998001007</td>\n",
              "      <td>2</td>\n",
              "      <td>100</td>\n",
              "      <td>126</td>\n",
              "    </tr>\n",
              "    <tr>\n",
              "      <th>742370</th>\n",
              "      <td>2/19/2001</td>\n",
              "      <td>1751680</td>\n",
              "      <td>45-49</td>\n",
              "      <td>Others</td>\n",
              "      <td>500201</td>\n",
              "      <td>4710036003581</td>\n",
              "      <td>1</td>\n",
              "      <td>138</td>\n",
              "      <td>129</td>\n",
              "    </tr>\n",
              "  </tbody>\n",
              "</table>\n",
              "</div>"
            ],
            "text/plain": [
              "       TRANSACTION_DT  CUSTOMER_ID AGE_GROUP  ... AMOUNT  ASSET  SALES_PRICE\n",
              "324735     12/14/2000      1466362     35-39  ...      2    120          160\n",
              "316129      12/1/2000      1451870     40-44  ...      2   1960         2180\n",
              "225353     11/30/2000      1622362       <25  ...      3   1323         1566\n",
              "229107     12/10/2000      1102390     30-34  ...      1   2490         2790\n",
              "475725       1/1/2001      1712650     35-39  ...      1     22           24\n",
              "149233     11/20/2000      1746235     30-34  ...      1     12           17\n",
              "169084     11/25/2000      1680263     25-29  ...      1    470          495\n",
              "598829      1/29/2001      1533873     35-39  ...      1     68           99\n",
              "597487      1/29/2001      1631241     40-44  ...      2    100          126\n",
              "742370      2/19/2001      1751680     45-49  ...      1    138          129\n",
              "\n",
              "[10 rows x 9 columns]"
            ]
          },
          "metadata": {
            "tags": []
          },
          "execution_count": 3
        }
      ]
    },
    {
      "cell_type": "code",
      "metadata": {
        "colab": {
          "base_uri": "https://localhost:8080/",
          "height": 287
        },
        "id": "2lJMJxr-1rUs",
        "outputId": "af1e405d-f2a1-4c9e-d9bc-3de9e4a7f288"
      },
      "source": [
        "#Display descriptive statistics\n",
        "Tafeng_data.describe()"
      ],
      "execution_count": null,
      "outputs": [
        {
          "output_type": "execute_result",
          "data": {
            "text/html": [
              "<div>\n",
              "<style scoped>\n",
              "    .dataframe tbody tr th:only-of-type {\n",
              "        vertical-align: middle;\n",
              "    }\n",
              "\n",
              "    .dataframe tbody tr th {\n",
              "        vertical-align: top;\n",
              "    }\n",
              "\n",
              "    .dataframe thead th {\n",
              "        text-align: right;\n",
              "    }\n",
              "</style>\n",
              "<table border=\"1\" class=\"dataframe\">\n",
              "  <thead>\n",
              "    <tr style=\"text-align: right;\">\n",
              "      <th></th>\n",
              "      <th>CUSTOMER_ID</th>\n",
              "      <th>PRODUCT_SUBCLASS</th>\n",
              "      <th>PRODUCT_ID</th>\n",
              "      <th>AMOUNT</th>\n",
              "      <th>ASSET</th>\n",
              "      <th>SALES_PRICE</th>\n",
              "    </tr>\n",
              "  </thead>\n",
              "  <tbody>\n",
              "    <tr>\n",
              "      <th>count</th>\n",
              "      <td>8.177410e+05</td>\n",
              "      <td>817741.000000</td>\n",
              "      <td>8.177410e+05</td>\n",
              "      <td>817741.000000</td>\n",
              "      <td>817741.000000</td>\n",
              "      <td>817741.000000</td>\n",
              "    </tr>\n",
              "    <tr>\n",
              "      <th>mean</th>\n",
              "      <td>1.406620e+06</td>\n",
              "      <td>284950.495933</td>\n",
              "      <td>4.461639e+12</td>\n",
              "      <td>1.381781</td>\n",
              "      <td>112.109848</td>\n",
              "      <td>131.875589</td>\n",
              "    </tr>\n",
              "    <tr>\n",
              "      <th>std</th>\n",
              "      <td>7.489784e+05</td>\n",
              "      <td>226390.701451</td>\n",
              "      <td>1.690093e+12</td>\n",
              "      <td>2.897473</td>\n",
              "      <td>603.661776</td>\n",
              "      <td>631.057633</td>\n",
              "    </tr>\n",
              "    <tr>\n",
              "      <th>min</th>\n",
              "      <td>1.069000e+03</td>\n",
              "      <td>100101.000000</td>\n",
              "      <td>2.000882e+07</td>\n",
              "      <td>1.000000</td>\n",
              "      <td>0.000000</td>\n",
              "      <td>1.000000</td>\n",
              "    </tr>\n",
              "    <tr>\n",
              "      <th>25%</th>\n",
              "      <td>9.692220e+05</td>\n",
              "      <td>110106.000000</td>\n",
              "      <td>4.710085e+12</td>\n",
              "      <td>1.000000</td>\n",
              "      <td>35.000000</td>\n",
              "      <td>42.000000</td>\n",
              "    </tr>\n",
              "    <tr>\n",
              "      <th>50%</th>\n",
              "      <td>1.587722e+06</td>\n",
              "      <td>130106.000000</td>\n",
              "      <td>4.710421e+12</td>\n",
              "      <td>1.000000</td>\n",
              "      <td>62.000000</td>\n",
              "      <td>76.000000</td>\n",
              "    </tr>\n",
              "    <tr>\n",
              "      <th>75%</th>\n",
              "      <td>1.854930e+06</td>\n",
              "      <td>520314.000000</td>\n",
              "      <td>4.712500e+12</td>\n",
              "      <td>1.000000</td>\n",
              "      <td>112.000000</td>\n",
              "      <td>132.000000</td>\n",
              "    </tr>\n",
              "    <tr>\n",
              "      <th>max</th>\n",
              "      <td>2.000200e+07</td>\n",
              "      <td>780510.000000</td>\n",
              "      <td>9.789580e+12</td>\n",
              "      <td>1200.000000</td>\n",
              "      <td>432000.000000</td>\n",
              "      <td>444000.000000</td>\n",
              "    </tr>\n",
              "  </tbody>\n",
              "</table>\n",
              "</div>"
            ],
            "text/plain": [
              "        CUSTOMER_ID  PRODUCT_SUBCLASS  ...          ASSET    SALES_PRICE\n",
              "count  8.177410e+05     817741.000000  ...  817741.000000  817741.000000\n",
              "mean   1.406620e+06     284950.495933  ...     112.109848     131.875589\n",
              "std    7.489784e+05     226390.701451  ...     603.661776     631.057633\n",
              "min    1.069000e+03     100101.000000  ...       0.000000       1.000000\n",
              "25%    9.692220e+05     110106.000000  ...      35.000000      42.000000\n",
              "50%    1.587722e+06     130106.000000  ...      62.000000      76.000000\n",
              "75%    1.854930e+06     520314.000000  ...     112.000000     132.000000\n",
              "max    2.000200e+07     780510.000000  ...  432000.000000  444000.000000\n",
              "\n",
              "[8 rows x 6 columns]"
            ]
          },
          "metadata": {
            "tags": []
          },
          "execution_count": 4
        }
      ]
    },
    {
      "cell_type": "code",
      "metadata": {
        "colab": {
          "base_uri": "https://localhost:8080/"
        },
        "id": "FHefiZQG1sxA",
        "outputId": "881d8ad0-1f2b-44db-a10b-40611e77db5a"
      },
      "source": [
        "#Check for missing values in the dataset\n",
        "Tafeng_data.isnull().sum(axis=0)"
      ],
      "execution_count": null,
      "outputs": [
        {
          "output_type": "execute_result",
          "data": {
            "text/plain": [
              "TRANSACTION_DT          0\n",
              "CUSTOMER_ID             0\n",
              "AGE_GROUP           22362\n",
              "PIN_CODE                0\n",
              "PRODUCT_SUBCLASS        0\n",
              "PRODUCT_ID              0\n",
              "AMOUNT                  0\n",
              "ASSET                   0\n",
              "SALES_PRICE             0\n",
              "dtype: int64"
            ]
          },
          "metadata": {
            "tags": []
          },
          "execution_count": 5
        }
      ]
    },
    {
      "cell_type": "code",
      "metadata": {
        "colab": {
          "base_uri": "https://localhost:8080/"
        },
        "id": "685YY89k1uSM",
        "outputId": "816b3ab9-22fb-4b5b-8506-9a6fb9d3e35e"
      },
      "source": [
        "#Check the shape (number of columns and rows) in the dataset\n",
        "Tafeng_data.shape"
      ],
      "execution_count": null,
      "outputs": [
        {
          "output_type": "execute_result",
          "data": {
            "text/plain": [
              "(817741, 9)"
            ]
          },
          "metadata": {
            "tags": []
          },
          "execution_count": 6
        }
      ]
    },
    {
      "cell_type": "code",
      "metadata": {
        "colab": {
          "base_uri": "https://localhost:8080/",
          "height": 347
        },
        "id": "8lh8Hhwi1v2E",
        "outputId": "ea12200b-d24b-4cbe-c335-9199b5602495"
      },
      "source": [
        "#Customer distribution by age group\n",
        "age_group_cust_data=Tafeng_data[['AGE_GROUP', 'CUSTOMER_ID']].drop_duplicates()\n",
        "age_group_cust_data.groupby(['AGE_GROUP'])['CUSTOMER_ID'].aggregate('count').reset_index().sort_values('CUSTOMER_ID', ascending= False)\n"
      ],
      "execution_count": null,
      "outputs": [
        {
          "output_type": "execute_result",
          "data": {
            "text/html": [
              "<div>\n",
              "<style scoped>\n",
              "    .dataframe tbody tr th:only-of-type {\n",
              "        vertical-align: middle;\n",
              "    }\n",
              "\n",
              "    .dataframe tbody tr th {\n",
              "        vertical-align: top;\n",
              "    }\n",
              "\n",
              "    .dataframe thead th {\n",
              "        text-align: right;\n",
              "    }\n",
              "</style>\n",
              "<table border=\"1\" class=\"dataframe\">\n",
              "  <thead>\n",
              "    <tr style=\"text-align: right;\">\n",
              "      <th></th>\n",
              "      <th>AGE_GROUP</th>\n",
              "      <th>CUSTOMER_ID</th>\n",
              "    </tr>\n",
              "  </thead>\n",
              "  <tbody>\n",
              "    <tr>\n",
              "      <th>2</th>\n",
              "      <td>35-39</td>\n",
              "      <td>6588</td>\n",
              "    </tr>\n",
              "    <tr>\n",
              "      <th>1</th>\n",
              "      <td>30-34</td>\n",
              "      <td>5916</td>\n",
              "    </tr>\n",
              "    <tr>\n",
              "      <th>3</th>\n",
              "      <td>40-44</td>\n",
              "      <td>5084</td>\n",
              "    </tr>\n",
              "    <tr>\n",
              "      <th>4</th>\n",
              "      <td>45-49</td>\n",
              "      <td>3723</td>\n",
              "    </tr>\n",
              "    <tr>\n",
              "      <th>0</th>\n",
              "      <td>25-29</td>\n",
              "      <td>3196</td>\n",
              "    </tr>\n",
              "    <tr>\n",
              "      <th>5</th>\n",
              "      <td>50-54</td>\n",
              "      <td>2184</td>\n",
              "    </tr>\n",
              "    <tr>\n",
              "      <th>8</th>\n",
              "      <td>&lt;25</td>\n",
              "      <td>1630</td>\n",
              "    </tr>\n",
              "    <tr>\n",
              "      <th>9</th>\n",
              "      <td>&gt;65</td>\n",
              "      <td>1363</td>\n",
              "    </tr>\n",
              "    <tr>\n",
              "      <th>6</th>\n",
              "      <td>55-59</td>\n",
              "      <td>1076</td>\n",
              "    </tr>\n",
              "    <tr>\n",
              "      <th>7</th>\n",
              "      <td>60-64</td>\n",
              "      <td>880</td>\n",
              "    </tr>\n",
              "  </tbody>\n",
              "</table>\n",
              "</div>"
            ],
            "text/plain": [
              "  AGE_GROUP  CUSTOMER_ID\n",
              "2     35-39         6588\n",
              "1     30-34         5916\n",
              "3     40-44         5084\n",
              "4     45-49         3723\n",
              "0     25-29         3196\n",
              "5     50-54         2184\n",
              "8       <25         1630\n",
              "9       >65         1363\n",
              "6     55-59         1076\n",
              "7     60-64          880"
            ]
          },
          "metadata": {
            "tags": []
          },
          "execution_count": 7
        }
      ]
    },
    {
      "cell_type": "code",
      "metadata": {
        "colab": {
          "base_uri": "https://localhost:8080/"
        },
        "id": "6ASx1hIu1xS7",
        "outputId": "51736f10-ea8c-4e9d-adcb-05cb89cbcb67"
      },
      "source": [
        "Tafeng_data.info()"
      ],
      "execution_count": null,
      "outputs": [
        {
          "output_type": "stream",
          "text": [
            "<class 'pandas.core.frame.DataFrame'>\n",
            "RangeIndex: 817741 entries, 0 to 817740\n",
            "Data columns (total 9 columns):\n",
            " #   Column            Non-Null Count   Dtype \n",
            "---  ------            --------------   ----- \n",
            " 0   TRANSACTION_DT    817741 non-null  object\n",
            " 1   CUSTOMER_ID       817741 non-null  int64 \n",
            " 2   AGE_GROUP         795379 non-null  object\n",
            " 3   PIN_CODE          817741 non-null  object\n",
            " 4   PRODUCT_SUBCLASS  817741 non-null  int64 \n",
            " 5   PRODUCT_ID        817741 non-null  int64 \n",
            " 6   AMOUNT            817741 non-null  int64 \n",
            " 7   ASSET             817741 non-null  int64 \n",
            " 8   SALES_PRICE       817741 non-null  int64 \n",
            "dtypes: int64(6), object(3)\n",
            "memory usage: 56.1+ MB\n"
          ],
          "name": "stdout"
        }
      ]
    },
    {
      "cell_type": "code",
      "metadata": {
        "id": "jozpFnTF1zGe"
      },
      "source": [
        "numerical_vars = ['TRANSACTION_DT','CUSTOMER_ID', 'AGE_GROUP', 'PIN_CODE', 'PRODUCT_SUBCLASS', 'PRODUCT_ID', 'AMOUNT', 'ASSET', 'SALES_PRICE']\n"
      ],
      "execution_count": null,
      "outputs": []
    },
    {
      "cell_type": "code",
      "metadata": {
        "colab": {
          "base_uri": "https://localhost:8080/"
        },
        "id": "eCcAa2PA11RQ",
        "outputId": "7c1c32b2-17a3-4661-981d-ee02f3ac6551"
      },
      "source": [
        "Tafeng_data['SALES_PRICE'].describe()"
      ],
      "execution_count": null,
      "outputs": [
        {
          "output_type": "execute_result",
          "data": {
            "text/plain": [
              "count    817741.000000\n",
              "mean        131.875589\n",
              "std         631.057633\n",
              "min           1.000000\n",
              "25%          42.000000\n",
              "50%          76.000000\n",
              "75%         132.000000\n",
              "max      444000.000000\n",
              "Name: SALES_PRICE, dtype: float64"
            ]
          },
          "metadata": {
            "tags": []
          },
          "execution_count": 10
        }
      ]
    },
    {
      "cell_type": "code",
      "metadata": {
        "colab": {
          "base_uri": "https://localhost:8080/"
        },
        "id": "hl4dymuy13Ud",
        "outputId": "9d4e5873-3b55-4c77-b67b-f6963cbb5091"
      },
      "source": [
        "Tafeng_data['TRANSACTION_DT'].describe()"
      ],
      "execution_count": null,
      "outputs": [
        {
          "output_type": "execute_result",
          "data": {
            "text/plain": [
              "count        817741\n",
              "unique          120\n",
              "top       1/21/2001\n",
              "freq          21129\n",
              "Name: TRANSACTION_DT, dtype: object"
            ]
          },
          "metadata": {
            "tags": []
          },
          "execution_count": 11
        }
      ]
    },
    {
      "cell_type": "code",
      "metadata": {
        "colab": {
          "base_uri": "https://localhost:8080/"
        },
        "id": "mYtzGvvs2ddy",
        "outputId": "f4ed1c4b-d247-45f2-ca3f-121741b1121e"
      },
      "source": [
        "Tafeng_data['CUSTOMER_ID'].describe()"
      ],
      "execution_count": null,
      "outputs": [
        {
          "output_type": "execute_result",
          "data": {
            "text/plain": [
              "count    8.177410e+05\n",
              "mean     1.406620e+06\n",
              "std      7.489784e+05\n",
              "min      1.069000e+03\n",
              "25%      9.692220e+05\n",
              "50%      1.587722e+06\n",
              "75%      1.854930e+06\n",
              "max      2.000200e+07\n",
              "Name: CUSTOMER_ID, dtype: float64"
            ]
          },
          "metadata": {
            "tags": []
          },
          "execution_count": 12
        }
      ]
    },
    {
      "cell_type": "code",
      "metadata": {
        "colab": {
          "base_uri": "https://localhost:8080/",
          "height": 407
        },
        "id": "xD5GU4o22fCE",
        "outputId": "d1274247-8f4f-4db4-bf89-768b3cab5851"
      },
      "source": [
        "#Customer distribution by transaction date\n",
        "transaction_cust_data=Tafeng_data[['TRANSACTION_DT', 'CUSTOMER_ID']].drop_duplicates()\n",
        "transaction_cust_data.groupby(['TRANSACTION_DT'])['CUSTOMER_ID'].aggregate('count').reset_index().sort_values('CUSTOMER_ID', ascending= False)\n"
      ],
      "execution_count": null,
      "outputs": [
        {
          "output_type": "execute_result",
          "data": {
            "text/html": [
              "<div>\n",
              "<style scoped>\n",
              "    .dataframe tbody tr th:only-of-type {\n",
              "        vertical-align: middle;\n",
              "    }\n",
              "\n",
              "    .dataframe tbody tr th {\n",
              "        vertical-align: top;\n",
              "    }\n",
              "\n",
              "    .dataframe thead th {\n",
              "        text-align: right;\n",
              "    }\n",
              "</style>\n",
              "<table border=\"1\" class=\"dataframe\">\n",
              "  <thead>\n",
              "    <tr style=\"text-align: right;\">\n",
              "      <th></th>\n",
              "      <th>TRANSACTION_DT</th>\n",
              "      <th>CUSTOMER_ID</th>\n",
              "    </tr>\n",
              "  </thead>\n",
              "  <tbody>\n",
              "    <tr>\n",
              "      <th>14</th>\n",
              "      <td>1/22/2001</td>\n",
              "      <td>2232</td>\n",
              "    </tr>\n",
              "    <tr>\n",
              "      <th>13</th>\n",
              "      <td>1/21/2001</td>\n",
              "      <td>2079</td>\n",
              "    </tr>\n",
              "    <tr>\n",
              "      <th>49</th>\n",
              "      <td>11/26/2000</td>\n",
              "      <td>1785</td>\n",
              "    </tr>\n",
              "    <tr>\n",
              "      <th>48</th>\n",
              "      <td>11/25/2000</td>\n",
              "      <td>1709</td>\n",
              "    </tr>\n",
              "    <tr>\n",
              "      <th>34</th>\n",
              "      <td>11/12/2000</td>\n",
              "      <td>1653</td>\n",
              "    </tr>\n",
              "    <tr>\n",
              "      <th>...</th>\n",
              "      <td>...</td>\n",
              "      <td>...</td>\n",
              "    </tr>\n",
              "    <tr>\n",
              "      <th>76</th>\n",
              "      <td>12/23/2000</td>\n",
              "      <td>132</td>\n",
              "    </tr>\n",
              "    <tr>\n",
              "      <th>73</th>\n",
              "      <td>12/20/2000</td>\n",
              "      <td>118</td>\n",
              "    </tr>\n",
              "    <tr>\n",
              "      <th>74</th>\n",
              "      <td>12/21/2000</td>\n",
              "      <td>105</td>\n",
              "    </tr>\n",
              "    <tr>\n",
              "      <th>75</th>\n",
              "      <td>12/22/2000</td>\n",
              "      <td>81</td>\n",
              "    </tr>\n",
              "    <tr>\n",
              "      <th>71</th>\n",
              "      <td>12/19/2000</td>\n",
              "      <td>73</td>\n",
              "    </tr>\n",
              "  </tbody>\n",
              "</table>\n",
              "<p>120 rows × 2 columns</p>\n",
              "</div>"
            ],
            "text/plain": [
              "   TRANSACTION_DT  CUSTOMER_ID\n",
              "14      1/22/2001         2232\n",
              "13      1/21/2001         2079\n",
              "49     11/26/2000         1785\n",
              "48     11/25/2000         1709\n",
              "34     11/12/2000         1653\n",
              "..            ...          ...\n",
              "76     12/23/2000          132\n",
              "73     12/20/2000          118\n",
              "74     12/21/2000          105\n",
              "75     12/22/2000           81\n",
              "71     12/19/2000           73\n",
              "\n",
              "[120 rows x 2 columns]"
            ]
          },
          "metadata": {
            "tags": []
          },
          "execution_count": 13
        }
      ]
    },
    {
      "cell_type": "markdown",
      "metadata": {
        "id": "l3Uum4g93HoG"
      },
      "source": [
        "#Data Preprocessing"
      ]
    },
    {
      "cell_type": "code",
      "metadata": {
        "id": "zQvLKxvQ2gUR"
      },
      "source": [
        "#Remove missing values from CUSTOMER_ID column\n",
        "#We can ignore missing values in description column\n",
        "Tafeng_data = Tafeng_data[pd.notnull(Tafeng_data['CUSTOMER_ID'])]"
      ],
      "execution_count": null,
      "outputs": []
    },
    {
      "cell_type": "code",
      "metadata": {
        "colab": {
          "base_uri": "https://localhost:8080/"
        },
        "id": "m2thwhVW2iPb",
        "outputId": "c8859779-6a31-4d32-b959-8e74e47b4f89"
      },
      "source": [
        "#Check validation, if there are any negative values in AMOUNT column\n",
        "Tafeng_data.AMOUNT.min()"
      ],
      "execution_count": null,
      "outputs": [
        {
          "output_type": "execute_result",
          "data": {
            "text/plain": [
              "1"
            ]
          },
          "metadata": {
            "tags": []
          },
          "execution_count": 15
        }
      ]
    },
    {
      "cell_type": "code",
      "metadata": {
        "colab": {
          "base_uri": "https://localhost:8080/"
        },
        "id": "SoW5xaB62jbn",
        "outputId": "f1ee5ea7-4bfb-40d5-c625-4e69e506ccd2"
      },
      "source": [
        "#Check validation, if there are any negative values in SALES_PRICE column\n",
        "Tafeng_data.SALES_PRICE.min()"
      ],
      "execution_count": null,
      "outputs": [
        {
          "output_type": "execute_result",
          "data": {
            "text/plain": [
              "1"
            ]
          },
          "metadata": {
            "tags": []
          },
          "execution_count": 16
        }
      ]
    },
    {
      "cell_type": "code",
      "metadata": {
        "id": "AhJEBW572k0g"
      },
      "source": [
        "#Filter out data with negative values\n",
        "Tafeng_data = Tafeng_data[(Tafeng_data[\"AMOUNT\"] > 0)]"
      ],
      "execution_count": null,
      "outputs": []
    },
    {
      "cell_type": "code",
      "metadata": {
        "id": "EpijjpzP2meA"
      },
      "source": [
        "#Convert the string date field to datetime\n",
        "Tafeng_data['TRANSACTION_DT'] = pd.to_datetime(Tafeng_data['TRANSACTION_DT'])"
      ],
      "execution_count": null,
      "outputs": []
    },
    {
      "cell_type": "code",
      "metadata": {
        "colab": {
          "base_uri": "https://localhost:8080/",
          "height": 197
        },
        "id": "wcekx4Nl2nxP",
        "outputId": "f131ccc4-105e-41b8-9435-4f17dafca66f"
      },
      "source": [
        "Tafeng_data.head()"
      ],
      "execution_count": null,
      "outputs": [
        {
          "output_type": "execute_result",
          "data": {
            "text/html": [
              "<div>\n",
              "<style scoped>\n",
              "    .dataframe tbody tr th:only-of-type {\n",
              "        vertical-align: middle;\n",
              "    }\n",
              "\n",
              "    .dataframe tbody tr th {\n",
              "        vertical-align: top;\n",
              "    }\n",
              "\n",
              "    .dataframe thead th {\n",
              "        text-align: right;\n",
              "    }\n",
              "</style>\n",
              "<table border=\"1\" class=\"dataframe\">\n",
              "  <thead>\n",
              "    <tr style=\"text-align: right;\">\n",
              "      <th></th>\n",
              "      <th>TRANSACTION_DT</th>\n",
              "      <th>CUSTOMER_ID</th>\n",
              "      <th>AGE_GROUP</th>\n",
              "      <th>PIN_CODE</th>\n",
              "      <th>PRODUCT_SUBCLASS</th>\n",
              "      <th>PRODUCT_ID</th>\n",
              "      <th>AMOUNT</th>\n",
              "      <th>ASSET</th>\n",
              "      <th>SALES_PRICE</th>\n",
              "    </tr>\n",
              "  </thead>\n",
              "  <tbody>\n",
              "    <tr>\n",
              "      <th>0</th>\n",
              "      <td>2000-11-01</td>\n",
              "      <td>1104905</td>\n",
              "      <td>45-49</td>\n",
              "      <td>115</td>\n",
              "      <td>110411</td>\n",
              "      <td>4710199010372</td>\n",
              "      <td>2</td>\n",
              "      <td>24</td>\n",
              "      <td>30</td>\n",
              "    </tr>\n",
              "    <tr>\n",
              "      <th>1</th>\n",
              "      <td>2000-11-01</td>\n",
              "      <td>418683</td>\n",
              "      <td>45-49</td>\n",
              "      <td>115</td>\n",
              "      <td>120107</td>\n",
              "      <td>4710857472535</td>\n",
              "      <td>1</td>\n",
              "      <td>48</td>\n",
              "      <td>46</td>\n",
              "    </tr>\n",
              "    <tr>\n",
              "      <th>2</th>\n",
              "      <td>2000-11-01</td>\n",
              "      <td>1057331</td>\n",
              "      <td>35-39</td>\n",
              "      <td>115</td>\n",
              "      <td>100407</td>\n",
              "      <td>4710043654103</td>\n",
              "      <td>2</td>\n",
              "      <td>142</td>\n",
              "      <td>166</td>\n",
              "    </tr>\n",
              "    <tr>\n",
              "      <th>3</th>\n",
              "      <td>2000-11-01</td>\n",
              "      <td>1849332</td>\n",
              "      <td>45-49</td>\n",
              "      <td>Others</td>\n",
              "      <td>120108</td>\n",
              "      <td>4710126092129</td>\n",
              "      <td>1</td>\n",
              "      <td>32</td>\n",
              "      <td>38</td>\n",
              "    </tr>\n",
              "    <tr>\n",
              "      <th>4</th>\n",
              "      <td>2000-11-01</td>\n",
              "      <td>1981995</td>\n",
              "      <td>50-54</td>\n",
              "      <td>115</td>\n",
              "      <td>100205</td>\n",
              "      <td>4710176021445</td>\n",
              "      <td>1</td>\n",
              "      <td>14</td>\n",
              "      <td>18</td>\n",
              "    </tr>\n",
              "  </tbody>\n",
              "</table>\n",
              "</div>"
            ],
            "text/plain": [
              "  TRANSACTION_DT  CUSTOMER_ID AGE_GROUP  ... AMOUNT  ASSET  SALES_PRICE\n",
              "0     2000-11-01      1104905     45-49  ...      2     24           30\n",
              "1     2000-11-01       418683     45-49  ...      1     48           46\n",
              "2     2000-11-01      1057331     35-39  ...      2    142          166\n",
              "3     2000-11-01      1849332     45-49  ...      1     32           38\n",
              "4     2000-11-01      1981995     50-54  ...      1     14           18\n",
              "\n",
              "[5 rows x 9 columns]"
            ]
          },
          "metadata": {
            "tags": []
          },
          "execution_count": 19
        }
      ]
    },
    {
      "cell_type": "code",
      "metadata": {
        "colab": {
          "base_uri": "https://localhost:8080/"
        },
        "id": "Inz9WM2q2pQF",
        "outputId": "1f30932f-132f-4171-9fee-8f8e8bac0fd8"
      },
      "source": [
        "print(\"Summary...\")\n",
        "#exploring the unique values of each attribute\n",
        "print(\"Number of transactions:\", Tafeng_data['SALES_PRICE'].nunique())\n",
        "print(\"Number of products bought:\", Tafeng_data['PRODUCT_ID'].nunique())\n",
        "print(\"Number of customers:\", Tafeng_data['CUSTOMER_ID'].nunique())\n",
        "print(\"Percentage of customers NA:\", round(Tafeng_data['CUSTOMER_ID'].isnull().sum()*100/len(Tafeng_data),2),\"%\")\n"
      ],
      "execution_count": null,
      "outputs": [
        {
          "output_type": "stream",
          "text": [
            "Summary...\n",
            "Number of transactions: 2191\n",
            "Number of products bought: 23812\n",
            "Number of customers: 32266\n",
            "Percentage of customers NA: 0.0 %\n"
          ],
          "name": "stdout"
        }
      ]
    },
    {
      "cell_type": "markdown",
      "metadata": {
        "id": "KVE_rDEU5kOK"
      },
      "source": [
        "#RFM MODELLING"
      ]
    },
    {
      "cell_type": "code",
      "metadata": {
        "colab": {
          "base_uri": "https://localhost:8080/",
          "height": 197
        },
        "id": "BNbtc5CD2q1k",
        "outputId": "fd1793ee-a839-4579-aed2-ccce8cb2d35c"
      },
      "source": [
        "#Recency = Latest Date - Last Transaction Date,\n",
        "#Frequency = count of transaction(s) no. for each customer,\n",
        "#Monetary = Sum of Sales Price for each customer\n",
        "import datetime as dt\n",
        "\n",
        "#Set latest date 2001-03-01 as last invoice date was 2001-02-28. Its goal is to calculate the number of days.\n",
        "Latest_Date = dt.datetime(2001,3,1)\n",
        "\n",
        "#Create RFM Modelling scores for each customer --> Recency\n",
        "RScores = Tafeng_data.groupby('CUSTOMER_ID').agg({'TRANSACTION_DT': lambda x: (Latest_Date - x.max()).days})\n",
        "\n",
        "#Create TRANSACTION_DT into type int\n",
        "RScores['TRANSACTION_DT'] = RScores['TRANSACTION_DT'].astype(int)\n",
        "\n",
        "#Rename column names to Recency\n",
        "RScores.rename(columns={'TRANSACTION_DT': 'Recency'}, inplace=True)\n",
        "RScores.reset_index().head()"
      ],
      "execution_count": null,
      "outputs": [
        {
          "output_type": "execute_result",
          "data": {
            "text/html": [
              "<div>\n",
              "<style scoped>\n",
              "    .dataframe tbody tr th:only-of-type {\n",
              "        vertical-align: middle;\n",
              "    }\n",
              "\n",
              "    .dataframe tbody tr th {\n",
              "        vertical-align: top;\n",
              "    }\n",
              "\n",
              "    .dataframe thead th {\n",
              "        text-align: right;\n",
              "    }\n",
              "</style>\n",
              "<table border=\"1\" class=\"dataframe\">\n",
              "  <thead>\n",
              "    <tr style=\"text-align: right;\">\n",
              "      <th></th>\n",
              "      <th>CUSTOMER_ID</th>\n",
              "      <th>Recency</th>\n",
              "    </tr>\n",
              "  </thead>\n",
              "  <tbody>\n",
              "    <tr>\n",
              "      <th>0</th>\n",
              "      <td>1069</td>\n",
              "      <td>19</td>\n",
              "    </tr>\n",
              "    <tr>\n",
              "      <th>1</th>\n",
              "      <td>1113</td>\n",
              "      <td>54</td>\n",
              "    </tr>\n",
              "    <tr>\n",
              "      <th>2</th>\n",
              "      <td>1250</td>\n",
              "      <td>19</td>\n",
              "    </tr>\n",
              "    <tr>\n",
              "      <th>3</th>\n",
              "      <td>1359</td>\n",
              "      <td>87</td>\n",
              "    </tr>\n",
              "    <tr>\n",
              "      <th>4</th>\n",
              "      <td>1823</td>\n",
              "      <td>36</td>\n",
              "    </tr>\n",
              "  </tbody>\n",
              "</table>\n",
              "</div>"
            ],
            "text/plain": [
              "   CUSTOMER_ID  Recency\n",
              "0         1069       19\n",
              "1         1113       54\n",
              "2         1250       19\n",
              "3         1359       87\n",
              "4         1823       36"
            ]
          },
          "metadata": {
            "tags": []
          },
          "execution_count": 21
        }
      ]
    },
    {
      "cell_type": "code",
      "metadata": {
        "colab": {
          "base_uri": "https://localhost:8080/",
          "height": 197
        },
        "id": "NXkQYFRl5tRQ",
        "outputId": "d288d89d-849f-4780-ae2e-27788b1c50c6"
      },
      "source": [
        "#Create RFM Modelling scores for each customer --> Frequency\n",
        "FScores=Tafeng_data.groupby(['CUSTOMER_ID']).size().to_frame('size').sort_values(['CUSTOMER_ID','size'], ascending=[True,False])\n",
        "\n",
        "#Rename column names to Frequency\n",
        "FScores.rename(columns={'size': 'Frequency'}, inplace=True)\n",
        "FScores.reset_index().head()"
      ],
      "execution_count": null,
      "outputs": [
        {
          "output_type": "execute_result",
          "data": {
            "text/html": [
              "<div>\n",
              "<style scoped>\n",
              "    .dataframe tbody tr th:only-of-type {\n",
              "        vertical-align: middle;\n",
              "    }\n",
              "\n",
              "    .dataframe tbody tr th {\n",
              "        vertical-align: top;\n",
              "    }\n",
              "\n",
              "    .dataframe thead th {\n",
              "        text-align: right;\n",
              "    }\n",
              "</style>\n",
              "<table border=\"1\" class=\"dataframe\">\n",
              "  <thead>\n",
              "    <tr style=\"text-align: right;\">\n",
              "      <th></th>\n",
              "      <th>CUSTOMER_ID</th>\n",
              "      <th>Frequency</th>\n",
              "    </tr>\n",
              "  </thead>\n",
              "  <tbody>\n",
              "    <tr>\n",
              "      <th>0</th>\n",
              "      <td>1069</td>\n",
              "      <td>11</td>\n",
              "    </tr>\n",
              "    <tr>\n",
              "      <th>1</th>\n",
              "      <td>1113</td>\n",
              "      <td>18</td>\n",
              "    </tr>\n",
              "    <tr>\n",
              "      <th>2</th>\n",
              "      <td>1250</td>\n",
              "      <td>14</td>\n",
              "    </tr>\n",
              "    <tr>\n",
              "      <th>3</th>\n",
              "      <td>1359</td>\n",
              "      <td>3</td>\n",
              "    </tr>\n",
              "    <tr>\n",
              "      <th>4</th>\n",
              "      <td>1823</td>\n",
              "      <td>14</td>\n",
              "    </tr>\n",
              "  </tbody>\n",
              "</table>\n",
              "</div>"
            ],
            "text/plain": [
              "   CUSTOMER_ID  Frequency\n",
              "0         1069         11\n",
              "1         1113         18\n",
              "2         1250         14\n",
              "3         1359          3\n",
              "4         1823         14"
            ]
          },
          "metadata": {
            "tags": []
          },
          "execution_count": 22
        }
      ]
    },
    {
      "cell_type": "code",
      "metadata": {
        "colab": {
          "base_uri": "https://localhost:8080/",
          "height": 197
        },
        "id": "MjAzzNzQ5vCk",
        "outputId": "34287263-afd2-4b25-917f-6a4790315bc3"
      },
      "source": [
        "#Create RFM Modelling scores for each customer --> Monetary\n",
        "MScores=Tafeng_data.groupby(['CUSTOMER_ID']).agg({'SALES_PRICE':lambda x:x.sum()})\n",
        "\n",
        "#Rename column names to Monetary\n",
        "MScores.rename(columns={'SALES_PRICE': 'Monetary'}, inplace=True)\n",
        "MScores.reset_index().head()"
      ],
      "execution_count": null,
      "outputs": [
        {
          "output_type": "execute_result",
          "data": {
            "text/html": [
              "<div>\n",
              "<style scoped>\n",
              "    .dataframe tbody tr th:only-of-type {\n",
              "        vertical-align: middle;\n",
              "    }\n",
              "\n",
              "    .dataframe tbody tr th {\n",
              "        vertical-align: top;\n",
              "    }\n",
              "\n",
              "    .dataframe thead th {\n",
              "        text-align: right;\n",
              "    }\n",
              "</style>\n",
              "<table border=\"1\" class=\"dataframe\">\n",
              "  <thead>\n",
              "    <tr style=\"text-align: right;\">\n",
              "      <th></th>\n",
              "      <th>CUSTOMER_ID</th>\n",
              "      <th>Monetary</th>\n",
              "    </tr>\n",
              "  </thead>\n",
              "  <tbody>\n",
              "    <tr>\n",
              "      <th>0</th>\n",
              "      <td>1069</td>\n",
              "      <td>1944</td>\n",
              "    </tr>\n",
              "    <tr>\n",
              "      <th>1</th>\n",
              "      <td>1113</td>\n",
              "      <td>2230</td>\n",
              "    </tr>\n",
              "    <tr>\n",
              "      <th>2</th>\n",
              "      <td>1250</td>\n",
              "      <td>1583</td>\n",
              "    </tr>\n",
              "    <tr>\n",
              "      <th>3</th>\n",
              "      <td>1359</td>\n",
              "      <td>364</td>\n",
              "    </tr>\n",
              "    <tr>\n",
              "      <th>4</th>\n",
              "      <td>1823</td>\n",
              "      <td>2607</td>\n",
              "    </tr>\n",
              "  </tbody>\n",
              "</table>\n",
              "</div>"
            ],
            "text/plain": [
              "   CUSTOMER_ID  Monetary\n",
              "0         1069      1944\n",
              "1         1113      2230\n",
              "2         1250      1583\n",
              "3         1359       364\n",
              "4         1823      2607"
            ]
          },
          "metadata": {
            "tags": []
          },
          "execution_count": 23
        }
      ]
    },
    {
      "cell_type": "markdown",
      "metadata": {
        "id": "AKSd2PrQ57d6"
      },
      "source": [
        "#Create RFM Table"
      ]
    },
    {
      "cell_type": "code",
      "metadata": {
        "colab": {
          "base_uri": "https://localhost:8080/",
          "height": 227
        },
        "id": "I5Hs55R_5wdo",
        "outputId": "18037735-ef64-4eb2-d97c-1b0cefee3e60"
      },
      "source": [
        "#merge recency dataframe with frequency dataframe\n",
        "temp_df=RScores.merge(FScores, on = 'CUSTOMER_ID')\n",
        "temp_df.head()"
      ],
      "execution_count": null,
      "outputs": [
        {
          "output_type": "execute_result",
          "data": {
            "text/html": [
              "<div>\n",
              "<style scoped>\n",
              "    .dataframe tbody tr th:only-of-type {\n",
              "        vertical-align: middle;\n",
              "    }\n",
              "\n",
              "    .dataframe tbody tr th {\n",
              "        vertical-align: top;\n",
              "    }\n",
              "\n",
              "    .dataframe thead th {\n",
              "        text-align: right;\n",
              "    }\n",
              "</style>\n",
              "<table border=\"1\" class=\"dataframe\">\n",
              "  <thead>\n",
              "    <tr style=\"text-align: right;\">\n",
              "      <th></th>\n",
              "      <th>Recency</th>\n",
              "      <th>Frequency</th>\n",
              "    </tr>\n",
              "    <tr>\n",
              "      <th>CUSTOMER_ID</th>\n",
              "      <th></th>\n",
              "      <th></th>\n",
              "    </tr>\n",
              "  </thead>\n",
              "  <tbody>\n",
              "    <tr>\n",
              "      <th>1069</th>\n",
              "      <td>19</td>\n",
              "      <td>11</td>\n",
              "    </tr>\n",
              "    <tr>\n",
              "      <th>1113</th>\n",
              "      <td>54</td>\n",
              "      <td>18</td>\n",
              "    </tr>\n",
              "    <tr>\n",
              "      <th>1250</th>\n",
              "      <td>19</td>\n",
              "      <td>14</td>\n",
              "    </tr>\n",
              "    <tr>\n",
              "      <th>1359</th>\n",
              "      <td>87</td>\n",
              "      <td>3</td>\n",
              "    </tr>\n",
              "    <tr>\n",
              "      <th>1823</th>\n",
              "      <td>36</td>\n",
              "      <td>14</td>\n",
              "    </tr>\n",
              "  </tbody>\n",
              "</table>\n",
              "</div>"
            ],
            "text/plain": [
              "             Recency  Frequency\n",
              "CUSTOMER_ID                    \n",
              "1069              19         11\n",
              "1113              54         18\n",
              "1250              19         14\n",
              "1359              87          3\n",
              "1823              36         14"
            ]
          },
          "metadata": {
            "tags": []
          },
          "execution_count": 24
        }
      ]
    },
    {
      "cell_type": "code",
      "metadata": {
        "colab": {
          "base_uri": "https://localhost:8080/",
          "height": 227
        },
        "id": "Ssjgduga5-kx",
        "outputId": "1d54dc83-72c3-4c7c-bdc6-c93111c5c4c7"
      },
      "source": [
        "#merge with monetary dataframe to get a table with 3 columns\n",
        "RFMScoring = temp_df.merge(MScores, on='CUSTOMER_ID')\n",
        "#check the head\n",
        "RFMScoring.head()"
      ],
      "execution_count": null,
      "outputs": [
        {
          "output_type": "execute_result",
          "data": {
            "text/html": [
              "<div>\n",
              "<style scoped>\n",
              "    .dataframe tbody tr th:only-of-type {\n",
              "        vertical-align: middle;\n",
              "    }\n",
              "\n",
              "    .dataframe tbody tr th {\n",
              "        vertical-align: top;\n",
              "    }\n",
              "\n",
              "    .dataframe thead th {\n",
              "        text-align: right;\n",
              "    }\n",
              "</style>\n",
              "<table border=\"1\" class=\"dataframe\">\n",
              "  <thead>\n",
              "    <tr style=\"text-align: right;\">\n",
              "      <th></th>\n",
              "      <th>Recency</th>\n",
              "      <th>Frequency</th>\n",
              "      <th>Monetary</th>\n",
              "    </tr>\n",
              "    <tr>\n",
              "      <th>CUSTOMER_ID</th>\n",
              "      <th></th>\n",
              "      <th></th>\n",
              "      <th></th>\n",
              "    </tr>\n",
              "  </thead>\n",
              "  <tbody>\n",
              "    <tr>\n",
              "      <th>1069</th>\n",
              "      <td>19</td>\n",
              "      <td>11</td>\n",
              "      <td>1944</td>\n",
              "    </tr>\n",
              "    <tr>\n",
              "      <th>1113</th>\n",
              "      <td>54</td>\n",
              "      <td>18</td>\n",
              "      <td>2230</td>\n",
              "    </tr>\n",
              "    <tr>\n",
              "      <th>1250</th>\n",
              "      <td>19</td>\n",
              "      <td>14</td>\n",
              "      <td>1583</td>\n",
              "    </tr>\n",
              "    <tr>\n",
              "      <th>1359</th>\n",
              "      <td>87</td>\n",
              "      <td>3</td>\n",
              "      <td>364</td>\n",
              "    </tr>\n",
              "    <tr>\n",
              "      <th>1823</th>\n",
              "      <td>36</td>\n",
              "      <td>14</td>\n",
              "      <td>2607</td>\n",
              "    </tr>\n",
              "  </tbody>\n",
              "</table>\n",
              "</div>"
            ],
            "text/plain": [
              "             Recency  Frequency  Monetary\n",
              "CUSTOMER_ID                              \n",
              "1069              19         11      1944\n",
              "1113              54         18      2230\n",
              "1250              19         14      1583\n",
              "1359              87          3       364\n",
              "1823              36         14      2607"
            ]
          },
          "metadata": {
            "tags": []
          },
          "execution_count": 25
        }
      ]
    },
    {
      "cell_type": "code",
      "metadata": {
        "colab": {
          "base_uri": "https://localhost:8080/"
        },
        "id": "Z0bRhpoS5_82",
        "outputId": "f10d67a5-9ce7-46e6-d236-123fd769f003"
      },
      "source": [
        "#Descriptive Statistics (Recency)\n",
        "RFMScoring.Recency.describe()"
      ],
      "execution_count": null,
      "outputs": [
        {
          "output_type": "execute_result",
          "data": {
            "text/plain": [
              "count    32266.000000\n",
              "mean        37.435474\n",
              "std         33.658454\n",
              "min          1.000000\n",
              "25%          9.000000\n",
              "50%         26.000000\n",
              "75%         59.000000\n",
              "max        120.000000\n",
              "Name: Recency, dtype: float64"
            ]
          },
          "metadata": {
            "tags": []
          },
          "execution_count": 26
        }
      ]
    },
    {
      "cell_type": "code",
      "metadata": {
        "colab": {
          "base_uri": "https://localhost:8080/",
          "height": 332
        },
        "id": "3P2LfNwl6BM6",
        "outputId": "dba4ffa1-5bab-42e8-e217-a22e0704a93c"
      },
      "source": [
        "#Recency distribution plot\n",
        "import seaborn as sns\n",
        "x = RFMScoring['Recency']\n",
        "ax = sns.distplot(x)"
      ],
      "execution_count": null,
      "outputs": [
        {
          "output_type": "stream",
          "text": [
            "/usr/local/lib/python3.6/dist-packages/seaborn/distributions.py:2551: FutureWarning: `distplot` is a deprecated function and will be removed in a future version. Please adapt your code to use either `displot` (a figure-level function with similar flexibility) or `histplot` (an axes-level function for histograms).\n",
            "  warnings.warn(msg, FutureWarning)\n"
          ],
          "name": "stderr"
        },
        {
          "output_type": "display_data",
          "data": {
            "image/png": "[encoded data removed]",
            "text/plain": [
              "<Figure size 432x288 with 1 Axes>"
            ]
          },
          "metadata": {
            "tags": [],
            "needs_background": "light"
          }
        }
      ]
    },
    {
      "cell_type": "code",
      "metadata": {
        "colab": {
          "base_uri": "https://localhost:8080/"
        },
        "id": "cf-eq5uv6CwG",
        "outputId": "85091a5f-cda8-43cd-dcb2-5046e0941528"
      },
      "source": [
        "#Descriptive Statstics (Frequency)\n",
        "RFMScoring.Frequency.describe()"
      ],
      "execution_count": null,
      "outputs": [
        {
          "output_type": "execute_result",
          "data": {
            "text/plain": [
              "count    32266.000000\n",
              "mean        25.343736\n",
              "std         34.717992\n",
              "min          1.000000\n",
              "25%          6.000000\n",
              "50%         14.000000\n",
              "75%         32.000000\n",
              "max       1246.000000\n",
              "Name: Frequency, dtype: float64"
            ]
          },
          "metadata": {
            "tags": []
          },
          "execution_count": 28
        }
      ]
    },
    {
      "cell_type": "code",
      "metadata": {
        "colab": {
          "base_uri": "https://localhost:8080/",
          "height": 335
        },
        "id": "iWpwKqFt6PS9",
        "outputId": "fd4109af-6c7d-43d6-d18b-e8fef292d365"
      },
      "source": [
        "#Frequency distribution plot, focus on frequency less than 1000\n",
        "import seaborn as sns\n",
        "x = RFMScoring.query('Frequency < 1000')['Frequency']\n",
        "ax = sns.distplot(x)"
      ],
      "execution_count": null,
      "outputs": [
        {
          "output_type": "stream",
          "text": [
            "/usr/local/lib/python3.6/dist-packages/seaborn/distributions.py:2551: FutureWarning: `distplot` is a deprecated function and will be removed in a future version. Please adapt your code to use either `displot` (a figure-level function with similar flexibility) or `histplot` (an axes-level function for histograms).\n",
            "  warnings.warn(msg, FutureWarning)\n"
          ],
          "name": "stderr"
        },
        {
          "output_type": "display_data",
          "data": {
            "image/png": "[encoded data removed]",
            "text/plain": [
              "<Figure size 432x288 with 1 Axes>"
            ]
          },
          "metadata": {
            "tags": [],
            "needs_background": "light"
          }
        }
      ]
    },
    {
      "cell_type": "code",
      "metadata": {
        "colab": {
          "base_uri": "https://localhost:8080/"
        },
        "id": "FXpSMkdv6RI3",
        "outputId": "b0c1fbdb-66ff-4628-91dc-54c8f63d7dd1"
      },
      "source": [
        "#Descriptive Statstics (Monetary)\n",
        "RFMScoring.Monetary.describe()"
      ],
      "execution_count": null,
      "outputs": [
        {
          "output_type": "execute_result",
          "data": {
            "text/plain": [
              "count     32266.000000\n",
              "mean       3342.220170\n",
              "std        6215.318795\n",
              "min           8.000000\n",
              "25%         710.000000\n",
              "50%        1765.500000\n",
              "75%        4039.000000\n",
              "max      459771.000000\n",
              "Name: Monetary, dtype: float64"
            ]
          },
          "metadata": {
            "tags": []
          },
          "execution_count": 30
        }
      ]
    },
    {
      "cell_type": "code",
      "metadata": {
        "colab": {
          "base_uri": "https://localhost:8080/",
          "height": 332
        },
        "id": "-tD8jNNS6Sgp",
        "outputId": "1f94889b-e78e-485b-bb63-d9f358da13f7"
      },
      "source": [
        ""
      ],
      "execution_count": null,
      "outputs": [
        {
          "output_type": "stream",
          "text": [
            "/usr/local/lib/python3.6/dist-packages/seaborn/distributions.py:2551: FutureWarning: `distplot` is a deprecated function and will be removed in a future version. Please adapt your code to use either `displot` (a figure-level function with similar flexibility) or `histplot` (an axes-level function for histograms).\n",
            "  warnings.warn(msg, FutureWarning)\n"
          ],
          "name": "stderr"
        },
        {
          "output_type": "display_data",
          "data": {
            "image/png": "[encoded data removed]",
            "text/plain": [
              "<Figure size 432x288 with 1 Axes>"
            ]
          },
          "metadata": {
            "tags": [],
            "needs_background": "light"
          }
        }
      ]
    }
  ]
}
